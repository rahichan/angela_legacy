{
 "cells": [
  {
   "cell_type": "code",
   "execution_count": 2,
   "metadata": {},
   "outputs": [],
   "source": [
    "import pandas as pd\n",
    "import numpy as np\n",
    "import datetime as dt"
   ]
  },
  {
   "cell_type": "markdown",
   "metadata": {},
   "source": [
    "### Identify the new and returning customers"
   ]
  },
  {
   "cell_type": "code",
   "execution_count": 10,
   "metadata": {},
   "outputs": [],
   "source": [
    "# obtaining the data"
   ]
  },
  {
   "cell_type": "code",
   "execution_count": 3,
   "metadata": {},
   "outputs": [],
   "source": [
    "pd.set_option('display.max_columns', None)"
   ]
  },
  {
   "cell_type": "code",
   "execution_count": 4,
   "metadata": {},
   "outputs": [
    {
     "name": "stderr",
     "output_type": "stream",
     "text": [
      "C:\\Users\\Angela\\anaconda3\\lib\\site-packages\\IPython\\core\\interactiveshell.py:3146: DtypeWarning: Columns (31,41,44,69,70) have mixed types.Specify dtype option on import or set low_memory=False.\n",
      "  has_raised = await self.run_ast_nodes(code_ast.body, cell_name,\n"
     ]
    }
   ],
   "source": [
    "orders = pd.read_csv('./Data/orders_export.csv')"
   ]
  },
  {
   "cell_type": "code",
   "execution_count": 5,
   "metadata": {
    "scrolled": true
   },
   "outputs": [
    {
     "data": {
      "text/plain": [
       "array(['paid', nan, 'partially_refunded', 'refunded', 'pending'],\n",
       "      dtype=object)"
      ]
     },
     "execution_count": 5,
     "metadata": {},
     "output_type": "execute_result"
    }
   ],
   "source": [
    "orders['Financial Status'].unique()"
   ]
  },
  {
   "cell_type": "code",
   "execution_count": 6,
   "metadata": {},
   "outputs": [],
   "source": [
    "orders_1 = pd.read_csv('./Data/orders_export_1.csv')\n",
    "orders_2 = pd.read_csv('./Data/orders_export_2.csv')"
   ]
  },
  {
   "cell_type": "code",
   "execution_count": 7,
   "metadata": {},
   "outputs": [],
   "source": [
    "orders_com = orders_1.append(orders_2, ignore_index=True)"
   ]
  },
  {
   "cell_type": "code",
   "execution_count": 8,
   "metadata": {
    "scrolled": true
   },
   "outputs": [
    {
     "data": {
      "text/plain": [
       "array(['paid', nan, 'refunded', 'partially_refunded', 'pending', 'voided'],\n",
       "      dtype=object)"
      ]
     },
     "execution_count": 8,
     "metadata": {},
     "output_type": "execute_result"
    }
   ],
   "source": [
    "orders_com['Financial Status'].unique()"
   ]
  },
  {
   "cell_type": "code",
   "execution_count": 9,
   "metadata": {},
   "outputs": [],
   "source": [
    "orders['Order_Date'] = pd.to_datetime(orders['Created at'], format=\"%Y-%m-%d %H:%M:%S %z\", utc=True)\n",
    "orders['Date'] = pd.to_datetime(orders['Order_Date'].dt.date)\n",
    "orders['Date_YM'] = orders['Date'].apply(lambda x: x.strftime('%Y-%m'))"
   ]
  },
  {
   "cell_type": "code",
   "execution_count": 19,
   "metadata": {},
   "outputs": [],
   "source": [
    "orders_com['Order_Date'] = pd.to_datetime(orders_com['Created at'], format=\"%Y-%m-%d %H:%M:%S %z\", utc=True)\n",
    "orders_com['Date'] = pd.to_datetime(orders_com['Order_Date'].dt.date)\n",
    "orders_com['Date_YM'] = orders_com['Date'].apply(lambda x: x.strftime('%Y-%m'))"
   ]
  },
  {
   "cell_type": "code",
   "execution_count": 77,
   "metadata": {},
   "outputs": [],
   "source": [
    "df = orders[['Date','Name','Total', 'Financial Status','Email', 'Subtotal', 'Shipping',\n",
    "       'Taxes', 'Discount Amount', 'Refunded Amount', 'Billing Country']]\n",
    "df_com = orders_com[['Date','Name','Total', 'Financial Status','Email', 'Subtotal', 'Shipping',\n",
    "       'Taxes', 'Discount Amount', 'Refunded Amount', 'Billing Country']]"
   ]
  },
  {
   "cell_type": "code",
   "execution_count": null,
   "metadata": {},
   "outputs": [],
   "source": [
    "df_com.rename(columns={'Date': 'date','Name':'order_id','Total':'total', 'Financial Status':'status','Email':'email', 'Subtotal':'subtotal', 'Shipping':'shipping',\n",
    "       'Taxes':'taxes', 'Discount Amount':'discount_amount', 'Refunded Amount':'refunded_amount', 'Billing Country': 'billing_country'}, inplace=True)"
   ]
  },
  {
   "cell_type": "code",
   "execution_count": null,
   "metadata": {},
   "outputs": [],
   "source": [
    "df.rename(columns={'Date': 'date','Name':'order_id','Total':'total', 'Financial Status':'status','Email':'email', 'Subtotal':'subtotal', 'Shipping':'shipping',\n",
    "       'Taxes':'taxes', 'Discount Amount':'discount_amount', 'Refunded Amount':'refunded_amount', 'Billing Country': 'billing_country'}, inplace=True)"
   ]
  },
  {
   "cell_type": "code",
   "execution_count": 84,
   "metadata": {},
   "outputs": [
    {
     "data": {
      "text/plain": [
       "((21906, 17), (4268, 17))"
      ]
     },
     "execution_count": 84,
     "metadata": {},
     "output_type": "execute_result"
    }
   ],
   "source": [
    "df_com.shape, df.shape"
   ]
  },
  {
   "cell_type": "code",
   "execution_count": 2,
   "metadata": {},
   "outputs": [],
   "source": [
    "# Customers"
   ]
  },
  {
   "cell_type": "code",
   "execution_count": 31,
   "metadata": {},
   "outputs": [],
   "source": [
    "%run ./cohorts_pipeline_koi.py"
   ]
  },
  {
   "cell_type": "code",
   "execution_count": 82,
   "metadata": {},
   "outputs": [],
   "source": [
    "df_com = first_order(df_com)\n",
    "df = first_order(df)"
   ]
  },
  {
   "cell_type": "code",
   "execution_count": 83,
   "metadata": {},
   "outputs": [
    {
     "data": {
      "text/plain": [
       "((21906, 17), (4268, 17))"
      ]
     },
     "execution_count": 83,
     "metadata": {},
     "output_type": "execute_result"
    }
   ],
   "source": [
    "df_com.shape, df.shape"
   ]
  },
  {
   "cell_type": "code",
   "execution_count": 86,
   "metadata": {},
   "outputs": [
    {
     "data": {
      "text/html": [
       "<div>\n",
       "<style scoped>\n",
       "    .dataframe tbody tr th:only-of-type {\n",
       "        vertical-align: middle;\n",
       "    }\n",
       "\n",
       "    .dataframe tbody tr th {\n",
       "        vertical-align: top;\n",
       "    }\n",
       "\n",
       "    .dataframe thead th {\n",
       "        text-align: right;\n",
       "    }\n",
       "</style>\n",
       "<table border=\"1\" class=\"dataframe\">\n",
       "  <thead>\n",
       "    <tr style=\"text-align: right;\">\n",
       "      <th></th>\n",
       "      <th>email</th>\n",
       "      <th>date</th>\n",
       "      <th>order_id</th>\n",
       "      <th>total</th>\n",
       "      <th>status</th>\n",
       "      <th>subtotal</th>\n",
       "      <th>shipping</th>\n",
       "      <th>taxes</th>\n",
       "      <th>discount_amount</th>\n",
       "      <th>refunded_amount</th>\n",
       "      <th>billing_country</th>\n",
       "      <th>order_date</th>\n",
       "      <th>first_order</th>\n",
       "      <th>first_order_ym</th>\n",
       "      <th>date_ym</th>\n",
       "      <th>customer_type</th>\n",
       "      <th>days_between</th>\n",
       "    </tr>\n",
       "  </thead>\n",
       "  <tbody>\n",
       "    <tr>\n",
       "      <th>0</th>\n",
       "      <td>ernst.hiemstra@gmail.com</td>\n",
       "      <td>2018-08-09</td>\n",
       "      <td>KOI1002</td>\n",
       "      <td>84.97</td>\n",
       "      <td>paid</td>\n",
       "      <td>84.97</td>\n",
       "      <td>0.0</td>\n",
       "      <td>14.75</td>\n",
       "      <td>0.0</td>\n",
       "      <td>0.0</td>\n",
       "      <td>NL</td>\n",
       "      <td>2018-08-09</td>\n",
       "      <td>2018-08-09</td>\n",
       "      <td>2018-08</td>\n",
       "      <td>2018-08</td>\n",
       "      <td>New</td>\n",
       "      <td>0.0</td>\n",
       "    </tr>\n",
       "    <tr>\n",
       "      <th>1</th>\n",
       "      <td>andre@kingsofindigo.com</td>\n",
       "      <td>2018-08-14</td>\n",
       "      <td>KOI1003</td>\n",
       "      <td>184.92</td>\n",
       "      <td>paid</td>\n",
       "      <td>184.92</td>\n",
       "      <td>0.0</td>\n",
       "      <td>32.09</td>\n",
       "      <td>0.0</td>\n",
       "      <td>0.0</td>\n",
       "      <td>NL</td>\n",
       "      <td>2018-08-14</td>\n",
       "      <td>2018-08-14</td>\n",
       "      <td>2018-08</td>\n",
       "      <td>2018-08</td>\n",
       "      <td>New</td>\n",
       "      <td>0.0</td>\n",
       "    </tr>\n",
       "  </tbody>\n",
       "</table>\n",
       "</div>"
      ],
      "text/plain": [
       "                      email       date order_id   total status  subtotal  \\\n",
       "0  ernst.hiemstra@gmail.com 2018-08-09  KOI1002   84.97   paid     84.97   \n",
       "1   andre@kingsofindigo.com 2018-08-14  KOI1003  184.92   paid    184.92   \n",
       "\n",
       "   shipping  taxes  discount_amount  refunded_amount billing_country  \\\n",
       "0       0.0  14.75              0.0              0.0              NL   \n",
       "1       0.0  32.09              0.0              0.0              NL   \n",
       "\n",
       "  order_date first_order first_order_ym  date_ym customer_type  days_between  \n",
       "0 2018-08-09  2018-08-09        2018-08  2018-08           New           0.0  \n",
       "1 2018-08-14  2018-08-14        2018-08  2018-08           New           0.0  "
      ]
     },
     "execution_count": 86,
     "metadata": {},
     "output_type": "execute_result"
    }
   ],
   "source": [
    "df_com.head(2)"
   ]
  },
  {
   "cell_type": "code",
   "execution_count": 87,
   "metadata": {},
   "outputs": [
    {
     "data": {
      "text/plain": [
       "email              12\n",
       "date                0\n",
       "order_id            0\n",
       "total               0\n",
       "status              0\n",
       "subtotal            0\n",
       "shipping            0\n",
       "taxes               0\n",
       "discount_amount     0\n",
       "refunded_amount     0\n",
       "billing_country    86\n",
       "order_date          0\n",
       "first_order        12\n",
       "first_order_ym     12\n",
       "date_ym             0\n",
       "customer_type       0\n",
       "days_between        0\n",
       "dtype: int64"
      ]
     },
     "execution_count": 87,
     "metadata": {},
     "output_type": "execute_result"
    }
   ],
   "source": [
    "df_com.isnull().sum()"
   ]
  },
  {
   "cell_type": "code",
   "execution_count": 89,
   "metadata": {},
   "outputs": [
    {
     "data": {
      "text/html": [
       "<div>\n",
       "<style scoped>\n",
       "    .dataframe tbody tr th:only-of-type {\n",
       "        vertical-align: middle;\n",
       "    }\n",
       "\n",
       "    .dataframe tbody tr th {\n",
       "        vertical-align: top;\n",
       "    }\n",
       "\n",
       "    .dataframe thead th {\n",
       "        text-align: right;\n",
       "    }\n",
       "</style>\n",
       "<table border=\"1\" class=\"dataframe\">\n",
       "  <thead>\n",
       "    <tr style=\"text-align: right;\">\n",
       "      <th></th>\n",
       "      <th>email</th>\n",
       "      <th>date</th>\n",
       "      <th>order_id</th>\n",
       "      <th>total</th>\n",
       "      <th>status</th>\n",
       "      <th>subtotal</th>\n",
       "      <th>shipping</th>\n",
       "      <th>taxes</th>\n",
       "      <th>discount_amount</th>\n",
       "      <th>refunded_amount</th>\n",
       "      <th>billing_country</th>\n",
       "      <th>order_date</th>\n",
       "      <th>first_order</th>\n",
       "      <th>first_order_ym</th>\n",
       "      <th>date_ym</th>\n",
       "      <th>customer_type</th>\n",
       "      <th>days_between</th>\n",
       "    </tr>\n",
       "  </thead>\n",
       "  <tbody>\n",
       "    <tr>\n",
       "      <th>0</th>\n",
       "      <td>andrekortekaas@hotmail.com</td>\n",
       "      <td>2019-12-04</td>\n",
       "      <td>20001001</td>\n",
       "      <td>8.20</td>\n",
       "      <td>paid</td>\n",
       "      <td>3.25</td>\n",
       "      <td>4.95</td>\n",
       "      <td>0.56</td>\n",
       "      <td>29.24</td>\n",
       "      <td>0.0</td>\n",
       "      <td>NL</td>\n",
       "      <td>2019-12-04</td>\n",
       "      <td>2019-12-04</td>\n",
       "      <td>2019-12</td>\n",
       "      <td>2019-12</td>\n",
       "      <td>New</td>\n",
       "      <td>0.0</td>\n",
       "    </tr>\n",
       "    <tr>\n",
       "      <th>1</th>\n",
       "      <td>andrekortekaas@hotmail.com</td>\n",
       "      <td>2019-12-10</td>\n",
       "      <td>20001002</td>\n",
       "      <td>24.95</td>\n",
       "      <td>paid</td>\n",
       "      <td>20.00</td>\n",
       "      <td>4.95</td>\n",
       "      <td>3.47</td>\n",
       "      <td>179.95</td>\n",
       "      <td>0.0</td>\n",
       "      <td>NL</td>\n",
       "      <td>2019-12-10</td>\n",
       "      <td>2019-12-04</td>\n",
       "      <td>2019-12</td>\n",
       "      <td>2019-12</td>\n",
       "      <td>Returning</td>\n",
       "      <td>6.0</td>\n",
       "    </tr>\n",
       "  </tbody>\n",
       "</table>\n",
       "</div>"
      ],
      "text/plain": [
       "                        email       date  order_id  total status  subtotal  \\\n",
       "0  andrekortekaas@hotmail.com 2019-12-04  20001001   8.20   paid      3.25   \n",
       "1  andrekortekaas@hotmail.com 2019-12-10  20001002  24.95   paid     20.00   \n",
       "\n",
       "   shipping  taxes  discount_amount  refunded_amount billing_country  \\\n",
       "0      4.95   0.56            29.24              0.0              NL   \n",
       "1      4.95   3.47           179.95              0.0              NL   \n",
       "\n",
       "  order_date first_order first_order_ym  date_ym customer_type  days_between  \n",
       "0 2019-12-04  2019-12-04        2019-12  2019-12           New           0.0  \n",
       "1 2019-12-10  2019-12-04        2019-12  2019-12     Returning           6.0  "
      ]
     },
     "execution_count": 89,
     "metadata": {},
     "output_type": "execute_result"
    }
   ],
   "source": [
    "df.head(2)"
   ]
  },
  {
   "cell_type": "code",
   "execution_count": 90,
   "metadata": {},
   "outputs": [
    {
     "data": {
      "text/plain": [
       "email              0\n",
       "date               0\n",
       "order_id           0\n",
       "total              0\n",
       "status             0\n",
       "subtotal           0\n",
       "shipping           0\n",
       "taxes              0\n",
       "discount_amount    0\n",
       "refunded_amount    0\n",
       "billing_country    0\n",
       "order_date         0\n",
       "first_order        0\n",
       "first_order_ym     0\n",
       "date_ym            0\n",
       "customer_type      0\n",
       "days_between       0\n",
       "dtype: int64"
      ]
     },
     "execution_count": 90,
     "metadata": {},
     "output_type": "execute_result"
    }
   ],
   "source": [
    "df.isnull().sum()"
   ]
  },
  {
   "cell_type": "code",
   "execution_count": 91,
   "metadata": {},
   "outputs": [
    {
     "data": {
      "text/plain": [
       "New          7260\n",
       "Returning    4098\n",
       "Name: customer_type, dtype: int64"
      ]
     },
     "execution_count": 91,
     "metadata": {},
     "output_type": "execute_result"
    }
   ],
   "source": [
    "df_com[df_com['date']> '2020-01-01']['customer_type'].value_counts()"
   ]
  },
  {
   "cell_type": "code",
   "execution_count": 92,
   "metadata": {},
   "outputs": [
    {
     "data": {
      "text/plain": [
       "New          3543\n",
       "Returning     628\n",
       "Name: customer_type, dtype: int64"
      ]
     },
     "execution_count": 92,
     "metadata": {},
     "output_type": "execute_result"
    }
   ],
   "source": [
    "df[df['date']> '2020-01-01']['customer_type'].value_counts()"
   ]
  },
  {
   "cell_type": "code",
   "execution_count": 95,
   "metadata": {},
   "outputs": [
    {
     "data": {
      "text/plain": [
       "190115.4"
      ]
     },
     "execution_count": 95,
     "metadata": {},
     "output_type": "execute_result"
    }
   ],
   "source": [
    "df_com[df_com['date']> '2021-02-01']['subtotal'].sum() + df[df['date']> '2021-02-01']['subtotal'].sum()"
   ]
  },
  {
   "cell_type": "code",
   "execution_count": 101,
   "metadata": {},
   "outputs": [],
   "source": [
    "summary_de = df.groupby(['date_ym', 'billing_country', 'customer_type']).agg({'subtotal':pd.Series.sum, 'order_id':pd.Series.count, 'shipping':pd.Series.sum, 'taxes':pd.Series.sum, 'total':pd.Series.sum, 'discount_amount':pd.Series.sum, 'refunded_amount':pd.Series.sum}).reset_index()\n",
    "summary_com = df_com.groupby(['date_ym', 'billing_country', 'customer_type']).agg({'subtotal':pd.Series.sum, 'order_id':pd.Series.count, 'shipping':pd.Series.sum, 'taxes':pd.Series.sum, 'total':pd.Series.sum, 'discount_amount':pd.Series.sum, 'refunded_amount':pd.Series.sum}).reset_index()"
   ]
  },
  {
   "cell_type": "code",
   "execution_count": 114,
   "metadata": {},
   "outputs": [
    {
     "name": "stderr",
     "output_type": "stream",
     "text": [
      "<ipython-input-114-f72d2f490e54>:1: UserWarning: Boolean Series key will be reindexed to match DataFrame index.\n",
      "  summary_com[summary_com['date_ym']== '2021-02'][summary_com['billing_country'].isin(['DE', 'AT', 'CH'])]['subtotal'].sum() + summary_de[summary_de['date_ym']== '2021-02'][summary_de['billing_country'].isin(['DE', 'AT', 'CH'])]['subtotal'].sum()\n"
     ]
    },
    {
     "data": {
      "text/plain": [
       "77939.53"
      ]
     },
     "execution_count": 114,
     "metadata": {},
     "output_type": "execute_result"
    }
   ],
   "source": [
    "summary_com[summary_com['date_ym']== '2021-02'][summary_com['billing_country'].isin(['DE', 'AT', 'CH'])]['subtotal'].sum() + summary_de[summary_de['date_ym']== '2021-02'][summary_de['billing_country'].isin(['DE', 'AT', 'CH'])]['subtotal'].sum()"
   ]
  },
  {
   "cell_type": "code",
   "execution_count": 115,
   "metadata": {},
   "outputs": [
    {
     "data": {
      "text/plain": [
       "219.97999999999593"
      ]
     },
     "execution_count": 115,
     "metadata": {},
     "output_type": "execute_result"
    }
   ],
   "source": [
    "78159.51 - 77939.53"
   ]
  },
  {
   "cell_type": "code",
   "execution_count": 118,
   "metadata": {},
   "outputs": [],
   "source": [
    "summary_de['TO_EXSHIP_EXVAT'] = summary_de['subtotal'] - summary_de['taxes']\n",
    "summary_com['TO_EXSHIP_EXVAT'] = summary_com['subtotal'] - summary_com['taxes']"
   ]
  },
  {
   "cell_type": "code",
   "execution_count": 119,
   "metadata": {},
   "outputs": [],
   "source": [
    "summary_de['TO_EXSHIP_EXVAT_EXRET'] = summary_de['TO_EXSHIP_EXVAT'] - summary_de['refunded_amount']\n",
    "summary_com['TO_EXSHIP_EXVAT_EXRET'] = summary_com['TO_EXSHIP_EXVAT'] - summary_com['refunded_amount']"
   ]
  },
  {
   "cell_type": "code",
   "execution_count": 120,
   "metadata": {},
   "outputs": [],
   "source": [
    "summary_de.to_clipboard(decimal=',', index=False)"
   ]
  },
  {
   "cell_type": "code",
   "execution_count": 121,
   "metadata": {},
   "outputs": [],
   "source": [
    "summary_com.to_clipboard(decimal=',', index=False)"
   ]
  },
  {
   "cell_type": "code",
   "execution_count": null,
   "metadata": {},
   "outputs": [],
   "source": []
  },
  {
   "cell_type": "markdown",
   "metadata": {},
   "source": [
    "### Find the return rate at brand level"
   ]
  },
  {
   "cell_type": "code",
   "execution_count": 125,
   "metadata": {},
   "outputs": [
    {
     "name": "stderr",
     "output_type": "stream",
     "text": [
      "<ipython-input-125-9147afbf8767>:1: UserWarning: Boolean Series key will be reindexed to match DataFrame index.\n",
      "  refund_TX = orders[orders['Date'] >= '2020-01-01'][orders['Date']<'2021-01-01'][orders['Billing Country'].isin(['DE', 'AT', 'CH'])][orders['Financial Status'].isin(['partially_refunded', 'refunded'])]['Name'].nunique()\n",
      "<ipython-input-125-9147afbf8767>:2: UserWarning: Boolean Series key will be reindexed to match DataFrame index.\n",
      "  all_TX = orders[orders['Date'] >= '2020-01-01'][orders['Date']<'2021-01-01'][orders['Billing Country'].isin(['DE', 'AT', 'CH'])][orders['Financial Status'].isin(['paid', 'partially_refunded', 'refunded'])]['Name'].nunique()\n"
     ]
    },
    {
     "data": {
      "text/plain": [
       "0.415167865707434"
      ]
     },
     "execution_count": 125,
     "metadata": {},
     "output_type": "execute_result"
    }
   ],
   "source": [
    "# .de\n",
    "# just for the DACH countries\n",
    "refund_TX = orders[orders['Date'] >= '2020-01-01'][orders['Date']<'2021-01-01'][orders['Billing Country'].isin(['DE', 'AT', 'CH'])][orders['Financial Status'].isin(['partially_refunded', 'refunded'])]['Name'].nunique()\n",
    "all_TX = orders[orders['Date'] >= '2020-01-01'][orders['Date']<'2021-01-01'][orders['Billing Country'].isin(['DE', 'AT', 'CH'])][orders['Financial Status'].isin(['paid', 'partially_refunded', 'refunded'])]['Name'].nunique()\n",
    "refund_TX / all_TX"
   ]
  },
  {
   "cell_type": "code",
   "execution_count": 128,
   "metadata": {},
   "outputs": [
    {
     "name": "stderr",
     "output_type": "stream",
     "text": [
      "<ipython-input-128-9ebe732b2d8b>:1: UserWarning: Boolean Series key will be reindexed to match DataFrame index.\n",
      "  refund_TX = orders[orders['Date'] >= '2020-01-01'][orders['Date']<'2021-01-01'][orders['Financial Status'].isin(['partially_refunded', 'refunded'])]['Name'].nunique()\n",
      "<ipython-input-128-9ebe732b2d8b>:2: UserWarning: Boolean Series key will be reindexed to match DataFrame index.\n",
      "  all_TX = orders[orders['Date'] >= '2020-01-01'][orders['Date']<'2021-01-01'][orders['Financial Status'].isin(['paid', 'partially_refunded', 'refunded'])]['Name'].nunique()\n"
     ]
    },
    {
     "data": {
      "text/plain": [
       "0.41438763376932225"
      ]
     },
     "execution_count": 128,
     "metadata": {},
     "output_type": "execute_result"
    }
   ],
   "source": [
    "# .de\n",
    "# all countries\n",
    "refund_TX = orders[orders['Date'] >= '2020-01-01'][orders['Date']<'2021-01-01'][orders['Financial Status'].isin(['partially_refunded', 'refunded'])]['Name'].nunique()\n",
    "all_TX = orders[orders['Date'] >= '2020-01-01'][orders['Date']<'2021-01-01'][orders['Financial Status'].isin(['paid', 'partially_refunded', 'refunded'])]['Name'].nunique()\n",
    "refund_TX / all_TX"
   ]
  },
  {
   "cell_type": "code",
   "execution_count": 126,
   "metadata": {},
   "outputs": [
    {
     "name": "stderr",
     "output_type": "stream",
     "text": [
      "<ipython-input-126-0417e2c09336>:1: UserWarning: Boolean Series key will be reindexed to match DataFrame index.\n",
      "  refund_TX_com = orders_com[orders_com['Date'] >= '2020-01-01'][orders_com['Date']<'2021-01-01'][orders_com['Financial Status'].isin(['partially_refunded', 'refunded'])]['Name'].nunique()\n",
      "<ipython-input-126-0417e2c09336>:2: UserWarning: Boolean Series key will be reindexed to match DataFrame index.\n",
      "  all_TX_com = orders_com[orders_com['Date'] >= '2020-01-01'][orders_com['Date']<'2021-01-01'][orders_com['Financial Status'].isin(['paid', 'partially_refunded', 'refunded'])]['Name'].nunique()\n"
     ]
    },
    {
     "data": {
      "text/plain": [
       "0.3614678899082569"
      ]
     },
     "execution_count": 126,
     "metadata": {},
     "output_type": "execute_result"
    }
   ],
   "source": [
    "# .com\n",
    "# all countries\n",
    "refund_TX_com = orders_com[orders_com['Date'] >= '2020-01-01'][orders_com['Date']<'2021-01-01'][orders_com['Financial Status'].isin(['partially_refunded', 'refunded'])]['Name'].nunique()\n",
    "all_TX_com = orders_com[orders_com['Date'] >= '2020-01-01'][orders_com['Date']<'2021-01-01'][orders_com['Financial Status'].isin(['paid', 'partially_refunded', 'refunded'])]['Name'].nunique()\n",
    "refund_TX_com / all_TX_com"
   ]
  },
  {
   "cell_type": "markdown",
   "metadata": {},
   "source": [
    "Apparently on the .com site, the percentage of refund transactions is 36.14%"
   ]
  },
  {
   "cell_type": "code",
   "execution_count": 127,
   "metadata": {},
   "outputs": [
    {
     "name": "stderr",
     "output_type": "stream",
     "text": [
      "<ipython-input-127-5338fe64266a>:2: UserWarning: Boolean Series key will be reindexed to match DataFrame index.\n",
      "  refund_TX_com = orders_com[orders_com['Date'] >= '2020-01-01'][orders_com['Date']<'2021-01-01'][orders_com['Billing Country'].isin(['DE', 'AT', 'CH'])][orders_com['Financial Status'].isin(['partially_refunded', 'refunded'])]['Name'].nunique()\n",
      "<ipython-input-127-5338fe64266a>:3: UserWarning: Boolean Series key will be reindexed to match DataFrame index.\n",
      "  all_TX_com = orders_com[orders_com['Date'] >= '2020-01-01'][orders_com['Date']<'2021-01-01'][orders_com['Billing Country'].isin(['DE', 'AT', 'CH'])][orders_com['Financial Status'].isin(['paid', 'partially_refunded', 'refunded'])]['Name'].nunique()\n"
     ]
    },
    {
     "data": {
      "text/plain": [
       "0.34392265193370164"
      ]
     },
     "execution_count": 127,
     "metadata": {},
     "output_type": "execute_result"
    }
   ],
   "source": [
    "# .com\n",
    "# just for the DACH countries\n",
    "refund_TX_com = orders_com[orders_com['Date'] >= '2020-01-01'][orders_com['Date']<'2021-01-01'][orders_com['Billing Country'].isin(['DE', 'AT', 'CH'])][orders_com['Financial Status'].isin(['partially_refunded', 'refunded'])]['Name'].nunique()\n",
    "all_TX_com = orders_com[orders_com['Date'] >= '2020-01-01'][orders_com['Date']<'2021-01-01'][orders_com['Billing Country'].isin(['DE', 'AT', 'CH'])][orders_com['Financial Status'].isin(['paid', 'partially_refunded', 'refunded'])]['Name'].nunique()\n",
    "refund_TX_com / all_TX_com"
   ]
  },
  {
   "cell_type": "code",
   "execution_count": null,
   "metadata": {},
   "outputs": [],
   "source": []
  },
  {
   "cell_type": "code",
   "execution_count": 122,
   "metadata": {},
   "outputs": [
    {
     "name": "stderr",
     "output_type": "stream",
     "text": [
      "<ipython-input-122-ca198f55eb54>:1: UserWarning: Boolean Series key will be reindexed to match DataFrame index.\n",
      "  refund_total = summary_de[summary_de['date_ym']>= '2020-01'][summary_de['date_ym'] < '2021-01']['refunded_amount'].sum()\n",
      "<ipython-input-122-ca198f55eb54>:2: UserWarning: Boolean Series key will be reindexed to match DataFrame index.\n",
      "  TO = summary_de[summary_de['date_ym']>= '2020-01'][summary_de['date_ym'] < '2021-01']['TO_EXSHIP_EXVAT'].sum()\n"
     ]
    },
    {
     "data": {
      "text/plain": [
       "0.5010962064970838"
      ]
     },
     "execution_count": 122,
     "metadata": {},
     "output_type": "execute_result"
    }
   ],
   "source": [
    "refund_total = summary_de[summary_de['date_ym']>= '2020-01'][summary_de['date_ym'] < '2021-01']['refunded_amount'].sum() \n",
    "TO = summary_de[summary_de['date_ym']>= '2020-01'][summary_de['date_ym'] < '2021-01']['TO_EXSHIP_EXVAT'].sum()\n",
    "refund_total / TO "
   ]
  },
  {
   "cell_type": "code",
   "execution_count": 129,
   "metadata": {},
   "outputs": [
    {
     "name": "stderr",
     "output_type": "stream",
     "text": [
      "<ipython-input-129-4b1f95da0fe6>:1: UserWarning: Boolean Series key will be reindexed to match DataFrame index.\n",
      "  refund_total_com = summary_com[summary_com['date_ym']>= '2020-01'][summary_com['date_ym'] < '2021-01']['refunded_amount'].sum()\n",
      "<ipython-input-129-4b1f95da0fe6>:2: UserWarning: Boolean Series key will be reindexed to match DataFrame index.\n",
      "  TO_com = summary_com[summary_com['date_ym']>= '2020-01'][summary_com['date_ym'] < '2021-01']['TO_EXSHIP_EXVAT'].sum()\n"
     ]
    },
    {
     "data": {
      "text/plain": [
       "0.42205277837195265"
      ]
     },
     "execution_count": 129,
     "metadata": {},
     "output_type": "execute_result"
    }
   ],
   "source": [
    "refund_total_com = summary_com[summary_com['date_ym']>= '2020-01'][summary_com['date_ym'] < '2021-01']['refunded_amount'].sum() \n",
    "TO_com = summary_com[summary_com['date_ym']>= '2020-01'][summary_com['date_ym'] < '2021-01']['TO_EXSHIP_EXVAT'].sum()\n",
    "refund_total_com / TO_com"
   ]
  }
 ],
 "metadata": {
  "kernelspec": {
   "display_name": "Python 3",
   "language": "python",
   "name": "python3"
  },
  "language_info": {
   "codemirror_mode": {
    "name": "ipython",
    "version": 3
   },
   "file_extension": ".py",
   "mimetype": "text/x-python",
   "name": "python",
   "nbconvert_exporter": "python",
   "pygments_lexer": "ipython3",
   "version": "3.8.5"
  }
 },
 "nbformat": 4,
 "nbformat_minor": 4
}

{
 "cells": [
  {
   "cell_type": "code",
   "execution_count": 2,
   "metadata": {},
   "outputs": [],
   "source": [
    "import pandas as pd\n",
    "import plotly.express as px\n",
    "import numpy as np\n",
    "import matplotlib.pyplot as plt\n",
    "import seaborn as sns\n",
    "import chart_studio.plotly as py\n",
    "import plotly.offline as pyoff\n",
    "import plotly.graph_objs as go\n",
    "from plotly.subplots import make_subplots"
   ]
  },
  {
   "cell_type": "code",
   "execution_count": 85,
   "metadata": {},
   "outputs": [],
   "source": [
    "pd.set_option('display.max_columns', None)"
   ]
  },
  {
   "cell_type": "code",
   "execution_count": 181,
   "metadata": {
    "scrolled": false
   },
   "outputs": [
    {
     "name": "stderr",
     "output_type": "stream",
     "text": [
      "C:\\Users\\Adrian\\Anaconda3\\lib\\site-packages\\IPython\\core\\interactiveshell.py:3147: DtypeWarning:\n",
      "\n",
      "Columns (31,41,44,69,70) have mixed types.Specify dtype option on import or set low_memory=False.\n",
      "\n"
     ]
    }
   ],
   "source": [
    "orders = pd.read_csv('./Data/orders_export.csv')"
   ]
  },
  {
   "cell_type": "code",
   "execution_count": 182,
   "metadata": {
    "scrolled": true
   },
   "outputs": [
    {
     "data": {
      "text/plain": [
       "array(['paid', nan, 'partially_refunded', 'refunded', 'pending'],\n",
       "      dtype=object)"
      ]
     },
     "execution_count": 182,
     "metadata": {},
     "output_type": "execute_result"
    }
   ],
   "source": [
    "orders['Financial Status'].unique()"
   ]
  },
  {
   "cell_type": "code",
   "execution_count": 183,
   "metadata": {},
   "outputs": [],
   "source": [
    "orders_1 = pd.read_csv('./Data/orders_export_1.csv')\n",
    "orders_2 = pd.read_csv('./Data/orders_export_2.csv')"
   ]
  },
  {
   "cell_type": "code",
   "execution_count": 184,
   "metadata": {},
   "outputs": [],
   "source": [
    "orders_com = orders_1.append(orders_2, ignore_index=True)"
   ]
  },
  {
   "cell_type": "code",
   "execution_count": 185,
   "metadata": {},
   "outputs": [],
   "source": [
    "# orders = orders[~orders['Paid at'].isnull()]\n",
    "# orders_com = orders_com[~orders_com['Paid at'].isnull()]"
   ]
  },
  {
   "cell_type": "code",
   "execution_count": 186,
   "metadata": {
    "scrolled": true
   },
   "outputs": [
    {
     "data": {
      "text/plain": [
       "array(['paid', nan, 'refunded', 'partially_refunded', 'pending', 'voided'],\n",
       "      dtype=object)"
      ]
     },
     "execution_count": 186,
     "metadata": {},
     "output_type": "execute_result"
    }
   ],
   "source": [
    "orders_com['Financial Status'].unique()"
   ]
  },
  {
   "cell_type": "code",
   "execution_count": 188,
   "metadata": {},
   "outputs": [],
   "source": [
    "orders['Order_Date'] = pd.to_datetime(orders['Created at'], format=\"%Y-%m-%d %H:%M:%S %z\", utc=True)\n",
    "orders['Date'] = pd.to_datetime(orders['Order_Date'].dt.date)\n",
    "orders['Date_YM'] = orders['Date'].apply(lambda x: x.strftime('%Y-%m'))"
   ]
  },
  {
   "cell_type": "code",
   "execution_count": 189,
   "metadata": {},
   "outputs": [],
   "source": [
    "orders_com['Order_Date'] = pd.to_datetime(orders_com['Created at'], format=\"%Y-%m-%d %H:%M:%S %z\", utc=True)\n",
    "orders_com['Date'] = pd.to_datetime(orders_com['Order_Date'].dt.date)\n",
    "orders_com['Date_YM'] = orders_com['Date'].apply(lambda x: x.strftime('%Y-%m'))"
   ]
  },
  {
   "cell_type": "code",
   "execution_count": 190,
   "metadata": {},
   "outputs": [],
   "source": [
    "summary_de = orders.groupby(['Date_YM', 'Billing Country']).agg({'Subtotal':pd.Series.sum, 'Shipping':pd.Series.sum, 'Taxes':pd.Series.sum, 'Total':pd.Series.sum, 'Discount Amount':pd.Series.sum, 'Refunded Amount':pd.Series.sum}).reset_index()\n",
    "summary_com = orders_com.groupby(['Date_YM', 'Billing Country']).agg({'Subtotal':pd.Series.sum, 'Shipping':pd.Series.sum, 'Taxes':pd.Series.sum, 'Total':pd.Series.sum, 'Discount Amount':pd.Series.sum, 'Refunded Amount':pd.Series.sum}).reset_index()"
   ]
  },
  {
   "cell_type": "code",
   "execution_count": 191,
   "metadata": {},
   "outputs": [],
   "source": [
    "summary_de['TO_EXSHIP_EXVAT'] = summary_de['Subtotal'] - summary_de['Taxes']\n",
    "summary_com['TO_EXSHIP_EXVAT'] = summary_com['Subtotal'] - summary_com['Taxes']"
   ]
  },
  {
   "cell_type": "code",
   "execution_count": 194,
   "metadata": {},
   "outputs": [],
   "source": [
    "summary_de['TO_EXSHIP_EXVAT_EXRET'] = summary_de['TO_EXSHIP_EXVAT'] - summary_de['Refunded Amount']\n",
    "summary_com['TO_EXSHIP_EXVAT_EXRET'] = summary_com['TO_EXSHIP_EXVAT'] - summary_com['Refunded Amount']"
   ]
  },
  {
   "cell_type": "code",
   "execution_count": 195,
   "metadata": {},
   "outputs": [],
   "source": [
    "summary_de.to_clipboard(decimal=',', index=False)"
   ]
  },
  {
   "cell_type": "code",
   "execution_count": 196,
   "metadata": {},
   "outputs": [],
   "source": [
    "summary_com.to_clipboard(decimal=',', index=False)"
   ]
  },
  {
   "cell_type": "markdown",
   "metadata": {},
   "source": [
    "### GA Transactions"
   ]
  },
  {
   "cell_type": "code",
   "execution_count": 107,
   "metadata": {},
   "outputs": [],
   "source": [
    "ga = pd.read_excel('./Data/ga_koi_dach.xlsx')"
   ]
  },
  {
   "cell_type": "code",
   "execution_count": 125,
   "metadata": {},
   "outputs": [],
   "source": [
    "ga['Transaction ID'] = ga['Transaction ID'].astype(str)"
   ]
  },
  {
   "cell_type": "code",
   "execution_count": 127,
   "metadata": {},
   "outputs": [],
   "source": [
    "ga['tx_id_length'] = ga['Transaction ID'].apply(lambda x: len(x))"
   ]
  },
  {
   "cell_type": "code",
   "execution_count": 130,
   "metadata": {},
   "outputs": [
    {
     "data": {
      "text/plain": [
       "array([8, 4, 9, 5], dtype=int64)"
      ]
     },
     "execution_count": 130,
     "metadata": {},
     "output_type": "execute_result"
    }
   ],
   "source": [
    "ga.tx_id_length.unique()"
   ]
  },
  {
   "cell_type": "code",
   "execution_count": 138,
   "metadata": {},
   "outputs": [],
   "source": [
    "ga['transaction_id'] = \"\""
   ]
  },
  {
   "cell_type": "code",
   "execution_count": 144,
   "metadata": {},
   "outputs": [],
   "source": [
    "mask1 = (ga.tx_id_length==4)\n",
    "mask2 = (ga.tx_id_length==5)\n",
    "mask3 = (ga.tx_id_length==8)\n",
    "mask4 = (ga.tx_id_length==9)"
   ]
  },
  {
   "cell_type": "code",
   "execution_count": 148,
   "metadata": {
    "scrolled": true
   },
   "outputs": [],
   "source": [
    "ga.loc[mask1,['transaction_id']] = \"2000\" + ga['Transaction ID']\n",
    "ga.loc[mask2,['transaction_id']] = \"1000\" + ga['Transaction ID']\n",
    "ga.loc[mask3,['transaction_id']] = ga['Transaction ID']\n",
    "ga.loc[mask4,['transaction_id']] = ga['Transaction ID']"
   ]
  },
  {
   "cell_type": "code",
   "execution_count": 180,
   "metadata": {
    "scrolled": true
   },
   "outputs": [
    {
     "data": {
      "text/plain": [
       "986853.5900000001"
      ]
     },
     "execution_count": 180,
     "metadata": {},
     "output_type": "execute_result"
    }
   ],
   "source": [
    "ga.Revenue.sum()"
   ]
  },
  {
   "cell_type": "code",
   "execution_count": 256,
   "metadata": {},
   "outputs": [],
   "source": [
    "orders['Name'] = orders['Name'].apply(lambda x: str(x))\n",
    "orders_com['Name'] = orders_com['Name'].apply(lambda x: str(x))"
   ]
  },
  {
   "cell_type": "code",
   "execution_count": 257,
   "metadata": {},
   "outputs": [],
   "source": [
    "all_orders = orders.append(orders_com)"
   ]
  },
  {
   "cell_type": "code",
   "execution_count": 304,
   "metadata": {},
   "outputs": [],
   "source": [
    "merge = all_orders.loc[:,['Name','Date','Billing Country','Subtotal','Shipping','Taxes','Total','Refunded Amount']]"
   ]
  },
  {
   "cell_type": "code",
   "execution_count": 305,
   "metadata": {
    "scrolled": true
   },
   "outputs": [],
   "source": [
    "merge.columns = ['transaction_id','Date','Billing_Country','Subtotal','Shipping','Taxes','Total','Refunded_Amount']"
   ]
  },
  {
   "cell_type": "code",
   "execution_count": 306,
   "metadata": {},
   "outputs": [],
   "source": [
    "merge.columns = merge.columns.str.lower()"
   ]
  },
  {
   "cell_type": "code",
   "execution_count": 307,
   "metadata": {},
   "outputs": [],
   "source": [
    "ga.columns = ga.columns.str.lower()"
   ]
  },
  {
   "cell_type": "code",
   "execution_count": 308,
   "metadata": {},
   "outputs": [],
   "source": [
    "merge = merge.set_index('transaction_id')"
   ]
  },
  {
   "cell_type": "code",
   "execution_count": 309,
   "metadata": {},
   "outputs": [],
   "source": [
    "merge = merge.add_prefix('be_')"
   ]
  },
  {
   "cell_type": "code",
   "execution_count": 310,
   "metadata": {},
   "outputs": [],
   "source": [
    "merge = merge.reset_index()"
   ]
  },
  {
   "cell_type": "code",
   "execution_count": 311,
   "metadata": {
    "scrolled": true
   },
   "outputs": [
    {
     "data": {
      "text/html": [
       "<div>\n",
       "<style scoped>\n",
       "    .dataframe tbody tr th:only-of-type {\n",
       "        vertical-align: middle;\n",
       "    }\n",
       "\n",
       "    .dataframe tbody tr th {\n",
       "        vertical-align: top;\n",
       "    }\n",
       "\n",
       "    .dataframe thead th {\n",
       "        text-align: right;\n",
       "    }\n",
       "</style>\n",
       "<table border=\"1\" class=\"dataframe\">\n",
       "  <thead>\n",
       "    <tr style=\"text-align: right;\">\n",
       "      <th></th>\n",
       "      <th>transaction_id</th>\n",
       "      <th>be_date</th>\n",
       "      <th>be_billing_country</th>\n",
       "      <th>be_subtotal</th>\n",
       "      <th>be_shipping</th>\n",
       "      <th>be_taxes</th>\n",
       "      <th>be_total</th>\n",
       "      <th>be_refunded_amount</th>\n",
       "    </tr>\n",
       "  </thead>\n",
       "  <tbody>\n",
       "    <tr>\n",
       "      <th>0</th>\n",
       "      <td>20005269</td>\n",
       "      <td>2021-02-23</td>\n",
       "      <td>DE</td>\n",
       "      <td>139.99</td>\n",
       "      <td>5.50</td>\n",
       "      <td>25.25</td>\n",
       "      <td>145.49</td>\n",
       "      <td>0.0</td>\n",
       "    </tr>\n",
       "    <tr>\n",
       "      <th>1</th>\n",
       "      <td>20005268</td>\n",
       "      <td>2021-02-23</td>\n",
       "      <td>DE</td>\n",
       "      <td>119.99</td>\n",
       "      <td>5.50</td>\n",
       "      <td>21.77</td>\n",
       "      <td>125.49</td>\n",
       "      <td>0.0</td>\n",
       "    </tr>\n",
       "    <tr>\n",
       "      <th>2</th>\n",
       "      <td>20005267</td>\n",
       "      <td>2021-02-23</td>\n",
       "      <td>DE</td>\n",
       "      <td>104.98</td>\n",
       "      <td>5.50</td>\n",
       "      <td>19.17</td>\n",
       "      <td>110.48</td>\n",
       "      <td>0.0</td>\n",
       "    </tr>\n",
       "    <tr>\n",
       "      <th>3</th>\n",
       "      <td>20005267</td>\n",
       "      <td>2021-02-23</td>\n",
       "      <td>NaN</td>\n",
       "      <td>NaN</td>\n",
       "      <td>NaN</td>\n",
       "      <td>NaN</td>\n",
       "      <td>NaN</td>\n",
       "      <td>NaN</td>\n",
       "    </tr>\n",
       "    <tr>\n",
       "      <th>4</th>\n",
       "      <td>20005266</td>\n",
       "      <td>2021-02-23</td>\n",
       "      <td>DE</td>\n",
       "      <td>219.98</td>\n",
       "      <td>0.00</td>\n",
       "      <td>38.17</td>\n",
       "      <td>219.98</td>\n",
       "      <td>0.0</td>\n",
       "    </tr>\n",
       "    <tr>\n",
       "      <th>...</th>\n",
       "      <td>...</td>\n",
       "      <td>...</td>\n",
       "      <td>...</td>\n",
       "      <td>...</td>\n",
       "      <td>...</td>\n",
       "      <td>...</td>\n",
       "      <td>...</td>\n",
       "      <td>...</td>\n",
       "    </tr>\n",
       "    <tr>\n",
       "      <th>51851</th>\n",
       "      <td>KOI1005</td>\n",
       "      <td>2018-08-16</td>\n",
       "      <td>NL</td>\n",
       "      <td>399.76</td>\n",
       "      <td>0.00</td>\n",
       "      <td>69.38</td>\n",
       "      <td>399.76</td>\n",
       "      <td>0.0</td>\n",
       "    </tr>\n",
       "    <tr>\n",
       "      <th>51852</th>\n",
       "      <td>KOI1004</td>\n",
       "      <td>2018-08-14</td>\n",
       "      <td>NL</td>\n",
       "      <td>49.97</td>\n",
       "      <td>3.95</td>\n",
       "      <td>8.67</td>\n",
       "      <td>53.92</td>\n",
       "      <td>0.0</td>\n",
       "    </tr>\n",
       "    <tr>\n",
       "      <th>51853</th>\n",
       "      <td>KOI1003</td>\n",
       "      <td>2018-08-14</td>\n",
       "      <td>NL</td>\n",
       "      <td>184.92</td>\n",
       "      <td>0.00</td>\n",
       "      <td>32.09</td>\n",
       "      <td>184.92</td>\n",
       "      <td>0.0</td>\n",
       "    </tr>\n",
       "    <tr>\n",
       "      <th>51854</th>\n",
       "      <td>KOI1003</td>\n",
       "      <td>2018-08-14</td>\n",
       "      <td>NaN</td>\n",
       "      <td>NaN</td>\n",
       "      <td>NaN</td>\n",
       "      <td>NaN</td>\n",
       "      <td>NaN</td>\n",
       "      <td>NaN</td>\n",
       "    </tr>\n",
       "    <tr>\n",
       "      <th>51855</th>\n",
       "      <td>KOI1002</td>\n",
       "      <td>2018-08-09</td>\n",
       "      <td>NL</td>\n",
       "      <td>84.97</td>\n",
       "      <td>0.00</td>\n",
       "      <td>14.75</td>\n",
       "      <td>84.97</td>\n",
       "      <td>0.0</td>\n",
       "    </tr>\n",
       "  </tbody>\n",
       "</table>\n",
       "<p>51856 rows × 8 columns</p>\n",
       "</div>"
      ],
      "text/plain": [
       "      transaction_id    be_date be_billing_country  be_subtotal  be_shipping  be_taxes  be_total  be_refunded_amount\n",
       "0           20005269 2021-02-23                 DE       139.99         5.50     25.25    145.49                 0.0\n",
       "1           20005268 2021-02-23                 DE       119.99         5.50     21.77    125.49                 0.0\n",
       "2           20005267 2021-02-23                 DE       104.98         5.50     19.17    110.48                 0.0\n",
       "3           20005267 2021-02-23                NaN          NaN          NaN       NaN       NaN                 NaN\n",
       "4           20005266 2021-02-23                 DE       219.98         0.00     38.17    219.98                 0.0\n",
       "...              ...        ...                ...          ...          ...       ...       ...                 ...\n",
       "51851        KOI1005 2018-08-16                 NL       399.76         0.00     69.38    399.76                 0.0\n",
       "51852        KOI1004 2018-08-14                 NL        49.97         3.95      8.67     53.92                 0.0\n",
       "51853        KOI1003 2018-08-14                 NL       184.92         0.00     32.09    184.92                 0.0\n",
       "51854        KOI1003 2018-08-14                NaN          NaN          NaN       NaN       NaN                 NaN\n",
       "51855        KOI1002 2018-08-09                 NL        84.97         0.00     14.75     84.97                 0.0\n",
       "\n",
       "[51856 rows x 8 columns]"
      ]
     },
     "execution_count": 311,
     "metadata": {},
     "output_type": "execute_result"
    }
   ],
   "source": [
    "merge"
   ]
  },
  {
   "cell_type": "code",
   "execution_count": 312,
   "metadata": {},
   "outputs": [],
   "source": [
    "merge['transaction_id'] = merge['transaction_id'].apply(lambda x: str(x))\n",
    "ga['transaction_id'] = ga['transaction_id'].apply(lambda x: str(x))"
   ]
  },
  {
   "cell_type": "code",
   "execution_count": 313,
   "metadata": {
    "scrolled": false
   },
   "outputs": [],
   "source": [
    "ga_df = ga.merge(merge,on='transaction_id', how='left')"
   ]
  },
  {
   "cell_type": "code",
   "execution_count": 314,
   "metadata": {},
   "outputs": [],
   "source": [
    "ga_df = ga_df[~ga_df.be_subtotal.isnull()]"
   ]
  },
  {
   "cell_type": "code",
   "execution_count": 315,
   "metadata": {},
   "outputs": [],
   "source": [
    "ga_df['date_ym'] = ga_df['be_date'].apply(lambda x: x.strftime('%Y-%m'))"
   ]
  },
  {
   "cell_type": "code",
   "execution_count": 316,
   "metadata": {},
   "outputs": [
    {
     "data": {
      "text/html": [
       "<div>\n",
       "<style scoped>\n",
       "    .dataframe tbody tr th:only-of-type {\n",
       "        vertical-align: middle;\n",
       "    }\n",
       "\n",
       "    .dataframe tbody tr th {\n",
       "        vertical-align: top;\n",
       "    }\n",
       "\n",
       "    .dataframe thead th {\n",
       "        text-align: right;\n",
       "    }\n",
       "</style>\n",
       "<table border=\"1\" class=\"dataframe\">\n",
       "  <thead>\n",
       "    <tr style=\"text-align: right;\">\n",
       "      <th></th>\n",
       "      <th>transaction id</th>\n",
       "      <th>revenue</th>\n",
       "      <th>tax</th>\n",
       "      <th>delivery</th>\n",
       "      <th>refund amount</th>\n",
       "      <th>quantity</th>\n",
       "      <th>tx_id_length</th>\n",
       "      <th>transaction_id</th>\n",
       "      <th>be_date</th>\n",
       "      <th>be_billing_country</th>\n",
       "      <th>be_subtotal</th>\n",
       "      <th>be_shipping</th>\n",
       "      <th>be_taxes</th>\n",
       "      <th>be_total</th>\n",
       "      <th>be_refunded_amount</th>\n",
       "      <th>date_ym</th>\n",
       "    </tr>\n",
       "  </thead>\n",
       "  <tbody>\n",
       "    <tr>\n",
       "      <th>0</th>\n",
       "      <td>20001980</td>\n",
       "      <td>1361.80</td>\n",
       "      <td>236.34</td>\n",
       "      <td>0.0</td>\n",
       "      <td>0</td>\n",
       "      <td>20</td>\n",
       "      <td>8</td>\n",
       "      <td>20001980</td>\n",
       "      <td>2020-03-01</td>\n",
       "      <td>DE</td>\n",
       "      <td>1361.80</td>\n",
       "      <td>0.0</td>\n",
       "      <td>236.34</td>\n",
       "      <td>1361.80</td>\n",
       "      <td>962.87</td>\n",
       "      <td>2020-03</td>\n",
       "    </tr>\n",
       "    <tr>\n",
       "      <th>18</th>\n",
       "      <td>2382</td>\n",
       "      <td>1259.73</td>\n",
       "      <td>218.61</td>\n",
       "      <td>0.0</td>\n",
       "      <td>0</td>\n",
       "      <td>15</td>\n",
       "      <td>4</td>\n",
       "      <td>20002382</td>\n",
       "      <td>2020-05-02</td>\n",
       "      <td>DE</td>\n",
       "      <td>419.91</td>\n",
       "      <td>0.0</td>\n",
       "      <td>72.87</td>\n",
       "      <td>419.91</td>\n",
       "      <td>0.00</td>\n",
       "      <td>2020-05</td>\n",
       "    </tr>\n",
       "    <tr>\n",
       "      <th>23</th>\n",
       "      <td>3290</td>\n",
       "      <td>1194.90</td>\n",
       "      <td>207.38</td>\n",
       "      <td>0.0</td>\n",
       "      <td>0</td>\n",
       "      <td>12</td>\n",
       "      <td>4</td>\n",
       "      <td>20003290</td>\n",
       "      <td>2020-09-01</td>\n",
       "      <td>DE</td>\n",
       "      <td>1194.90</td>\n",
       "      <td>0.0</td>\n",
       "      <td>207.38</td>\n",
       "      <td>1194.90</td>\n",
       "      <td>1059.90</td>\n",
       "      <td>2020-09</td>\n",
       "    </tr>\n",
       "    <tr>\n",
       "      <th>32</th>\n",
       "      <td>2889</td>\n",
       "      <td>1189.75</td>\n",
       "      <td>206.48</td>\n",
       "      <td>0.0</td>\n",
       "      <td>0</td>\n",
       "      <td>11</td>\n",
       "      <td>4</td>\n",
       "      <td>20002889</td>\n",
       "      <td>2020-07-25</td>\n",
       "      <td>DE</td>\n",
       "      <td>1189.75</td>\n",
       "      <td>0.0</td>\n",
       "      <td>206.48</td>\n",
       "      <td>1189.75</td>\n",
       "      <td>409.96</td>\n",
       "      <td>2020-07</td>\n",
       "    </tr>\n",
       "    <tr>\n",
       "      <th>43</th>\n",
       "      <td>3815</td>\n",
       "      <td>1139.92</td>\n",
       "      <td>197.83</td>\n",
       "      <td>0.0</td>\n",
       "      <td>0</td>\n",
       "      <td>8</td>\n",
       "      <td>4</td>\n",
       "      <td>20003815</td>\n",
       "      <td>2020-10-14</td>\n",
       "      <td>DE</td>\n",
       "      <td>1139.92</td>\n",
       "      <td>0.0</td>\n",
       "      <td>197.83</td>\n",
       "      <td>1139.92</td>\n",
       "      <td>309.98</td>\n",
       "      <td>2020-10</td>\n",
       "    </tr>\n",
       "    <tr>\n",
       "      <th>...</th>\n",
       "      <td>...</td>\n",
       "      <td>...</td>\n",
       "      <td>...</td>\n",
       "      <td>...</td>\n",
       "      <td>...</td>\n",
       "      <td>...</td>\n",
       "      <td>...</td>\n",
       "      <td>...</td>\n",
       "      <td>...</td>\n",
       "      <td>...</td>\n",
       "      <td>...</td>\n",
       "      <td>...</td>\n",
       "      <td>...</td>\n",
       "      <td>...</td>\n",
       "      <td>...</td>\n",
       "      <td>...</td>\n",
       "    </tr>\n",
       "    <tr>\n",
       "      <th>11589</th>\n",
       "      <td>16868</td>\n",
       "      <td>7.49</td>\n",
       "      <td>0.35</td>\n",
       "      <td>5.5</td>\n",
       "      <td>0</td>\n",
       "      <td>1</td>\n",
       "      <td>5</td>\n",
       "      <td>100016868</td>\n",
       "      <td>2020-08-11</td>\n",
       "      <td>DE</td>\n",
       "      <td>1.99</td>\n",
       "      <td>5.5</td>\n",
       "      <td>0.35</td>\n",
       "      <td>7.49</td>\n",
       "      <td>0.00</td>\n",
       "      <td>2020-08</td>\n",
       "    </tr>\n",
       "    <tr>\n",
       "      <th>11590</th>\n",
       "      <td>20002315</td>\n",
       "      <td>5.50</td>\n",
       "      <td>0.00</td>\n",
       "      <td>5.5</td>\n",
       "      <td>0</td>\n",
       "      <td>1</td>\n",
       "      <td>8</td>\n",
       "      <td>20002315</td>\n",
       "      <td>2020-04-23</td>\n",
       "      <td>DE</td>\n",
       "      <td>0.00</td>\n",
       "      <td>5.5</td>\n",
       "      <td>0.00</td>\n",
       "      <td>5.50</td>\n",
       "      <td>0.00</td>\n",
       "      <td>2020-04</td>\n",
       "    </tr>\n",
       "    <tr>\n",
       "      <th>11591</th>\n",
       "      <td>20002342</td>\n",
       "      <td>5.50</td>\n",
       "      <td>0.00</td>\n",
       "      <td>5.5</td>\n",
       "      <td>0</td>\n",
       "      <td>1</td>\n",
       "      <td>8</td>\n",
       "      <td>20002342</td>\n",
       "      <td>2020-04-27</td>\n",
       "      <td>DE</td>\n",
       "      <td>0.00</td>\n",
       "      <td>5.5</td>\n",
       "      <td>0.00</td>\n",
       "      <td>5.50</td>\n",
       "      <td>0.00</td>\n",
       "      <td>2020-04</td>\n",
       "    </tr>\n",
       "    <tr>\n",
       "      <th>11592</th>\n",
       "      <td>2315</td>\n",
       "      <td>5.50</td>\n",
       "      <td>0.00</td>\n",
       "      <td>5.5</td>\n",
       "      <td>0</td>\n",
       "      <td>1</td>\n",
       "      <td>4</td>\n",
       "      <td>20002315</td>\n",
       "      <td>2020-04-23</td>\n",
       "      <td>DE</td>\n",
       "      <td>0.00</td>\n",
       "      <td>5.5</td>\n",
       "      <td>0.00</td>\n",
       "      <td>5.50</td>\n",
       "      <td>0.00</td>\n",
       "      <td>2020-04</td>\n",
       "    </tr>\n",
       "    <tr>\n",
       "      <th>11593</th>\n",
       "      <td>2342</td>\n",
       "      <td>5.50</td>\n",
       "      <td>0.00</td>\n",
       "      <td>5.5</td>\n",
       "      <td>0</td>\n",
       "      <td>1</td>\n",
       "      <td>4</td>\n",
       "      <td>20002342</td>\n",
       "      <td>2020-04-27</td>\n",
       "      <td>DE</td>\n",
       "      <td>0.00</td>\n",
       "      <td>5.5</td>\n",
       "      <td>0.00</td>\n",
       "      <td>5.50</td>\n",
       "      <td>0.00</td>\n",
       "      <td>2020-04</td>\n",
       "    </tr>\n",
       "  </tbody>\n",
       "</table>\n",
       "<p>5511 rows × 16 columns</p>\n",
       "</div>"
      ],
      "text/plain": [
       "      transaction id  revenue     tax  delivery  refund amount  quantity  tx_id_length transaction_id    be_date be_billing_country  be_subtotal  be_shipping  be_taxes  be_total  be_refunded_amount  date_ym\n",
       "0           20001980  1361.80  236.34       0.0              0        20             8       20001980 2020-03-01                 DE      1361.80          0.0    236.34   1361.80              962.87  2020-03\n",
       "18              2382  1259.73  218.61       0.0              0        15             4       20002382 2020-05-02                 DE       419.91          0.0     72.87    419.91                0.00  2020-05\n",
       "23              3290  1194.90  207.38       0.0              0        12             4       20003290 2020-09-01                 DE      1194.90          0.0    207.38   1194.90             1059.90  2020-09\n",
       "32              2889  1189.75  206.48       0.0              0        11             4       20002889 2020-07-25                 DE      1189.75          0.0    206.48   1189.75              409.96  2020-07\n",
       "43              3815  1139.92  197.83       0.0              0         8             4       20003815 2020-10-14                 DE      1139.92          0.0    197.83   1139.92              309.98  2020-10\n",
       "...              ...      ...     ...       ...            ...       ...           ...            ...        ...                ...          ...          ...       ...       ...                 ...      ...\n",
       "11589          16868     7.49    0.35       5.5              0         1             5      100016868 2020-08-11                 DE         1.99          5.5      0.35      7.49                0.00  2020-08\n",
       "11590       20002315     5.50    0.00       5.5              0         1             8       20002315 2020-04-23                 DE         0.00          5.5      0.00      5.50                0.00  2020-04\n",
       "11591       20002342     5.50    0.00       5.5              0         1             8       20002342 2020-04-27                 DE         0.00          5.5      0.00      5.50                0.00  2020-04\n",
       "11592           2315     5.50    0.00       5.5              0         1             4       20002315 2020-04-23                 DE         0.00          5.5      0.00      5.50                0.00  2020-04\n",
       "11593           2342     5.50    0.00       5.5              0         1             4       20002342 2020-04-27                 DE         0.00          5.5      0.00      5.50                0.00  2020-04\n",
       "\n",
       "[5511 rows x 16 columns]"
      ]
     },
     "execution_count": 316,
     "metadata": {},
     "output_type": "execute_result"
    }
   ],
   "source": [
    "ga_df"
   ]
  },
  {
   "cell_type": "code",
   "execution_count": 317,
   "metadata": {},
   "outputs": [],
   "source": [
    "ga_summary = ga_df.groupby(['date_ym','be_billing_country']).agg({'revenue':pd.Series.sum, 'tax':pd.Series.sum, 'be_subtotal':pd.Series.sum, 'be_shipping':pd.Series.sum, 'be_taxes':pd.Series.sum, 'be_total':pd.Series.sum, 'be_refunded_amount':pd.Series.sum}).reset_index()"
   ]
  },
  {
   "cell_type": "code",
   "execution_count": 321,
   "metadata": {},
   "outputs": [
    {
     "data": {
      "text/plain": [
       "date_ym               2020-012020-012020-012020-012020-022020-022020...\n",
       "be_billing_country    ESFRGBNLBEFRGBNLROBEFRNLROUSFRCZFRNLUSLINLUSFR...\n",
       "revenue                                                         9452.24\n",
       "tax                                                             1573.76\n",
       "be_subtotal                                                     8901.79\n",
       "be_shipping                                                      415.00\n",
       "be_taxes                                                        1551.21\n",
       "be_total                                                        9316.79\n",
       "be_refunded_amount                                              1533.65\n",
       "dtype: object"
      ]
     },
     "execution_count": 321,
     "metadata": {},
     "output_type": "execute_result"
    }
   ],
   "source": [
    "ga_summary[~ga_summary.be_billing_country.isin(['AT','CH','DE'])].sum()"
   ]
  }
 ],
 "metadata": {
  "kernelspec": {
   "display_name": "Python 3",
   "language": "python",
   "name": "python3"
  },
  "language_info": {
   "codemirror_mode": {
    "name": "ipython",
    "version": 3
   },
   "file_extension": ".py",
   "mimetype": "text/x-python",
   "name": "python",
   "nbconvert_exporter": "python",
   "pygments_lexer": "ipython3",
   "version": "3.7.3"
  }
 },
 "nbformat": 4,
 "nbformat_minor": 4
}

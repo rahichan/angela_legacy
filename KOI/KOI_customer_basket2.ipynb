{
 "cells": [
  {
   "cell_type": "code",
   "execution_count": 1,
   "source": [
    "import pandas as pd\r\n",
    "import numpy as np\r\n",
    "import datetime as dt"
   ],
   "outputs": [],
   "metadata": {}
  },
  {
   "cell_type": "markdown",
   "source": [
    "### Identify the new and returning customers"
   ],
   "metadata": {}
  },
  {
   "cell_type": "code",
   "execution_count": 10,
   "source": [
    "# obtaining the data"
   ],
   "outputs": [],
   "metadata": {}
  },
  {
   "cell_type": "code",
   "execution_count": 2,
   "source": [
    "pd.set_option('display.max_columns', None)"
   ],
   "outputs": [],
   "metadata": {}
  },
  {
   "cell_type": "code",
   "execution_count": 3,
   "source": [
    "orders = pd.read_csv('./Data/KOI_export_082021.csv')"
   ],
   "outputs": [
    {
     "output_type": "stream",
     "name": "stderr",
     "text": [
      "C:\\Users\\Angela\\anaconda3\\lib\\site-packages\\IPython\\core\\interactiveshell.py:3146: DtypeWarning: Columns (28,38) have mixed types.Specify dtype option on import or set low_memory=False.\n",
      "  has_raised = await self.run_ast_nodes(code_ast.body, cell_name,\n"
     ]
    }
   ],
   "metadata": {}
  },
  {
   "cell_type": "code",
   "execution_count": 4,
   "source": [
    "orders['Financial Status'].unique()"
   ],
   "outputs": [
    {
     "output_type": "execute_result",
     "data": {
      "text/plain": [
       "array(['paid', nan, 'partially_refunded', 'refunded', 'pending'],\n",
       "      dtype=object)"
      ]
     },
     "metadata": {},
     "execution_count": 4
    }
   ],
   "metadata": {
    "scrolled": true
   }
  },
  {
   "cell_type": "code",
   "execution_count": 6,
   "source": [
    "orders_1 = pd.read_csv('./Data/orders_export_1.csv')\r\n",
    "orders_2 = pd.read_csv('./Data/orders_export_2.csv')"
   ],
   "outputs": [],
   "metadata": {}
  },
  {
   "cell_type": "code",
   "execution_count": 7,
   "source": [
    "orders_com = orders_1.append(orders_2, ignore_index=True)"
   ],
   "outputs": [],
   "metadata": {}
  },
  {
   "cell_type": "code",
   "execution_count": 8,
   "source": [
    "orders_com['Financial Status'].unique()"
   ],
   "outputs": [
    {
     "output_type": "execute_result",
     "data": {
      "text/plain": [
       "array(['paid', nan, 'refunded', 'partially_refunded', 'pending', 'voided'],\n",
       "      dtype=object)"
      ]
     },
     "metadata": {},
     "execution_count": 8
    }
   ],
   "metadata": {
    "scrolled": true
   }
  },
  {
   "cell_type": "code",
   "execution_count": 5,
   "source": [
    "orders['Order_Date'] = pd.to_datetime(orders['Created at'], format=\"%Y-%m-%d %H:%M:%S %z\", utc=True)\r\n",
    "orders['Date'] = pd.to_datetime(orders['Order_Date'].dt.date)\r\n",
    "orders['Date_YM'] = orders['Date'].apply(lambda x: x.strftime('%Y-%m'))"
   ],
   "outputs": [],
   "metadata": {}
  },
  {
   "cell_type": "code",
   "execution_count": 19,
   "source": [
    "orders_com['Order_Date'] = pd.to_datetime(orders_com['Created at'], format=\"%Y-%m-%d %H:%M:%S %z\", utc=True)\r\n",
    "orders_com['Date'] = pd.to_datetime(orders_com['Order_Date'].dt.date)\r\n",
    "orders_com['Date_YM'] = orders_com['Date'].apply(lambda x: x.strftime('%Y-%m'))"
   ],
   "outputs": [],
   "metadata": {}
  },
  {
   "cell_type": "code",
   "execution_count": 7,
   "source": [
    "df = orders[['Date','Name','Total', 'Financial Status','Email', 'Subtotal', 'Shipping',\r\n",
    "       'Taxes', 'Discount Amount', 'Refunded Amount', 'Billing Country']]\r\n",
    "#df_com = orders_com[['Date','Name','Total', 'Financial Status','Email', 'Subtotal', 'Shipping',\r\n",
    "       #'Taxes', 'Discount Amount', 'Refunded Amount', 'Billing Country']]"
   ],
   "outputs": [],
   "metadata": {}
  },
  {
   "cell_type": "code",
   "execution_count": null,
   "source": [
    "df_com.rename(columns={'Date': 'date','Name':'order_id','Total':'total', 'Financial Status':'status','Email':'email', 'Subtotal':'subtotal', 'Shipping':'shipping',\r\n",
    "       'Taxes':'taxes', 'Discount Amount':'discount_amount', 'Refunded Amount':'refunded_amount', 'Billing Country': 'billing_country'}, inplace=True)"
   ],
   "outputs": [],
   "metadata": {}
  },
  {
   "cell_type": "code",
   "execution_count": 8,
   "source": [
    "df.rename(columns={'Date': 'date','Name':'order_id','Total':'total', 'Financial Status':'status','Email':'email', 'Subtotal':'subtotal', 'Shipping':'shipping',\r\n",
    "       'Taxes':'taxes', 'Discount Amount':'discount_amount', 'Refunded Amount':'refunded_amount', 'Billing Country': 'billing_country'}, inplace=True)"
   ],
   "outputs": [
    {
     "output_type": "stream",
     "name": "stderr",
     "text": [
      "C:\\Users\\Angela\\anaconda3\\lib\\site-packages\\pandas\\core\\frame.py:4296: SettingWithCopyWarning: \n",
      "A value is trying to be set on a copy of a slice from a DataFrame\n",
      "\n",
      "See the caveats in the documentation: https://pandas.pydata.org/pandas-docs/stable/user_guide/indexing.html#returning-a-view-versus-a-copy\n",
      "  return super().rename(\n"
     ]
    }
   ],
   "metadata": {}
  },
  {
   "cell_type": "code",
   "execution_count": 9,
   "source": [
    "#df_com.shape, \r\n",
    "df.shape"
   ],
   "outputs": [
    {
     "output_type": "execute_result",
     "data": {
      "text/plain": [
       "(13644, 11)"
      ]
     },
     "metadata": {},
     "execution_count": 9
    }
   ],
   "metadata": {}
  },
  {
   "cell_type": "code",
   "execution_count": 2,
   "source": [
    "# Customers"
   ],
   "outputs": [],
   "metadata": {}
  },
  {
   "cell_type": "code",
   "execution_count": 10,
   "source": [
    "%run ./cohorts_pipeline_koi.py"
   ],
   "outputs": [],
   "metadata": {}
  },
  {
   "cell_type": "code",
   "execution_count": 11,
   "source": [
    "#df_com = first_order(df_com)\r\n",
    "df = first_order(df)"
   ],
   "outputs": [],
   "metadata": {}
  },
  {
   "cell_type": "code",
   "execution_count": 12,
   "source": [
    "#df_com.shape, \r\n",
    "df.shape"
   ],
   "outputs": [
    {
     "output_type": "execute_result",
     "data": {
      "text/plain": [
       "(6404, 17)"
      ]
     },
     "metadata": {},
     "execution_count": 12
    }
   ],
   "metadata": {}
  },
  {
   "cell_type": "code",
   "execution_count": 86,
   "source": [
    "df_com.head(2)"
   ],
   "outputs": [
    {
     "output_type": "execute_result",
     "data": {
      "text/plain": [
       "                      email       date order_id   total status  subtotal  \\\n",
       "0  ernst.hiemstra@gmail.com 2018-08-09  KOI1002   84.97   paid     84.97   \n",
       "1   andre@kingsofindigo.com 2018-08-14  KOI1003  184.92   paid    184.92   \n",
       "\n",
       "   shipping  taxes  discount_amount  refunded_amount billing_country  \\\n",
       "0       0.0  14.75              0.0              0.0              NL   \n",
       "1       0.0  32.09              0.0              0.0              NL   \n",
       "\n",
       "  order_date first_order first_order_ym  date_ym customer_type  days_between  \n",
       "0 2018-08-09  2018-08-09        2018-08  2018-08           New           0.0  \n",
       "1 2018-08-14  2018-08-14        2018-08  2018-08           New           0.0  "
      ],
      "text/html": [
       "<div>\n",
       "<style scoped>\n",
       "    .dataframe tbody tr th:only-of-type {\n",
       "        vertical-align: middle;\n",
       "    }\n",
       "\n",
       "    .dataframe tbody tr th {\n",
       "        vertical-align: top;\n",
       "    }\n",
       "\n",
       "    .dataframe thead th {\n",
       "        text-align: right;\n",
       "    }\n",
       "</style>\n",
       "<table border=\"1\" class=\"dataframe\">\n",
       "  <thead>\n",
       "    <tr style=\"text-align: right;\">\n",
       "      <th></th>\n",
       "      <th>email</th>\n",
       "      <th>date</th>\n",
       "      <th>order_id</th>\n",
       "      <th>total</th>\n",
       "      <th>status</th>\n",
       "      <th>subtotal</th>\n",
       "      <th>shipping</th>\n",
       "      <th>taxes</th>\n",
       "      <th>discount_amount</th>\n",
       "      <th>refunded_amount</th>\n",
       "      <th>billing_country</th>\n",
       "      <th>order_date</th>\n",
       "      <th>first_order</th>\n",
       "      <th>first_order_ym</th>\n",
       "      <th>date_ym</th>\n",
       "      <th>customer_type</th>\n",
       "      <th>days_between</th>\n",
       "    </tr>\n",
       "  </thead>\n",
       "  <tbody>\n",
       "    <tr>\n",
       "      <th>0</th>\n",
       "      <td>ernst.hiemstra@gmail.com</td>\n",
       "      <td>2018-08-09</td>\n",
       "      <td>KOI1002</td>\n",
       "      <td>84.97</td>\n",
       "      <td>paid</td>\n",
       "      <td>84.97</td>\n",
       "      <td>0.0</td>\n",
       "      <td>14.75</td>\n",
       "      <td>0.0</td>\n",
       "      <td>0.0</td>\n",
       "      <td>NL</td>\n",
       "      <td>2018-08-09</td>\n",
       "      <td>2018-08-09</td>\n",
       "      <td>2018-08</td>\n",
       "      <td>2018-08</td>\n",
       "      <td>New</td>\n",
       "      <td>0.0</td>\n",
       "    </tr>\n",
       "    <tr>\n",
       "      <th>1</th>\n",
       "      <td>andre@kingsofindigo.com</td>\n",
       "      <td>2018-08-14</td>\n",
       "      <td>KOI1003</td>\n",
       "      <td>184.92</td>\n",
       "      <td>paid</td>\n",
       "      <td>184.92</td>\n",
       "      <td>0.0</td>\n",
       "      <td>32.09</td>\n",
       "      <td>0.0</td>\n",
       "      <td>0.0</td>\n",
       "      <td>NL</td>\n",
       "      <td>2018-08-14</td>\n",
       "      <td>2018-08-14</td>\n",
       "      <td>2018-08</td>\n",
       "      <td>2018-08</td>\n",
       "      <td>New</td>\n",
       "      <td>0.0</td>\n",
       "    </tr>\n",
       "  </tbody>\n",
       "</table>\n",
       "</div>"
      ]
     },
     "metadata": {},
     "execution_count": 86
    }
   ],
   "metadata": {}
  },
  {
   "cell_type": "code",
   "execution_count": 87,
   "source": [
    "df_com.isnull().sum()"
   ],
   "outputs": [
    {
     "output_type": "execute_result",
     "data": {
      "text/plain": [
       "email              12\n",
       "date                0\n",
       "order_id            0\n",
       "total               0\n",
       "status              0\n",
       "subtotal            0\n",
       "shipping            0\n",
       "taxes               0\n",
       "discount_amount     0\n",
       "refunded_amount     0\n",
       "billing_country    86\n",
       "order_date          0\n",
       "first_order        12\n",
       "first_order_ym     12\n",
       "date_ym             0\n",
       "customer_type       0\n",
       "days_between        0\n",
       "dtype: int64"
      ]
     },
     "metadata": {},
     "execution_count": 87
    }
   ],
   "metadata": {}
  },
  {
   "cell_type": "code",
   "execution_count": 13,
   "source": [
    "df.head(2)"
   ],
   "outputs": [
    {
     "output_type": "execute_result",
     "data": {
      "text/plain": [
       "                        email       date  order_id  total status  subtotal  \\\n",
       "0  andrekortekaas@hotmail.com 2019-12-04  20001001   8.20   paid      3.25   \n",
       "1  andrekortekaas@hotmail.com 2019-12-10  20001002  24.95   paid     20.00   \n",
       "\n",
       "   shipping  taxes  discount_amount  refunded_amount billing_country  \\\n",
       "0      4.95   0.56            29.24              0.0              NL   \n",
       "1      4.95   3.47           179.95              0.0              NL   \n",
       "\n",
       "  order_date first_order first_order_ym  date_ym customer_type  days_between  \n",
       "0 2019-12-04  2019-12-04        2019-12  2019-12           New           0.0  \n",
       "1 2019-12-10  2019-12-04        2019-12  2019-12     Returning           6.0  "
      ],
      "text/html": [
       "<div>\n",
       "<style scoped>\n",
       "    .dataframe tbody tr th:only-of-type {\n",
       "        vertical-align: middle;\n",
       "    }\n",
       "\n",
       "    .dataframe tbody tr th {\n",
       "        vertical-align: top;\n",
       "    }\n",
       "\n",
       "    .dataframe thead th {\n",
       "        text-align: right;\n",
       "    }\n",
       "</style>\n",
       "<table border=\"1\" class=\"dataframe\">\n",
       "  <thead>\n",
       "    <tr style=\"text-align: right;\">\n",
       "      <th></th>\n",
       "      <th>email</th>\n",
       "      <th>date</th>\n",
       "      <th>order_id</th>\n",
       "      <th>total</th>\n",
       "      <th>status</th>\n",
       "      <th>subtotal</th>\n",
       "      <th>shipping</th>\n",
       "      <th>taxes</th>\n",
       "      <th>discount_amount</th>\n",
       "      <th>refunded_amount</th>\n",
       "      <th>billing_country</th>\n",
       "      <th>order_date</th>\n",
       "      <th>first_order</th>\n",
       "      <th>first_order_ym</th>\n",
       "      <th>date_ym</th>\n",
       "      <th>customer_type</th>\n",
       "      <th>days_between</th>\n",
       "    </tr>\n",
       "  </thead>\n",
       "  <tbody>\n",
       "    <tr>\n",
       "      <th>0</th>\n",
       "      <td>andrekortekaas@hotmail.com</td>\n",
       "      <td>2019-12-04</td>\n",
       "      <td>20001001</td>\n",
       "      <td>8.20</td>\n",
       "      <td>paid</td>\n",
       "      <td>3.25</td>\n",
       "      <td>4.95</td>\n",
       "      <td>0.56</td>\n",
       "      <td>29.24</td>\n",
       "      <td>0.0</td>\n",
       "      <td>NL</td>\n",
       "      <td>2019-12-04</td>\n",
       "      <td>2019-12-04</td>\n",
       "      <td>2019-12</td>\n",
       "      <td>2019-12</td>\n",
       "      <td>New</td>\n",
       "      <td>0.0</td>\n",
       "    </tr>\n",
       "    <tr>\n",
       "      <th>1</th>\n",
       "      <td>andrekortekaas@hotmail.com</td>\n",
       "      <td>2019-12-10</td>\n",
       "      <td>20001002</td>\n",
       "      <td>24.95</td>\n",
       "      <td>paid</td>\n",
       "      <td>20.00</td>\n",
       "      <td>4.95</td>\n",
       "      <td>3.47</td>\n",
       "      <td>179.95</td>\n",
       "      <td>0.0</td>\n",
       "      <td>NL</td>\n",
       "      <td>2019-12-10</td>\n",
       "      <td>2019-12-04</td>\n",
       "      <td>2019-12</td>\n",
       "      <td>2019-12</td>\n",
       "      <td>Returning</td>\n",
       "      <td>6.0</td>\n",
       "    </tr>\n",
       "  </tbody>\n",
       "</table>\n",
       "</div>"
      ]
     },
     "metadata": {},
     "execution_count": 13
    }
   ],
   "metadata": {}
  },
  {
   "cell_type": "code",
   "execution_count": 14,
   "source": [
    "df.isnull().sum()"
   ],
   "outputs": [
    {
     "output_type": "execute_result",
     "data": {
      "text/plain": [
       "email              0\n",
       "date               0\n",
       "order_id           0\n",
       "total              0\n",
       "status             0\n",
       "subtotal           0\n",
       "shipping           0\n",
       "taxes              0\n",
       "discount_amount    0\n",
       "refunded_amount    0\n",
       "billing_country    0\n",
       "order_date         0\n",
       "first_order        0\n",
       "first_order_ym     0\n",
       "date_ym            0\n",
       "customer_type      0\n",
       "days_between       0\n",
       "dtype: int64"
      ]
     },
     "metadata": {},
     "execution_count": 14
    }
   ],
   "metadata": {}
  },
  {
   "cell_type": "code",
   "execution_count": 91,
   "source": [
    "df_com[df_com['date']> '2020-01-01']['customer_type'].value_counts()"
   ],
   "outputs": [
    {
     "output_type": "execute_result",
     "data": {
      "text/plain": [
       "New          7260\n",
       "Returning    4098\n",
       "Name: customer_type, dtype: int64"
      ]
     },
     "metadata": {},
     "execution_count": 91
    }
   ],
   "metadata": {}
  },
  {
   "cell_type": "code",
   "execution_count": 92,
   "source": [
    "df[df['date']> '2020-01-01']['customer_type'].value_counts()"
   ],
   "outputs": [
    {
     "output_type": "execute_result",
     "data": {
      "text/plain": [
       "New          3543\n",
       "Returning     628\n",
       "Name: customer_type, dtype: int64"
      ]
     },
     "metadata": {},
     "execution_count": 92
    }
   ],
   "metadata": {}
  },
  {
   "cell_type": "code",
   "execution_count": 95,
   "source": [
    "df_com[df_com['date']> '2021-02-01']['subtotal'].sum() + df[df['date']> '2021-02-01']['subtotal'].sum()"
   ],
   "outputs": [
    {
     "output_type": "execute_result",
     "data": {
      "text/plain": [
       "190115.4"
      ]
     },
     "metadata": {},
     "execution_count": 95
    }
   ],
   "metadata": {}
  },
  {
   "cell_type": "code",
   "execution_count": 101,
   "source": [
    "summary_de = df.groupby(['date_ym', 'billing_country', 'customer_type']).agg({'subtotal':pd.Series.sum, 'order_id':pd.Series.count, 'shipping':pd.Series.sum, 'taxes':pd.Series.sum, 'total':pd.Series.sum, 'discount_amount':pd.Series.sum, 'refunded_amount':pd.Series.sum}).reset_index()\r\n",
    "summary_com = df_com.groupby(['date_ym', 'billing_country', 'customer_type']).agg({'subtotal':pd.Series.sum, 'order_id':pd.Series.count, 'shipping':pd.Series.sum, 'taxes':pd.Series.sum, 'total':pd.Series.sum, 'discount_amount':pd.Series.sum, 'refunded_amount':pd.Series.sum}).reset_index()"
   ],
   "outputs": [],
   "metadata": {}
  },
  {
   "cell_type": "code",
   "execution_count": 114,
   "source": [
    "summary_com[summary_com['date_ym']== '2021-02'][summary_com['billing_country'].isin(['DE', 'AT', 'CH'])]['subtotal'].sum() + summary_de[summary_de['date_ym']== '2021-02'][summary_de['billing_country'].isin(['DE', 'AT', 'CH'])]['subtotal'].sum()"
   ],
   "outputs": [
    {
     "output_type": "stream",
     "name": "stderr",
     "text": [
      "<ipython-input-114-f72d2f490e54>:1: UserWarning: Boolean Series key will be reindexed to match DataFrame index.\n",
      "  summary_com[summary_com['date_ym']== '2021-02'][summary_com['billing_country'].isin(['DE', 'AT', 'CH'])]['subtotal'].sum() + summary_de[summary_de['date_ym']== '2021-02'][summary_de['billing_country'].isin(['DE', 'AT', 'CH'])]['subtotal'].sum()\n"
     ]
    },
    {
     "output_type": "execute_result",
     "data": {
      "text/plain": [
       "77939.53"
      ]
     },
     "metadata": {},
     "execution_count": 114
    }
   ],
   "metadata": {}
  },
  {
   "cell_type": "code",
   "execution_count": 115,
   "source": [
    "78159.51 - 77939.53"
   ],
   "outputs": [
    {
     "output_type": "execute_result",
     "data": {
      "text/plain": [
       "219.97999999999593"
      ]
     },
     "metadata": {},
     "execution_count": 115
    }
   ],
   "metadata": {}
  },
  {
   "cell_type": "code",
   "execution_count": 118,
   "source": [
    "summary_de['TO_EXSHIP_EXVAT'] = summary_de['subtotal'] - summary_de['taxes']\n",
    "summary_com['TO_EXSHIP_EXVAT'] = summary_com['subtotal'] - summary_com['taxes']"
   ],
   "outputs": [],
   "metadata": {}
  },
  {
   "cell_type": "code",
   "execution_count": 119,
   "source": [
    "summary_de['TO_EXSHIP_EXVAT_EXRET'] = summary_de['TO_EXSHIP_EXVAT'] - summary_de['refunded_amount']\n",
    "summary_com['TO_EXSHIP_EXVAT_EXRET'] = summary_com['TO_EXSHIP_EXVAT'] - summary_com['refunded_amount']"
   ],
   "outputs": [],
   "metadata": {}
  },
  {
   "cell_type": "code",
   "execution_count": 120,
   "source": [
    "summary_de.to_clipboard(decimal=',', index=False)"
   ],
   "outputs": [],
   "metadata": {}
  },
  {
   "cell_type": "code",
   "execution_count": 121,
   "source": [
    "summary_com.to_clipboard(decimal=',', index=False)"
   ],
   "outputs": [],
   "metadata": {}
  },
  {
   "cell_type": "code",
   "execution_count": null,
   "source": [],
   "outputs": [],
   "metadata": {}
  },
  {
   "cell_type": "code",
   "execution_count": 37,
   "source": [
    "# Cohorts"
   ],
   "outputs": [],
   "metadata": {}
  },
  {
   "cell_type": "code",
   "execution_count": 66,
   "source": [
    "transactions, cohorts = cohorts_pipeline(df)"
   ],
   "outputs": [],
   "metadata": {}
  },
  {
   "cell_type": "code",
   "execution_count": 68,
   "source": [
    "try:\n",
    "    transactions =  transactions.astype(int) \n",
    "except ValueError:\n",
    "    pass"
   ],
   "outputs": [],
   "metadata": {}
  },
  {
   "cell_type": "code",
   "execution_count": 69,
   "source": [
    "transactions.isna().sum()"
   ],
   "outputs": [
    {
     "output_type": "execute_result",
     "data": {
      "text/plain": [
       "New_Trans    0\n",
       "Ret_Trans    1\n",
       "New_Rev      0\n",
       "Ret_Rev      0\n",
       "AOV_New      0\n",
       "AOV_Ret      1\n",
       "dtype: int64"
      ]
     },
     "metadata": {},
     "execution_count": 69
    }
   ],
   "metadata": {}
  },
  {
   "cell_type": "code",
   "execution_count": 70,
   "source": [
    "transactions.fillna(0)"
   ],
   "outputs": [
    {
     "output_type": "execute_result",
     "data": {
      "text/plain": [
       "         New_Trans  Ret_Trans   New_Rev   Ret_Rev     AOV_New     AOV_Ret\n",
       "date_ym                                                                  \n",
       "2018-11       42.0        0.0  10149.19      0.00  241.647381    0.000000\n",
       "2018-12      172.0        8.0  32490.85   1250.55  188.900291  156.318750\n",
       "2019-01      416.0       47.0  72944.71   6028.86  175.347861  128.273617\n",
       "2019-02      336.0       47.0  59669.68   7711.35  177.588333  164.071277\n",
       "2019-03      253.0       84.0  43641.70  11784.78  172.496838  140.295000\n",
       "2019-04      148.0       41.0  27784.62   6902.64  187.733919  168.357073\n",
       "2019-05      151.0       45.0  31647.92   8227.36  209.588874  182.830222\n",
       "2019-06      136.0       44.0  24815.29   6663.05  182.465368  151.432955\n",
       "2019-07      249.0       90.0  36061.30  14093.44  144.824498  156.593778\n",
       "2019-08      238.0      122.0  34366.24  16696.24  144.395966  136.854426\n",
       "2019-09      199.0       94.0  32691.95  11026.07  164.281156  117.298617\n",
       "2019-10      208.0       48.0  39588.14   8790.75  190.327596  183.140625\n",
       "2019-11      268.0       77.0  48352.15  12278.20  180.418470  159.457143\n",
       "2019-12      257.0       83.0  45842.44  14173.01  178.375253  170.759157\n",
       "2020-01      540.0      144.0  97804.30  25287.31  181.119074  175.606319\n",
       "2020-02      475.0      196.0  75138.53  29180.50  158.186379  148.880102\n",
       "2020-03      228.0      102.0  39908.37  14079.55  175.036711  138.034804\n",
       "2020-04      235.0       72.0  42491.12  10812.84  180.813277  150.178333\n",
       "2020-05      225.0       81.0  39985.38  17171.71  177.712800  211.996420\n",
       "2020-06      156.0       62.0  28839.57  10774.49  184.869038  173.782097\n",
       "2020-07      174.0       67.0  26742.92   9909.18  153.694943  147.898209\n",
       "2020-08      310.0      118.0  52752.31  20996.65  170.168742  177.937712\n",
       "2020-09      312.0      108.0  56696.05  18430.57  181.718109  170.653426\n",
       "2020-10      304.0      223.0  58224.60  33388.45  191.528289  149.723991\n",
       "2020-11      237.0       85.0  49974.00  15818.13  210.860759  186.095647\n",
       "2020-12      239.0      104.0  46863.46  18413.67  196.081423  177.054519\n",
       "2021-01      427.0      162.0  79531.10  25594.73  186.255504  157.992160\n",
       "2021-02      310.0      105.0  61465.71  16643.81  198.276484  158.512476"
      ],
      "text/html": [
       "<div>\n",
       "<style scoped>\n",
       "    .dataframe tbody tr th:only-of-type {\n",
       "        vertical-align: middle;\n",
       "    }\n",
       "\n",
       "    .dataframe tbody tr th {\n",
       "        vertical-align: top;\n",
       "    }\n",
       "\n",
       "    .dataframe thead th {\n",
       "        text-align: right;\n",
       "    }\n",
       "</style>\n",
       "<table border=\"1\" class=\"dataframe\">\n",
       "  <thead>\n",
       "    <tr style=\"text-align: right;\">\n",
       "      <th></th>\n",
       "      <th>New_Trans</th>\n",
       "      <th>Ret_Trans</th>\n",
       "      <th>New_Rev</th>\n",
       "      <th>Ret_Rev</th>\n",
       "      <th>AOV_New</th>\n",
       "      <th>AOV_Ret</th>\n",
       "    </tr>\n",
       "    <tr>\n",
       "      <th>date_ym</th>\n",
       "      <th></th>\n",
       "      <th></th>\n",
       "      <th></th>\n",
       "      <th></th>\n",
       "      <th></th>\n",
       "      <th></th>\n",
       "    </tr>\n",
       "  </thead>\n",
       "  <tbody>\n",
       "    <tr>\n",
       "      <th>2018-11</th>\n",
       "      <td>42.0</td>\n",
       "      <td>0.0</td>\n",
       "      <td>10149.19</td>\n",
       "      <td>0.00</td>\n",
       "      <td>241.647381</td>\n",
       "      <td>0.000000</td>\n",
       "    </tr>\n",
       "    <tr>\n",
       "      <th>2018-12</th>\n",
       "      <td>172.0</td>\n",
       "      <td>8.0</td>\n",
       "      <td>32490.85</td>\n",
       "      <td>1250.55</td>\n",
       "      <td>188.900291</td>\n",
       "      <td>156.318750</td>\n",
       "    </tr>\n",
       "    <tr>\n",
       "      <th>2019-01</th>\n",
       "      <td>416.0</td>\n",
       "      <td>47.0</td>\n",
       "      <td>72944.71</td>\n",
       "      <td>6028.86</td>\n",
       "      <td>175.347861</td>\n",
       "      <td>128.273617</td>\n",
       "    </tr>\n",
       "    <tr>\n",
       "      <th>2019-02</th>\n",
       "      <td>336.0</td>\n",
       "      <td>47.0</td>\n",
       "      <td>59669.68</td>\n",
       "      <td>7711.35</td>\n",
       "      <td>177.588333</td>\n",
       "      <td>164.071277</td>\n",
       "    </tr>\n",
       "    <tr>\n",
       "      <th>2019-03</th>\n",
       "      <td>253.0</td>\n",
       "      <td>84.0</td>\n",
       "      <td>43641.70</td>\n",
       "      <td>11784.78</td>\n",
       "      <td>172.496838</td>\n",
       "      <td>140.295000</td>\n",
       "    </tr>\n",
       "    <tr>\n",
       "      <th>2019-04</th>\n",
       "      <td>148.0</td>\n",
       "      <td>41.0</td>\n",
       "      <td>27784.62</td>\n",
       "      <td>6902.64</td>\n",
       "      <td>187.733919</td>\n",
       "      <td>168.357073</td>\n",
       "    </tr>\n",
       "    <tr>\n",
       "      <th>2019-05</th>\n",
       "      <td>151.0</td>\n",
       "      <td>45.0</td>\n",
       "      <td>31647.92</td>\n",
       "      <td>8227.36</td>\n",
       "      <td>209.588874</td>\n",
       "      <td>182.830222</td>\n",
       "    </tr>\n",
       "    <tr>\n",
       "      <th>2019-06</th>\n",
       "      <td>136.0</td>\n",
       "      <td>44.0</td>\n",
       "      <td>24815.29</td>\n",
       "      <td>6663.05</td>\n",
       "      <td>182.465368</td>\n",
       "      <td>151.432955</td>\n",
       "    </tr>\n",
       "    <tr>\n",
       "      <th>2019-07</th>\n",
       "      <td>249.0</td>\n",
       "      <td>90.0</td>\n",
       "      <td>36061.30</td>\n",
       "      <td>14093.44</td>\n",
       "      <td>144.824498</td>\n",
       "      <td>156.593778</td>\n",
       "    </tr>\n",
       "    <tr>\n",
       "      <th>2019-08</th>\n",
       "      <td>238.0</td>\n",
       "      <td>122.0</td>\n",
       "      <td>34366.24</td>\n",
       "      <td>16696.24</td>\n",
       "      <td>144.395966</td>\n",
       "      <td>136.854426</td>\n",
       "    </tr>\n",
       "    <tr>\n",
       "      <th>2019-09</th>\n",
       "      <td>199.0</td>\n",
       "      <td>94.0</td>\n",
       "      <td>32691.95</td>\n",
       "      <td>11026.07</td>\n",
       "      <td>164.281156</td>\n",
       "      <td>117.298617</td>\n",
       "    </tr>\n",
       "    <tr>\n",
       "      <th>2019-10</th>\n",
       "      <td>208.0</td>\n",
       "      <td>48.0</td>\n",
       "      <td>39588.14</td>\n",
       "      <td>8790.75</td>\n",
       "      <td>190.327596</td>\n",
       "      <td>183.140625</td>\n",
       "    </tr>\n",
       "    <tr>\n",
       "      <th>2019-11</th>\n",
       "      <td>268.0</td>\n",
       "      <td>77.0</td>\n",
       "      <td>48352.15</td>\n",
       "      <td>12278.20</td>\n",
       "      <td>180.418470</td>\n",
       "      <td>159.457143</td>\n",
       "    </tr>\n",
       "    <tr>\n",
       "      <th>2019-12</th>\n",
       "      <td>257.0</td>\n",
       "      <td>83.0</td>\n",
       "      <td>45842.44</td>\n",
       "      <td>14173.01</td>\n",
       "      <td>178.375253</td>\n",
       "      <td>170.759157</td>\n",
       "    </tr>\n",
       "    <tr>\n",
       "      <th>2020-01</th>\n",
       "      <td>540.0</td>\n",
       "      <td>144.0</td>\n",
       "      <td>97804.30</td>\n",
       "      <td>25287.31</td>\n",
       "      <td>181.119074</td>\n",
       "      <td>175.606319</td>\n",
       "    </tr>\n",
       "    <tr>\n",
       "      <th>2020-02</th>\n",
       "      <td>475.0</td>\n",
       "      <td>196.0</td>\n",
       "      <td>75138.53</td>\n",
       "      <td>29180.50</td>\n",
       "      <td>158.186379</td>\n",
       "      <td>148.880102</td>\n",
       "    </tr>\n",
       "    <tr>\n",
       "      <th>2020-03</th>\n",
       "      <td>228.0</td>\n",
       "      <td>102.0</td>\n",
       "      <td>39908.37</td>\n",
       "      <td>14079.55</td>\n",
       "      <td>175.036711</td>\n",
       "      <td>138.034804</td>\n",
       "    </tr>\n",
       "    <tr>\n",
       "      <th>2020-04</th>\n",
       "      <td>235.0</td>\n",
       "      <td>72.0</td>\n",
       "      <td>42491.12</td>\n",
       "      <td>10812.84</td>\n",
       "      <td>180.813277</td>\n",
       "      <td>150.178333</td>\n",
       "    </tr>\n",
       "    <tr>\n",
       "      <th>2020-05</th>\n",
       "      <td>225.0</td>\n",
       "      <td>81.0</td>\n",
       "      <td>39985.38</td>\n",
       "      <td>17171.71</td>\n",
       "      <td>177.712800</td>\n",
       "      <td>211.996420</td>\n",
       "    </tr>\n",
       "    <tr>\n",
       "      <th>2020-06</th>\n",
       "      <td>156.0</td>\n",
       "      <td>62.0</td>\n",
       "      <td>28839.57</td>\n",
       "      <td>10774.49</td>\n",
       "      <td>184.869038</td>\n",
       "      <td>173.782097</td>\n",
       "    </tr>\n",
       "    <tr>\n",
       "      <th>2020-07</th>\n",
       "      <td>174.0</td>\n",
       "      <td>67.0</td>\n",
       "      <td>26742.92</td>\n",
       "      <td>9909.18</td>\n",
       "      <td>153.694943</td>\n",
       "      <td>147.898209</td>\n",
       "    </tr>\n",
       "    <tr>\n",
       "      <th>2020-08</th>\n",
       "      <td>310.0</td>\n",
       "      <td>118.0</td>\n",
       "      <td>52752.31</td>\n",
       "      <td>20996.65</td>\n",
       "      <td>170.168742</td>\n",
       "      <td>177.937712</td>\n",
       "    </tr>\n",
       "    <tr>\n",
       "      <th>2020-09</th>\n",
       "      <td>312.0</td>\n",
       "      <td>108.0</td>\n",
       "      <td>56696.05</td>\n",
       "      <td>18430.57</td>\n",
       "      <td>181.718109</td>\n",
       "      <td>170.653426</td>\n",
       "    </tr>\n",
       "    <tr>\n",
       "      <th>2020-10</th>\n",
       "      <td>304.0</td>\n",
       "      <td>223.0</td>\n",
       "      <td>58224.60</td>\n",
       "      <td>33388.45</td>\n",
       "      <td>191.528289</td>\n",
       "      <td>149.723991</td>\n",
       "    </tr>\n",
       "    <tr>\n",
       "      <th>2020-11</th>\n",
       "      <td>237.0</td>\n",
       "      <td>85.0</td>\n",
       "      <td>49974.00</td>\n",
       "      <td>15818.13</td>\n",
       "      <td>210.860759</td>\n",
       "      <td>186.095647</td>\n",
       "    </tr>\n",
       "    <tr>\n",
       "      <th>2020-12</th>\n",
       "      <td>239.0</td>\n",
       "      <td>104.0</td>\n",
       "      <td>46863.46</td>\n",
       "      <td>18413.67</td>\n",
       "      <td>196.081423</td>\n",
       "      <td>177.054519</td>\n",
       "    </tr>\n",
       "    <tr>\n",
       "      <th>2021-01</th>\n",
       "      <td>427.0</td>\n",
       "      <td>162.0</td>\n",
       "      <td>79531.10</td>\n",
       "      <td>25594.73</td>\n",
       "      <td>186.255504</td>\n",
       "      <td>157.992160</td>\n",
       "    </tr>\n",
       "    <tr>\n",
       "      <th>2021-02</th>\n",
       "      <td>310.0</td>\n",
       "      <td>105.0</td>\n",
       "      <td>61465.71</td>\n",
       "      <td>16643.81</td>\n",
       "      <td>198.276484</td>\n",
       "      <td>158.512476</td>\n",
       "    </tr>\n",
       "  </tbody>\n",
       "</table>\n",
       "</div>"
      ]
     },
     "metadata": {},
     "execution_count": 70
    }
   ],
   "metadata": {
    "collapsed": true,
    "jupyter": {
     "outputs_hidden": true
    }
   }
  },
  {
   "cell_type": "code",
   "execution_count": 40,
   "source": [
    "transactions.to_clipboard()"
   ],
   "outputs": [],
   "metadata": {}
  },
  {
   "cell_type": "code",
   "execution_count": 71,
   "source": [
    "cohorts = cohorts.astype(str)"
   ],
   "outputs": [],
   "metadata": {}
  },
  {
   "cell_type": "code",
   "execution_count": 72,
   "source": [
    "cohorts = cohorts.apply(lambda x: x.str.replace('.',','))\n",
    "cohorts = cohorts.apply(lambda x: x.str.replace('nan',''))"
   ],
   "outputs": [],
   "metadata": {}
  },
  {
   "cell_type": "code",
   "execution_count": null,
   "source": [
    "cohorts.to_clipboard()"
   ],
   "outputs": [],
   "metadata": {}
  }
 ],
 "metadata": {
  "kernelspec": {
   "name": "python3",
   "display_name": "Python 3.8.5 64-bit ('base': conda)"
  },
  "language_info": {
   "codemirror_mode": {
    "name": "ipython",
    "version": 3
   },
   "file_extension": ".py",
   "mimetype": "text/x-python",
   "name": "python",
   "nbconvert_exporter": "python",
   "pygments_lexer": "ipython3",
   "version": "3.8.5"
  },
  "interpreter": {
   "hash": "03daa801a6ac9ad48cff95a62c7eae7868ae8adc816431dbf898cb359b759f5b"
  }
 },
 "nbformat": 4,
 "nbformat_minor": 4
}
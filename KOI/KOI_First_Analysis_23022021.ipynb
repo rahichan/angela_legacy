{
 "cells": [
  {
   "cell_type": "code",
   "execution_count": 2,
   "metadata": {},
   "outputs": [
    {
     "name": "stdout",
     "output_type": "stream",
     "text": [
      "Collecting plotly\n",
      "  Downloading plotly-4.14.3-py2.py3-none-any.whl (13.2 MB)\n",
      "Collecting retrying>=1.3.3\n",
      "  Downloading retrying-1.3.3.tar.gz (10 kB)\n",
      "Requirement already satisfied: six in c:\\users\\angela\\anaconda3\\lib\\site-packages (from plotly) (1.15.0)\n",
      "Building wheels for collected packages: retrying\n",
      "  Building wheel for retrying (setup.py): started\n",
      "  Building wheel for retrying (setup.py): finished with status 'done'\n",
      "  Created wheel for retrying: filename=retrying-1.3.3-py3-none-any.whl size=11434 sha256=94a8bfec2ad0e3a2cfbb9baa06c0c37b1fcf579f57764e3a108932d39b9c696b\n",
      "  Stored in directory: c:\\users\\angela\\appdata\\local\\pip\\cache\\wheels\\c4\\a7\\48\\0a434133f6d56e878ca511c0e6c38326907c0792f67b476e56\n",
      "Successfully built retrying\n",
      "Installing collected packages: retrying, plotly\n",
      "Successfully installed plotly-4.14.3 retrying-1.3.3\n"
     ]
    }
   ],
   "source": [
    "!pip install plotly"
   ]
  },
  {
   "cell_type": "code",
   "execution_count": 4,
   "metadata": {},
   "outputs": [
    {
     "name": "stdout",
     "output_type": "stream",
     "text": [
      "Collecting chart_studio\n",
      "  Downloading chart_studio-1.1.0-py3-none-any.whl (64 kB)\n",
      "Requirement already satisfied: retrying>=1.3.3 in c:\\users\\angela\\anaconda3\\lib\\site-packages (from chart_studio) (1.3.3)\n",
      "Requirement already satisfied: six in c:\\users\\angela\\anaconda3\\lib\\site-packages (from chart_studio) (1.15.0)\n",
      "Requirement already satisfied: requests in c:\\users\\angela\\anaconda3\\lib\\site-packages (from chart_studio) (2.24.0)\n",
      "Requirement already satisfied: plotly in c:\\users\\angela\\anaconda3\\lib\\site-packages (from chart_studio) (4.14.3)\n",
      "Requirement already satisfied: idna<3,>=2.5 in c:\\users\\angela\\anaconda3\\lib\\site-packages (from requests->chart_studio) (2.10)\n",
      "Requirement already satisfied: chardet<4,>=3.0.2 in c:\\users\\angela\\anaconda3\\lib\\site-packages (from requests->chart_studio) (3.0.4)\n",
      "Requirement already satisfied: certifi>=2017.4.17 in c:\\users\\angela\\anaconda3\\lib\\site-packages (from requests->chart_studio) (2020.6.20)\n",
      "Requirement already satisfied: urllib3!=1.25.0,!=1.25.1,<1.26,>=1.21.1 in c:\\users\\angela\\anaconda3\\lib\\site-packages (from requests->chart_studio) (1.25.11)\n",
      "Installing collected packages: chart-studio\n",
      "Successfully installed chart-studio-1.1.0\n"
     ]
    }
   ],
   "source": [
    "!pip install chart_studio"
   ]
  },
  {
   "cell_type": "code",
   "execution_count": 5,
   "metadata": {},
   "outputs": [],
   "source": [
    "import pandas as pd\n",
    "import plotly.express as px\n",
    "import numpy as np\n",
    "import matplotlib.pyplot as plt\n",
    "import seaborn as sns\n",
    "import chart_studio.plotly as py\n",
    "import plotly.offline as pyoff\n",
    "import plotly.graph_objs as go\n",
    "from plotly.subplots import make_subplots"
   ]
  },
  {
   "cell_type": "code",
   "execution_count": 6,
   "metadata": {},
   "outputs": [],
   "source": [
    "pd.set_option('display.max_columns', None)"
   ]
  },
  {
   "cell_type": "code",
   "execution_count": 7,
   "metadata": {},
   "outputs": [
    {
     "name": "stderr",
     "output_type": "stream",
     "text": [
      "C:\\Users\\Angela\\anaconda3\\lib\\site-packages\\IPython\\core\\interactiveshell.py:3146: DtypeWarning:\n",
      "\n",
      "Columns (31,41,44,69,70) have mixed types.Specify dtype option on import or set low_memory=False.\n",
      "\n"
     ]
    }
   ],
   "source": [
    "orders = pd.read_csv('./Data/orders_export.csv')"
   ]
  },
  {
   "cell_type": "code",
   "execution_count": 8,
   "metadata": {
    "scrolled": true
   },
   "outputs": [
    {
     "data": {
      "text/plain": [
       "array(['paid', nan, 'partially_refunded', 'refunded', 'pending'],\n",
       "      dtype=object)"
      ]
     },
     "execution_count": 8,
     "metadata": {},
     "output_type": "execute_result"
    }
   ],
   "source": [
    "orders['Financial Status'].unique()"
   ]
  },
  {
   "cell_type": "code",
   "execution_count": 9,
   "metadata": {},
   "outputs": [],
   "source": [
    "orders_1 = pd.read_csv('./Data/orders_export_1.csv')\n",
    "orders_2 = pd.read_csv('./Data/orders_export_2.csv')"
   ]
  },
  {
   "cell_type": "code",
   "execution_count": 10,
   "metadata": {},
   "outputs": [],
   "source": [
    "orders_com = orders_1.append(orders_2, ignore_index=True)"
   ]
  },
  {
   "cell_type": "code",
   "execution_count": 11,
   "metadata": {
    "scrolled": true
   },
   "outputs": [
    {
     "data": {
      "text/plain": [
       "array(['paid', nan, 'refunded', 'partially_refunded', 'pending', 'voided'],\n",
       "      dtype=object)"
      ]
     },
     "execution_count": 11,
     "metadata": {},
     "output_type": "execute_result"
    }
   ],
   "source": [
    "orders_com['Financial Status'].unique()"
   ]
  },
  {
   "cell_type": "code",
   "execution_count": 12,
   "metadata": {},
   "outputs": [],
   "source": [
    "orders['Order_Date'] = pd.to_datetime(orders['Created at'], format=\"%Y-%m-%d %H:%M:%S %z\", utc=True)\n",
    "orders['Date'] = pd.to_datetime(orders['Order_Date'].dt.date)\n",
    "orders['Date_YM'] = orders['Date'].apply(lambda x: x.strftime('%Y-%m'))"
   ]
  },
  {
   "cell_type": "code",
   "execution_count": 13,
   "metadata": {},
   "outputs": [],
   "source": [
    "orders_com['Order_Date'] = pd.to_datetime(orders_com['Created at'], format=\"%Y-%m-%d %H:%M:%S %z\", utc=True)\n",
    "orders_com['Date'] = pd.to_datetime(orders_com['Order_Date'].dt.date)\n",
    "orders_com['Date_YM'] = orders_com['Date'].apply(lambda x: x.strftime('%Y-%m'))"
   ]
  },
  {
   "cell_type": "code",
   "execution_count": 14,
   "metadata": {},
   "outputs": [],
   "source": [
    "summary_de = orders.groupby(['Date_YM', 'Billing Country']).agg({'Subtotal':pd.Series.sum, 'Shipping':pd.Series.sum, 'Taxes':pd.Series.sum, 'Total':pd.Series.sum, 'Discount Amount':pd.Series.sum, 'Refunded Amount':pd.Series.sum}).reset_index()\n",
    "summary_com = orders_com.groupby(['Date_YM', 'Billing Country']).agg({'Subtotal':pd.Series.sum, 'Shipping':pd.Series.sum, 'Taxes':pd.Series.sum, 'Total':pd.Series.sum, 'Discount Amount':pd.Series.sum, 'Refunded Amount':pd.Series.sum}).reset_index()"
   ]
  },
  {
   "cell_type": "code",
   "execution_count": 15,
   "metadata": {},
   "outputs": [],
   "source": [
    "summary_de['TO_EXSHIP_EXVAT'] = summary_de['Subtotal'] - summary_de['Taxes']\n",
    "summary_com['TO_EXSHIP_EXVAT'] = summary_com['Subtotal'] - summary_com['Taxes']"
   ]
  },
  {
   "cell_type": "code",
   "execution_count": 16,
   "metadata": {},
   "outputs": [],
   "source": [
    "summary_de['TO_EXSHIP_EXVAT_EXRET'] = summary_de['TO_EXSHIP_EXVAT'] - summary_de['Refunded Amount']\n",
    "summary_com['TO_EXSHIP_EXVAT_EXRET'] = summary_com['TO_EXSHIP_EXVAT'] - summary_com['Refunded Amount']"
   ]
  },
  {
   "cell_type": "code",
   "execution_count": 17,
   "metadata": {},
   "outputs": [],
   "source": [
    "summary_de.to_clipboard(decimal=',', index=False)"
   ]
  },
  {
   "cell_type": "code",
   "execution_count": 18,
   "metadata": {},
   "outputs": [],
   "source": [
    "summary_com.to_clipboard(decimal=',', index=False)"
   ]
  },
  {
   "cell_type": "code",
   "execution_count": 21,
   "metadata": {},
   "outputs": [
    {
     "data": {
      "text/html": [
       "<div>\n",
       "<style scoped>\n",
       "    .dataframe tbody tr th:only-of-type {\n",
       "        vertical-align: middle;\n",
       "    }\n",
       "\n",
       "    .dataframe tbody tr th {\n",
       "        vertical-align: top;\n",
       "    }\n",
       "\n",
       "    .dataframe thead th {\n",
       "        text-align: right;\n",
       "    }\n",
       "</style>\n",
       "<table border=\"1\" class=\"dataframe\">\n",
       "  <thead>\n",
       "    <tr style=\"text-align: right;\">\n",
       "      <th></th>\n",
       "      <th>Date_YM</th>\n",
       "      <th>Billing Country</th>\n",
       "      <th>Subtotal</th>\n",
       "      <th>Shipping</th>\n",
       "      <th>Taxes</th>\n",
       "      <th>Total</th>\n",
       "      <th>Discount Amount</th>\n",
       "      <th>Refunded Amount</th>\n",
       "      <th>TO_EXSHIP_EXVAT</th>\n",
       "      <th>TO_EXSHIP_EXVAT_EXRET</th>\n",
       "    </tr>\n",
       "  </thead>\n",
       "  <tbody>\n",
       "    <tr>\n",
       "      <th>0</th>\n",
       "      <td>2019-12</td>\n",
       "      <td>AT</td>\n",
       "      <td>154.90</td>\n",
       "      <td>9.0</td>\n",
       "      <td>0.0</td>\n",
       "      <td>163.90</td>\n",
       "      <td>0.00</td>\n",
       "      <td>29.98</td>\n",
       "      <td>154.90</td>\n",
       "      <td>124.92</td>\n",
       "    </tr>\n",
       "    <tr>\n",
       "      <th>1</th>\n",
       "      <td>2019-12</td>\n",
       "      <td>DE</td>\n",
       "      <td>18159.65</td>\n",
       "      <td>203.5</td>\n",
       "      <td>470.3</td>\n",
       "      <td>18363.15</td>\n",
       "      <td>111.98</td>\n",
       "      <td>8536.57</td>\n",
       "      <td>17689.35</td>\n",
       "      <td>9152.78</td>\n",
       "    </tr>\n",
       "  </tbody>\n",
       "</table>\n",
       "</div>"
      ],
      "text/plain": [
       "   Date_YM Billing Country  Subtotal  Shipping  Taxes     Total  \\\n",
       "0  2019-12              AT    154.90       9.0    0.0    163.90   \n",
       "1  2019-12              DE  18159.65     203.5  470.3  18363.15   \n",
       "\n",
       "   Discount Amount  Refunded Amount  TO_EXSHIP_EXVAT  TO_EXSHIP_EXVAT_EXRET  \n",
       "0             0.00            29.98           154.90                 124.92  \n",
       "1           111.98          8536.57         17689.35                9152.78  "
      ]
     },
     "execution_count": 21,
     "metadata": {},
     "output_type": "execute_result"
    }
   ],
   "source": [
    "summary_de.head(2)"
   ]
  },
  {
   "cell_type": "code",
   "execution_count": 22,
   "metadata": {},
   "outputs": [
    {
     "data": {
      "text/html": [
       "<div>\n",
       "<style scoped>\n",
       "    .dataframe tbody tr th:only-of-type {\n",
       "        vertical-align: middle;\n",
       "    }\n",
       "\n",
       "    .dataframe tbody tr th {\n",
       "        vertical-align: top;\n",
       "    }\n",
       "\n",
       "    .dataframe thead th {\n",
       "        text-align: right;\n",
       "    }\n",
       "</style>\n",
       "<table border=\"1\" class=\"dataframe\">\n",
       "  <thead>\n",
       "    <tr style=\"text-align: right;\">\n",
       "      <th></th>\n",
       "      <th>Date_YM</th>\n",
       "      <th>Billing Country</th>\n",
       "      <th>Subtotal</th>\n",
       "      <th>Shipping</th>\n",
       "      <th>Taxes</th>\n",
       "      <th>Total</th>\n",
       "      <th>Discount Amount</th>\n",
       "      <th>Refunded Amount</th>\n",
       "      <th>TO_EXSHIP_EXVAT</th>\n",
       "      <th>TO_EXSHIP_EXVAT_EXRET</th>\n",
       "    </tr>\n",
       "  </thead>\n",
       "  <tbody>\n",
       "    <tr>\n",
       "      <th>0</th>\n",
       "      <td>2018-08</td>\n",
       "      <td>NL</td>\n",
       "      <td>1874.12</td>\n",
       "      <td>3.95</td>\n",
       "      <td>325.26</td>\n",
       "      <td>1878.07</td>\n",
       "      <td>0.00</td>\n",
       "      <td>0.0</td>\n",
       "      <td>1548.86</td>\n",
       "      <td>1548.86</td>\n",
       "    </tr>\n",
       "    <tr>\n",
       "      <th>1</th>\n",
       "      <td>2018-09</td>\n",
       "      <td>NL</td>\n",
       "      <td>683.25</td>\n",
       "      <td>19.75</td>\n",
       "      <td>118.59</td>\n",
       "      <td>699.05</td>\n",
       "      <td>252.37</td>\n",
       "      <td>0.0</td>\n",
       "      <td>564.66</td>\n",
       "      <td>564.66</td>\n",
       "    </tr>\n",
       "  </tbody>\n",
       "</table>\n",
       "</div>"
      ],
      "text/plain": [
       "   Date_YM Billing Country  Subtotal  Shipping   Taxes    Total  \\\n",
       "0  2018-08              NL   1874.12      3.95  325.26  1878.07   \n",
       "1  2018-09              NL    683.25     19.75  118.59   699.05   \n",
       "\n",
       "   Discount Amount  Refunded Amount  TO_EXSHIP_EXVAT  TO_EXSHIP_EXVAT_EXRET  \n",
       "0             0.00              0.0          1548.86                1548.86  \n",
       "1           252.37              0.0           564.66                 564.66  "
      ]
     },
     "execution_count": 22,
     "metadata": {},
     "output_type": "execute_result"
    }
   ],
   "source": [
    "summary_com.head(2)"
   ]
  },
  {
   "cell_type": "markdown",
   "metadata": {},
   "source": [
    "### Find the return rate of 35% at brand level"
   ]
  },
  {
   "cell_type": "code",
   "execution_count": 90,
   "metadata": {},
   "outputs": [
    {
     "name": "stderr",
     "output_type": "stream",
     "text": [
      "<ipython-input-90-8869850c4b74>:1: UserWarning:\n",
      "\n",
      "Boolean Series key will be reindexed to match DataFrame index.\n",
      "\n",
      "<ipython-input-90-8869850c4b74>:2: UserWarning:\n",
      "\n",
      "Boolean Series key will be reindexed to match DataFrame index.\n",
      "\n"
     ]
    },
    {
     "data": {
      "text/plain": [
       "0.5010962064970836"
      ]
     },
     "execution_count": 90,
     "metadata": {},
     "output_type": "execute_result"
    }
   ],
   "source": [
    "refund_total = summary_de[summary_de['Date_YM']>= '2020-01'][summary_de['Date_YM'] < '2021-01']['Refunded Amount'].sum() \n",
    "TO = summary_de[summary_de['Date_YM']>= '2020-01'][summary_de['Date_YM'] < '2021-01']['TO_EXSHIP_EXVAT'].sum()\n",
    "refund_total / TO "
   ]
  },
  {
   "cell_type": "code",
   "execution_count": 110,
   "metadata": {},
   "outputs": [
    {
     "name": "stderr",
     "output_type": "stream",
     "text": [
      "<ipython-input-110-ef728d4ebebb>:1: UserWarning:\n",
      "\n",
      "Boolean Series key will be reindexed to match DataFrame index.\n",
      "\n",
      "<ipython-input-110-ef728d4ebebb>:2: UserWarning:\n",
      "\n",
      "Boolean Series key will be reindexed to match DataFrame index.\n",
      "\n"
     ]
    }
   ],
   "source": [
    "refund_TX = orders[orders['Date'] >= '2020-01-01'][orders['Date']<'2021-01-01'][orders['Billing Country'].isin(['DE', 'AT', 'CH'])][orders['Financial Status'].isin(['partially_refunded', 'refunded'])]['Name'].nunique()\n",
    "all_TX = orders[orders['Date'] >= '2020-01-01'][orders['Date']<'2021-01-01'][orders['Billing Country'].isin(['DE', 'AT', 'CH'])][orders['Financial Status'].isin(['paid', 'partially_refunded', 'refunded'])]['Name'].nunique()\n"
   ]
  },
  {
   "cell_type": "code",
   "execution_count": 111,
   "metadata": {},
   "outputs": [
    {
     "data": {
      "text/plain": [
       "0.415167865707434"
      ]
     },
     "execution_count": 111,
     "metadata": {},
     "output_type": "execute_result"
    }
   ],
   "source": [
    "refund_TX / all_TX"
   ]
  },
  {
   "cell_type": "code",
   "execution_count": 103,
   "metadata": {},
   "outputs": [
    {
     "data": {
      "text/plain": [
       "0.41438763376932225"
      ]
     },
     "execution_count": 103,
     "metadata": {},
     "output_type": "execute_result"
    }
   ],
   "source": [
    "refund_TX / all_TX"
   ]
  },
  {
   "cell_type": "code",
   "execution_count": 104,
   "metadata": {},
   "outputs": [
    {
     "name": "stderr",
     "output_type": "stream",
     "text": [
      "<ipython-input-104-0417e2c09336>:1: UserWarning:\n",
      "\n",
      "Boolean Series key will be reindexed to match DataFrame index.\n",
      "\n",
      "<ipython-input-104-0417e2c09336>:2: UserWarning:\n",
      "\n",
      "Boolean Series key will be reindexed to match DataFrame index.\n",
      "\n"
     ]
    },
    {
     "data": {
      "text/plain": [
       "0.3614678899082569"
      ]
     },
     "execution_count": 104,
     "metadata": {},
     "output_type": "execute_result"
    }
   ],
   "source": [
    "refund_TX_com = orders_com[orders_com['Date'] >= '2020-01-01'][orders_com['Date']<'2021-01-01'][orders_com['Financial Status'].isin(['partially_refunded', 'refunded'])]['Name'].nunique()\n",
    "all_TX_com = orders_com[orders_com['Date'] >= '2020-01-01'][orders_com['Date']<'2021-01-01'][orders_com['Financial Status'].isin(['paid', 'partially_refunded', 'refunded'])]['Name'].nunique()\n",
    "refund_TX_com / all_TX_com"
   ]
  },
  {
   "cell_type": "code",
   "execution_count": 108,
   "metadata": {},
   "outputs": [
    {
     "name": "stderr",
     "output_type": "stream",
     "text": [
      "<ipython-input-108-f47bfe02ab8c>:1: UserWarning:\n",
      "\n",
      "Boolean Series key will be reindexed to match DataFrame index.\n",
      "\n",
      "<ipython-input-108-f47bfe02ab8c>:2: UserWarning:\n",
      "\n",
      "Boolean Series key will be reindexed to match DataFrame index.\n",
      "\n"
     ]
    },
    {
     "data": {
      "text/plain": [
       "0.34392265193370164"
      ]
     },
     "execution_count": 108,
     "metadata": {},
     "output_type": "execute_result"
    }
   ],
   "source": [
    "refund_TX_com = orders_com[orders_com['Date'] >= '2020-01-01'][orders_com['Date']<'2021-01-01'][orders_com['Billing Country'].isin(['DE', 'AT', 'CH'])][orders_com['Financial Status'].isin(['partially_refunded', 'refunded'])]['Name'].nunique()\n",
    "all_TX_com = orders_com[orders_com['Date'] >= '2020-01-01'][orders_com['Date']<'2021-01-01'][orders_com['Billing Country'].isin(['DE', 'AT', 'CH'])][orders_com['Financial Status'].isin(['paid', 'partially_refunded', 'refunded'])]['Name'].nunique()\n",
    "refund_TX_com / all_TX_com"
   ]
  },
  {
   "cell_type": "markdown",
   "metadata": {},
   "source": [
    "Apparently on the .com site, the percentage of refund transactions is 36.14%"
   ]
  },
  {
   "cell_type": "code",
   "execution_count": 105,
   "metadata": {},
   "outputs": [
    {
     "name": "stderr",
     "output_type": "stream",
     "text": [
      "<ipython-input-105-6c7fce056eab>:1: UserWarning:\n",
      "\n",
      "Boolean Series key will be reindexed to match DataFrame index.\n",
      "\n",
      "<ipython-input-105-6c7fce056eab>:2: UserWarning:\n",
      "\n",
      "Boolean Series key will be reindexed to match DataFrame index.\n",
      "\n"
     ]
    },
    {
     "data": {
      "text/plain": [
       "0.42170861956583394"
      ]
     },
     "execution_count": 105,
     "metadata": {},
     "output_type": "execute_result"
    }
   ],
   "source": [
    "refund_total_com = summary_com[summary_com['Date_YM']>= '2020-01'][summary_com['Date_YM'] < '2021-01']['Refunded Amount'].sum() \n",
    "TO_com = summary_com[summary_com['Date_YM']>= '2020-01'][summary_com['Date_YM'] < '2021-01']['TO_EXSHIP_EXVAT'].sum()\n",
    "refund_total_com / TO_com"
   ]
  },
  {
   "cell_type": "code",
   "execution_count": 109,
   "metadata": {},
   "outputs": [
    {
     "name": "stderr",
     "output_type": "stream",
     "text": [
      "<ipython-input-109-b577a625be2b>:1: UserWarning:\n",
      "\n",
      "Boolean Series key will be reindexed to match DataFrame index.\n",
      "\n"
     ]
    },
    {
     "data": {
      "text/plain": [
       "3812     100020700\n",
       "3838     100020682\n",
       "3858     100020668\n",
       "3862     100020664\n",
       "3969     100020589\n",
       "           ...    \n",
       "21454    100011593\n",
       "21470    100011585\n",
       "21503    100011571\n",
       "21520    100011563\n",
       "21526    100011560\n",
       "Name: Name, Length: 498, dtype: object"
      ]
     },
     "execution_count": 109,
     "metadata": {},
     "output_type": "execute_result"
    }
   ],
   "source": [
    "orders_com[orders_com['Date'] >= '2020-01-01'][orders_com['Date']<'2021-01-01'][orders_com['Billing Country'].isin(['DE', 'AT', 'CH'])][orders_com['Financial Status'].isin(['partially_refunded', 'refunded'])]['Name']"
   ]
  },
  {
   "cell_type": "code",
   "execution_count": null,
   "metadata": {},
   "outputs": [],
   "source": []
  }
 ],
 "metadata": {
  "kernelspec": {
   "display_name": "Python 3",
   "language": "python",
   "name": "python3"
  },
  "language_info": {
   "codemirror_mode": {
    "name": "ipython",
    "version": 3
   },
   "file_extension": ".py",
   "mimetype": "text/x-python",
   "name": "python",
   "nbconvert_exporter": "python",
   "pygments_lexer": "ipython3",
   "version": "3.8.5"
  }
 },
 "nbformat": 4,
 "nbformat_minor": 4
}

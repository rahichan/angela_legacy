{
 "cells": [
  {
   "cell_type": "code",
   "execution_count": 3,
   "source": [
    "import pandas as pd\r\n",
    "import numpy as np\r\n",
    "import matplotlib.pyplot as plt\r\n",
    "import seaborn as sns\r\n",
    "import chart_studio.plotly as py\r\n",
    "import plotly.offline as pyoff\r\n",
    "import plotly.graph_objs as go\r\n",
    "from plotly.subplots import make_subplots\r\n",
    "import mysql.connector\r\n",
    "from mysql.connector import Error"
   ],
   "outputs": [],
   "metadata": {}
  },
  {
   "cell_type": "code",
   "execution_count": 8,
   "source": [
    "query_return_table = 'SELECT t.Conv_Date AS \"Observation\", COUNT(Conv_ID) AS \"Total_Orders\", COUNT(CASE WHEN t.Customer_Type = \"Returning\" THEN Conv_ID END) AS \"Returning_Orders\", COUNT(CASE WHEN t.Customer_Type = \"Returning\" THEN Conv_ID END)/COUNT(Conv_ID) AS \"Repurchase Rate\" FROM ( SELECT aso.Hashed_Email, aso.Conv_Date, aso.Conv_ID, CASE WHEN aso.Conv_Date = first_orders.first_date THEN \"New\" ELSE \"Returning\" END AS \"Customer_Type\" FROM api_shopify.api_shopify_orders aso JOIN ( SELECT Hashed_Email, MIN(Conv_Date) AS \"first_date\" FROM api_shopify.api_shopify_orders aso WHERE Account = \"KOI\" AND Status != \"cancelled\" GROUP BY 1) AS first_orders ON first_orders.Hashed_Email = aso.Hashed_Email WHERE Account = \"KOI\" AND Status != \"cancelled\") AS t GROUP BY 1;'\r\n",
    "\r\n",
    "query_rfm_table = 'SELECT Hashed_Email, COUNT(Conv_Number) AS \"frequency\", DATEDIFF(CURDATE(),MAX(Conv_Date)) AS \"recency\", AVG(Revenue_excl_VAT) AS \"monetary_value\" FROM api_shopify.api_shopify_orders aso WHERE Account = \"KOI\" AND Status != \"cancelled\" GROUP BY 1'"
   ],
   "outputs": [],
   "metadata": {}
  },
  {
   "cell_type": "code",
   "execution_count": 9,
   "source": [
    "try:\r\n",
    "    connection = mysql.connector.connect(host='attribution-system-fsg-new.cob86lv75rzo.eu-west-1.rds.amazonaws.com',\r\n",
    "                                         database='api_shopify',\r\n",
    "                                         user='fsg',\r\n",
    "                                         password='Attribution3.0')\r\n",
    "\r\n",
    "    if connection.is_connected():\r\n",
    "        db_Info = connection.get_server_info()\r\n",
    "        print(\"Connected to MySQL Server version \", db_Info)\r\n",
    "        cursor = connection.cursor()\r\n",
    "        cursor.execute(\"select database();\")\r\n",
    "        record = cursor.fetchone()\r\n",
    "        print(\"Your connected to database: \", record)\r\n",
    "        df_return = pd.read_sql(query_return_table,con=connection)\r\n",
    "        df_rfm = pd.read_sql(query_rfm_table,con=connection)\r\n",
    "\r\n",
    "except Error as e:\r\n",
    "    print(\"Error while connecting to MySQL\", e)\r\n",
    "finally:\r\n",
    "    if (connection.is_connected()):\r\n",
    "        cursor.close()\r\n",
    "        connection.close()\r\n",
    "        print(\"MySQL connection is closed\")"
   ],
   "outputs": [
    {
     "output_type": "stream",
     "name": "stdout",
     "text": [
      "Connected to MySQL Server version  8.0.16\n",
      "Your connected to database:  ('api_shopify',)\n",
      "MySQL connection is closed\n"
     ]
    }
   ],
   "metadata": {}
  },
  {
   "cell_type": "code",
   "execution_count": 10,
   "source": [
    "df_return.shape, df_rfm.shape"
   ],
   "outputs": [
    {
     "output_type": "execute_result",
     "data": {
      "text/plain": [
       "((149, 4), (4868, 4))"
      ]
     },
     "metadata": {},
     "execution_count": 10
    }
   ],
   "metadata": {}
  },
  {
   "cell_type": "code",
   "execution_count": 11,
   "source": [
    "df_rfm"
   ],
   "outputs": [
    {
     "output_type": "execute_result",
     "data": {
      "text/plain": [
       "                          Hashed_Email  frequency  recency  monetary_value\n",
       "0     92e5a2ad72fea6f16ebf1cebaa77edaa          1      149          231.38\n",
       "1     20cd2ee869a4ca3fb643c556db4116fa          1      149          166.10\n",
       "2     489ce68244dcb32e63465fe59c4f1c92          1      149           69.26\n",
       "3     de6a808e6cd5b0a5243c9eb2c8173a0c          1      149          191.91\n",
       "4     305a1f94fe8ba02030af6ae34d4e94d3          2      134          128.42\n",
       "...                                ...        ...      ...             ...\n",
       "4863  b0cc83c7861ebc95ad655a2cbc5983ba          1        1          875.96\n",
       "4864  610ed672a5f20989c9c9df39bba18479          1        1           83.99\n",
       "4865  29d1ef073bee06bcc5f1aa53aa352231          1        1           66.62\n",
       "4866  f46306cde68e1294ff663192f7c2dd29          1        1           61.01\n",
       "4867  09d233dec80fc0caada590ae3e5294fb          1        1          419.97\n",
       "\n",
       "[4868 rows x 4 columns]"
      ],
      "text/html": [
       "<div>\n",
       "<style scoped>\n",
       "    .dataframe tbody tr th:only-of-type {\n",
       "        vertical-align: middle;\n",
       "    }\n",
       "\n",
       "    .dataframe tbody tr th {\n",
       "        vertical-align: top;\n",
       "    }\n",
       "\n",
       "    .dataframe thead th {\n",
       "        text-align: right;\n",
       "    }\n",
       "</style>\n",
       "<table border=\"1\" class=\"dataframe\">\n",
       "  <thead>\n",
       "    <tr style=\"text-align: right;\">\n",
       "      <th></th>\n",
       "      <th>Hashed_Email</th>\n",
       "      <th>frequency</th>\n",
       "      <th>recency</th>\n",
       "      <th>monetary_value</th>\n",
       "    </tr>\n",
       "  </thead>\n",
       "  <tbody>\n",
       "    <tr>\n",
       "      <th>0</th>\n",
       "      <td>92e5a2ad72fea6f16ebf1cebaa77edaa</td>\n",
       "      <td>1</td>\n",
       "      <td>149</td>\n",
       "      <td>231.38</td>\n",
       "    </tr>\n",
       "    <tr>\n",
       "      <th>1</th>\n",
       "      <td>20cd2ee869a4ca3fb643c556db4116fa</td>\n",
       "      <td>1</td>\n",
       "      <td>149</td>\n",
       "      <td>166.10</td>\n",
       "    </tr>\n",
       "    <tr>\n",
       "      <th>2</th>\n",
       "      <td>489ce68244dcb32e63465fe59c4f1c92</td>\n",
       "      <td>1</td>\n",
       "      <td>149</td>\n",
       "      <td>69.26</td>\n",
       "    </tr>\n",
       "    <tr>\n",
       "      <th>3</th>\n",
       "      <td>de6a808e6cd5b0a5243c9eb2c8173a0c</td>\n",
       "      <td>1</td>\n",
       "      <td>149</td>\n",
       "      <td>191.91</td>\n",
       "    </tr>\n",
       "    <tr>\n",
       "      <th>4</th>\n",
       "      <td>305a1f94fe8ba02030af6ae34d4e94d3</td>\n",
       "      <td>2</td>\n",
       "      <td>134</td>\n",
       "      <td>128.42</td>\n",
       "    </tr>\n",
       "    <tr>\n",
       "      <th>...</th>\n",
       "      <td>...</td>\n",
       "      <td>...</td>\n",
       "      <td>...</td>\n",
       "      <td>...</td>\n",
       "    </tr>\n",
       "    <tr>\n",
       "      <th>4863</th>\n",
       "      <td>b0cc83c7861ebc95ad655a2cbc5983ba</td>\n",
       "      <td>1</td>\n",
       "      <td>1</td>\n",
       "      <td>875.96</td>\n",
       "    </tr>\n",
       "    <tr>\n",
       "      <th>4864</th>\n",
       "      <td>610ed672a5f20989c9c9df39bba18479</td>\n",
       "      <td>1</td>\n",
       "      <td>1</td>\n",
       "      <td>83.99</td>\n",
       "    </tr>\n",
       "    <tr>\n",
       "      <th>4865</th>\n",
       "      <td>29d1ef073bee06bcc5f1aa53aa352231</td>\n",
       "      <td>1</td>\n",
       "      <td>1</td>\n",
       "      <td>66.62</td>\n",
       "    </tr>\n",
       "    <tr>\n",
       "      <th>4866</th>\n",
       "      <td>f46306cde68e1294ff663192f7c2dd29</td>\n",
       "      <td>1</td>\n",
       "      <td>1</td>\n",
       "      <td>61.01</td>\n",
       "    </tr>\n",
       "    <tr>\n",
       "      <th>4867</th>\n",
       "      <td>09d233dec80fc0caada590ae3e5294fb</td>\n",
       "      <td>1</td>\n",
       "      <td>1</td>\n",
       "      <td>419.97</td>\n",
       "    </tr>\n",
       "  </tbody>\n",
       "</table>\n",
       "<p>4868 rows × 4 columns</p>\n",
       "</div>"
      ]
     },
     "metadata": {},
     "execution_count": 11
    }
   ],
   "metadata": {}
  },
  {
   "cell_type": "code",
   "execution_count": 12,
   "source": [
    "# Purchase Frequency\r\n",
    "purchase_frequency=sum(df_rfm['frequency'])/df_rfm.shape[0]\r\n",
    "\r\n",
    "# Repeat Rate\r\n",
    "repeat_rate=df_rfm[df_rfm.frequency > 1].shape[0]/df_rfm.shape[0]\r\n",
    "\r\n",
    "# Churn Rate\r\n",
    "churn_rate=1-repeat_rate\r\n",
    "\r\n",
    "# Customer Value\r\n",
    "df_rfm['CLV']=(df_rfm['monetary_value']*purchase_frequency)/churn_rate"
   ],
   "outputs": [],
   "metadata": {}
  },
  {
   "cell_type": "code",
   "execution_count": 13,
   "source": [
    "df_rfm.quantile([.2, .4, .6, .8], axis=0)"
   ],
   "outputs": [
    {
     "output_type": "execute_result",
     "data": {
      "text/plain": [
       "     frequency  recency  monetary_value         CLV\n",
       "0.2        1.0     42.0       79.938000  101.193615\n",
       "0.4        1.0     75.0      118.106000  149.510535\n",
       "0.6        1.0     97.0      146.895334  185.954988\n",
       "0.8        1.0    122.0      223.120000  282.447890"
      ],
      "text/html": [
       "<div>\n",
       "<style scoped>\n",
       "    .dataframe tbody tr th:only-of-type {\n",
       "        vertical-align: middle;\n",
       "    }\n",
       "\n",
       "    .dataframe tbody tr th {\n",
       "        vertical-align: top;\n",
       "    }\n",
       "\n",
       "    .dataframe thead th {\n",
       "        text-align: right;\n",
       "    }\n",
       "</style>\n",
       "<table border=\"1\" class=\"dataframe\">\n",
       "  <thead>\n",
       "    <tr style=\"text-align: right;\">\n",
       "      <th></th>\n",
       "      <th>frequency</th>\n",
       "      <th>recency</th>\n",
       "      <th>monetary_value</th>\n",
       "      <th>CLV</th>\n",
       "    </tr>\n",
       "  </thead>\n",
       "  <tbody>\n",
       "    <tr>\n",
       "      <th>0.2</th>\n",
       "      <td>1.0</td>\n",
       "      <td>42.0</td>\n",
       "      <td>79.938000</td>\n",
       "      <td>101.193615</td>\n",
       "    </tr>\n",
       "    <tr>\n",
       "      <th>0.4</th>\n",
       "      <td>1.0</td>\n",
       "      <td>75.0</td>\n",
       "      <td>118.106000</td>\n",
       "      <td>149.510535</td>\n",
       "    </tr>\n",
       "    <tr>\n",
       "      <th>0.6</th>\n",
       "      <td>1.0</td>\n",
       "      <td>97.0</td>\n",
       "      <td>146.895334</td>\n",
       "      <td>185.954988</td>\n",
       "    </tr>\n",
       "    <tr>\n",
       "      <th>0.8</th>\n",
       "      <td>1.0</td>\n",
       "      <td>122.0</td>\n",
       "      <td>223.120000</td>\n",
       "      <td>282.447890</td>\n",
       "    </tr>\n",
       "  </tbody>\n",
       "</table>\n",
       "</div>"
      ]
     },
     "metadata": {},
     "execution_count": 13
    }
   ],
   "metadata": {}
  },
  {
   "cell_type": "code",
   "execution_count": 16,
   "source": [
    "purchase_frequency,repeat_rate,churn_rate"
   ],
   "outputs": [
    {
     "output_type": "execute_result",
     "data": {
      "text/plain": [
       "(3.9849101796407185, 0.7453892215568863, 0.25461077844311375)"
      ]
     },
     "metadata": {},
     "execution_count": 16
    }
   ],
   "metadata": {}
  },
  {
   "cell_type": "code",
   "execution_count": 17,
   "source": [
    "df_rfm.sample(5)"
   ],
   "outputs": [
    {
     "output_type": "execute_result",
     "data": {
      "text/plain": [
       "                          Hashed_Email  frequency  recency  monetary_value  \\\n",
       "2508  87747bb8919a88cc2685a7dbcb0c69a9          6      142           97.14   \n",
       "4163  f4bf07a4b020e98d4e25800e8e61536f          2        1           37.77   \n",
       "1362  0b4f299c8b5feab5ce7461e23f406eb3          1      248           23.11   \n",
       "2265  1b2f7e12b38483f7f9cb9ac36ea4bf2f          2      111           36.20   \n",
       "107   66de13eeb79e158915010dd2ea138585          6       76           34.72   \n",
       "\n",
       "              CLV  \n",
       "2508  1520.336952  \n",
       "4163   591.137808  \n",
       "1362   361.694327  \n",
       "2265   566.565757  \n",
       "107    543.402295  "
      ],
      "text/html": [
       "<div>\n",
       "<style scoped>\n",
       "    .dataframe tbody tr th:only-of-type {\n",
       "        vertical-align: middle;\n",
       "    }\n",
       "\n",
       "    .dataframe tbody tr th {\n",
       "        vertical-align: top;\n",
       "    }\n",
       "\n",
       "    .dataframe thead th {\n",
       "        text-align: right;\n",
       "    }\n",
       "</style>\n",
       "<table border=\"1\" class=\"dataframe\">\n",
       "  <thead>\n",
       "    <tr style=\"text-align: right;\">\n",
       "      <th></th>\n",
       "      <th>Hashed_Email</th>\n",
       "      <th>frequency</th>\n",
       "      <th>recency</th>\n",
       "      <th>monetary_value</th>\n",
       "      <th>CLV</th>\n",
       "    </tr>\n",
       "  </thead>\n",
       "  <tbody>\n",
       "    <tr>\n",
       "      <th>2508</th>\n",
       "      <td>87747bb8919a88cc2685a7dbcb0c69a9</td>\n",
       "      <td>6</td>\n",
       "      <td>142</td>\n",
       "      <td>97.14</td>\n",
       "      <td>1520.336952</td>\n",
       "    </tr>\n",
       "    <tr>\n",
       "      <th>4163</th>\n",
       "      <td>f4bf07a4b020e98d4e25800e8e61536f</td>\n",
       "      <td>2</td>\n",
       "      <td>1</td>\n",
       "      <td>37.77</td>\n",
       "      <td>591.137808</td>\n",
       "    </tr>\n",
       "    <tr>\n",
       "      <th>1362</th>\n",
       "      <td>0b4f299c8b5feab5ce7461e23f406eb3</td>\n",
       "      <td>1</td>\n",
       "      <td>248</td>\n",
       "      <td>23.11</td>\n",
       "      <td>361.694327</td>\n",
       "    </tr>\n",
       "    <tr>\n",
       "      <th>2265</th>\n",
       "      <td>1b2f7e12b38483f7f9cb9ac36ea4bf2f</td>\n",
       "      <td>2</td>\n",
       "      <td>111</td>\n",
       "      <td>36.20</td>\n",
       "      <td>566.565757</td>\n",
       "    </tr>\n",
       "    <tr>\n",
       "      <th>107</th>\n",
       "      <td>66de13eeb79e158915010dd2ea138585</td>\n",
       "      <td>6</td>\n",
       "      <td>76</td>\n",
       "      <td>34.72</td>\n",
       "      <td>543.402295</td>\n",
       "    </tr>\n",
       "  </tbody>\n",
       "</table>\n",
       "</div>"
      ]
     },
     "metadata": {},
     "execution_count": 17
    }
   ],
   "metadata": {}
  },
  {
   "cell_type": "code",
   "execution_count": 18,
   "source": [
    "df_rfm.recency.median()"
   ],
   "outputs": [
    {
     "output_type": "execute_result",
     "data": {
      "text/plain": [
       "133.0"
      ]
     },
     "metadata": {},
     "execution_count": 18
    }
   ],
   "metadata": {}
  },
  {
   "cell_type": "markdown",
   "source": [
    "## OTHER RFM STUFF"
   ],
   "metadata": {}
  },
  {
   "cell_type": "code",
   "execution_count": 54,
   "source": [
    "rfm['r_score'] = 0\r\n",
    "for d in range(len(rfm)):\r\n",
    "    if rfm.recency[d] < 60:\r\n",
    "        rfm['r_score'][d] = 5\r\n",
    "    elif rfm.recency[d] < 190:\r\n",
    "        rfm['r_score'][d] = 4\r\n",
    "    elif rfm.recency[d] < 400:\r\n",
    "        rfm['r_score'][d] = 3\r\n",
    "    elif rfm.recency[d] < 610:\r\n",
    "        rfm['r_score'][d] = 2\r\n",
    "    else:\r\n",
    "        rfm['r_score'][d] = 1\r\n"
   ],
   "outputs": [],
   "metadata": {}
  },
  {
   "cell_type": "code",
   "execution_count": 55,
   "source": [
    "rfm['f_score'] = 0\r\n",
    "for o in range(len(rfm)):\r\n",
    "    if rfm.frequency[o] == 1:\r\n",
    "        rfm['f_score'][o] = 1\r\n",
    "    elif rfm.frequency[o] == 2:\r\n",
    "        rfm['f_score'][o] = 2\r\n",
    "    elif rfm.frequency[o] == 3:\r\n",
    "        rfm['f_score'][o] = 3\r\n",
    "    elif rfm.frequency[o] == 4:\r\n",
    "        rfm['f_score'][o] = 4\r\n",
    "    else:\r\n",
    "        rfm['f_score'][o] = 5\r\n",
    "    "
   ],
   "outputs": [],
   "metadata": {}
  },
  {
   "cell_type": "code",
   "execution_count": 56,
   "source": [
    "rfm['m_score'] = 0\r\n",
    "for o in range(len(rfm)):\r\n",
    "    if rfm.monetary_value[o] < 33:\r\n",
    "        rfm['m_score'][o] = 1\r\n",
    "    elif rfm.monetary_value[o] < 43:\r\n",
    "        rfm['m_score'][o] = 2\r\n",
    "    elif rfm.monetary_value[o] < 50:\r\n",
    "        rfm['m_score'][o] = 3\r\n",
    "    elif rfm.monetary_value[o] < 61:\r\n",
    "        rfm['m_score'][o] = 4\r\n",
    "    else:\r\n",
    "        rfm['m_score'][o] = 5"
   ],
   "outputs": [],
   "metadata": {}
  },
  {
   "cell_type": "code",
   "execution_count": 58,
   "source": [
    "rfm['score_conc'] = ''\r\n",
    "for s in range(len(rfm)):\r\n",
    "    rfm['score_conc'][s] = str(rfm['r_score'][s])+str(rfm['f_score'][s])+str(rfm['m_score'][s])"
   ],
   "outputs": [],
   "metadata": {}
  },
  {
   "cell_type": "code",
   "execution_count": 59,
   "source": [
    "rfm.head()"
   ],
   "outputs": [
    {
     "output_type": "execute_result",
     "data": {
      "text/plain": [
       "                                   email  recency  frequency  monetary_value  \\\n",
       "0  003ppcs4s2vcj0q@marketplace.amazon.de      734          3       40.150000   \n",
       "1  009g57nc9rg76dy@marketplace.amazon.de       32         11       45.452727   \n",
       "2  00j89nxrhbft07k@marketplace.amazon.de     1060          1       44.810000   \n",
       "3  00jx5l3sntnj5p1@marketplace.amazon.de      847          1       23.830000   \n",
       "4  00sk0ls66hd2c5x@marketplace.amazon.de      958          2       27.050000   \n",
       "\n",
       "          CLV  r_score  f_score  m_score score_conc  \n",
       "0  312.997351        1        3        2        132  \n",
       "1  354.335821        5        5        3        553  \n",
       "2  349.325313        1        1        3        113  \n",
       "3  185.771529        1        1        1        111  \n",
       "4  210.873682        1        2        1        121  "
      ],
      "text/html": [
       "<div>\n",
       "<style scoped>\n",
       "    .dataframe tbody tr th:only-of-type {\n",
       "        vertical-align: middle;\n",
       "    }\n",
       "\n",
       "    .dataframe tbody tr th {\n",
       "        vertical-align: top;\n",
       "    }\n",
       "\n",
       "    .dataframe thead th {\n",
       "        text-align: right;\n",
       "    }\n",
       "</style>\n",
       "<table border=\"1\" class=\"dataframe\">\n",
       "  <thead>\n",
       "    <tr style=\"text-align: right;\">\n",
       "      <th></th>\n",
       "      <th>email</th>\n",
       "      <th>recency</th>\n",
       "      <th>frequency</th>\n",
       "      <th>monetary_value</th>\n",
       "      <th>CLV</th>\n",
       "      <th>r_score</th>\n",
       "      <th>f_score</th>\n",
       "      <th>m_score</th>\n",
       "      <th>score_conc</th>\n",
       "    </tr>\n",
       "  </thead>\n",
       "  <tbody>\n",
       "    <tr>\n",
       "      <th>0</th>\n",
       "      <td>003ppcs4s2vcj0q@marketplace.amazon.de</td>\n",
       "      <td>734</td>\n",
       "      <td>3</td>\n",
       "      <td>40.150000</td>\n",
       "      <td>312.997351</td>\n",
       "      <td>1</td>\n",
       "      <td>3</td>\n",
       "      <td>2</td>\n",
       "      <td>132</td>\n",
       "    </tr>\n",
       "    <tr>\n",
       "      <th>1</th>\n",
       "      <td>009g57nc9rg76dy@marketplace.amazon.de</td>\n",
       "      <td>32</td>\n",
       "      <td>11</td>\n",
       "      <td>45.452727</td>\n",
       "      <td>354.335821</td>\n",
       "      <td>5</td>\n",
       "      <td>5</td>\n",
       "      <td>3</td>\n",
       "      <td>553</td>\n",
       "    </tr>\n",
       "    <tr>\n",
       "      <th>2</th>\n",
       "      <td>00j89nxrhbft07k@marketplace.amazon.de</td>\n",
       "      <td>1060</td>\n",
       "      <td>1</td>\n",
       "      <td>44.810000</td>\n",
       "      <td>349.325313</td>\n",
       "      <td>1</td>\n",
       "      <td>1</td>\n",
       "      <td>3</td>\n",
       "      <td>113</td>\n",
       "    </tr>\n",
       "    <tr>\n",
       "      <th>3</th>\n",
       "      <td>00jx5l3sntnj5p1@marketplace.amazon.de</td>\n",
       "      <td>847</td>\n",
       "      <td>1</td>\n",
       "      <td>23.830000</td>\n",
       "      <td>185.771529</td>\n",
       "      <td>1</td>\n",
       "      <td>1</td>\n",
       "      <td>1</td>\n",
       "      <td>111</td>\n",
       "    </tr>\n",
       "    <tr>\n",
       "      <th>4</th>\n",
       "      <td>00sk0ls66hd2c5x@marketplace.amazon.de</td>\n",
       "      <td>958</td>\n",
       "      <td>2</td>\n",
       "      <td>27.050000</td>\n",
       "      <td>210.873682</td>\n",
       "      <td>1</td>\n",
       "      <td>2</td>\n",
       "      <td>1</td>\n",
       "      <td>121</td>\n",
       "    </tr>\n",
       "  </tbody>\n",
       "</table>\n",
       "</div>"
      ]
     },
     "metadata": {},
     "execution_count": 59
    }
   ],
   "metadata": {}
  },
  {
   "cell_type": "code",
   "execution_count": 69,
   "source": [
    "rfm['clv_score'] = ''\r\n",
    "for d in range(len(rfm)):\r\n",
    "    if rfm.CLV[d] < 215:\r\n",
    "        rfm['clv_score'][d] = \"Low\"\r\n",
    "    elif rfm.CLV[d] < 277:\r\n",
    "        rfm['clv_score'][d] = \"Mid-Low\"\r\n",
    "    elif rfm.CLV[d] < 320:\r\n",
    "        rfm['clv_score'][d] = \"Mid\"\r\n",
    "    elif rfm.CLV[d] < 386:\r\n",
    "        rfm['clv_score'][d] = \"Mid-High\"\r\n",
    "    elif rfm.CLV[d] >= 386:\r\n",
    "         rfm['clv_score'][d] = \"High\"\r\n"
   ],
   "outputs": [],
   "metadata": {}
  },
  {
   "cell_type": "code",
   "execution_count": 62,
   "source": [
    "promising = rfm[rfm['score_conc'].isin([\"525\", \"524\", \"523\", \"522\", \"521\", \"515\", \"514\", \"513\", \"425\", \"424\", \"413\", \"414\", \"415\", \"315\", \"314\", \"313\"])].loc[:,['email']]"
   ],
   "outputs": [],
   "metadata": {}
  },
  {
   "cell_type": "code",
   "execution_count": 66,
   "source": [
    "rfm[rfm['score_conc'].isin([\"525\", \"524\", \"523\", \"522\", \"521\", \"515\", \"514\", \"513\", \"425\", \"424\", \"413\", \"414\", \"415\", \"315\", \"314\", \"313\"])]"
   ],
   "outputs": [
    {
     "output_type": "execute_result",
     "data": {
      "text/plain": [
       "                                       email  recency  frequency  \\\n",
       "6      00w4f6c1l0dr8wr@marketplace.amazon.de       39          2   \n",
       "7      00y6n4lv9yxzn94@marketplace.amazon.de      343          1   \n",
       "51     05xzx8jgpk2xdy5@marketplace.amazon.de      115          1   \n",
       "54     06b2pyv78fyqq3d@marketplace.amazon.de       40          2   \n",
       "97     0d79hym02d70vj2@marketplace.amazon.de      196          1   \n",
       "...                                      ...      ...        ...   \n",
       "23468  zt03hsjr6gx8hqv@marketplace.amazon.de      197          1   \n",
       "23471  ztbr3mwpwl6zfr2@marketplace.amazon.de      266          1   \n",
       "23481                       zuechter1@gmx.de       10          1   \n",
       "23506          zwinger_von_itzenplitz@gmx.de      256          1   \n",
       "23518  zyc7k56ktbhyfxb@marketplace.amazon.de      331          1   \n",
       "\n",
       "       monetary_value         CLV  r_score  f_score  m_score score_conc  \\\n",
       "6              36.400  283.763476        5        2        2        522   \n",
       "7              57.710  449.889841        3        1        4        314   \n",
       "51             52.480  409.118331        4        1        4        414   \n",
       "54             49.485  385.770210        5        2        3        523   \n",
       "97             53.470  416.836074        3        1        4        314   \n",
       "...               ...         ...      ...      ...      ...        ...   \n",
       "23468          58.810  458.465111        3        1        4        314   \n",
       "23471          46.050  358.991980        3        1        3        313   \n",
       "23481         102.800  801.397950        5        1        5        515   \n",
       "23506         108.810  848.250106        3        1        5        315   \n",
       "23518          69.860  544.607595        3        1        5        315   \n",
       "\n",
       "      clv_score  \n",
       "6           Mid  \n",
       "7          High  \n",
       "51         High  \n",
       "54     Mid-High  \n",
       "97         High  \n",
       "...         ...  \n",
       "23468      High  \n",
       "23471  Mid-High  \n",
       "23481      High  \n",
       "23506      High  \n",
       "23518      High  \n",
       "\n",
       "[1531 rows x 10 columns]"
      ],
      "text/html": [
       "<div>\n",
       "<style scoped>\n",
       "    .dataframe tbody tr th:only-of-type {\n",
       "        vertical-align: middle;\n",
       "    }\n",
       "\n",
       "    .dataframe tbody tr th {\n",
       "        vertical-align: top;\n",
       "    }\n",
       "\n",
       "    .dataframe thead th {\n",
       "        text-align: right;\n",
       "    }\n",
       "</style>\n",
       "<table border=\"1\" class=\"dataframe\">\n",
       "  <thead>\n",
       "    <tr style=\"text-align: right;\">\n",
       "      <th></th>\n",
       "      <th>email</th>\n",
       "      <th>recency</th>\n",
       "      <th>frequency</th>\n",
       "      <th>monetary_value</th>\n",
       "      <th>CLV</th>\n",
       "      <th>r_score</th>\n",
       "      <th>f_score</th>\n",
       "      <th>m_score</th>\n",
       "      <th>score_conc</th>\n",
       "      <th>clv_score</th>\n",
       "    </tr>\n",
       "  </thead>\n",
       "  <tbody>\n",
       "    <tr>\n",
       "      <th>6</th>\n",
       "      <td>00w4f6c1l0dr8wr@marketplace.amazon.de</td>\n",
       "      <td>39</td>\n",
       "      <td>2</td>\n",
       "      <td>36.400</td>\n",
       "      <td>283.763476</td>\n",
       "      <td>5</td>\n",
       "      <td>2</td>\n",
       "      <td>2</td>\n",
       "      <td>522</td>\n",
       "      <td>Mid</td>\n",
       "    </tr>\n",
       "    <tr>\n",
       "      <th>7</th>\n",
       "      <td>00y6n4lv9yxzn94@marketplace.amazon.de</td>\n",
       "      <td>343</td>\n",
       "      <td>1</td>\n",
       "      <td>57.710</td>\n",
       "      <td>449.889841</td>\n",
       "      <td>3</td>\n",
       "      <td>1</td>\n",
       "      <td>4</td>\n",
       "      <td>314</td>\n",
       "      <td>High</td>\n",
       "    </tr>\n",
       "    <tr>\n",
       "      <th>51</th>\n",
       "      <td>05xzx8jgpk2xdy5@marketplace.amazon.de</td>\n",
       "      <td>115</td>\n",
       "      <td>1</td>\n",
       "      <td>52.480</td>\n",
       "      <td>409.118331</td>\n",
       "      <td>4</td>\n",
       "      <td>1</td>\n",
       "      <td>4</td>\n",
       "      <td>414</td>\n",
       "      <td>High</td>\n",
       "    </tr>\n",
       "    <tr>\n",
       "      <th>54</th>\n",
       "      <td>06b2pyv78fyqq3d@marketplace.amazon.de</td>\n",
       "      <td>40</td>\n",
       "      <td>2</td>\n",
       "      <td>49.485</td>\n",
       "      <td>385.770210</td>\n",
       "      <td>5</td>\n",
       "      <td>2</td>\n",
       "      <td>3</td>\n",
       "      <td>523</td>\n",
       "      <td>Mid-High</td>\n",
       "    </tr>\n",
       "    <tr>\n",
       "      <th>97</th>\n",
       "      <td>0d79hym02d70vj2@marketplace.amazon.de</td>\n",
       "      <td>196</td>\n",
       "      <td>1</td>\n",
       "      <td>53.470</td>\n",
       "      <td>416.836074</td>\n",
       "      <td>3</td>\n",
       "      <td>1</td>\n",
       "      <td>4</td>\n",
       "      <td>314</td>\n",
       "      <td>High</td>\n",
       "    </tr>\n",
       "    <tr>\n",
       "      <th>...</th>\n",
       "      <td>...</td>\n",
       "      <td>...</td>\n",
       "      <td>...</td>\n",
       "      <td>...</td>\n",
       "      <td>...</td>\n",
       "      <td>...</td>\n",
       "      <td>...</td>\n",
       "      <td>...</td>\n",
       "      <td>...</td>\n",
       "      <td>...</td>\n",
       "    </tr>\n",
       "    <tr>\n",
       "      <th>23468</th>\n",
       "      <td>zt03hsjr6gx8hqv@marketplace.amazon.de</td>\n",
       "      <td>197</td>\n",
       "      <td>1</td>\n",
       "      <td>58.810</td>\n",
       "      <td>458.465111</td>\n",
       "      <td>3</td>\n",
       "      <td>1</td>\n",
       "      <td>4</td>\n",
       "      <td>314</td>\n",
       "      <td>High</td>\n",
       "    </tr>\n",
       "    <tr>\n",
       "      <th>23471</th>\n",
       "      <td>ztbr3mwpwl6zfr2@marketplace.amazon.de</td>\n",
       "      <td>266</td>\n",
       "      <td>1</td>\n",
       "      <td>46.050</td>\n",
       "      <td>358.991980</td>\n",
       "      <td>3</td>\n",
       "      <td>1</td>\n",
       "      <td>3</td>\n",
       "      <td>313</td>\n",
       "      <td>Mid-High</td>\n",
       "    </tr>\n",
       "    <tr>\n",
       "      <th>23481</th>\n",
       "      <td>zuechter1@gmx.de</td>\n",
       "      <td>10</td>\n",
       "      <td>1</td>\n",
       "      <td>102.800</td>\n",
       "      <td>801.397950</td>\n",
       "      <td>5</td>\n",
       "      <td>1</td>\n",
       "      <td>5</td>\n",
       "      <td>515</td>\n",
       "      <td>High</td>\n",
       "    </tr>\n",
       "    <tr>\n",
       "      <th>23506</th>\n",
       "      <td>zwinger_von_itzenplitz@gmx.de</td>\n",
       "      <td>256</td>\n",
       "      <td>1</td>\n",
       "      <td>108.810</td>\n",
       "      <td>848.250106</td>\n",
       "      <td>3</td>\n",
       "      <td>1</td>\n",
       "      <td>5</td>\n",
       "      <td>315</td>\n",
       "      <td>High</td>\n",
       "    </tr>\n",
       "    <tr>\n",
       "      <th>23518</th>\n",
       "      <td>zyc7k56ktbhyfxb@marketplace.amazon.de</td>\n",
       "      <td>331</td>\n",
       "      <td>1</td>\n",
       "      <td>69.860</td>\n",
       "      <td>544.607595</td>\n",
       "      <td>3</td>\n",
       "      <td>1</td>\n",
       "      <td>5</td>\n",
       "      <td>315</td>\n",
       "      <td>High</td>\n",
       "    </tr>\n",
       "  </tbody>\n",
       "</table>\n",
       "<p>1531 rows × 10 columns</p>\n",
       "</div>"
      ]
     },
     "metadata": {},
     "execution_count": 66
    }
   ],
   "metadata": {}
  },
  {
   "cell_type": "code",
   "execution_count": 63,
   "source": [
    "promising.shape"
   ],
   "outputs": [
    {
     "output_type": "execute_result",
     "data": {
      "text/plain": [
       "(1531, 1)"
      ]
     },
     "metadata": {},
     "execution_count": 63
    }
   ],
   "metadata": {}
  },
  {
   "cell_type": "code",
   "execution_count": 70,
   "source": [
    "clv_relevant = rfm[rfm['clv_score'].isin([\"Mid-High\", \"High\"])].loc[:,['email']]\r\n",
    "clv_relevant.shape"
   ],
   "outputs": [
    {
     "output_type": "execute_result",
     "data": {
      "text/plain": [
       "(8964, 1)"
      ]
     },
     "metadata": {},
     "execution_count": 70
    }
   ],
   "metadata": {}
  },
  {
   "cell_type": "code",
   "execution_count": 68,
   "source": [
    "rfm.shape # but in powr bi there are only 15,466 customers"
   ],
   "outputs": [
    {
     "output_type": "execute_result",
     "data": {
      "text/plain": [
       "(23530, 10)"
      ]
     },
     "metadata": {},
     "execution_count": 68
    }
   ],
   "metadata": {}
  },
  {
   "cell_type": "code",
   "execution_count": 71,
   "source": [
    "promising.to_csv('./Outputs/Promising_Cust_09062021.csv', index=False)\r\n",
    "\r\n",
    "clv_relevant.to_csv('./Outputs/High_MidHigh_CLV_Cust_09062021.csv', index=False)"
   ],
   "outputs": [],
   "metadata": {}
  },
  {
   "cell_type": "markdown",
   "source": [
    "## Experiments"
   ],
   "metadata": {}
  },
  {
   "cell_type": "code",
   "execution_count": null,
   "source": [],
   "outputs": [],
   "metadata": {}
  }
 ],
 "metadata": {
  "kernelspec": {
   "name": "python3",
   "display_name": "Python 3.8.5 64-bit ('base': conda)"
  },
  "language_info": {
   "codemirror_mode": {
    "name": "ipython",
    "version": 3
   },
   "file_extension": ".py",
   "mimetype": "text/x-python",
   "name": "python",
   "nbconvert_exporter": "python",
   "pygments_lexer": "ipython3",
   "version": "3.8.5"
  },
  "interpreter": {
   "hash": "03daa801a6ac9ad48cff95a62c7eae7868ae8adc816431dbf898cb359b759f5b"
  }
 },
 "nbformat": 4,
 "nbformat_minor": 4
}
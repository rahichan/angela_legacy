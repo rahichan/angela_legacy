{
 "cells": [
  {
   "cell_type": "code",
   "execution_count": 1,
   "metadata": {},
   "outputs": [],
   "source": [
    "import pandas as pd\n",
    "import numpy as np\n",
    "import datetime as dt\n",
    "import glob\n",
    "import mysql.connector\n",
    "from mysql.connector import Error"
   ]
  },
  {
   "cell_type": "code",
   "execution_count": 117,
   "metadata": {},
   "outputs": [],
   "source": [
    "query_analytics = 'SELECT * FROM analytics_perf ap WHERE Account = \"SB\" AND landingPagePath like \"%/de/%\"'\n",
    "query_lightspeed = 'SELECT * FROM api_lightspeed_saintbasics_orders WHERE Shipping_Country = \"DE\"'\n",
    "query_adwords = 'SELECT aaas.Observation, aac.Name, SUM(aaas.Impr) AS \"impressions\", SUM(aaas.Clicks) AS \"clicks\", SUM(aaas.Cost) AS \"cost\" FROM api_adwords.api_adwords_ag_stats aaas JOIN api_adwords.api_adwords_adgroups aaa on aaa.ID = aaas.Adgroup_ID JOIN api_adwords.api_adwords_campaigns aac on aac.ID = aaa.Campaign_ID JOIN api_adwords.api_adwords_accounts aaa2 on aaa2.ID = aaa.Account_ID WHERE aaa2.ID = \"6109709000\" GROUP BY 1,2;'\n",
    "query_facebook = 'SELECT * FROM api_facebook.account_report WHERE Account_ID = \"395756991466104\"'"
   ]
  },
  {
   "cell_type": "code",
   "execution_count": 25,
   "metadata": {},
   "outputs": [
    {
     "name": "stdout",
     "output_type": "stream",
     "text": [
      "Connected to MySQL Server version  8.0.16\n",
      "Your connected to database:  ('api_analytics',)\n",
      "MySQL connection is closed\n"
     ]
    }
   ],
   "source": [
    "try:\n",
    "    connection = mysql.connector.connect(host='attribution-system-fsg-new.cob86lv75rzo.eu-west-1.rds.amazonaws.com',\n",
    "                                         database='api_analytics',\n",
    "                                         user='fsg',\n",
    "                                         password='Attribution3.0')\n",
    "\n",
    "    if connection.is_connected():\n",
    "        db_Info = connection.get_server_info()\n",
    "        print(\"Connected to MySQL Server version \", db_Info)\n",
    "        cursor = connection.cursor()\n",
    "        cursor.execute(\"select database();\")\n",
    "        record = cursor.fetchone()\n",
    "        print(\"Your connected to database: \", record)\n",
    "        df_ga = pd.read_sql(query_analytics,con=connection)\n",
    "\n",
    "except Error as e:\n",
    "    print(\"Error while connecting to MySQL\", e)\n",
    "finally:\n",
    "    if (connection.is_connected()):\n",
    "        cursor.close()\n",
    "        connection.close()\n",
    "        print(\"MySQL connection is closed\")"
   ]
  },
  {
   "cell_type": "code",
   "execution_count": 112,
   "metadata": {},
   "outputs": [
    {
     "name": "stdout",
     "output_type": "stream",
     "text": [
      "Connected to MySQL Server version  8.0.16\n",
      "Your connected to database:  ('api_lightspeed',)\n",
      "MySQL connection is closed\n"
     ]
    }
   ],
   "source": [
    "try:\n",
    "    connection = mysql.connector.connect(host='attribution-system-fsg-new.cob86lv75rzo.eu-west-1.rds.amazonaws.com',\n",
    "                                         database='api_lightspeed',\n",
    "                                         user='fsg',\n",
    "                                         password='Attribution3.0')\n",
    "\n",
    "    if connection.is_connected():\n",
    "        db_Info = connection.get_server_info()\n",
    "        print(\"Connected to MySQL Server version \", db_Info)\n",
    "        cursor = connection.cursor()\n",
    "        cursor.execute(\"select database();\")\n",
    "        record = cursor.fetchone()\n",
    "        print(\"Your connected to database: \", record)\n",
    "        df_ls = pd.read_sql(query_lightspeed,con=connection)\n",
    "\n",
    "except Error as e:\n",
    "    print(\"Error while connecting to MySQL\", e)\n",
    "finally:\n",
    "    if (connection.is_connected()):\n",
    "        cursor.close()\n",
    "        connection.close()\n",
    "        print(\"MySQL connection is closed\")"
   ]
  },
  {
   "cell_type": "code",
   "execution_count": 115,
   "metadata": {},
   "outputs": [
    {
     "name": "stdout",
     "output_type": "stream",
     "text": [
      "Connected to MySQL Server version  8.0.16\n",
      "Your connected to database:  ('api_adwords',)\n",
      "MySQL connection is closed\n"
     ]
    }
   ],
   "source": [
    "try:\n",
    "    connection = mysql.connector.connect(host='attribution-system-fsg-new.cob86lv75rzo.eu-west-1.rds.amazonaws.com',\n",
    "                                         database='api_adwords',\n",
    "                                         user='fsg',\n",
    "                                         password='Attribution3.0')\n",
    "\n",
    "    if connection.is_connected():\n",
    "        db_Info = connection.get_server_info()\n",
    "        print(\"Connected to MySQL Server version \", db_Info)\n",
    "        cursor = connection.cursor()\n",
    "        cursor.execute(\"select database();\")\n",
    "        record = cursor.fetchone()\n",
    "        print(\"Your connected to database: \", record)\n",
    "        df_aw = pd.read_sql(query_adwords,con=connection)\n",
    "\n",
    "except Error as e:\n",
    "    print(\"Error while connecting to MySQL\", e)\n",
    "finally:\n",
    "    if (connection.is_connected()):\n",
    "        cursor.close()\n",
    "        connection.close()\n",
    "        print(\"MySQL connection is closed\")"
   ]
  },
  {
   "cell_type": "code",
   "execution_count": 129,
   "metadata": {},
   "outputs": [
    {
     "name": "stdout",
     "output_type": "stream",
     "text": [
      "Connected to MySQL Server version  8.0.16\n",
      "Your connected to database:  ('api_adwords',)\n",
      "MySQL connection is closed\n"
     ]
    }
   ],
   "source": [
    "try:\n",
    "    connection = mysql.connector.connect(host='attribution-system-fsg-new.cob86lv75rzo.eu-west-1.rds.amazonaws.com',\n",
    "                                         database='api_adwords',\n",
    "                                         user='fsg',\n",
    "                                         password='Attribution3.0')\n",
    "\n",
    "    if connection.is_connected():\n",
    "        db_Info = connection.get_server_info()\n",
    "        print(\"Connected to MySQL Server version \", db_Info)\n",
    "        cursor = connection.cursor()\n",
    "        cursor.execute(\"select database();\")\n",
    "        record = cursor.fetchone()\n",
    "        print(\"Your connected to database: \", record)\n",
    "        df_fb = pd.read_sql(query_facebook,con=connection)\n",
    "\n",
    "except Error as e:\n",
    "    print(\"Error while connecting to MySQL\", e)\n",
    "finally:\n",
    "    if (connection.is_connected()):\n",
    "        cursor.close()\n",
    "        connection.close()\n",
    "        print(\"MySQL connection is closed\")"
   ]
  },
  {
   "cell_type": "code",
   "execution_count": null,
   "metadata": {},
   "outputs": [],
   "source": [
    "# Transformations"
   ]
  },
  {
   "cell_type": "code",
   "execution_count": 131,
   "metadata": {},
   "outputs": [],
   "source": [
    "df_ga['Observation'] = pd.to_datetime(df_ga['Observation'])\n",
    "df_ga['year_week'] = df.Observation.dt.strftime(\"%Y-%V\")\n",
    "df_ga['year_month'] = df.Observation.dt.strftime(\"%Y-%m\")"
   ]
  },
  {
   "cell_type": "code",
   "execution_count": 132,
   "metadata": {},
   "outputs": [],
   "source": [
    "df_ls['Conv_Date'] = pd.to_datetime(df_ls['Conv_Date'])\n",
    "df_ls['year_week'] = df.Observation.dt.strftime(\"%Y-%V\")\n",
    "df_ls['year_month'] = df.Observation.dt.strftime(\"%Y-%m\")\n",
    "df_ls['Conv_Type'] = df_ls['Conv_Type'].fillna('not_returned')\n",
    "df_ls['Conv_Type'] = df_ls['Conv_Type'].str.replace('exchange - wrong size delivered','returned').str.replace('exchange','returned').str.replace('replace','returned').str.replace('ontbrak van bestelling 2007012','returned')"
   ]
  },
  {
   "cell_type": "code",
   "execution_count": 133,
   "metadata": {},
   "outputs": [],
   "source": [
    "df_aw['Observation'] = pd.to_datetime(df_aw['Observation'])\n",
    "df_aw['year_week'] = df.Observation.dt.strftime(\"%Y-%V\")\n",
    "df_aw['year_month'] = df.Observation.dt.strftime(\"%Y-%m\")"
   ]
  },
  {
   "cell_type": "code",
   "execution_count": 134,
   "metadata": {},
   "outputs": [],
   "source": [
    "df_fb['Observation'] = pd.to_datetime(df_fb['Observation'])\n",
    "df_fb['year_week'] = df.Observation.dt.strftime(\"%Y-%V\")\n",
    "df_fb['year_month'] = df.Observation.dt.strftime(\"%Y-%m\")"
   ]
  },
  {
   "cell_type": "code",
   "execution_count": 135,
   "metadata": {},
   "outputs": [],
   "source": [
    "# Aggregations"
   ]
  },
  {
   "cell_type": "code",
   "execution_count": 136,
   "metadata": {},
   "outputs": [],
   "source": [
    "ga_summary_week_all = df_ga.groupby(['year_week']).agg({'transactionRevenue':pd.Series.sum, 'sessions':pd.Series.sum, 'transactions':pd.Series.sum}).reset_index()\n",
    "ga_summary_week_channels = df_ga.groupby(['year_week','channelGrouping']).agg({'transactionRevenue':pd.Series.sum, 'sessions':pd.Series.sum, 'transactions':pd.Series.sum}).reset_index()\n",
    "ga_summary_week_all['cvr'] = ga_summary_week_all['transactions']/ga_summary_week_all['sessions']\n",
    "ga_summary_week_channels['cvr'] = ga_summary_week_channels['transactions']/ga_summary_week_channels['sessions']"
   ]
  },
  {
   "cell_type": "code",
   "execution_count": 137,
   "metadata": {},
   "outputs": [],
   "source": [
    "ga_summary_month_all = df_ga.groupby(['year_month']).agg({'transactionRevenue':pd.Series.sum, 'sessions':pd.Series.sum, 'transactions':pd.Series.sum}).reset_index()\n",
    "ga_summary_month_channels = df_ga.groupby(['year_month','channelGrouping']).agg({'transactionRevenue':pd.Series.sum, 'sessions':pd.Series.sum, 'transactions':pd.Series.sum}).reset_index()\n",
    "ga_summary_month_all['cvr'] = ga_summary_month_all['transactions']/ga_summary_month_all['sessions']\n",
    "ga_summary_month_channels['cvr'] = ga_summary_month_channels['transactions']/ga_summary_month_channels['sessions']"
   ]
  },
  {
   "cell_type": "code",
   "execution_count": 138,
   "metadata": {},
   "outputs": [],
   "source": [
    "ls_summary_week_to = df_ls.groupby(['year_week','Conv_Type']).agg({'Revenue_excl_VAT':pd.Series.sum}).unstack(1).fillna(0)\n",
    "ls_summary_week_tx = df_ls.groupby(['year_week','Conv_Type']).agg({'Conv_ID':pd.Series.nunique}).unstack(1).fillna(0)\n",
    "ls_summary_week_to.columns = ls_summary_week_to.columns.droplevel()\n",
    "ls_summary_week_tx.columns = ls_summary_week_tx.columns.droplevel()\n",
    "ls_summary_week_to.columns = ['TO_EXVAT_EXRET','TO_EXVAT_RET']\n",
    "ls_summary_week_tx.columns = ['TX_EXRET','TX_RET']\n",
    "ls_summary_week = ls_summary_week_to.merge(ls_summary_week_tx, on='year_week')\n",
    "\n",
    "ls_summary_month_to = df_ls.groupby(['year_month','Conv_Type']).agg({'Revenue_excl_VAT':pd.Series.sum}).unstack(1).fillna(0)\n",
    "ls_summary_month_tx = df_ls.groupby(['year_month','Conv_Type']).agg({'Conv_ID':pd.Series.nunique}).unstack(1).fillna(0)\n",
    "ls_summary_month_to.columns = ls_summary_month_to.columns.droplevel()\n",
    "ls_summary_month_tx.columns = ls_summary_month_tx.columns.droplevel()\n",
    "ls_summary_month_to.columns = ['TO_EXVAT_EXRET','TO_EXVAT_RET']\n",
    "ls_summary_month_tx.columns = ['TX_EXRET','TX_RET']\n",
    "ls_summary_month = ls_summary_month_to.merge(ls_summary_month_tx, on='year_month')"
   ]
  },
  {
   "cell_type": "code",
   "execution_count": null,
   "metadata": {},
   "outputs": [],
   "source": [
    "aw_summary_week = df_aw.groupby(['year_week']).agg({'transactionRevenue':pd.Series.sum, 'sessions':pd.Series.sum, 'transactions':pd.Series.sum}).reset_index()"
   ]
  },
  {
   "cell_type": "code",
   "execution_count": 141,
   "metadata": {},
   "outputs": [
    {
     "data": {
      "text/html": [
       "<div>\n",
       "<style scoped>\n",
       "    .dataframe tbody tr th:only-of-type {\n",
       "        vertical-align: middle;\n",
       "    }\n",
       "\n",
       "    .dataframe tbody tr th {\n",
       "        vertical-align: top;\n",
       "    }\n",
       "\n",
       "    .dataframe thead th {\n",
       "        text-align: right;\n",
       "    }\n",
       "</style>\n",
       "<table border=\"1\" class=\"dataframe\">\n",
       "  <thead>\n",
       "    <tr style=\"text-align: right;\">\n",
       "      <th></th>\n",
       "      <th>Observation</th>\n",
       "      <th>Name</th>\n",
       "      <th>impressions</th>\n",
       "      <th>clicks</th>\n",
       "      <th>cost</th>\n",
       "      <th>year_week</th>\n",
       "      <th>year_month</th>\n",
       "    </tr>\n",
       "  </thead>\n",
       "  <tbody>\n",
       "    <tr>\n",
       "      <th>0</th>\n",
       "      <td>2020-11-01</td>\n",
       "      <td>NB_Underwear</td>\n",
       "      <td>0.0</td>\n",
       "      <td>0.0</td>\n",
       "      <td>0.0</td>\n",
       "      <td>2020-44</td>\n",
       "      <td>2020-11</td>\n",
       "    </tr>\n",
       "    <tr>\n",
       "      <th>1</th>\n",
       "      <td>2020-11-02</td>\n",
       "      <td>NB_Underwear</td>\n",
       "      <td>0.0</td>\n",
       "      <td>0.0</td>\n",
       "      <td>0.0</td>\n",
       "      <td>2020-44</td>\n",
       "      <td>2020-11</td>\n",
       "    </tr>\n",
       "    <tr>\n",
       "      <th>2</th>\n",
       "      <td>2020-11-03</td>\n",
       "      <td>NB_Underwear</td>\n",
       "      <td>0.0</td>\n",
       "      <td>0.0</td>\n",
       "      <td>0.0</td>\n",
       "      <td>2020-44</td>\n",
       "      <td>2020-11</td>\n",
       "    </tr>\n",
       "    <tr>\n",
       "      <th>3</th>\n",
       "      <td>2020-11-04</td>\n",
       "      <td>NB_Underwear</td>\n",
       "      <td>0.0</td>\n",
       "      <td>0.0</td>\n",
       "      <td>0.0</td>\n",
       "      <td>2020-44</td>\n",
       "      <td>2020-11</td>\n",
       "    </tr>\n",
       "    <tr>\n",
       "      <th>4</th>\n",
       "      <td>2020-11-05</td>\n",
       "      <td>NB_Underwear</td>\n",
       "      <td>0.0</td>\n",
       "      <td>0.0</td>\n",
       "      <td>0.0</td>\n",
       "      <td>2020-44</td>\n",
       "      <td>2020-11</td>\n",
       "    </tr>\n",
       "  </tbody>\n",
       "</table>\n",
       "</div>"
      ],
      "text/plain": [
       "  Observation          Name  impressions  clicks  cost year_week year_month\n",
       "0  2020-11-01  NB_Underwear          0.0     0.0   0.0   2020-44    2020-11\n",
       "1  2020-11-02  NB_Underwear          0.0     0.0   0.0   2020-44    2020-11\n",
       "2  2020-11-03  NB_Underwear          0.0     0.0   0.0   2020-44    2020-11\n",
       "3  2020-11-04  NB_Underwear          0.0     0.0   0.0   2020-44    2020-11\n",
       "4  2020-11-05  NB_Underwear          0.0     0.0   0.0   2020-44    2020-11"
      ]
     },
     "execution_count": 141,
     "metadata": {},
     "output_type": "execute_result"
    }
   ],
   "source": [
    "df_aw.head()"
   ]
  },
  {
   "cell_type": "code",
   "execution_count": 98,
   "metadata": {},
   "outputs": [
    {
     "data": {
      "text/html": [
       "<div>\n",
       "<style scoped>\n",
       "    .dataframe tbody tr th:only-of-type {\n",
       "        vertical-align: middle;\n",
       "    }\n",
       "\n",
       "    .dataframe tbody tr th {\n",
       "        vertical-align: top;\n",
       "    }\n",
       "\n",
       "    .dataframe thead th {\n",
       "        text-align: right;\n",
       "    }\n",
       "</style>\n",
       "<table border=\"1\" class=\"dataframe\">\n",
       "  <thead>\n",
       "    <tr style=\"text-align: right;\">\n",
       "      <th></th>\n",
       "      <th>year_month</th>\n",
       "      <th>transactionRevenue</th>\n",
       "      <th>sessions</th>\n",
       "      <th>transactions</th>\n",
       "      <th>cvr</th>\n",
       "    </tr>\n",
       "  </thead>\n",
       "  <tbody>\n",
       "    <tr>\n",
       "      <th>0</th>\n",
       "      <td>2020-11</td>\n",
       "      <td>1594.62</td>\n",
       "      <td>648</td>\n",
       "      <td>19</td>\n",
       "      <td>0.029321</td>\n",
       "    </tr>\n",
       "    <tr>\n",
       "      <th>1</th>\n",
       "      <td>2020-12</td>\n",
       "      <td>2760.70</td>\n",
       "      <td>7312</td>\n",
       "      <td>24</td>\n",
       "      <td>0.003282</td>\n",
       "    </tr>\n",
       "    <tr>\n",
       "      <th>2</th>\n",
       "      <td>2021-01</td>\n",
       "      <td>0.00</td>\n",
       "      <td>865</td>\n",
       "      <td>0</td>\n",
       "      <td>0.000000</td>\n",
       "    </tr>\n",
       "  </tbody>\n",
       "</table>\n",
       "</div>"
      ],
      "text/plain": [
       "  year_month  transactionRevenue  sessions  transactions       cvr\n",
       "0    2020-11             1594.62       648            19  0.029321\n",
       "1    2020-12             2760.70      7312            24  0.003282\n",
       "2    2021-01                0.00       865             0  0.000000"
      ]
     },
     "execution_count": 98,
     "metadata": {},
     "output_type": "execute_result"
    }
   ],
   "source": [
    "ga_summary_month_all"
   ]
  },
  {
   "cell_type": "code",
   "execution_count": 144,
   "metadata": {},
   "outputs": [
    {
     "data": {
      "text/html": [
       "<div>\n",
       "<style scoped>\n",
       "    .dataframe tbody tr th:only-of-type {\n",
       "        vertical-align: middle;\n",
       "    }\n",
       "\n",
       "    .dataframe tbody tr th {\n",
       "        vertical-align: top;\n",
       "    }\n",
       "\n",
       "    .dataframe thead th {\n",
       "        text-align: right;\n",
       "    }\n",
       "</style>\n",
       "<table border=\"1\" class=\"dataframe\">\n",
       "  <thead>\n",
       "    <tr style=\"text-align: right;\">\n",
       "      <th></th>\n",
       "      <th>TO_EXVAT_EXRET</th>\n",
       "      <th>TO_EXVAT_RET</th>\n",
       "      <th>TX_EXRET</th>\n",
       "      <th>TX_RET</th>\n",
       "    </tr>\n",
       "    <tr>\n",
       "      <th>year_week</th>\n",
       "      <th></th>\n",
       "      <th></th>\n",
       "      <th></th>\n",
       "      <th></th>\n",
       "    </tr>\n",
       "  </thead>\n",
       "  <tbody>\n",
       "    <tr>\n",
       "      <th>2020-44</th>\n",
       "      <td>572.2</td>\n",
       "      <td>96.0</td>\n",
       "      <td>11</td>\n",
       "      <td>4</td>\n",
       "    </tr>\n",
       "    <tr>\n",
       "      <th>2020-45</th>\n",
       "      <td>1854.0</td>\n",
       "      <td>229.1</td>\n",
       "      <td>41</td>\n",
       "      <td>7</td>\n",
       "    </tr>\n",
       "  </tbody>\n",
       "</table>\n",
       "</div>"
      ],
      "text/plain": [
       "           TO_EXVAT_EXRET  TO_EXVAT_RET  TX_EXRET  TX_RET\n",
       "year_week                                                \n",
       "2020-44             572.2          96.0        11       4\n",
       "2020-45            1854.0         229.1        41       7"
      ]
     },
     "execution_count": 144,
     "metadata": {},
     "output_type": "execute_result"
    }
   ],
   "source": [
    "ls_summary_week"
   ]
  },
  {
   "cell_type": "code",
   "execution_count": 85,
   "metadata": {},
   "outputs": [],
   "source": [
    "from gspread_pandas import Spread, Client"
   ]
  },
  {
   "cell_type": "code",
   "execution_count": 86,
   "metadata": {},
   "outputs": [],
   "source": [
    "agu_mt_sheet = Spread('AGU MT Weekly')"
   ]
  },
  {
   "cell_type": "code",
   "execution_count": 88,
   "metadata": {},
   "outputs": [],
   "source": [
    "# Push Transactions\n",
    "agu_mt_sheet.df_to_sheet(weekly_summary, index=True, sheet='DataDump_BE', start='A1', replace=True)"
   ]
  },
  {
   "cell_type": "code",
   "execution_count": null,
   "metadata": {},
   "outputs": [],
   "source": []
  }
 ],
 "metadata": {
  "kernelspec": {
   "display_name": "Python 3",
   "language": "python",
   "name": "python3"
  },
  "language_info": {
   "codemirror_mode": {
    "name": "ipython",
    "version": 3
   },
   "file_extension": ".py",
   "mimetype": "text/x-python",
   "name": "python",
   "nbconvert_exporter": "python",
   "pygments_lexer": "ipython3",
   "version": "3.8.5"
  }
 },
 "nbformat": 4,
 "nbformat_minor": 4
}

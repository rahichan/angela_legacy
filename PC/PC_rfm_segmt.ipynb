{
 "cells": [
  {
   "cell_type": "code",
   "execution_count": 1,
   "source": [
    "import pandas as pd\r\n",
    "import numpy as np\r\n",
    "import matplotlib.pyplot as plt\r\n",
    "import seaborn as sns\r\n",
    "import chart_studio.plotly as py\r\n",
    "import plotly.offline as pyoff\r\n",
    "import plotly.graph_objs as go\r\n",
    "from plotly.subplots import make_subplots\r\n",
    "import mysql.connector\r\n",
    "from mysql.connector import Error"
   ],
   "outputs": [],
   "metadata": {}
  },
  {
   "cell_type": "code",
   "execution_count": 2,
   "source": [
    "query_return_table = 'SELECT t.Conv_Date AS \"Observation\", COUNT(Conv_ID) AS \"Total_Orders\", COUNT(CASE WHEN t.Customer_Type = \"Returning\" THEN Conv_ID END) AS \"Returning_Orders\", COUNT(CASE WHEN t.Customer_Type = \"Returning\" THEN Conv_ID END)/COUNT(Conv_ID) AS \"Repurchase Rate\" FROM (SELECT fo.Customer_ID, fo.Conv_Date, fo.Conv_ID, CASE WHEN Conv_Date = first_orders.first_date THEN \"New\" ELSE \"Returning\" END AS \"Customer_Type\" FROM etl_site_traffic.conversions_backend fo JOIN ( SELECT Customer_ID, MIN(Conv_Date) AS \"first_date\" FROM etl_site_traffic.conversions_backend cb WHERE Account = \"Paula\" AND Market = \"DE\" GROUP BY 1) AS first_orders ON first_orders.Customer_ID = fo.Customer_ID WHERE Account = \"Paula\" AND Market = \"DE\") AS t GROUP BY 1;'\r\n",
    "\r\n",
    "query_rfm_table = 'SELECT Customer_ID, COUNT(Conv_ID) AS \"frequency\", DATEDIFF(CURDATE(),MAX(Conv_Date)) AS \"recency\", AVG(Revenue_excl_vat) AS \"monetary_value\" FROM etl_site_traffic.conversions_backend cb WHERE Account = \"Paula\" AND Market = \"DE\" GROUP BY 1;'"
   ],
   "outputs": [],
   "metadata": {}
  },
  {
   "cell_type": "code",
   "execution_count": 4,
   "source": [
    "try:\r\n",
    "    connection = mysql.connector.connect(host='attribution-system-fsg-new.cob86lv75rzo.eu-west-1.rds.amazonaws.com',\r\n",
    "                        database='etl_site_traffic',\r\n",
    "                        user='fsg',\r\n",
    "                        password='Attribution3.0')\r\n",
    "    if connection.is_connected():\r\n",
    "            db_Info = connection.get_server_info()\r\n",
    "            print(\"Connected to MySQL Server version \", db_Info)\r\n",
    "            cursor = connection.cursor()\r\n",
    "            cursor.execute(\"select database();\")\r\n",
    "            record = cursor.fetchone()\r\n",
    "            print(\"Your connected to database: \", record)\r\n",
    "            df_return = pd.read_sql(query_return_table,con=connection)\r\n",
    "            df_rfm = pd.read_sql(query_rfm_table,con=connection)\r\n",
    "\r\n",
    "except Error as e:\r\n",
    "    print(\"Error while connecting to MySQL\", e)\r\n",
    "finally:\r\n",
    "    if (connection.is_connected()):\r\n",
    "            cursor.close()\r\n",
    "            connection.close()\r\n",
    "            print(\"MySQL connection is closed\")"
   ],
   "outputs": [
    {
     "output_type": "stream",
     "name": "stdout",
     "text": [
      "Connected to MySQL Server version  8.0.16\n",
      "Your connected to database:  ('etl_site_traffic',)\n",
      "MySQL connection is closed\n"
     ]
    }
   ],
   "metadata": {}
  },
  {
   "cell_type": "code",
   "execution_count": 5,
   "source": [
    "df_return.shape, df_rfm.shape"
   ],
   "outputs": [
    {
     "output_type": "execute_result",
     "data": {
      "text/plain": [
       "((4152, 4), (280151, 4))"
      ]
     },
     "metadata": {},
     "execution_count": 5
    }
   ],
   "metadata": {}
  },
  {
   "cell_type": "code",
   "execution_count": 6,
   "source": [
    "df_rfm"
   ],
   "outputs": [
    {
     "output_type": "execute_result",
     "data": {
      "text/plain": [
       "                             Customer_ID  frequency  recency  monetary_value\n",
       "0       596a078be39d2a041cc268a585920ce1          4      544       89.222500\n",
       "1       d5260d3f20bb53c528f3bcadd57fe3bf          3      607       62.296667\n",
       "2       3d9a9ab7d093bbdf0f8ccda6cc027459          6      312       55.371667\n",
       "3       0d4daf40508e79fe5071a59f89dca1c9         17      946       71.098235\n",
       "4       e247168c13ffaa8d6cbffa30d90a3eff         30      255      190.096667\n",
       "...                                  ...        ...      ...             ...\n",
       "280146  3de604dcd04e4d00c40bce05c25a1f66          1       69       38.030000\n",
       "280147  6dd976418d08a8c8ccc86076b23e2272          1       69       16.890000\n",
       "280148  eadebfd1417d4f8aa42a746c0c281b37          1       74        0.000000\n",
       "280149  56f3a582e2a888331c179cf065e4a666          1      281        0.000000\n",
       "280150  e29cf327ede5ae0d85d8f8e8a5347bb0          1     1503       23.700000\n",
       "\n",
       "[280151 rows x 4 columns]"
      ],
      "text/html": [
       "<div>\n",
       "<style scoped>\n",
       "    .dataframe tbody tr th:only-of-type {\n",
       "        vertical-align: middle;\n",
       "    }\n",
       "\n",
       "    .dataframe tbody tr th {\n",
       "        vertical-align: top;\n",
       "    }\n",
       "\n",
       "    .dataframe thead th {\n",
       "        text-align: right;\n",
       "    }\n",
       "</style>\n",
       "<table border=\"1\" class=\"dataframe\">\n",
       "  <thead>\n",
       "    <tr style=\"text-align: right;\">\n",
       "      <th></th>\n",
       "      <th>Customer_ID</th>\n",
       "      <th>frequency</th>\n",
       "      <th>recency</th>\n",
       "      <th>monetary_value</th>\n",
       "    </tr>\n",
       "  </thead>\n",
       "  <tbody>\n",
       "    <tr>\n",
       "      <th>0</th>\n",
       "      <td>596a078be39d2a041cc268a585920ce1</td>\n",
       "      <td>4</td>\n",
       "      <td>544</td>\n",
       "      <td>89.222500</td>\n",
       "    </tr>\n",
       "    <tr>\n",
       "      <th>1</th>\n",
       "      <td>d5260d3f20bb53c528f3bcadd57fe3bf</td>\n",
       "      <td>3</td>\n",
       "      <td>607</td>\n",
       "      <td>62.296667</td>\n",
       "    </tr>\n",
       "    <tr>\n",
       "      <th>2</th>\n",
       "      <td>3d9a9ab7d093bbdf0f8ccda6cc027459</td>\n",
       "      <td>6</td>\n",
       "      <td>312</td>\n",
       "      <td>55.371667</td>\n",
       "    </tr>\n",
       "    <tr>\n",
       "      <th>3</th>\n",
       "      <td>0d4daf40508e79fe5071a59f89dca1c9</td>\n",
       "      <td>17</td>\n",
       "      <td>946</td>\n",
       "      <td>71.098235</td>\n",
       "    </tr>\n",
       "    <tr>\n",
       "      <th>4</th>\n",
       "      <td>e247168c13ffaa8d6cbffa30d90a3eff</td>\n",
       "      <td>30</td>\n",
       "      <td>255</td>\n",
       "      <td>190.096667</td>\n",
       "    </tr>\n",
       "    <tr>\n",
       "      <th>...</th>\n",
       "      <td>...</td>\n",
       "      <td>...</td>\n",
       "      <td>...</td>\n",
       "      <td>...</td>\n",
       "    </tr>\n",
       "    <tr>\n",
       "      <th>280146</th>\n",
       "      <td>3de604dcd04e4d00c40bce05c25a1f66</td>\n",
       "      <td>1</td>\n",
       "      <td>69</td>\n",
       "      <td>38.030000</td>\n",
       "    </tr>\n",
       "    <tr>\n",
       "      <th>280147</th>\n",
       "      <td>6dd976418d08a8c8ccc86076b23e2272</td>\n",
       "      <td>1</td>\n",
       "      <td>69</td>\n",
       "      <td>16.890000</td>\n",
       "    </tr>\n",
       "    <tr>\n",
       "      <th>280148</th>\n",
       "      <td>eadebfd1417d4f8aa42a746c0c281b37</td>\n",
       "      <td>1</td>\n",
       "      <td>74</td>\n",
       "      <td>0.000000</td>\n",
       "    </tr>\n",
       "    <tr>\n",
       "      <th>280149</th>\n",
       "      <td>56f3a582e2a888331c179cf065e4a666</td>\n",
       "      <td>1</td>\n",
       "      <td>281</td>\n",
       "      <td>0.000000</td>\n",
       "    </tr>\n",
       "    <tr>\n",
       "      <th>280150</th>\n",
       "      <td>e29cf327ede5ae0d85d8f8e8a5347bb0</td>\n",
       "      <td>1</td>\n",
       "      <td>1503</td>\n",
       "      <td>23.700000</td>\n",
       "    </tr>\n",
       "  </tbody>\n",
       "</table>\n",
       "<p>280151 rows × 4 columns</p>\n",
       "</div>"
      ]
     },
     "metadata": {},
     "execution_count": 6
    }
   ],
   "metadata": {}
  },
  {
   "cell_type": "code",
   "execution_count": 8,
   "source": [
    "# Purchase Frequency\r\n",
    "purchase_frequency=sum(df_rfm['frequency'])/df_rfm.shape[0]\r\n",
    "\r\n",
    "# Repeat Rate\r\n",
    "repeat_rate=df_rfm[df_rfm.frequency > 1].shape[0]/df_rfm.shape[0]\r\n",
    "\r\n",
    "# Churn Rate\r\n",
    "churn_rate=1-repeat_rate\r\n",
    "\r\n",
    "# Customer Value\r\n",
    "df_rfm['CLV']=(df_rfm['monetary_value']*purchase_frequency)/churn_rate"
   ],
   "outputs": [],
   "metadata": {}
  },
  {
   "cell_type": "code",
   "execution_count": 9,
   "source": [
    "df_rfm.quantile([.2, .4, .6, .8], axis=0)"
   ],
   "outputs": [
    {
     "output_type": "execute_result",
     "data": {
      "text/plain": [
       "     frequency  recency  monetary_value         CLV\n",
       "0.2        1.0    272.0       22.020000  101.106510\n",
       "0.4        1.0    361.0       32.690000  150.098629\n",
       "0.6        2.0    567.0       47.440000  217.824379\n",
       "0.8        3.0   1080.0       69.703333  320.048172"
      ],
      "text/html": [
       "<div>\n",
       "<style scoped>\n",
       "    .dataframe tbody tr th:only-of-type {\n",
       "        vertical-align: middle;\n",
       "    }\n",
       "\n",
       "    .dataframe tbody tr th {\n",
       "        vertical-align: top;\n",
       "    }\n",
       "\n",
       "    .dataframe thead th {\n",
       "        text-align: right;\n",
       "    }\n",
       "</style>\n",
       "<table border=\"1\" class=\"dataframe\">\n",
       "  <thead>\n",
       "    <tr style=\"text-align: right;\">\n",
       "      <th></th>\n",
       "      <th>frequency</th>\n",
       "      <th>recency</th>\n",
       "      <th>monetary_value</th>\n",
       "      <th>CLV</th>\n",
       "    </tr>\n",
       "  </thead>\n",
       "  <tbody>\n",
       "    <tr>\n",
       "      <th>0.2</th>\n",
       "      <td>1.0</td>\n",
       "      <td>272.0</td>\n",
       "      <td>22.020000</td>\n",
       "      <td>101.106510</td>\n",
       "    </tr>\n",
       "    <tr>\n",
       "      <th>0.4</th>\n",
       "      <td>1.0</td>\n",
       "      <td>361.0</td>\n",
       "      <td>32.690000</td>\n",
       "      <td>150.098629</td>\n",
       "    </tr>\n",
       "    <tr>\n",
       "      <th>0.6</th>\n",
       "      <td>2.0</td>\n",
       "      <td>567.0</td>\n",
       "      <td>47.440000</td>\n",
       "      <td>217.824379</td>\n",
       "    </tr>\n",
       "    <tr>\n",
       "      <th>0.8</th>\n",
       "      <td>3.0</td>\n",
       "      <td>1080.0</td>\n",
       "      <td>69.703333</td>\n",
       "      <td>320.048172</td>\n",
       "    </tr>\n",
       "  </tbody>\n",
       "</table>\n",
       "</div>"
      ]
     },
     "metadata": {},
     "execution_count": 9
    }
   ],
   "metadata": {}
  },
  {
   "cell_type": "code",
   "execution_count": 10,
   "source": [
    "purchase_frequency,repeat_rate,churn_rate"
   ],
   "outputs": [
    {
     "output_type": "execute_result",
     "data": {
      "text/plain": [
       "(2.6674971711684057, 0.4190454433501933, 0.5809545566498067)"
      ]
     },
     "metadata": {},
     "execution_count": 10
    }
   ],
   "metadata": {}
  },
  {
   "cell_type": "code",
   "execution_count": 11,
   "source": [
    "df_rfm.sample(5)"
   ],
   "outputs": [
    {
     "output_type": "execute_result",
     "data": {
      "text/plain": [
       "                             Customer_ID  frequency  recency  monetary_value  \\\n",
       "273283  a71f7d46fb09ee7768962229f675613b          1      223         48.3600   \n",
       "69788   ab890657f4db983df9d2f45f00726fbf          3     1126         50.1800   \n",
       "201655  b6a407bee24b7e353e80718868c36a9e          2      224         55.8600   \n",
       "150850  01d6e45f564628bd932532e2115aa989          4      226         87.3825   \n",
       "1099    86ba6de92134c35fdff591cc2f937410          1     3551         18.4000   \n",
       "\n",
       "               CLV  \n",
       "273283  222.048630  \n",
       "69788   230.405299  \n",
       "201655  256.485452  \n",
       "150850  401.223416  \n",
       "1099     84.485004  "
      ],
      "text/html": [
       "<div>\n",
       "<style scoped>\n",
       "    .dataframe tbody tr th:only-of-type {\n",
       "        vertical-align: middle;\n",
       "    }\n",
       "\n",
       "    .dataframe tbody tr th {\n",
       "        vertical-align: top;\n",
       "    }\n",
       "\n",
       "    .dataframe thead th {\n",
       "        text-align: right;\n",
       "    }\n",
       "</style>\n",
       "<table border=\"1\" class=\"dataframe\">\n",
       "  <thead>\n",
       "    <tr style=\"text-align: right;\">\n",
       "      <th></th>\n",
       "      <th>Customer_ID</th>\n",
       "      <th>frequency</th>\n",
       "      <th>recency</th>\n",
       "      <th>monetary_value</th>\n",
       "      <th>CLV</th>\n",
       "    </tr>\n",
       "  </thead>\n",
       "  <tbody>\n",
       "    <tr>\n",
       "      <th>273283</th>\n",
       "      <td>a71f7d46fb09ee7768962229f675613b</td>\n",
       "      <td>1</td>\n",
       "      <td>223</td>\n",
       "      <td>48.3600</td>\n",
       "      <td>222.048630</td>\n",
       "    </tr>\n",
       "    <tr>\n",
       "      <th>69788</th>\n",
       "      <td>ab890657f4db983df9d2f45f00726fbf</td>\n",
       "      <td>3</td>\n",
       "      <td>1126</td>\n",
       "      <td>50.1800</td>\n",
       "      <td>230.405299</td>\n",
       "    </tr>\n",
       "    <tr>\n",
       "      <th>201655</th>\n",
       "      <td>b6a407bee24b7e353e80718868c36a9e</td>\n",
       "      <td>2</td>\n",
       "      <td>224</td>\n",
       "      <td>55.8600</td>\n",
       "      <td>256.485452</td>\n",
       "    </tr>\n",
       "    <tr>\n",
       "      <th>150850</th>\n",
       "      <td>01d6e45f564628bd932532e2115aa989</td>\n",
       "      <td>4</td>\n",
       "      <td>226</td>\n",
       "      <td>87.3825</td>\n",
       "      <td>401.223416</td>\n",
       "    </tr>\n",
       "    <tr>\n",
       "      <th>1099</th>\n",
       "      <td>86ba6de92134c35fdff591cc2f937410</td>\n",
       "      <td>1</td>\n",
       "      <td>3551</td>\n",
       "      <td>18.4000</td>\n",
       "      <td>84.485004</td>\n",
       "    </tr>\n",
       "  </tbody>\n",
       "</table>\n",
       "</div>"
      ]
     },
     "metadata": {},
     "execution_count": 11
    }
   ],
   "metadata": {}
  },
  {
   "cell_type": "code",
   "execution_count": 18,
   "source": [
    "df_rfm.recency.median()"
   ],
   "outputs": [
    {
     "output_type": "execute_result",
     "data": {
      "text/plain": [
       "133.0"
      ]
     },
     "metadata": {},
     "execution_count": 18
    }
   ],
   "metadata": {}
  },
  {
   "cell_type": "markdown",
   "source": [
    "## OTHER RFM STUFF"
   ],
   "metadata": {}
  },
  {
   "cell_type": "code",
   "execution_count": 54,
   "source": [
    "rfm['r_score'] = 0\r\n",
    "for d in range(len(rfm)):\r\n",
    "    if rfm.recency[d] < 60:\r\n",
    "        rfm['r_score'][d] = 5\r\n",
    "    elif rfm.recency[d] < 190:\r\n",
    "        rfm['r_score'][d] = 4\r\n",
    "    elif rfm.recency[d] < 400:\r\n",
    "        rfm['r_score'][d] = 3\r\n",
    "    elif rfm.recency[d] < 610:\r\n",
    "        rfm['r_score'][d] = 2\r\n",
    "    else:\r\n",
    "        rfm['r_score'][d] = 1\r\n"
   ],
   "outputs": [],
   "metadata": {}
  },
  {
   "cell_type": "code",
   "execution_count": 55,
   "source": [
    "rfm['f_score'] = 0\r\n",
    "for o in range(len(rfm)):\r\n",
    "    if rfm.frequency[o] == 1:\r\n",
    "        rfm['f_score'][o] = 1\r\n",
    "    elif rfm.frequency[o] == 2:\r\n",
    "        rfm['f_score'][o] = 2\r\n",
    "    elif rfm.frequency[o] == 3:\r\n",
    "        rfm['f_score'][o] = 3\r\n",
    "    elif rfm.frequency[o] == 4:\r\n",
    "        rfm['f_score'][o] = 4\r\n",
    "    else:\r\n",
    "        rfm['f_score'][o] = 5\r\n",
    "    "
   ],
   "outputs": [],
   "metadata": {}
  },
  {
   "cell_type": "code",
   "execution_count": 56,
   "source": [
    "rfm['m_score'] = 0\r\n",
    "for o in range(len(rfm)):\r\n",
    "    if rfm.monetary_value[o] < 33:\r\n",
    "        rfm['m_score'][o] = 1\r\n",
    "    elif rfm.monetary_value[o] < 43:\r\n",
    "        rfm['m_score'][o] = 2\r\n",
    "    elif rfm.monetary_value[o] < 50:\r\n",
    "        rfm['m_score'][o] = 3\r\n",
    "    elif rfm.monetary_value[o] < 61:\r\n",
    "        rfm['m_score'][o] = 4\r\n",
    "    else:\r\n",
    "        rfm['m_score'][o] = 5"
   ],
   "outputs": [],
   "metadata": {}
  },
  {
   "cell_type": "code",
   "execution_count": 58,
   "source": [
    "rfm['score_conc'] = ''\r\n",
    "for s in range(len(rfm)):\r\n",
    "    rfm['score_conc'][s] = str(rfm['r_score'][s])+str(rfm['f_score'][s])+str(rfm['m_score'][s])"
   ],
   "outputs": [],
   "metadata": {}
  },
  {
   "cell_type": "code",
   "execution_count": 59,
   "source": [
    "rfm.head()"
   ],
   "outputs": [
    {
     "output_type": "execute_result",
     "data": {
      "text/plain": [
       "                                   email  recency  frequency  monetary_value  \\\n",
       "0  003ppcs4s2vcj0q@marketplace.amazon.de      734          3       40.150000   \n",
       "1  009g57nc9rg76dy@marketplace.amazon.de       32         11       45.452727   \n",
       "2  00j89nxrhbft07k@marketplace.amazon.de     1060          1       44.810000   \n",
       "3  00jx5l3sntnj5p1@marketplace.amazon.de      847          1       23.830000   \n",
       "4  00sk0ls66hd2c5x@marketplace.amazon.de      958          2       27.050000   \n",
       "\n",
       "          CLV  r_score  f_score  m_score score_conc  \n",
       "0  312.997351        1        3        2        132  \n",
       "1  354.335821        5        5        3        553  \n",
       "2  349.325313        1        1        3        113  \n",
       "3  185.771529        1        1        1        111  \n",
       "4  210.873682        1        2        1        121  "
      ],
      "text/html": [
       "<div>\n",
       "<style scoped>\n",
       "    .dataframe tbody tr th:only-of-type {\n",
       "        vertical-align: middle;\n",
       "    }\n",
       "\n",
       "    .dataframe tbody tr th {\n",
       "        vertical-align: top;\n",
       "    }\n",
       "\n",
       "    .dataframe thead th {\n",
       "        text-align: right;\n",
       "    }\n",
       "</style>\n",
       "<table border=\"1\" class=\"dataframe\">\n",
       "  <thead>\n",
       "    <tr style=\"text-align: right;\">\n",
       "      <th></th>\n",
       "      <th>email</th>\n",
       "      <th>recency</th>\n",
       "      <th>frequency</th>\n",
       "      <th>monetary_value</th>\n",
       "      <th>CLV</th>\n",
       "      <th>r_score</th>\n",
       "      <th>f_score</th>\n",
       "      <th>m_score</th>\n",
       "      <th>score_conc</th>\n",
       "    </tr>\n",
       "  </thead>\n",
       "  <tbody>\n",
       "    <tr>\n",
       "      <th>0</th>\n",
       "      <td>003ppcs4s2vcj0q@marketplace.amazon.de</td>\n",
       "      <td>734</td>\n",
       "      <td>3</td>\n",
       "      <td>40.150000</td>\n",
       "      <td>312.997351</td>\n",
       "      <td>1</td>\n",
       "      <td>3</td>\n",
       "      <td>2</td>\n",
       "      <td>132</td>\n",
       "    </tr>\n",
       "    <tr>\n",
       "      <th>1</th>\n",
       "      <td>009g57nc9rg76dy@marketplace.amazon.de</td>\n",
       "      <td>32</td>\n",
       "      <td>11</td>\n",
       "      <td>45.452727</td>\n",
       "      <td>354.335821</td>\n",
       "      <td>5</td>\n",
       "      <td>5</td>\n",
       "      <td>3</td>\n",
       "      <td>553</td>\n",
       "    </tr>\n",
       "    <tr>\n",
       "      <th>2</th>\n",
       "      <td>00j89nxrhbft07k@marketplace.amazon.de</td>\n",
       "      <td>1060</td>\n",
       "      <td>1</td>\n",
       "      <td>44.810000</td>\n",
       "      <td>349.325313</td>\n",
       "      <td>1</td>\n",
       "      <td>1</td>\n",
       "      <td>3</td>\n",
       "      <td>113</td>\n",
       "    </tr>\n",
       "    <tr>\n",
       "      <th>3</th>\n",
       "      <td>00jx5l3sntnj5p1@marketplace.amazon.de</td>\n",
       "      <td>847</td>\n",
       "      <td>1</td>\n",
       "      <td>23.830000</td>\n",
       "      <td>185.771529</td>\n",
       "      <td>1</td>\n",
       "      <td>1</td>\n",
       "      <td>1</td>\n",
       "      <td>111</td>\n",
       "    </tr>\n",
       "    <tr>\n",
       "      <th>4</th>\n",
       "      <td>00sk0ls66hd2c5x@marketplace.amazon.de</td>\n",
       "      <td>958</td>\n",
       "      <td>2</td>\n",
       "      <td>27.050000</td>\n",
       "      <td>210.873682</td>\n",
       "      <td>1</td>\n",
       "      <td>2</td>\n",
       "      <td>1</td>\n",
       "      <td>121</td>\n",
       "    </tr>\n",
       "  </tbody>\n",
       "</table>\n",
       "</div>"
      ]
     },
     "metadata": {},
     "execution_count": 59
    }
   ],
   "metadata": {}
  },
  {
   "cell_type": "code",
   "execution_count": 69,
   "source": [
    "rfm['clv_score'] = ''\r\n",
    "for d in range(len(rfm)):\r\n",
    "    if rfm.CLV[d] < 215:\r\n",
    "        rfm['clv_score'][d] = \"Low\"\r\n",
    "    elif rfm.CLV[d] < 277:\r\n",
    "        rfm['clv_score'][d] = \"Mid-Low\"\r\n",
    "    elif rfm.CLV[d] < 320:\r\n",
    "        rfm['clv_score'][d] = \"Mid\"\r\n",
    "    elif rfm.CLV[d] < 386:\r\n",
    "        rfm['clv_score'][d] = \"Mid-High\"\r\n",
    "    elif rfm.CLV[d] >= 386:\r\n",
    "         rfm['clv_score'][d] = \"High\"\r\n"
   ],
   "outputs": [],
   "metadata": {}
  },
  {
   "cell_type": "code",
   "execution_count": 62,
   "source": [
    "promising = rfm[rfm['score_conc'].isin([\"525\", \"524\", \"523\", \"522\", \"521\", \"515\", \"514\", \"513\", \"425\", \"424\", \"413\", \"414\", \"415\", \"315\", \"314\", \"313\"])].loc[:,['email']]"
   ],
   "outputs": [],
   "metadata": {}
  },
  {
   "cell_type": "code",
   "execution_count": 66,
   "source": [
    "rfm[rfm['score_conc'].isin([\"525\", \"524\", \"523\", \"522\", \"521\", \"515\", \"514\", \"513\", \"425\", \"424\", \"413\", \"414\", \"415\", \"315\", \"314\", \"313\"])]"
   ],
   "outputs": [
    {
     "output_type": "execute_result",
     "data": {
      "text/plain": [
       "                                       email  recency  frequency  \\\n",
       "6      00w4f6c1l0dr8wr@marketplace.amazon.de       39          2   \n",
       "7      00y6n4lv9yxzn94@marketplace.amazon.de      343          1   \n",
       "51     05xzx8jgpk2xdy5@marketplace.amazon.de      115          1   \n",
       "54     06b2pyv78fyqq3d@marketplace.amazon.de       40          2   \n",
       "97     0d79hym02d70vj2@marketplace.amazon.de      196          1   \n",
       "...                                      ...      ...        ...   \n",
       "23468  zt03hsjr6gx8hqv@marketplace.amazon.de      197          1   \n",
       "23471  ztbr3mwpwl6zfr2@marketplace.amazon.de      266          1   \n",
       "23481                       zuechter1@gmx.de       10          1   \n",
       "23506          zwinger_von_itzenplitz@gmx.de      256          1   \n",
       "23518  zyc7k56ktbhyfxb@marketplace.amazon.de      331          1   \n",
       "\n",
       "       monetary_value         CLV  r_score  f_score  m_score score_conc  \\\n",
       "6              36.400  283.763476        5        2        2        522   \n",
       "7              57.710  449.889841        3        1        4        314   \n",
       "51             52.480  409.118331        4        1        4        414   \n",
       "54             49.485  385.770210        5        2        3        523   \n",
       "97             53.470  416.836074        3        1        4        314   \n",
       "...               ...         ...      ...      ...      ...        ...   \n",
       "23468          58.810  458.465111        3        1        4        314   \n",
       "23471          46.050  358.991980        3        1        3        313   \n",
       "23481         102.800  801.397950        5        1        5        515   \n",
       "23506         108.810  848.250106        3        1        5        315   \n",
       "23518          69.860  544.607595        3        1        5        315   \n",
       "\n",
       "      clv_score  \n",
       "6           Mid  \n",
       "7          High  \n",
       "51         High  \n",
       "54     Mid-High  \n",
       "97         High  \n",
       "...         ...  \n",
       "23468      High  \n",
       "23471  Mid-High  \n",
       "23481      High  \n",
       "23506      High  \n",
       "23518      High  \n",
       "\n",
       "[1531 rows x 10 columns]"
      ],
      "text/html": [
       "<div>\n",
       "<style scoped>\n",
       "    .dataframe tbody tr th:only-of-type {\n",
       "        vertical-align: middle;\n",
       "    }\n",
       "\n",
       "    .dataframe tbody tr th {\n",
       "        vertical-align: top;\n",
       "    }\n",
       "\n",
       "    .dataframe thead th {\n",
       "        text-align: right;\n",
       "    }\n",
       "</style>\n",
       "<table border=\"1\" class=\"dataframe\">\n",
       "  <thead>\n",
       "    <tr style=\"text-align: right;\">\n",
       "      <th></th>\n",
       "      <th>email</th>\n",
       "      <th>recency</th>\n",
       "      <th>frequency</th>\n",
       "      <th>monetary_value</th>\n",
       "      <th>CLV</th>\n",
       "      <th>r_score</th>\n",
       "      <th>f_score</th>\n",
       "      <th>m_score</th>\n",
       "      <th>score_conc</th>\n",
       "      <th>clv_score</th>\n",
       "    </tr>\n",
       "  </thead>\n",
       "  <tbody>\n",
       "    <tr>\n",
       "      <th>6</th>\n",
       "      <td>00w4f6c1l0dr8wr@marketplace.amazon.de</td>\n",
       "      <td>39</td>\n",
       "      <td>2</td>\n",
       "      <td>36.400</td>\n",
       "      <td>283.763476</td>\n",
       "      <td>5</td>\n",
       "      <td>2</td>\n",
       "      <td>2</td>\n",
       "      <td>522</td>\n",
       "      <td>Mid</td>\n",
       "    </tr>\n",
       "    <tr>\n",
       "      <th>7</th>\n",
       "      <td>00y6n4lv9yxzn94@marketplace.amazon.de</td>\n",
       "      <td>343</td>\n",
       "      <td>1</td>\n",
       "      <td>57.710</td>\n",
       "      <td>449.889841</td>\n",
       "      <td>3</td>\n",
       "      <td>1</td>\n",
       "      <td>4</td>\n",
       "      <td>314</td>\n",
       "      <td>High</td>\n",
       "    </tr>\n",
       "    <tr>\n",
       "      <th>51</th>\n",
       "      <td>05xzx8jgpk2xdy5@marketplace.amazon.de</td>\n",
       "      <td>115</td>\n",
       "      <td>1</td>\n",
       "      <td>52.480</td>\n",
       "      <td>409.118331</td>\n",
       "      <td>4</td>\n",
       "      <td>1</td>\n",
       "      <td>4</td>\n",
       "      <td>414</td>\n",
       "      <td>High</td>\n",
       "    </tr>\n",
       "    <tr>\n",
       "      <th>54</th>\n",
       "      <td>06b2pyv78fyqq3d@marketplace.amazon.de</td>\n",
       "      <td>40</td>\n",
       "      <td>2</td>\n",
       "      <td>49.485</td>\n",
       "      <td>385.770210</td>\n",
       "      <td>5</td>\n",
       "      <td>2</td>\n",
       "      <td>3</td>\n",
       "      <td>523</td>\n",
       "      <td>Mid-High</td>\n",
       "    </tr>\n",
       "    <tr>\n",
       "      <th>97</th>\n",
       "      <td>0d79hym02d70vj2@marketplace.amazon.de</td>\n",
       "      <td>196</td>\n",
       "      <td>1</td>\n",
       "      <td>53.470</td>\n",
       "      <td>416.836074</td>\n",
       "      <td>3</td>\n",
       "      <td>1</td>\n",
       "      <td>4</td>\n",
       "      <td>314</td>\n",
       "      <td>High</td>\n",
       "    </tr>\n",
       "    <tr>\n",
       "      <th>...</th>\n",
       "      <td>...</td>\n",
       "      <td>...</td>\n",
       "      <td>...</td>\n",
       "      <td>...</td>\n",
       "      <td>...</td>\n",
       "      <td>...</td>\n",
       "      <td>...</td>\n",
       "      <td>...</td>\n",
       "      <td>...</td>\n",
       "      <td>...</td>\n",
       "    </tr>\n",
       "    <tr>\n",
       "      <th>23468</th>\n",
       "      <td>zt03hsjr6gx8hqv@marketplace.amazon.de</td>\n",
       "      <td>197</td>\n",
       "      <td>1</td>\n",
       "      <td>58.810</td>\n",
       "      <td>458.465111</td>\n",
       "      <td>3</td>\n",
       "      <td>1</td>\n",
       "      <td>4</td>\n",
       "      <td>314</td>\n",
       "      <td>High</td>\n",
       "    </tr>\n",
       "    <tr>\n",
       "      <th>23471</th>\n",
       "      <td>ztbr3mwpwl6zfr2@marketplace.amazon.de</td>\n",
       "      <td>266</td>\n",
       "      <td>1</td>\n",
       "      <td>46.050</td>\n",
       "      <td>358.991980</td>\n",
       "      <td>3</td>\n",
       "      <td>1</td>\n",
       "      <td>3</td>\n",
       "      <td>313</td>\n",
       "      <td>Mid-High</td>\n",
       "    </tr>\n",
       "    <tr>\n",
       "      <th>23481</th>\n",
       "      <td>zuechter1@gmx.de</td>\n",
       "      <td>10</td>\n",
       "      <td>1</td>\n",
       "      <td>102.800</td>\n",
       "      <td>801.397950</td>\n",
       "      <td>5</td>\n",
       "      <td>1</td>\n",
       "      <td>5</td>\n",
       "      <td>515</td>\n",
       "      <td>High</td>\n",
       "    </tr>\n",
       "    <tr>\n",
       "      <th>23506</th>\n",
       "      <td>zwinger_von_itzenplitz@gmx.de</td>\n",
       "      <td>256</td>\n",
       "      <td>1</td>\n",
       "      <td>108.810</td>\n",
       "      <td>848.250106</td>\n",
       "      <td>3</td>\n",
       "      <td>1</td>\n",
       "      <td>5</td>\n",
       "      <td>315</td>\n",
       "      <td>High</td>\n",
       "    </tr>\n",
       "    <tr>\n",
       "      <th>23518</th>\n",
       "      <td>zyc7k56ktbhyfxb@marketplace.amazon.de</td>\n",
       "      <td>331</td>\n",
       "      <td>1</td>\n",
       "      <td>69.860</td>\n",
       "      <td>544.607595</td>\n",
       "      <td>3</td>\n",
       "      <td>1</td>\n",
       "      <td>5</td>\n",
       "      <td>315</td>\n",
       "      <td>High</td>\n",
       "    </tr>\n",
       "  </tbody>\n",
       "</table>\n",
       "<p>1531 rows × 10 columns</p>\n",
       "</div>"
      ]
     },
     "metadata": {},
     "execution_count": 66
    }
   ],
   "metadata": {}
  },
  {
   "cell_type": "code",
   "execution_count": 63,
   "source": [
    "promising.shape"
   ],
   "outputs": [
    {
     "output_type": "execute_result",
     "data": {
      "text/plain": [
       "(1531, 1)"
      ]
     },
     "metadata": {},
     "execution_count": 63
    }
   ],
   "metadata": {}
  },
  {
   "cell_type": "code",
   "execution_count": 70,
   "source": [
    "clv_relevant = rfm[rfm['clv_score'].isin([\"Mid-High\", \"High\"])].loc[:,['email']]\r\n",
    "clv_relevant.shape"
   ],
   "outputs": [
    {
     "output_type": "execute_result",
     "data": {
      "text/plain": [
       "(8964, 1)"
      ]
     },
     "metadata": {},
     "execution_count": 70
    }
   ],
   "metadata": {}
  },
  {
   "cell_type": "code",
   "execution_count": 68,
   "source": [
    "rfm.shape # but in powr bi there are only 15,466 customers"
   ],
   "outputs": [
    {
     "output_type": "execute_result",
     "data": {
      "text/plain": [
       "(23530, 10)"
      ]
     },
     "metadata": {},
     "execution_count": 68
    }
   ],
   "metadata": {}
  },
  {
   "cell_type": "code",
   "execution_count": 71,
   "source": [
    "promising.to_csv('./Outputs/Promising_Cust_09062021.csv', index=False)\r\n",
    "\r\n",
    "clv_relevant.to_csv('./Outputs/High_MidHigh_CLV_Cust_09062021.csv', index=False)"
   ],
   "outputs": [],
   "metadata": {}
  },
  {
   "cell_type": "markdown",
   "source": [
    "## Experiments"
   ],
   "metadata": {}
  },
  {
   "cell_type": "code",
   "execution_count": null,
   "source": [],
   "outputs": [],
   "metadata": {}
  }
 ],
 "metadata": {
  "kernelspec": {
   "name": "python3",
   "display_name": "Python 3.8.5 64-bit ('base': conda)"
  },
  "language_info": {
   "codemirror_mode": {
    "name": "ipython",
    "version": 3
   },
   "file_extension": ".py",
   "mimetype": "text/x-python",
   "name": "python",
   "nbconvert_exporter": "python",
   "pygments_lexer": "ipython3",
   "version": "3.8.5"
  },
  "interpreter": {
   "hash": "03daa801a6ac9ad48cff95a62c7eae7868ae8adc816431dbf898cb359b759f5b"
  }
 },
 "nbformat": 4,
 "nbformat_minor": 4
}
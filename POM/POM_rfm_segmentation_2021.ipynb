{
 "cells": [
  {
   "cell_type": "code",
   "execution_count": 2,
   "source": [
    "import pandas as pd\r\n",
    "import numpy as np\r\n",
    "import matplotlib.pyplot as plt\r\n",
    "import seaborn as sns\r\n",
    "import chart_studio.plotly as py\r\n",
    "import plotly.offline as pyoff\r\n",
    "import plotly.graph_objs as go\r\n",
    "from plotly.subplots import make_subplots"
   ],
   "outputs": [],
   "metadata": {}
  },
  {
   "cell_type": "markdown",
   "source": [
    "### 2018 - 2019 - 2020"
   ],
   "metadata": {}
  },
  {
   "cell_type": "code",
   "execution_count": 3,
   "source": [
    "df_og = pd.read_csv('./Data/orders_export_1.csv', sep=',', decimal=',')\r\n"
   ],
   "outputs": [
    {
     "output_type": "stream",
     "name": "stderr",
     "text": [
      "C:\\Users\\Angela\\anaconda3\\lib\\site-packages\\IPython\\core\\interactiveshell.py:3146: DtypeWarning:\n",
      "\n",
      "Columns (28,31,38,41,69,70) have mixed types.Specify dtype option on import or set low_memory=False.\n",
      "\n"
     ]
    }
   ],
   "metadata": {}
  },
  {
   "cell_type": "code",
   "execution_count": 4,
   "source": [
    "df_og.shape"
   ],
   "outputs": [
    {
     "output_type": "execute_result",
     "data": {
      "text/plain": [
       "(8422, 71)"
      ]
     },
     "metadata": {},
     "execution_count": 4
    }
   ],
   "metadata": {}
  },
  {
   "cell_type": "code",
   "execution_count": 5,
   "source": [
    "df_og.columns"
   ],
   "outputs": [
    {
     "output_type": "execute_result",
     "data": {
      "text/plain": [
       "Index(['Name', 'Email', 'Financial Status', 'Paid at', 'Fulfillment Status',\n",
       "       'Fulfilled at', 'Accepts Marketing', 'Currency', 'Subtotal', 'Shipping',\n",
       "       'Taxes', 'Total', 'Discount Code', 'Discount Amount', 'Shipping Method',\n",
       "       'Created at', 'Lineitem quantity', 'Lineitem name', 'Lineitem price',\n",
       "       'Lineitem compare at price', 'Lineitem sku',\n",
       "       'Lineitem requires shipping', 'Lineitem taxable',\n",
       "       'Lineitem fulfillment status', 'Billing Name', 'Billing Street',\n",
       "       'Billing Address1', 'Billing Address2', 'Billing Company',\n",
       "       'Billing City', 'Billing Zip', 'Billing Province', 'Billing Country',\n",
       "       'Billing Phone', 'Shipping Name', 'Shipping Street',\n",
       "       'Shipping Address1', 'Shipping Address2', 'Shipping Company',\n",
       "       'Shipping City', 'Shipping Zip', 'Shipping Province',\n",
       "       'Shipping Country', 'Shipping Phone', 'Notes', 'Note Attributes',\n",
       "       'Cancelled at', 'Payment Method', 'Payment Reference',\n",
       "       'Refunded Amount', 'Vendor', 'Id', 'Tags', 'Risk Level', 'Source',\n",
       "       'Lineitem discount', 'Tax 1 Name', 'Tax 1 Value', 'Tax 2 Name',\n",
       "       'Tax 2 Value', 'Tax 3 Name', 'Tax 3 Value', 'Tax 4 Name', 'Tax 4 Value',\n",
       "       'Tax 5 Name', 'Tax 5 Value', 'Phone', 'Receipt Number', 'Duties',\n",
       "       'Billing Province Name', 'Shipping Province Name'],\n",
       "      dtype='object')"
      ]
     },
     "metadata": {},
     "execution_count": 5
    }
   ],
   "metadata": {}
  },
  {
   "cell_type": "code",
   "execution_count": 6,
   "source": [
    "df_og.head()"
   ],
   "outputs": [
    {
     "output_type": "execute_result",
     "data": {
      "text/plain": [
       "     Name                    Email Financial Status  \\\n",
       "0  DE4055           mscheer@web.de             paid   \n",
       "1  DE4055           mscheer@web.de              NaN   \n",
       "2  DE4055           mscheer@web.de              NaN   \n",
       "3  DE4054  bellmann-claudia@gmx.de             paid   \n",
       "4  DE4054  bellmann-claudia@gmx.de              NaN   \n",
       "\n",
       "                     Paid at Fulfillment Status               Fulfilled at  \\\n",
       "0  2021-07-14 10:19:16 +0200          fulfilled  2021-07-14 10:19:18 +0200   \n",
       "1                        NaN                NaN                        NaN   \n",
       "2                        NaN                NaN                        NaN   \n",
       "3  2021-07-14 09:30:12 +0200          fulfilled  2021-07-14 09:30:14 +0200   \n",
       "4                        NaN                NaN                        NaN   \n",
       "\n",
       "  Accepts Marketing Currency Subtotal Shipping  ... Tax 3 Value Tax 4 Name  \\\n",
       "0                no      EUR   230.96     0.00  ...         NaN        NaN   \n",
       "1               NaN      NaN      NaN      NaN  ...         NaN        NaN   \n",
       "2               NaN      NaN      NaN      NaN  ...         NaN        NaN   \n",
       "3                no      EUR   109.95     0.00  ...         NaN        NaN   \n",
       "4               NaN      NaN      NaN      NaN  ...         NaN        NaN   \n",
       "\n",
       "  Tax 4 Value Tax 5 Name Tax 5 Value Phone  Receipt Number Duties  \\\n",
       "0         NaN        NaN         NaN   NaN             NaN    NaN   \n",
       "1         NaN        NaN         NaN   NaN             NaN    NaN   \n",
       "2         NaN        NaN         NaN   NaN             NaN    NaN   \n",
       "3         NaN        NaN         NaN   NaN             NaN    NaN   \n",
       "4         NaN        NaN         NaN   NaN             NaN    NaN   \n",
       "\n",
       "  Billing Province Name Shipping Province Name  \n",
       "0                   NaN                    NaN  \n",
       "1                   NaN                    NaN  \n",
       "2                   NaN                    NaN  \n",
       "3                   NaN                    NaN  \n",
       "4                   NaN                    NaN  \n",
       "\n",
       "[5 rows x 71 columns]"
      ],
      "text/html": [
       "<div>\n",
       "<style scoped>\n",
       "    .dataframe tbody tr th:only-of-type {\n",
       "        vertical-align: middle;\n",
       "    }\n",
       "\n",
       "    .dataframe tbody tr th {\n",
       "        vertical-align: top;\n",
       "    }\n",
       "\n",
       "    .dataframe thead th {\n",
       "        text-align: right;\n",
       "    }\n",
       "</style>\n",
       "<table border=\"1\" class=\"dataframe\">\n",
       "  <thead>\n",
       "    <tr style=\"text-align: right;\">\n",
       "      <th></th>\n",
       "      <th>Name</th>\n",
       "      <th>Email</th>\n",
       "      <th>Financial Status</th>\n",
       "      <th>Paid at</th>\n",
       "      <th>Fulfillment Status</th>\n",
       "      <th>Fulfilled at</th>\n",
       "      <th>Accepts Marketing</th>\n",
       "      <th>Currency</th>\n",
       "      <th>Subtotal</th>\n",
       "      <th>Shipping</th>\n",
       "      <th>...</th>\n",
       "      <th>Tax 3 Value</th>\n",
       "      <th>Tax 4 Name</th>\n",
       "      <th>Tax 4 Value</th>\n",
       "      <th>Tax 5 Name</th>\n",
       "      <th>Tax 5 Value</th>\n",
       "      <th>Phone</th>\n",
       "      <th>Receipt Number</th>\n",
       "      <th>Duties</th>\n",
       "      <th>Billing Province Name</th>\n",
       "      <th>Shipping Province Name</th>\n",
       "    </tr>\n",
       "  </thead>\n",
       "  <tbody>\n",
       "    <tr>\n",
       "      <th>0</th>\n",
       "      <td>DE4055</td>\n",
       "      <td>mscheer@web.de</td>\n",
       "      <td>paid</td>\n",
       "      <td>2021-07-14 10:19:16 +0200</td>\n",
       "      <td>fulfilled</td>\n",
       "      <td>2021-07-14 10:19:18 +0200</td>\n",
       "      <td>no</td>\n",
       "      <td>EUR</td>\n",
       "      <td>230.96</td>\n",
       "      <td>0.00</td>\n",
       "      <td>...</td>\n",
       "      <td>NaN</td>\n",
       "      <td>NaN</td>\n",
       "      <td>NaN</td>\n",
       "      <td>NaN</td>\n",
       "      <td>NaN</td>\n",
       "      <td>NaN</td>\n",
       "      <td>NaN</td>\n",
       "      <td>NaN</td>\n",
       "      <td>NaN</td>\n",
       "      <td>NaN</td>\n",
       "    </tr>\n",
       "    <tr>\n",
       "      <th>1</th>\n",
       "      <td>DE4055</td>\n",
       "      <td>mscheer@web.de</td>\n",
       "      <td>NaN</td>\n",
       "      <td>NaN</td>\n",
       "      <td>NaN</td>\n",
       "      <td>NaN</td>\n",
       "      <td>NaN</td>\n",
       "      <td>NaN</td>\n",
       "      <td>NaN</td>\n",
       "      <td>NaN</td>\n",
       "      <td>...</td>\n",
       "      <td>NaN</td>\n",
       "      <td>NaN</td>\n",
       "      <td>NaN</td>\n",
       "      <td>NaN</td>\n",
       "      <td>NaN</td>\n",
       "      <td>NaN</td>\n",
       "      <td>NaN</td>\n",
       "      <td>NaN</td>\n",
       "      <td>NaN</td>\n",
       "      <td>NaN</td>\n",
       "    </tr>\n",
       "    <tr>\n",
       "      <th>2</th>\n",
       "      <td>DE4055</td>\n",
       "      <td>mscheer@web.de</td>\n",
       "      <td>NaN</td>\n",
       "      <td>NaN</td>\n",
       "      <td>NaN</td>\n",
       "      <td>NaN</td>\n",
       "      <td>NaN</td>\n",
       "      <td>NaN</td>\n",
       "      <td>NaN</td>\n",
       "      <td>NaN</td>\n",
       "      <td>...</td>\n",
       "      <td>NaN</td>\n",
       "      <td>NaN</td>\n",
       "      <td>NaN</td>\n",
       "      <td>NaN</td>\n",
       "      <td>NaN</td>\n",
       "      <td>NaN</td>\n",
       "      <td>NaN</td>\n",
       "      <td>NaN</td>\n",
       "      <td>NaN</td>\n",
       "      <td>NaN</td>\n",
       "    </tr>\n",
       "    <tr>\n",
       "      <th>3</th>\n",
       "      <td>DE4054</td>\n",
       "      <td>bellmann-claudia@gmx.de</td>\n",
       "      <td>paid</td>\n",
       "      <td>2021-07-14 09:30:12 +0200</td>\n",
       "      <td>fulfilled</td>\n",
       "      <td>2021-07-14 09:30:14 +0200</td>\n",
       "      <td>no</td>\n",
       "      <td>EUR</td>\n",
       "      <td>109.95</td>\n",
       "      <td>0.00</td>\n",
       "      <td>...</td>\n",
       "      <td>NaN</td>\n",
       "      <td>NaN</td>\n",
       "      <td>NaN</td>\n",
       "      <td>NaN</td>\n",
       "      <td>NaN</td>\n",
       "      <td>NaN</td>\n",
       "      <td>NaN</td>\n",
       "      <td>NaN</td>\n",
       "      <td>NaN</td>\n",
       "      <td>NaN</td>\n",
       "    </tr>\n",
       "    <tr>\n",
       "      <th>4</th>\n",
       "      <td>DE4054</td>\n",
       "      <td>bellmann-claudia@gmx.de</td>\n",
       "      <td>NaN</td>\n",
       "      <td>NaN</td>\n",
       "      <td>NaN</td>\n",
       "      <td>NaN</td>\n",
       "      <td>NaN</td>\n",
       "      <td>NaN</td>\n",
       "      <td>NaN</td>\n",
       "      <td>NaN</td>\n",
       "      <td>...</td>\n",
       "      <td>NaN</td>\n",
       "      <td>NaN</td>\n",
       "      <td>NaN</td>\n",
       "      <td>NaN</td>\n",
       "      <td>NaN</td>\n",
       "      <td>NaN</td>\n",
       "      <td>NaN</td>\n",
       "      <td>NaN</td>\n",
       "      <td>NaN</td>\n",
       "      <td>NaN</td>\n",
       "    </tr>\n",
       "  </tbody>\n",
       "</table>\n",
       "<p>5 rows × 71 columns</p>\n",
       "</div>"
      ]
     },
     "metadata": {},
     "execution_count": 6
    }
   ],
   "metadata": {}
  },
  {
   "cell_type": "code",
   "execution_count": 7,
   "source": [
    "%run ./cohorts_pipeline_pom_v3.py"
   ],
   "outputs": [],
   "metadata": {}
  },
  {
   "cell_type": "code",
   "execution_count": 8,
   "source": [
    "df = df_cleaning(df_og)"
   ],
   "outputs": [],
   "metadata": {}
  },
  {
   "cell_type": "code",
   "execution_count": 9,
   "source": [
    "df.isna().sum()"
   ],
   "outputs": [
    {
     "output_type": "execute_result",
     "data": {
      "text/plain": [
       "Email               0\n",
       "Order               0\n",
       "Status              0\n",
       "Creation_Date       0\n",
       "Subtotal            0\n",
       "Shipping            0\n",
       "Taxes               0\n",
       "Total               0\n",
       "Product Name        0\n",
       "Customer_Name       0\n",
       "Order_ID            0\n",
       "First_Order         0\n",
       "First_Order_YM      0\n",
       "Creation_Date_YM    0\n",
       "Customer_Type       0\n",
       "Year                0\n",
       "Week                0\n",
       "Year_Week           0\n",
       "ValueNOVAT          0\n",
       "dtype: int64"
      ]
     },
     "metadata": {},
     "execution_count": 9
    }
   ],
   "metadata": {}
  },
  {
   "cell_type": "code",
   "execution_count": 10,
   "source": [
    "df.Status.unique()"
   ],
   "outputs": [
    {
     "output_type": "execute_result",
     "data": {
      "text/plain": [
       "array(['paid', 'partially_refunded', 'refunded'], dtype=object)"
      ]
     },
     "metadata": {},
     "execution_count": 10
    }
   ],
   "metadata": {}
  },
  {
   "cell_type": "code",
   "execution_count": 11,
   "source": [
    "df = df.fillna(0)"
   ],
   "outputs": [],
   "metadata": {}
  },
  {
   "cell_type": "code",
   "execution_count": 12,
   "source": [
    "df['Creation_Date_YM'] = df['Creation_Date'].apply(lambda x: x.strftime('%Y-%m'))"
   ],
   "outputs": [],
   "metadata": {}
  },
  {
   "cell_type": "code",
   "execution_count": 15,
   "source": [
    "df['DaysDiff'] = df.groupby('Email')['Creation_Date'].diff().apply(lambda x: x.days).fillna(0)"
   ],
   "outputs": [],
   "metadata": {}
  },
  {
   "cell_type": "code",
   "execution_count": 16,
   "source": [
    "df.head()"
   ],
   "outputs": [
    {
     "output_type": "execute_result",
     "data": {
      "text/plain": [
       "                     Email   Order Status             Creation_Date  Subtotal  \\\n",
       "0           mscheer@web.de  DE4055   paid 2021-07-14 08:19:15+00:00    230.96   \n",
       "1  bellmann-claudia@gmx.de  DE4054   paid 2021-07-14 07:30:11+00:00    109.95   \n",
       "2       andienina@yahoo.de  DE4053   paid 2021-07-13 20:15:04+00:00    303.87   \n",
       "3            kaidoe@web.de  DE4052   paid 2021-07-13 19:39:52+00:00     69.95   \n",
       "4     startoja@hotmail.com  DE4051   paid 2021-07-13 18:11:44+00:00    375.86   \n",
       "\n",
       "   Shipping  Taxes   Total                              Product Name  \\\n",
       "0       0.0  36.88  230.96                             Card set SS21   \n",
       "1       0.0  17.56  109.95                             Card set SS21   \n",
       "2       0.0  48.52  303.87        HOSE - Bouncing Stripes Coral - 42   \n",
       "3       0.0  11.17   69.95                             Card set SS21   \n",
       "4       0.0  60.01  375.86  KLEID - Roses Midnight Blue Shimmer - 34   \n",
       "\n",
       "      Customer_Name      Order_ID               First_Order First_Order_YM  \\\n",
       "0   Michaela Scheer  3.795021e+12 2021-07-14 08:19:15+00:00        2021-07   \n",
       "1  Claudia Bellmann  3.794999e+12 2021-04-23 20:34:42+00:00        2021-04   \n",
       "2       Nina Müller  3.794557e+12 2021-07-13 20:15:04+00:00        2021-07   \n",
       "3      Dörte Kaiser  3.794521e+12 2021-07-13 19:39:52+00:00        2021-07   \n",
       "4       Marc Costea  3.794438e+12 2021-07-13 18:11:44+00:00        2021-07   \n",
       "\n",
       "  Creation_Date_YM Customer_Type  Year  Week Year_Week  ValueNOVAT  DaysDiff  \n",
       "0          2021-07           New  2021    28   2021-28      194.08       0.0  \n",
       "1          2021-07     Returning  2021    28   2021-28       92.39       0.0  \n",
       "2          2021-07           New  2021    28   2021-28      255.35       0.0  \n",
       "3          2021-07           New  2021    28   2021-28       58.78       0.0  \n",
       "4          2021-07           New  2021    28   2021-28      315.85       0.0  "
      ],
      "text/html": [
       "<div>\n",
       "<style scoped>\n",
       "    .dataframe tbody tr th:only-of-type {\n",
       "        vertical-align: middle;\n",
       "    }\n",
       "\n",
       "    .dataframe tbody tr th {\n",
       "        vertical-align: top;\n",
       "    }\n",
       "\n",
       "    .dataframe thead th {\n",
       "        text-align: right;\n",
       "    }\n",
       "</style>\n",
       "<table border=\"1\" class=\"dataframe\">\n",
       "  <thead>\n",
       "    <tr style=\"text-align: right;\">\n",
       "      <th></th>\n",
       "      <th>Email</th>\n",
       "      <th>Order</th>\n",
       "      <th>Status</th>\n",
       "      <th>Creation_Date</th>\n",
       "      <th>Subtotal</th>\n",
       "      <th>Shipping</th>\n",
       "      <th>Taxes</th>\n",
       "      <th>Total</th>\n",
       "      <th>Product Name</th>\n",
       "      <th>Customer_Name</th>\n",
       "      <th>Order_ID</th>\n",
       "      <th>First_Order</th>\n",
       "      <th>First_Order_YM</th>\n",
       "      <th>Creation_Date_YM</th>\n",
       "      <th>Customer_Type</th>\n",
       "      <th>Year</th>\n",
       "      <th>Week</th>\n",
       "      <th>Year_Week</th>\n",
       "      <th>ValueNOVAT</th>\n",
       "      <th>DaysDiff</th>\n",
       "    </tr>\n",
       "  </thead>\n",
       "  <tbody>\n",
       "    <tr>\n",
       "      <th>0</th>\n",
       "      <td>mscheer@web.de</td>\n",
       "      <td>DE4055</td>\n",
       "      <td>paid</td>\n",
       "      <td>2021-07-14 08:19:15+00:00</td>\n",
       "      <td>230.96</td>\n",
       "      <td>0.0</td>\n",
       "      <td>36.88</td>\n",
       "      <td>230.96</td>\n",
       "      <td>Card set SS21</td>\n",
       "      <td>Michaela Scheer</td>\n",
       "      <td>3.795021e+12</td>\n",
       "      <td>2021-07-14 08:19:15+00:00</td>\n",
       "      <td>2021-07</td>\n",
       "      <td>2021-07</td>\n",
       "      <td>New</td>\n",
       "      <td>2021</td>\n",
       "      <td>28</td>\n",
       "      <td>2021-28</td>\n",
       "      <td>194.08</td>\n",
       "      <td>0.0</td>\n",
       "    </tr>\n",
       "    <tr>\n",
       "      <th>1</th>\n",
       "      <td>bellmann-claudia@gmx.de</td>\n",
       "      <td>DE4054</td>\n",
       "      <td>paid</td>\n",
       "      <td>2021-07-14 07:30:11+00:00</td>\n",
       "      <td>109.95</td>\n",
       "      <td>0.0</td>\n",
       "      <td>17.56</td>\n",
       "      <td>109.95</td>\n",
       "      <td>Card set SS21</td>\n",
       "      <td>Claudia Bellmann</td>\n",
       "      <td>3.794999e+12</td>\n",
       "      <td>2021-04-23 20:34:42+00:00</td>\n",
       "      <td>2021-04</td>\n",
       "      <td>2021-07</td>\n",
       "      <td>Returning</td>\n",
       "      <td>2021</td>\n",
       "      <td>28</td>\n",
       "      <td>2021-28</td>\n",
       "      <td>92.39</td>\n",
       "      <td>0.0</td>\n",
       "    </tr>\n",
       "    <tr>\n",
       "      <th>2</th>\n",
       "      <td>andienina@yahoo.de</td>\n",
       "      <td>DE4053</td>\n",
       "      <td>paid</td>\n",
       "      <td>2021-07-13 20:15:04+00:00</td>\n",
       "      <td>303.87</td>\n",
       "      <td>0.0</td>\n",
       "      <td>48.52</td>\n",
       "      <td>303.87</td>\n",
       "      <td>HOSE - Bouncing Stripes Coral - 42</td>\n",
       "      <td>Nina Müller</td>\n",
       "      <td>3.794557e+12</td>\n",
       "      <td>2021-07-13 20:15:04+00:00</td>\n",
       "      <td>2021-07</td>\n",
       "      <td>2021-07</td>\n",
       "      <td>New</td>\n",
       "      <td>2021</td>\n",
       "      <td>28</td>\n",
       "      <td>2021-28</td>\n",
       "      <td>255.35</td>\n",
       "      <td>0.0</td>\n",
       "    </tr>\n",
       "    <tr>\n",
       "      <th>3</th>\n",
       "      <td>kaidoe@web.de</td>\n",
       "      <td>DE4052</td>\n",
       "      <td>paid</td>\n",
       "      <td>2021-07-13 19:39:52+00:00</td>\n",
       "      <td>69.95</td>\n",
       "      <td>0.0</td>\n",
       "      <td>11.17</td>\n",
       "      <td>69.95</td>\n",
       "      <td>Card set SS21</td>\n",
       "      <td>Dörte Kaiser</td>\n",
       "      <td>3.794521e+12</td>\n",
       "      <td>2021-07-13 19:39:52+00:00</td>\n",
       "      <td>2021-07</td>\n",
       "      <td>2021-07</td>\n",
       "      <td>New</td>\n",
       "      <td>2021</td>\n",
       "      <td>28</td>\n",
       "      <td>2021-28</td>\n",
       "      <td>58.78</td>\n",
       "      <td>0.0</td>\n",
       "    </tr>\n",
       "    <tr>\n",
       "      <th>4</th>\n",
       "      <td>startoja@hotmail.com</td>\n",
       "      <td>DE4051</td>\n",
       "      <td>paid</td>\n",
       "      <td>2021-07-13 18:11:44+00:00</td>\n",
       "      <td>375.86</td>\n",
       "      <td>0.0</td>\n",
       "      <td>60.01</td>\n",
       "      <td>375.86</td>\n",
       "      <td>KLEID - Roses Midnight Blue Shimmer - 34</td>\n",
       "      <td>Marc Costea</td>\n",
       "      <td>3.794438e+12</td>\n",
       "      <td>2021-07-13 18:11:44+00:00</td>\n",
       "      <td>2021-07</td>\n",
       "      <td>2021-07</td>\n",
       "      <td>New</td>\n",
       "      <td>2021</td>\n",
       "      <td>28</td>\n",
       "      <td>2021-28</td>\n",
       "      <td>315.85</td>\n",
       "      <td>0.0</td>\n",
       "    </tr>\n",
       "  </tbody>\n",
       "</table>\n",
       "</div>"
      ]
     },
     "metadata": {},
     "execution_count": 16
    }
   ],
   "metadata": {}
  },
  {
   "cell_type": "code",
   "execution_count": 17,
   "source": [
    "df.Status.unique()"
   ],
   "outputs": [
    {
     "output_type": "execute_result",
     "data": {
      "text/plain": [
       "array(['paid', 'partially_refunded', 'refunded'], dtype=object)"
      ]
     },
     "metadata": {},
     "execution_count": 17
    }
   ],
   "metadata": {}
  },
  {
   "cell_type": "code",
   "execution_count": 18,
   "source": [
    "df.shape"
   ],
   "outputs": [
    {
     "output_type": "execute_result",
     "data": {
      "text/plain": [
       "(2949, 20)"
      ]
     },
     "metadata": {},
     "execution_count": 18
    }
   ],
   "metadata": {}
  },
  {
   "cell_type": "markdown",
   "source": [
    "# First Time Buyers"
   ],
   "metadata": {}
  },
  {
   "cell_type": "code",
   "execution_count": 19,
   "source": [
    "df.head()"
   ],
   "outputs": [
    {
     "output_type": "execute_result",
     "data": {
      "text/plain": [
       "                     Email   Order Status             Creation_Date  Subtotal  \\\n",
       "0           mscheer@web.de  DE4055   paid 2021-07-14 08:19:15+00:00    230.96   \n",
       "1  bellmann-claudia@gmx.de  DE4054   paid 2021-07-14 07:30:11+00:00    109.95   \n",
       "2       andienina@yahoo.de  DE4053   paid 2021-07-13 20:15:04+00:00    303.87   \n",
       "3            kaidoe@web.de  DE4052   paid 2021-07-13 19:39:52+00:00     69.95   \n",
       "4     startoja@hotmail.com  DE4051   paid 2021-07-13 18:11:44+00:00    375.86   \n",
       "\n",
       "   Shipping  Taxes   Total                              Product Name  \\\n",
       "0       0.0  36.88  230.96                             Card set SS21   \n",
       "1       0.0  17.56  109.95                             Card set SS21   \n",
       "2       0.0  48.52  303.87        HOSE - Bouncing Stripes Coral - 42   \n",
       "3       0.0  11.17   69.95                             Card set SS21   \n",
       "4       0.0  60.01  375.86  KLEID - Roses Midnight Blue Shimmer - 34   \n",
       "\n",
       "      Customer_Name      Order_ID               First_Order First_Order_YM  \\\n",
       "0   Michaela Scheer  3.795021e+12 2021-07-14 08:19:15+00:00        2021-07   \n",
       "1  Claudia Bellmann  3.794999e+12 2021-04-23 20:34:42+00:00        2021-04   \n",
       "2       Nina Müller  3.794557e+12 2021-07-13 20:15:04+00:00        2021-07   \n",
       "3      Dörte Kaiser  3.794521e+12 2021-07-13 19:39:52+00:00        2021-07   \n",
       "4       Marc Costea  3.794438e+12 2021-07-13 18:11:44+00:00        2021-07   \n",
       "\n",
       "  Creation_Date_YM Customer_Type  Year  Week Year_Week  ValueNOVAT  DaysDiff  \n",
       "0          2021-07           New  2021    28   2021-28      194.08       0.0  \n",
       "1          2021-07     Returning  2021    28   2021-28       92.39       0.0  \n",
       "2          2021-07           New  2021    28   2021-28      255.35       0.0  \n",
       "3          2021-07           New  2021    28   2021-28       58.78       0.0  \n",
       "4          2021-07           New  2021    28   2021-28      315.85       0.0  "
      ],
      "text/html": [
       "<div>\n",
       "<style scoped>\n",
       "    .dataframe tbody tr th:only-of-type {\n",
       "        vertical-align: middle;\n",
       "    }\n",
       "\n",
       "    .dataframe tbody tr th {\n",
       "        vertical-align: top;\n",
       "    }\n",
       "\n",
       "    .dataframe thead th {\n",
       "        text-align: right;\n",
       "    }\n",
       "</style>\n",
       "<table border=\"1\" class=\"dataframe\">\n",
       "  <thead>\n",
       "    <tr style=\"text-align: right;\">\n",
       "      <th></th>\n",
       "      <th>Email</th>\n",
       "      <th>Order</th>\n",
       "      <th>Status</th>\n",
       "      <th>Creation_Date</th>\n",
       "      <th>Subtotal</th>\n",
       "      <th>Shipping</th>\n",
       "      <th>Taxes</th>\n",
       "      <th>Total</th>\n",
       "      <th>Product Name</th>\n",
       "      <th>Customer_Name</th>\n",
       "      <th>Order_ID</th>\n",
       "      <th>First_Order</th>\n",
       "      <th>First_Order_YM</th>\n",
       "      <th>Creation_Date_YM</th>\n",
       "      <th>Customer_Type</th>\n",
       "      <th>Year</th>\n",
       "      <th>Week</th>\n",
       "      <th>Year_Week</th>\n",
       "      <th>ValueNOVAT</th>\n",
       "      <th>DaysDiff</th>\n",
       "    </tr>\n",
       "  </thead>\n",
       "  <tbody>\n",
       "    <tr>\n",
       "      <th>0</th>\n",
       "      <td>mscheer@web.de</td>\n",
       "      <td>DE4055</td>\n",
       "      <td>paid</td>\n",
       "      <td>2021-07-14 08:19:15+00:00</td>\n",
       "      <td>230.96</td>\n",
       "      <td>0.0</td>\n",
       "      <td>36.88</td>\n",
       "      <td>230.96</td>\n",
       "      <td>Card set SS21</td>\n",
       "      <td>Michaela Scheer</td>\n",
       "      <td>3.795021e+12</td>\n",
       "      <td>2021-07-14 08:19:15+00:00</td>\n",
       "      <td>2021-07</td>\n",
       "      <td>2021-07</td>\n",
       "      <td>New</td>\n",
       "      <td>2021</td>\n",
       "      <td>28</td>\n",
       "      <td>2021-28</td>\n",
       "      <td>194.08</td>\n",
       "      <td>0.0</td>\n",
       "    </tr>\n",
       "    <tr>\n",
       "      <th>1</th>\n",
       "      <td>bellmann-claudia@gmx.de</td>\n",
       "      <td>DE4054</td>\n",
       "      <td>paid</td>\n",
       "      <td>2021-07-14 07:30:11+00:00</td>\n",
       "      <td>109.95</td>\n",
       "      <td>0.0</td>\n",
       "      <td>17.56</td>\n",
       "      <td>109.95</td>\n",
       "      <td>Card set SS21</td>\n",
       "      <td>Claudia Bellmann</td>\n",
       "      <td>3.794999e+12</td>\n",
       "      <td>2021-04-23 20:34:42+00:00</td>\n",
       "      <td>2021-04</td>\n",
       "      <td>2021-07</td>\n",
       "      <td>Returning</td>\n",
       "      <td>2021</td>\n",
       "      <td>28</td>\n",
       "      <td>2021-28</td>\n",
       "      <td>92.39</td>\n",
       "      <td>0.0</td>\n",
       "    </tr>\n",
       "    <tr>\n",
       "      <th>2</th>\n",
       "      <td>andienina@yahoo.de</td>\n",
       "      <td>DE4053</td>\n",
       "      <td>paid</td>\n",
       "      <td>2021-07-13 20:15:04+00:00</td>\n",
       "      <td>303.87</td>\n",
       "      <td>0.0</td>\n",
       "      <td>48.52</td>\n",
       "      <td>303.87</td>\n",
       "      <td>HOSE - Bouncing Stripes Coral - 42</td>\n",
       "      <td>Nina Müller</td>\n",
       "      <td>3.794557e+12</td>\n",
       "      <td>2021-07-13 20:15:04+00:00</td>\n",
       "      <td>2021-07</td>\n",
       "      <td>2021-07</td>\n",
       "      <td>New</td>\n",
       "      <td>2021</td>\n",
       "      <td>28</td>\n",
       "      <td>2021-28</td>\n",
       "      <td>255.35</td>\n",
       "      <td>0.0</td>\n",
       "    </tr>\n",
       "    <tr>\n",
       "      <th>3</th>\n",
       "      <td>kaidoe@web.de</td>\n",
       "      <td>DE4052</td>\n",
       "      <td>paid</td>\n",
       "      <td>2021-07-13 19:39:52+00:00</td>\n",
       "      <td>69.95</td>\n",
       "      <td>0.0</td>\n",
       "      <td>11.17</td>\n",
       "      <td>69.95</td>\n",
       "      <td>Card set SS21</td>\n",
       "      <td>Dörte Kaiser</td>\n",
       "      <td>3.794521e+12</td>\n",
       "      <td>2021-07-13 19:39:52+00:00</td>\n",
       "      <td>2021-07</td>\n",
       "      <td>2021-07</td>\n",
       "      <td>New</td>\n",
       "      <td>2021</td>\n",
       "      <td>28</td>\n",
       "      <td>2021-28</td>\n",
       "      <td>58.78</td>\n",
       "      <td>0.0</td>\n",
       "    </tr>\n",
       "    <tr>\n",
       "      <th>4</th>\n",
       "      <td>startoja@hotmail.com</td>\n",
       "      <td>DE4051</td>\n",
       "      <td>paid</td>\n",
       "      <td>2021-07-13 18:11:44+00:00</td>\n",
       "      <td>375.86</td>\n",
       "      <td>0.0</td>\n",
       "      <td>60.01</td>\n",
       "      <td>375.86</td>\n",
       "      <td>KLEID - Roses Midnight Blue Shimmer - 34</td>\n",
       "      <td>Marc Costea</td>\n",
       "      <td>3.794438e+12</td>\n",
       "      <td>2021-07-13 18:11:44+00:00</td>\n",
       "      <td>2021-07</td>\n",
       "      <td>2021-07</td>\n",
       "      <td>New</td>\n",
       "      <td>2021</td>\n",
       "      <td>28</td>\n",
       "      <td>2021-28</td>\n",
       "      <td>315.85</td>\n",
       "      <td>0.0</td>\n",
       "    </tr>\n",
       "  </tbody>\n",
       "</table>\n",
       "</div>"
      ]
     },
     "metadata": {},
     "execution_count": 19
    }
   ],
   "metadata": {}
  },
  {
   "cell_type": "code",
   "execution_count": 20,
   "source": [
    "import datetime\r\n",
    "now = datetime.datetime.now()"
   ],
   "outputs": [],
   "metadata": {}
  },
  {
   "cell_type": "code",
   "execution_count": 21,
   "source": [
    "now"
   ],
   "outputs": [
    {
     "output_type": "execute_result",
     "data": {
      "text/plain": [
       "datetime.datetime(2021, 7, 30, 14, 36, 32, 945041)"
      ]
     },
     "metadata": {},
     "execution_count": 21
    }
   ],
   "metadata": {}
  },
  {
   "cell_type": "code",
   "execution_count": null,
   "source": [
    "now - df['First_Order']"
   ],
   "outputs": [],
   "metadata": {}
  },
  {
   "cell_type": "code",
   "execution_count": null,
   "source": [
    "df[(now - df['First_Order'])<=pd.Timedelta(7,'D')].loc[:,['E-mail', 'Firstname', 'Lastname']]\r\n",
    "# it doesn't show new customers because this data is older than 2 weeks..."
   ],
   "outputs": [],
   "metadata": {}
  },
  {
   "cell_type": "code",
   "execution_count": 25,
   "source": [
    "new_customers = df[(now - df['First_Order'])<=pd.Timedelta(7,'D')].loc[:,['E-mail', 'Firstname', 'Lastname']]"
   ],
   "outputs": [],
   "metadata": {}
  },
  {
   "cell_type": "code",
   "execution_count": 26,
   "source": [
    "new_customers = new_customers.drop_duplicates()"
   ],
   "outputs": [],
   "metadata": {}
  },
  {
   "cell_type": "code",
   "execution_count": 27,
   "source": [
    "#new_customers.to_csv('./Outputs/WOOOF_NewCustomers_{}.csv'.format(pd.datetime.today().strftime('%Y%m%d'), index=False))"
   ],
   "outputs": [],
   "metadata": {}
  },
  {
   "cell_type": "code",
   "execution_count": 28,
   "source": [
    "new_customers.head()"
   ],
   "outputs": [
    {
     "output_type": "execute_result",
     "data": {
      "text/plain": [
       "                               E-mail   Firstname            Lastname\n",
       "85549                ronjasuhr@web.de       Ronja                Suhr\n",
       "85551      bettyziskoven674@gmail.com       Karin            Ziskoven\n",
       "85570                max_hein@live.de  Maximilian                Hein\n",
       "85572                cat-dany@gmx.de0     Daniela         Schönberger\n",
       "85583  ccvandersteenhoven@hotmail.com    Coenraad  van der Steenhoven"
      ],
      "text/html": [
       "<div>\n",
       "<style scoped>\n",
       "    .dataframe tbody tr th:only-of-type {\n",
       "        vertical-align: middle;\n",
       "    }\n",
       "\n",
       "    .dataframe tbody tr th {\n",
       "        vertical-align: top;\n",
       "    }\n",
       "\n",
       "    .dataframe thead th {\n",
       "        text-align: right;\n",
       "    }\n",
       "</style>\n",
       "<table border=\"1\" class=\"dataframe\">\n",
       "  <thead>\n",
       "    <tr style=\"text-align: right;\">\n",
       "      <th></th>\n",
       "      <th>E-mail</th>\n",
       "      <th>Firstname</th>\n",
       "      <th>Lastname</th>\n",
       "    </tr>\n",
       "  </thead>\n",
       "  <tbody>\n",
       "    <tr>\n",
       "      <th>85549</th>\n",
       "      <td>ronjasuhr@web.de</td>\n",
       "      <td>Ronja</td>\n",
       "      <td>Suhr</td>\n",
       "    </tr>\n",
       "    <tr>\n",
       "      <th>85551</th>\n",
       "      <td>bettyziskoven674@gmail.com</td>\n",
       "      <td>Karin</td>\n",
       "      <td>Ziskoven</td>\n",
       "    </tr>\n",
       "    <tr>\n",
       "      <th>85570</th>\n",
       "      <td>max_hein@live.de</td>\n",
       "      <td>Maximilian</td>\n",
       "      <td>Hein</td>\n",
       "    </tr>\n",
       "    <tr>\n",
       "      <th>85572</th>\n",
       "      <td>cat-dany@gmx.de0</td>\n",
       "      <td>Daniela</td>\n",
       "      <td>Schönberger</td>\n",
       "    </tr>\n",
       "    <tr>\n",
       "      <th>85583</th>\n",
       "      <td>ccvandersteenhoven@hotmail.com</td>\n",
       "      <td>Coenraad</td>\n",
       "      <td>van der Steenhoven</td>\n",
       "    </tr>\n",
       "  </tbody>\n",
       "</table>\n",
       "</div>"
      ]
     },
     "metadata": {},
     "execution_count": 28
    }
   ],
   "metadata": {}
  },
  {
   "cell_type": "markdown",
   "source": [
    "## RFM"
   ],
   "metadata": {}
  },
  {
   "cell_type": "code",
   "execution_count": 23,
   "source": [
    "df.columns"
   ],
   "outputs": [
    {
     "output_type": "execute_result",
     "data": {
      "text/plain": [
       "Index(['Email', 'Order', 'Status', 'Creation_Date', 'Subtotal', 'Shipping',\n",
       "       'Taxes', 'Total', 'Product Name', 'Customer_Name', 'Order_ID',\n",
       "       'First_Order', 'First_Order_YM', 'Creation_Date_YM', 'Customer_Type',\n",
       "       'Year', 'Week', 'Year_Week', 'ValueNOVAT', 'DaysDiff'],\n",
       "      dtype='object')"
      ]
     },
     "metadata": {},
     "execution_count": 23
    }
   ],
   "metadata": {}
  },
  {
   "cell_type": "code",
   "execution_count": 24,
   "source": [
    "df_og.columns"
   ],
   "outputs": [
    {
     "output_type": "execute_result",
     "data": {
      "text/plain": [
       "Index(['Name', 'Email', 'Financial Status', 'Paid at', 'Fulfillment Status',\n",
       "       'Fulfilled at', 'Accepts Marketing', 'Currency', 'Subtotal', 'Shipping',\n",
       "       'Taxes', 'Total', 'Discount Code', 'Discount Amount', 'Shipping Method',\n",
       "       'Created at', 'Lineitem quantity', 'Lineitem name', 'Lineitem price',\n",
       "       'Lineitem compare at price', 'Lineitem sku',\n",
       "       'Lineitem requires shipping', 'Lineitem taxable',\n",
       "       'Lineitem fulfillment status', 'Billing Name', 'Billing Street',\n",
       "       'Billing Address1', 'Billing Address2', 'Billing Company',\n",
       "       'Billing City', 'Billing Zip', 'Billing Province', 'Billing Country',\n",
       "       'Billing Phone', 'Shipping Name', 'Shipping Street',\n",
       "       'Shipping Address1', 'Shipping Address2', 'Shipping Company',\n",
       "       'Shipping City', 'Shipping Zip', 'Shipping Province',\n",
       "       'Shipping Country', 'Shipping Phone', 'Notes', 'Note Attributes',\n",
       "       'Cancelled at', 'Payment Method', 'Payment Reference',\n",
       "       'Refunded Amount', 'Vendor', 'Id', 'Tags', 'Risk Level', 'Source',\n",
       "       'Lineitem discount', 'Tax 1 Name', 'Tax 1 Value', 'Tax 2 Name',\n",
       "       'Tax 2 Value', 'Tax 3 Name', 'Tax 3 Value', 'Tax 4 Name', 'Tax 4 Value',\n",
       "       'Tax 5 Name', 'Tax 5 Value', 'Phone', 'Receipt Number', 'Duties',\n",
       "       'Billing Province Name', 'Shipping Province Name'],\n",
       "      dtype='object')"
      ]
     },
     "metadata": {},
     "execution_count": 24
    }
   ],
   "metadata": {}
  },
  {
   "cell_type": "code",
   "execution_count": 25,
   "source": [
    "# Setup maximum date for Recency calculation on training dataset\r\n",
    "max_date = df.Creation_Date.max()"
   ],
   "outputs": [],
   "metadata": {}
  },
  {
   "cell_type": "code",
   "execution_count": 26,
   "source": [
    "max_date"
   ],
   "outputs": [
    {
     "output_type": "execute_result",
     "data": {
      "text/plain": [
       "Timestamp('2021-07-14 08:19:15+0000', tz='UTC')"
      ]
     },
     "metadata": {},
     "execution_count": 26
    }
   ],
   "metadata": {}
  },
  {
   "cell_type": "code",
   "execution_count": 27,
   "source": [
    "df.Customer_Type.value_counts()"
   ],
   "outputs": [
    {
     "output_type": "execute_result",
     "data": {
      "text/plain": [
       "New          2377\n",
       "Returning     572\n",
       "Name: Customer_Type, dtype: int64"
      ]
     },
     "metadata": {},
     "execution_count": 27
    }
   ],
   "metadata": {}
  },
  {
   "cell_type": "code",
   "execution_count": 36,
   "source": [
    "df_21 = df[df['Creation_Date'] >= '2020-01-01']\r\n",
    "df_21.Creation_Date.min()"
   ],
   "outputs": [
    {
     "output_type": "execute_result",
     "data": {
      "text/plain": [
       "Timestamp('2020-01-03 13:30:46+0000', tz='UTC')"
      ]
     },
     "metadata": {},
     "execution_count": 36
    }
   ],
   "metadata": {}
  },
  {
   "cell_type": "code",
   "execution_count": 37,
   "source": [
    "df_19 = df[df['Creation_Date'] >= '2019-01-01']\r\n",
    "df_19.shape"
   ],
   "outputs": [
    {
     "output_type": "execute_result",
     "data": {
      "text/plain": [
       "(2949, 20)"
      ]
     },
     "metadata": {},
     "execution_count": 37
    }
   ],
   "metadata": {}
  },
  {
   "cell_type": "code",
   "execution_count": 39,
   "source": [
    "# Create the RFM table\r\n",
    "rfm_21 = df_21.groupby('Email').agg({'Creation_Date': lambda x: (max_date - x.max()).days,\r\n",
    "                                                   'Order_ID': lambda num: len(num),\r\n",
    "                                                   'ValueNOVAT': lambda price: price.mean()})\r\n",
    "\r\n",
    "rfm_19 = df_19.groupby('Email').agg({'Creation_Date': lambda x: (max_date - x.max()).days,\r\n",
    "                                                   'Order_ID': lambda num: len(num),\r\n",
    "                                                   'ValueNOVAT': lambda price: price.mean()})"
   ],
   "outputs": [],
   "metadata": {}
  },
  {
   "cell_type": "code",
   "execution_count": 40,
   "source": [
    "# Reset Index\r\n",
    "rfm_21.reset_index(inplace=True)\r\n",
    "\r\n",
    "# Change the name of the columns\r\n",
    "rfm_21.columns=['email','recency','frequency','monetary_value']\r\n",
    "\r\n",
    "# Reset Index\r\n",
    "rfm_19.reset_index(inplace=True)\r\n",
    "\r\n",
    "# Change the name of the columns\r\n",
    "rfm_19.columns=['email','recency','frequency','monetary_value']"
   ],
   "outputs": [],
   "metadata": {}
  },
  {
   "cell_type": "code",
   "execution_count": 41,
   "source": [
    "rfm_21.shape, df_21.shape"
   ],
   "outputs": [
    {
     "output_type": "execute_result",
     "data": {
      "text/plain": [
       "((2353, 4), (2919, 20))"
      ]
     },
     "metadata": {},
     "execution_count": 41
    }
   ],
   "metadata": {}
  },
  {
   "cell_type": "code",
   "execution_count": 42,
   "source": [
    "rfm_19.shape, df_19.shape"
   ],
   "outputs": [
    {
     "output_type": "execute_result",
     "data": {
      "text/plain": [
       "((2377, 4), (2949, 20))"
      ]
     },
     "metadata": {},
     "execution_count": 42
    }
   ],
   "metadata": {}
  },
  {
   "cell_type": "code",
   "execution_count": 43,
   "source": [
    "# Purchase Frequency\r\n",
    "purchase_frequency=sum(rfm_21['frequency'])/rfm_21.shape[0]"
   ],
   "outputs": [],
   "metadata": {}
  },
  {
   "cell_type": "code",
   "execution_count": 44,
   "source": [
    "# Repeat Rate\r\n",
    "repeat_rate=rfm_21[rfm_21.frequency > 1].shape[0]/rfm_21.shape[0]"
   ],
   "outputs": [],
   "metadata": {}
  },
  {
   "cell_type": "code",
   "execution_count": 45,
   "source": [
    "# Churn Rate\r\n",
    "churn_rate=1-repeat_rate"
   ],
   "outputs": [],
   "metadata": {}
  },
  {
   "cell_type": "code",
   "execution_count": 46,
   "source": [
    "purchase_frequency,repeat_rate,churn_rate"
   ],
   "outputs": [
    {
     "output_type": "execute_result",
     "data": {
      "text/plain": [
       "(1.24054398640034, 0.15512112197195072, 0.8448788780280493)"
      ]
     },
     "metadata": {},
     "execution_count": 46
    }
   ],
   "metadata": {}
  },
  {
   "cell_type": "code",
   "execution_count": 47,
   "source": [
    "# Customer Value\r\n",
    "rfm_21['CLV']=(rfm_21['monetary_value']*purchase_frequency)/churn_rate"
   ],
   "outputs": [],
   "metadata": {}
  },
  {
   "cell_type": "code",
   "execution_count": 48,
   "source": [
    "# Purchase Frequency\r\n",
    "purchase_frequency=sum(rfm_19['frequency'])/rfm_19.shape[0]\r\n",
    "\r\n",
    "# Repeat Rate\r\n",
    "repeat_rate=rfm_19[rfm_19.frequency > 1].shape[0]/rfm_19.shape[0]\r\n",
    "\r\n",
    "# Churn Rate\r\n",
    "churn_rate=1-repeat_rate\r\n",
    "\r\n",
    "# Customer Value\r\n",
    "rfm_19['CLV']=(rfm_19['monetary_value']*purchase_frequency)/churn_rate"
   ],
   "outputs": [],
   "metadata": {}
  },
  {
   "cell_type": "code",
   "execution_count": 49,
   "source": [
    "rfm_21.sample(5)"
   ],
   "outputs": [
    {
     "output_type": "execute_result",
     "data": {
      "text/plain": [
       "                             email  recency  frequency  monetary_value  \\\n",
       "902            helgawilling@web.de      109        1.0           49.55   \n",
       "1748  petrahoffmann.krefeld@web.de      370        1.0           52.04   \n",
       "348              b_entschel@web.de       92        1.0           99.13   \n",
       "1697            nosagra@icloud.com      146        1.0          148.67   \n",
       "567      claudia.aldejohann@gmx.de      208        2.0          111.49   \n",
       "\n",
       "             CLV  \n",
       "902    72.754754  \n",
       "1748   76.410845  \n",
       "348   145.553556  \n",
       "1697  218.293627  \n",
       "567   163.701866  "
      ],
      "text/html": [
       "<div>\n",
       "<style scoped>\n",
       "    .dataframe tbody tr th:only-of-type {\n",
       "        vertical-align: middle;\n",
       "    }\n",
       "\n",
       "    .dataframe tbody tr th {\n",
       "        vertical-align: top;\n",
       "    }\n",
       "\n",
       "    .dataframe thead th {\n",
       "        text-align: right;\n",
       "    }\n",
       "</style>\n",
       "<table border=\"1\" class=\"dataframe\">\n",
       "  <thead>\n",
       "    <tr style=\"text-align: right;\">\n",
       "      <th></th>\n",
       "      <th>email</th>\n",
       "      <th>recency</th>\n",
       "      <th>frequency</th>\n",
       "      <th>monetary_value</th>\n",
       "      <th>CLV</th>\n",
       "    </tr>\n",
       "  </thead>\n",
       "  <tbody>\n",
       "    <tr>\n",
       "      <th>902</th>\n",
       "      <td>helgawilling@web.de</td>\n",
       "      <td>109</td>\n",
       "      <td>1.0</td>\n",
       "      <td>49.55</td>\n",
       "      <td>72.754754</td>\n",
       "    </tr>\n",
       "    <tr>\n",
       "      <th>1748</th>\n",
       "      <td>petrahoffmann.krefeld@web.de</td>\n",
       "      <td>370</td>\n",
       "      <td>1.0</td>\n",
       "      <td>52.04</td>\n",
       "      <td>76.410845</td>\n",
       "    </tr>\n",
       "    <tr>\n",
       "      <th>348</th>\n",
       "      <td>b_entschel@web.de</td>\n",
       "      <td>92</td>\n",
       "      <td>1.0</td>\n",
       "      <td>99.13</td>\n",
       "      <td>145.553556</td>\n",
       "    </tr>\n",
       "    <tr>\n",
       "      <th>1697</th>\n",
       "      <td>nosagra@icloud.com</td>\n",
       "      <td>146</td>\n",
       "      <td>1.0</td>\n",
       "      <td>148.67</td>\n",
       "      <td>218.293627</td>\n",
       "    </tr>\n",
       "    <tr>\n",
       "      <th>567</th>\n",
       "      <td>claudia.aldejohann@gmx.de</td>\n",
       "      <td>208</td>\n",
       "      <td>2.0</td>\n",
       "      <td>111.49</td>\n",
       "      <td>163.701866</td>\n",
       "    </tr>\n",
       "  </tbody>\n",
       "</table>\n",
       "</div>"
      ]
     },
     "metadata": {},
     "execution_count": 49
    }
   ],
   "metadata": {}
  },
  {
   "cell_type": "code",
   "execution_count": 52,
   "source": [
    "rfm_21.CLV.describe()"
   ],
   "outputs": [
    {
     "output_type": "execute_result",
     "data": {
      "text/plain": [
       "count    2353.000000\n",
       "mean      270.479092\n",
       "std       208.832548\n",
       "min         7.268134\n",
       "25%       145.568239\n",
       "50%       196.489225\n",
       "75%       345.728239\n",
       "max      2348.532254\n",
       "Name: CLV, dtype: float64"
      ]
     },
     "metadata": {},
     "execution_count": 52
    }
   ],
   "metadata": {}
  },
  {
   "cell_type": "code",
   "execution_count": 53,
   "source": [
    " rfm_21.quantile([.2, .4, .6, .8], axis=0)"
   ],
   "outputs": [
    {
     "output_type": "execute_result",
     "data": {
      "text/plain": [
       "     recency  frequency  monetary_value         CLV\n",
       "0.2     37.0        1.0          90.870  133.425317\n",
       "0.4     70.0        1.0         123.930  181.967641\n",
       "0.6     96.0        1.0         159.722  234.521387\n",
       "0.8    144.6        1.0         252.020  370.043451"
      ],
      "text/html": [
       "<div>\n",
       "<style scoped>\n",
       "    .dataframe tbody tr th:only-of-type {\n",
       "        vertical-align: middle;\n",
       "    }\n",
       "\n",
       "    .dataframe tbody tr th {\n",
       "        vertical-align: top;\n",
       "    }\n",
       "\n",
       "    .dataframe thead th {\n",
       "        text-align: right;\n",
       "    }\n",
       "</style>\n",
       "<table border=\"1\" class=\"dataframe\">\n",
       "  <thead>\n",
       "    <tr style=\"text-align: right;\">\n",
       "      <th></th>\n",
       "      <th>recency</th>\n",
       "      <th>frequency</th>\n",
       "      <th>monetary_value</th>\n",
       "      <th>CLV</th>\n",
       "    </tr>\n",
       "  </thead>\n",
       "  <tbody>\n",
       "    <tr>\n",
       "      <th>0.2</th>\n",
       "      <td>37.0</td>\n",
       "      <td>1.0</td>\n",
       "      <td>90.870</td>\n",
       "      <td>133.425317</td>\n",
       "    </tr>\n",
       "    <tr>\n",
       "      <th>0.4</th>\n",
       "      <td>70.0</td>\n",
       "      <td>1.0</td>\n",
       "      <td>123.930</td>\n",
       "      <td>181.967641</td>\n",
       "    </tr>\n",
       "    <tr>\n",
       "      <th>0.6</th>\n",
       "      <td>96.0</td>\n",
       "      <td>1.0</td>\n",
       "      <td>159.722</td>\n",
       "      <td>234.521387</td>\n",
       "    </tr>\n",
       "    <tr>\n",
       "      <th>0.8</th>\n",
       "      <td>144.6</td>\n",
       "      <td>1.0</td>\n",
       "      <td>252.020</td>\n",
       "      <td>370.043451</td>\n",
       "    </tr>\n",
       "  </tbody>\n",
       "</table>\n",
       "</div>"
      ]
     },
     "metadata": {},
     "execution_count": 53
    }
   ],
   "metadata": {}
  },
  {
   "cell_type": "code",
   "execution_count": 54,
   "source": [
    " rfm_19.quantile([.2, .4, .6, .8], axis=0)"
   ],
   "outputs": [
    {
     "output_type": "execute_result",
     "data": {
      "text/plain": [
       "     recency  frequency  monetary_value         CLV\n",
       "0.2     37.0        1.0          90.870  133.387571\n",
       "0.4     71.0        1.0         123.930  181.916162\n",
       "0.6     97.0        1.0         156.965  230.408056\n",
       "0.8    148.0        1.0         251.879  369.731792"
      ],
      "text/html": [
       "<div>\n",
       "<style scoped>\n",
       "    .dataframe tbody tr th:only-of-type {\n",
       "        vertical-align: middle;\n",
       "    }\n",
       "\n",
       "    .dataframe tbody tr th {\n",
       "        vertical-align: top;\n",
       "    }\n",
       "\n",
       "    .dataframe thead th {\n",
       "        text-align: right;\n",
       "    }\n",
       "</style>\n",
       "<table border=\"1\" class=\"dataframe\">\n",
       "  <thead>\n",
       "    <tr style=\"text-align: right;\">\n",
       "      <th></th>\n",
       "      <th>recency</th>\n",
       "      <th>frequency</th>\n",
       "      <th>monetary_value</th>\n",
       "      <th>CLV</th>\n",
       "    </tr>\n",
       "  </thead>\n",
       "  <tbody>\n",
       "    <tr>\n",
       "      <th>0.2</th>\n",
       "      <td>37.0</td>\n",
       "      <td>1.0</td>\n",
       "      <td>90.870</td>\n",
       "      <td>133.387571</td>\n",
       "    </tr>\n",
       "    <tr>\n",
       "      <th>0.4</th>\n",
       "      <td>71.0</td>\n",
       "      <td>1.0</td>\n",
       "      <td>123.930</td>\n",
       "      <td>181.916162</td>\n",
       "    </tr>\n",
       "    <tr>\n",
       "      <th>0.6</th>\n",
       "      <td>97.0</td>\n",
       "      <td>1.0</td>\n",
       "      <td>156.965</td>\n",
       "      <td>230.408056</td>\n",
       "    </tr>\n",
       "    <tr>\n",
       "      <th>0.8</th>\n",
       "      <td>148.0</td>\n",
       "      <td>1.0</td>\n",
       "      <td>251.879</td>\n",
       "      <td>369.731792</td>\n",
       "    </tr>\n",
       "  </tbody>\n",
       "</table>\n",
       "</div>"
      ]
     },
     "metadata": {},
     "execution_count": 54
    }
   ],
   "metadata": {}
  },
  {
   "cell_type": "code",
   "execution_count": 55,
   "source": [
    "rfm_19.recency.median(), rfm_21.recency.median()"
   ],
   "outputs": [
    {
     "output_type": "execute_result",
     "data": {
      "text/plain": [
       "(82.0, 82.0)"
      ]
     },
     "metadata": {},
     "execution_count": 55
    }
   ],
   "metadata": {}
  },
  {
   "cell_type": "code",
   "execution_count": 56,
   "source": [
    "max_date"
   ],
   "outputs": [
    {
     "output_type": "execute_result",
     "data": {
      "text/plain": [
       "Timestamp('2021-07-14 08:19:15+0000', tz='UTC')"
      ]
     },
     "metadata": {},
     "execution_count": 56
    }
   ],
   "metadata": {}
  },
  {
   "cell_type": "code",
   "execution_count": 28,
   "source": [
    "# Create the RFM table\r\n",
    "rfm = df.groupby('Email').agg({'Creation_Date': lambda x: (max_date - x.max()).days,\r\n",
    "                                                   'Order_ID': lambda num: len(num),\r\n",
    "                                                   'ValueNOVAT': lambda price: price.mean()})\r\n",
    "\r\n",
    "# Reset Index\r\n",
    "rfm.reset_index(inplace=True)\r\n",
    "\r\n",
    "# Change the name of the columns\r\n",
    "rfm.columns=['email','recency','frequency','monetary_value']\r\n",
    "\r\n",
    "rfm.shape, df.shape"
   ],
   "outputs": [
    {
     "output_type": "execute_result",
     "data": {
      "text/plain": [
       "((2377, 4), (2949, 20))"
      ]
     },
     "metadata": {},
     "execution_count": 28
    }
   ],
   "metadata": {}
  },
  {
   "cell_type": "code",
   "execution_count": 29,
   "source": [
    "rfm.email.unique"
   ],
   "outputs": [
    {
     "output_type": "execute_result",
     "data": {
      "text/plain": [
       "<bound method Series.unique of 0       2000kerstinwinter@gmail.com\n",
       "1                  4piano@online.de\n",
       "2               A.Scharbrodt@gmx.de\n",
       "3                   A.v.Pape@gmx.de\n",
       "4        A.venschott@eimermacher.de\n",
       "                   ...             \n",
       "2372            zoe-rothmann@web.de\n",
       "2373           zorica.geiger@gmx.de\n",
       "2374         zorri.emilia@gmail.com\n",
       "2375                 zwennie@gmx.at\n",
       "2376       zwinckermaeuschen@gmx.de\n",
       "Name: email, Length: 2377, dtype: object>"
      ]
     },
     "metadata": {},
     "execution_count": 29
    }
   ],
   "metadata": {}
  },
  {
   "cell_type": "code",
   "execution_count": 30,
   "source": [
    "# Purchase Frequency\r\n",
    "purchase_frequency=sum(rfm['frequency'])/rfm.shape[0]\r\n",
    "# Repeat Rate\r\n",
    "repeat_rate=rfm[rfm.frequency > 1].shape[0]/rfm.shape[0]\r\n",
    "# Churn Rate\r\n",
    "churn_rate=1-repeat_rate\r\n",
    "# Customer Value\r\n",
    "rfm['CLV']=(rfm['monetary_value']*purchase_frequency)/churn_rate\r\n",
    "\r\n",
    "rfm.head()"
   ],
   "outputs": [
    {
     "output_type": "execute_result",
     "data": {
      "text/plain": [
       "                         email  recency  frequency  monetary_value         CLV\n",
       "0  2000kerstinwinter@gmail.com       37        1.0          256.12  375.957133\n",
       "1             4piano@online.de       66        1.0          156.16  229.226401\n",
       "2          A.Scharbrodt@gmx.de      376        2.0           77.24  113.380169\n",
       "3              A.v.Pape@gmx.de      311        1.0          140.37  206.048347\n",
       "4   A.venschott@eimermacher.de       82        1.0          181.74  266.775142"
      ],
      "text/html": [
       "<div>\n",
       "<style scoped>\n",
       "    .dataframe tbody tr th:only-of-type {\n",
       "        vertical-align: middle;\n",
       "    }\n",
       "\n",
       "    .dataframe tbody tr th {\n",
       "        vertical-align: top;\n",
       "    }\n",
       "\n",
       "    .dataframe thead th {\n",
       "        text-align: right;\n",
       "    }\n",
       "</style>\n",
       "<table border=\"1\" class=\"dataframe\">\n",
       "  <thead>\n",
       "    <tr style=\"text-align: right;\">\n",
       "      <th></th>\n",
       "      <th>email</th>\n",
       "      <th>recency</th>\n",
       "      <th>frequency</th>\n",
       "      <th>monetary_value</th>\n",
       "      <th>CLV</th>\n",
       "    </tr>\n",
       "  </thead>\n",
       "  <tbody>\n",
       "    <tr>\n",
       "      <th>0</th>\n",
       "      <td>2000kerstinwinter@gmail.com</td>\n",
       "      <td>37</td>\n",
       "      <td>1.0</td>\n",
       "      <td>256.12</td>\n",
       "      <td>375.957133</td>\n",
       "    </tr>\n",
       "    <tr>\n",
       "      <th>1</th>\n",
       "      <td>4piano@online.de</td>\n",
       "      <td>66</td>\n",
       "      <td>1.0</td>\n",
       "      <td>156.16</td>\n",
       "      <td>229.226401</td>\n",
       "    </tr>\n",
       "    <tr>\n",
       "      <th>2</th>\n",
       "      <td>A.Scharbrodt@gmx.de</td>\n",
       "      <td>376</td>\n",
       "      <td>2.0</td>\n",
       "      <td>77.24</td>\n",
       "      <td>113.380169</td>\n",
       "    </tr>\n",
       "    <tr>\n",
       "      <th>3</th>\n",
       "      <td>A.v.Pape@gmx.de</td>\n",
       "      <td>311</td>\n",
       "      <td>1.0</td>\n",
       "      <td>140.37</td>\n",
       "      <td>206.048347</td>\n",
       "    </tr>\n",
       "    <tr>\n",
       "      <th>4</th>\n",
       "      <td>A.venschott@eimermacher.de</td>\n",
       "      <td>82</td>\n",
       "      <td>1.0</td>\n",
       "      <td>181.74</td>\n",
       "      <td>266.775142</td>\n",
       "    </tr>\n",
       "  </tbody>\n",
       "</table>\n",
       "</div>"
      ]
     },
     "metadata": {},
     "execution_count": 30
    }
   ],
   "metadata": {}
  },
  {
   "cell_type": "code",
   "execution_count": 31,
   "source": [
    "# Hashing Emails\r\n",
    "import hashlib\r\n",
    "\r\n",
    "hash_object = hashlib.sha512(b'Hello World')\r\n",
    "hex_dig = hash_object.hexdigest()\r\n",
    "print(hex_dig)"
   ],
   "outputs": [
    {
     "output_type": "stream",
     "name": "stdout",
     "text": [
      "2c74fd17edafd80e8447b0d46741ee243b7eb74dd2149a0ab1b9246fb30382f27e853d8585719e0e67cbda0daa8f51671064615d645ae27acb15bfb1447f459b\n"
     ]
    }
   ],
   "metadata": {}
  },
  {
   "cell_type": "code",
   "execution_count": 32,
   "source": [
    "x= rfm.email[1]\r\n",
    "test = hashlib.sha512(x.encode('utf-8'))\r\n",
    "test_dig = test.hexdigest()\r\n",
    "print(test_dig)"
   ],
   "outputs": [
    {
     "output_type": "stream",
     "name": "stdout",
     "text": [
      "2cb87aef29ca0e9dab5a8e548252d08c50615404cfdc9086a54b25dffdd095084bfcb0188fa67bf8c424637f946120094f0f68a2f47008220ffd7f8b8a7957f8\n"
     ]
    }
   ],
   "metadata": {}
  },
  {
   "cell_type": "code",
   "execution_count": 33,
   "source": [
    "rfm.email[0].encode('utf-8')"
   ],
   "outputs": [
    {
     "output_type": "execute_result",
     "data": {
      "text/plain": [
       "b'2000kerstinwinter@gmail.com'"
      ]
     },
     "metadata": {},
     "execution_count": 33
    }
   ],
   "metadata": {}
  },
  {
   "cell_type": "code",
   "execution_count": 34,
   "source": [
    "hash(test)"
   ],
   "outputs": [
    {
     "output_type": "execute_result",
     "data": {
      "text/plain": [
       "120691977681"
      ]
     },
     "metadata": {},
     "execution_count": 34
    }
   ],
   "metadata": {}
  },
  {
   "cell_type": "code",
   "execution_count": 35,
   "source": [
    "def hash(x):\r\n",
    "    test = hashlib.sha512(x.encode('utf-8'))\r\n",
    "    test_dig = test.hexdigest()\r\n",
    "    return test_dig"
   ],
   "outputs": [],
   "metadata": {}
  },
  {
   "cell_type": "code",
   "execution_count": 36,
   "source": [
    "rfm_test = rfm.copy()"
   ],
   "outputs": [],
   "metadata": {}
  },
  {
   "cell_type": "code",
   "execution_count": 37,
   "source": [
    "rfm_test.email = rfm_test.email.apply(lambda x: hash(x))\r\n",
    "rfm_test"
   ],
   "outputs": [
    {
     "output_type": "execute_result",
     "data": {
      "text/plain": [
       "                                                  email  recency  frequency  \\\n",
       "0     66e7f1bae4c8af08176c1b7d9843e525b8a3002c877daf...       37        1.0   \n",
       "1     2cb87aef29ca0e9dab5a8e548252d08c50615404cfdc90...       66        1.0   \n",
       "2     d20c8e1c05fefe6c366b1241e6f94463702df0715cc06a...      376        2.0   \n",
       "3     8f9262ab18472f564204d08ab763ae4614736651f76258...      311        1.0   \n",
       "4     da8785a93d8d7751499f67d1e96134760e5f5f5458ba95...       82        1.0   \n",
       "...                                                 ...      ...        ...   \n",
       "2372  cea6280a47eac5b7ee2bec7cff2c844c6dcd2e7158eced...       82        1.0   \n",
       "2373  d72f6ec83861677260484dacf0f8c75c4a1422d3d6fe6c...       72        1.0   \n",
       "2374  8211c4783a3e6b68fbfa09c6995c889e3cc2e2d7e13371...       76        1.0   \n",
       "2375  3588835c1fe1d248e772aa2c222eb36cc6c2a2ba5d5a5a...      113        1.0   \n",
       "2376  9a6a5d372369f1264c67276ce49d666e5d4d3892f3d417...      138        1.0   \n",
       "\n",
       "      monetary_value         CLV  \n",
       "0             256.12  375.957133  \n",
       "1             156.16  229.226401  \n",
       "2              77.24  113.380169  \n",
       "3             140.37  206.048347  \n",
       "4             181.74  266.775142  \n",
       "...              ...         ...  \n",
       "2372          231.27  339.479955  \n",
       "2373           82.60  121.248084  \n",
       "2374          309.80  454.753708  \n",
       "2375          297.40  436.551817  \n",
       "2376          272.61  400.162713  \n",
       "\n",
       "[2377 rows x 5 columns]"
      ],
      "text/html": [
       "<div>\n",
       "<style scoped>\n",
       "    .dataframe tbody tr th:only-of-type {\n",
       "        vertical-align: middle;\n",
       "    }\n",
       "\n",
       "    .dataframe tbody tr th {\n",
       "        vertical-align: top;\n",
       "    }\n",
       "\n",
       "    .dataframe thead th {\n",
       "        text-align: right;\n",
       "    }\n",
       "</style>\n",
       "<table border=\"1\" class=\"dataframe\">\n",
       "  <thead>\n",
       "    <tr style=\"text-align: right;\">\n",
       "      <th></th>\n",
       "      <th>email</th>\n",
       "      <th>recency</th>\n",
       "      <th>frequency</th>\n",
       "      <th>monetary_value</th>\n",
       "      <th>CLV</th>\n",
       "    </tr>\n",
       "  </thead>\n",
       "  <tbody>\n",
       "    <tr>\n",
       "      <th>0</th>\n",
       "      <td>66e7f1bae4c8af08176c1b7d9843e525b8a3002c877daf...</td>\n",
       "      <td>37</td>\n",
       "      <td>1.0</td>\n",
       "      <td>256.12</td>\n",
       "      <td>375.957133</td>\n",
       "    </tr>\n",
       "    <tr>\n",
       "      <th>1</th>\n",
       "      <td>2cb87aef29ca0e9dab5a8e548252d08c50615404cfdc90...</td>\n",
       "      <td>66</td>\n",
       "      <td>1.0</td>\n",
       "      <td>156.16</td>\n",
       "      <td>229.226401</td>\n",
       "    </tr>\n",
       "    <tr>\n",
       "      <th>2</th>\n",
       "      <td>d20c8e1c05fefe6c366b1241e6f94463702df0715cc06a...</td>\n",
       "      <td>376</td>\n",
       "      <td>2.0</td>\n",
       "      <td>77.24</td>\n",
       "      <td>113.380169</td>\n",
       "    </tr>\n",
       "    <tr>\n",
       "      <th>3</th>\n",
       "      <td>8f9262ab18472f564204d08ab763ae4614736651f76258...</td>\n",
       "      <td>311</td>\n",
       "      <td>1.0</td>\n",
       "      <td>140.37</td>\n",
       "      <td>206.048347</td>\n",
       "    </tr>\n",
       "    <tr>\n",
       "      <th>4</th>\n",
       "      <td>da8785a93d8d7751499f67d1e96134760e5f5f5458ba95...</td>\n",
       "      <td>82</td>\n",
       "      <td>1.0</td>\n",
       "      <td>181.74</td>\n",
       "      <td>266.775142</td>\n",
       "    </tr>\n",
       "    <tr>\n",
       "      <th>...</th>\n",
       "      <td>...</td>\n",
       "      <td>...</td>\n",
       "      <td>...</td>\n",
       "      <td>...</td>\n",
       "      <td>...</td>\n",
       "    </tr>\n",
       "    <tr>\n",
       "      <th>2372</th>\n",
       "      <td>cea6280a47eac5b7ee2bec7cff2c844c6dcd2e7158eced...</td>\n",
       "      <td>82</td>\n",
       "      <td>1.0</td>\n",
       "      <td>231.27</td>\n",
       "      <td>339.479955</td>\n",
       "    </tr>\n",
       "    <tr>\n",
       "      <th>2373</th>\n",
       "      <td>d72f6ec83861677260484dacf0f8c75c4a1422d3d6fe6c...</td>\n",
       "      <td>72</td>\n",
       "      <td>1.0</td>\n",
       "      <td>82.60</td>\n",
       "      <td>121.248084</td>\n",
       "    </tr>\n",
       "    <tr>\n",
       "      <th>2374</th>\n",
       "      <td>8211c4783a3e6b68fbfa09c6995c889e3cc2e2d7e13371...</td>\n",
       "      <td>76</td>\n",
       "      <td>1.0</td>\n",
       "      <td>309.80</td>\n",
       "      <td>454.753708</td>\n",
       "    </tr>\n",
       "    <tr>\n",
       "      <th>2375</th>\n",
       "      <td>3588835c1fe1d248e772aa2c222eb36cc6c2a2ba5d5a5a...</td>\n",
       "      <td>113</td>\n",
       "      <td>1.0</td>\n",
       "      <td>297.40</td>\n",
       "      <td>436.551817</td>\n",
       "    </tr>\n",
       "    <tr>\n",
       "      <th>2376</th>\n",
       "      <td>9a6a5d372369f1264c67276ce49d666e5d4d3892f3d417...</td>\n",
       "      <td>138</td>\n",
       "      <td>1.0</td>\n",
       "      <td>272.61</td>\n",
       "      <td>400.162713</td>\n",
       "    </tr>\n",
       "  </tbody>\n",
       "</table>\n",
       "<p>2377 rows × 5 columns</p>\n",
       "</div>"
      ]
     },
     "metadata": {},
     "execution_count": 37
    }
   ],
   "metadata": {}
  },
  {
   "cell_type": "code",
   "execution_count": 38,
   "source": [
    "len(rfm.email.unique())"
   ],
   "outputs": [
    {
     "output_type": "execute_result",
     "data": {
      "text/plain": [
       "2377"
      ]
     },
     "metadata": {},
     "execution_count": 38
    }
   ],
   "metadata": {}
  },
  {
   "cell_type": "code",
   "execution_count": 39,
   "source": [
    "len(rfm_test.email.unique())"
   ],
   "outputs": [
    {
     "output_type": "execute_result",
     "data": {
      "text/plain": [
       "2377"
      ]
     },
     "metadata": {},
     "execution_count": 39
    }
   ],
   "metadata": {}
  },
  {
   "cell_type": "code",
   "execution_count": 60,
   "source": [
    "# save the rfm table into a google sheet\r\n",
    "# %% DUMP DATA ON GOOGLE SHEET\r\n",
    "from gspread_pandas import Spread, Client\r\n",
    "import gspread\r\n",
    "gc = gspread.service_account()\r\n",
    "g_sheet = '1pymRU0rhpfRQKlUzSFbD8sK_QkTB0WUctzgOuZ8W-Jc'\r\n",
    "sheet_name = gc.open_by_key(g_sheet)\r\n",
    "\r\n"
   ],
   "outputs": [],
   "metadata": {}
  },
  {
   "cell_type": "code",
   "execution_count": 88,
   "source": [
    "# dumping into the RFM tab\r\n",
    "worksheet = sheet_name.worksheet('RFM') \r\n",
    "worksheet.update([rfm_test.columns.values.tolist()] + rfm_test.values.tolist())\r\n"
   ],
   "outputs": [
    {
     "output_type": "execute_result",
     "data": {
      "text/plain": [
       "{'spreadsheetId': '1pymRU0rhpfRQKlUzSFbD8sK_QkTB0WUctzgOuZ8W-Jc',\n",
       " 'updatedRange': 'RFM!A1:E2378',\n",
       " 'updatedRows': 2378,\n",
       " 'updatedColumns': 5,\n",
       " 'updatedCells': 11890}"
      ]
     },
     "metadata": {},
     "execution_count": 88
    }
   ],
   "metadata": {}
  },
  {
   "cell_type": "code",
   "execution_count": 40,
   "source": [
    "rfm_test.quantile([.2, .4, .6, .8], axis=0)\r\n"
   ],
   "outputs": [
    {
     "output_type": "execute_result",
     "data": {
      "text/plain": [
       "     recency  frequency  monetary_value         CLV\n",
       "0.2     37.0        1.0          90.870  133.387571\n",
       "0.4     71.0        1.0         123.930  181.916162\n",
       "0.6     97.0        1.0         156.965  230.408056\n",
       "0.8    148.0        1.0         251.879  369.731792"
      ],
      "text/html": [
       "<div>\n",
       "<style scoped>\n",
       "    .dataframe tbody tr th:only-of-type {\n",
       "        vertical-align: middle;\n",
       "    }\n",
       "\n",
       "    .dataframe tbody tr th {\n",
       "        vertical-align: top;\n",
       "    }\n",
       "\n",
       "    .dataframe thead th {\n",
       "        text-align: right;\n",
       "    }\n",
       "</style>\n",
       "<table border=\"1\" class=\"dataframe\">\n",
       "  <thead>\n",
       "    <tr style=\"text-align: right;\">\n",
       "      <th></th>\n",
       "      <th>recency</th>\n",
       "      <th>frequency</th>\n",
       "      <th>monetary_value</th>\n",
       "      <th>CLV</th>\n",
       "    </tr>\n",
       "  </thead>\n",
       "  <tbody>\n",
       "    <tr>\n",
       "      <th>0.2</th>\n",
       "      <td>37.0</td>\n",
       "      <td>1.0</td>\n",
       "      <td>90.870</td>\n",
       "      <td>133.387571</td>\n",
       "    </tr>\n",
       "    <tr>\n",
       "      <th>0.4</th>\n",
       "      <td>71.0</td>\n",
       "      <td>1.0</td>\n",
       "      <td>123.930</td>\n",
       "      <td>181.916162</td>\n",
       "    </tr>\n",
       "    <tr>\n",
       "      <th>0.6</th>\n",
       "      <td>97.0</td>\n",
       "      <td>1.0</td>\n",
       "      <td>156.965</td>\n",
       "      <td>230.408056</td>\n",
       "    </tr>\n",
       "    <tr>\n",
       "      <th>0.8</th>\n",
       "      <td>148.0</td>\n",
       "      <td>1.0</td>\n",
       "      <td>251.879</td>\n",
       "      <td>369.731792</td>\n",
       "    </tr>\n",
       "  </tbody>\n",
       "</table>\n",
       "</div>"
      ]
     },
     "metadata": {},
     "execution_count": 40
    }
   ],
   "metadata": {}
  },
  {
   "cell_type": "code",
   "execution_count": 54,
   "source": [
    "rfm['r_score'] = 0\r\n",
    "for d in range(len(rfm)):\r\n",
    "    if rfm.recency[d] < 60:\r\n",
    "        rfm['r_score'][d] = 5\r\n",
    "    elif rfm.recency[d] < 190:\r\n",
    "        rfm['r_score'][d] = 4\r\n",
    "    elif rfm.recency[d] < 400:\r\n",
    "        rfm['r_score'][d] = 3\r\n",
    "    elif rfm.recency[d] < 610:\r\n",
    "        rfm['r_score'][d] = 2\r\n",
    "    else:\r\n",
    "        rfm['r_score'][d] = 1\r\n"
   ],
   "outputs": [],
   "metadata": {}
  },
  {
   "cell_type": "code",
   "execution_count": 55,
   "source": [
    "rfm['f_score'] = 0\r\n",
    "for o in range(len(rfm)):\r\n",
    "    if rfm.frequency[o] == 1:\r\n",
    "        rfm['f_score'][o] = 1\r\n",
    "    elif rfm.frequency[o] == 2:\r\n",
    "        rfm['f_score'][o] = 2\r\n",
    "    elif rfm.frequency[o] == 3:\r\n",
    "        rfm['f_score'][o] = 3\r\n",
    "    elif rfm.frequency[o] == 4:\r\n",
    "        rfm['f_score'][o] = 4\r\n",
    "    else:\r\n",
    "        rfm['f_score'][o] = 5\r\n",
    "    "
   ],
   "outputs": [],
   "metadata": {}
  },
  {
   "cell_type": "code",
   "execution_count": 56,
   "source": [
    "rfm['m_score'] = 0\r\n",
    "for o in range(len(rfm)):\r\n",
    "    if rfm.monetary_value[o] < 33:\r\n",
    "        rfm['m_score'][o] = 1\r\n",
    "    elif rfm.monetary_value[o] < 43:\r\n",
    "        rfm['m_score'][o] = 2\r\n",
    "    elif rfm.monetary_value[o] < 50:\r\n",
    "        rfm['m_score'][o] = 3\r\n",
    "    elif rfm.monetary_value[o] < 61:\r\n",
    "        rfm['m_score'][o] = 4\r\n",
    "    else:\r\n",
    "        rfm['m_score'][o] = 5"
   ],
   "outputs": [],
   "metadata": {}
  },
  {
   "cell_type": "code",
   "execution_count": 58,
   "source": [
    "rfm['score_conc'] = ''\r\n",
    "for s in range(len(rfm)):\r\n",
    "    rfm['score_conc'][s] = str(rfm['r_score'][s])+str(rfm['f_score'][s])+str(rfm['m_score'][s])"
   ],
   "outputs": [],
   "metadata": {}
  },
  {
   "cell_type": "code",
   "execution_count": 59,
   "source": [
    "rfm.head()"
   ],
   "outputs": [
    {
     "output_type": "execute_result",
     "data": {
      "text/plain": [
       "                                   email  recency  frequency  monetary_value  \\\n",
       "0  003ppcs4s2vcj0q@marketplace.amazon.de      734          3       40.150000   \n",
       "1  009g57nc9rg76dy@marketplace.amazon.de       32         11       45.452727   \n",
       "2  00j89nxrhbft07k@marketplace.amazon.de     1060          1       44.810000   \n",
       "3  00jx5l3sntnj5p1@marketplace.amazon.de      847          1       23.830000   \n",
       "4  00sk0ls66hd2c5x@marketplace.amazon.de      958          2       27.050000   \n",
       "\n",
       "          CLV  r_score  f_score  m_score score_conc  \n",
       "0  312.997351        1        3        2        132  \n",
       "1  354.335821        5        5        3        553  \n",
       "2  349.325313        1        1        3        113  \n",
       "3  185.771529        1        1        1        111  \n",
       "4  210.873682        1        2        1        121  "
      ],
      "text/html": [
       "<div>\n",
       "<style scoped>\n",
       "    .dataframe tbody tr th:only-of-type {\n",
       "        vertical-align: middle;\n",
       "    }\n",
       "\n",
       "    .dataframe tbody tr th {\n",
       "        vertical-align: top;\n",
       "    }\n",
       "\n",
       "    .dataframe thead th {\n",
       "        text-align: right;\n",
       "    }\n",
       "</style>\n",
       "<table border=\"1\" class=\"dataframe\">\n",
       "  <thead>\n",
       "    <tr style=\"text-align: right;\">\n",
       "      <th></th>\n",
       "      <th>email</th>\n",
       "      <th>recency</th>\n",
       "      <th>frequency</th>\n",
       "      <th>monetary_value</th>\n",
       "      <th>CLV</th>\n",
       "      <th>r_score</th>\n",
       "      <th>f_score</th>\n",
       "      <th>m_score</th>\n",
       "      <th>score_conc</th>\n",
       "    </tr>\n",
       "  </thead>\n",
       "  <tbody>\n",
       "    <tr>\n",
       "      <th>0</th>\n",
       "      <td>003ppcs4s2vcj0q@marketplace.amazon.de</td>\n",
       "      <td>734</td>\n",
       "      <td>3</td>\n",
       "      <td>40.150000</td>\n",
       "      <td>312.997351</td>\n",
       "      <td>1</td>\n",
       "      <td>3</td>\n",
       "      <td>2</td>\n",
       "      <td>132</td>\n",
       "    </tr>\n",
       "    <tr>\n",
       "      <th>1</th>\n",
       "      <td>009g57nc9rg76dy@marketplace.amazon.de</td>\n",
       "      <td>32</td>\n",
       "      <td>11</td>\n",
       "      <td>45.452727</td>\n",
       "      <td>354.335821</td>\n",
       "      <td>5</td>\n",
       "      <td>5</td>\n",
       "      <td>3</td>\n",
       "      <td>553</td>\n",
       "    </tr>\n",
       "    <tr>\n",
       "      <th>2</th>\n",
       "      <td>00j89nxrhbft07k@marketplace.amazon.de</td>\n",
       "      <td>1060</td>\n",
       "      <td>1</td>\n",
       "      <td>44.810000</td>\n",
       "      <td>349.325313</td>\n",
       "      <td>1</td>\n",
       "      <td>1</td>\n",
       "      <td>3</td>\n",
       "      <td>113</td>\n",
       "    </tr>\n",
       "    <tr>\n",
       "      <th>3</th>\n",
       "      <td>00jx5l3sntnj5p1@marketplace.amazon.de</td>\n",
       "      <td>847</td>\n",
       "      <td>1</td>\n",
       "      <td>23.830000</td>\n",
       "      <td>185.771529</td>\n",
       "      <td>1</td>\n",
       "      <td>1</td>\n",
       "      <td>1</td>\n",
       "      <td>111</td>\n",
       "    </tr>\n",
       "    <tr>\n",
       "      <th>4</th>\n",
       "      <td>00sk0ls66hd2c5x@marketplace.amazon.de</td>\n",
       "      <td>958</td>\n",
       "      <td>2</td>\n",
       "      <td>27.050000</td>\n",
       "      <td>210.873682</td>\n",
       "      <td>1</td>\n",
       "      <td>2</td>\n",
       "      <td>1</td>\n",
       "      <td>121</td>\n",
       "    </tr>\n",
       "  </tbody>\n",
       "</table>\n",
       "</div>"
      ]
     },
     "metadata": {},
     "execution_count": 59
    }
   ],
   "metadata": {}
  },
  {
   "cell_type": "code",
   "execution_count": 69,
   "source": [
    "rfm['clv_score'] = ''\r\n",
    "for d in range(len(rfm)):\r\n",
    "    if rfm.CLV[d] < 215:\r\n",
    "        rfm['clv_score'][d] = \"Low\"\r\n",
    "    elif rfm.CLV[d] < 277:\r\n",
    "        rfm['clv_score'][d] = \"Mid-Low\"\r\n",
    "    elif rfm.CLV[d] < 320:\r\n",
    "        rfm['clv_score'][d] = \"Mid\"\r\n",
    "    elif rfm.CLV[d] < 386:\r\n",
    "        rfm['clv_score'][d] = \"Mid-High\"\r\n",
    "    elif rfm.CLV[d] >= 386:\r\n",
    "         rfm['clv_score'][d] = \"High\"\r\n"
   ],
   "outputs": [],
   "metadata": {}
  },
  {
   "cell_type": "code",
   "execution_count": 62,
   "source": [
    "promising = rfm[rfm['score_conc'].isin([\"525\", \"524\", \"523\", \"522\", \"521\", \"515\", \"514\", \"513\", \"425\", \"424\", \"413\", \"414\", \"415\", \"315\", \"314\", \"313\"])].loc[:,['email']]"
   ],
   "outputs": [],
   "metadata": {}
  },
  {
   "cell_type": "code",
   "execution_count": 66,
   "source": [
    "rfm[rfm['score_conc'].isin([\"525\", \"524\", \"523\", \"522\", \"521\", \"515\", \"514\", \"513\", \"425\", \"424\", \"413\", \"414\", \"415\", \"315\", \"314\", \"313\"])]"
   ],
   "outputs": [
    {
     "output_type": "execute_result",
     "data": {
      "text/plain": [
       "                                       email  recency  frequency  \\\n",
       "6      00w4f6c1l0dr8wr@marketplace.amazon.de       39          2   \n",
       "7      00y6n4lv9yxzn94@marketplace.amazon.de      343          1   \n",
       "51     05xzx8jgpk2xdy5@marketplace.amazon.de      115          1   \n",
       "54     06b2pyv78fyqq3d@marketplace.amazon.de       40          2   \n",
       "97     0d79hym02d70vj2@marketplace.amazon.de      196          1   \n",
       "...                                      ...      ...        ...   \n",
       "23468  zt03hsjr6gx8hqv@marketplace.amazon.de      197          1   \n",
       "23471  ztbr3mwpwl6zfr2@marketplace.amazon.de      266          1   \n",
       "23481                       zuechter1@gmx.de       10          1   \n",
       "23506          zwinger_von_itzenplitz@gmx.de      256          1   \n",
       "23518  zyc7k56ktbhyfxb@marketplace.amazon.de      331          1   \n",
       "\n",
       "       monetary_value         CLV  r_score  f_score  m_score score_conc  \\\n",
       "6              36.400  283.763476        5        2        2        522   \n",
       "7              57.710  449.889841        3        1        4        314   \n",
       "51             52.480  409.118331        4        1        4        414   \n",
       "54             49.485  385.770210        5        2        3        523   \n",
       "97             53.470  416.836074        3        1        4        314   \n",
       "...               ...         ...      ...      ...      ...        ...   \n",
       "23468          58.810  458.465111        3        1        4        314   \n",
       "23471          46.050  358.991980        3        1        3        313   \n",
       "23481         102.800  801.397950        5        1        5        515   \n",
       "23506         108.810  848.250106        3        1        5        315   \n",
       "23518          69.860  544.607595        3        1        5        315   \n",
       "\n",
       "      clv_score  \n",
       "6           Mid  \n",
       "7          High  \n",
       "51         High  \n",
       "54     Mid-High  \n",
       "97         High  \n",
       "...         ...  \n",
       "23468      High  \n",
       "23471  Mid-High  \n",
       "23481      High  \n",
       "23506      High  \n",
       "23518      High  \n",
       "\n",
       "[1531 rows x 10 columns]"
      ],
      "text/html": [
       "<div>\n",
       "<style scoped>\n",
       "    .dataframe tbody tr th:only-of-type {\n",
       "        vertical-align: middle;\n",
       "    }\n",
       "\n",
       "    .dataframe tbody tr th {\n",
       "        vertical-align: top;\n",
       "    }\n",
       "\n",
       "    .dataframe thead th {\n",
       "        text-align: right;\n",
       "    }\n",
       "</style>\n",
       "<table border=\"1\" class=\"dataframe\">\n",
       "  <thead>\n",
       "    <tr style=\"text-align: right;\">\n",
       "      <th></th>\n",
       "      <th>email</th>\n",
       "      <th>recency</th>\n",
       "      <th>frequency</th>\n",
       "      <th>monetary_value</th>\n",
       "      <th>CLV</th>\n",
       "      <th>r_score</th>\n",
       "      <th>f_score</th>\n",
       "      <th>m_score</th>\n",
       "      <th>score_conc</th>\n",
       "      <th>clv_score</th>\n",
       "    </tr>\n",
       "  </thead>\n",
       "  <tbody>\n",
       "    <tr>\n",
       "      <th>6</th>\n",
       "      <td>00w4f6c1l0dr8wr@marketplace.amazon.de</td>\n",
       "      <td>39</td>\n",
       "      <td>2</td>\n",
       "      <td>36.400</td>\n",
       "      <td>283.763476</td>\n",
       "      <td>5</td>\n",
       "      <td>2</td>\n",
       "      <td>2</td>\n",
       "      <td>522</td>\n",
       "      <td>Mid</td>\n",
       "    </tr>\n",
       "    <tr>\n",
       "      <th>7</th>\n",
       "      <td>00y6n4lv9yxzn94@marketplace.amazon.de</td>\n",
       "      <td>343</td>\n",
       "      <td>1</td>\n",
       "      <td>57.710</td>\n",
       "      <td>449.889841</td>\n",
       "      <td>3</td>\n",
       "      <td>1</td>\n",
       "      <td>4</td>\n",
       "      <td>314</td>\n",
       "      <td>High</td>\n",
       "    </tr>\n",
       "    <tr>\n",
       "      <th>51</th>\n",
       "      <td>05xzx8jgpk2xdy5@marketplace.amazon.de</td>\n",
       "      <td>115</td>\n",
       "      <td>1</td>\n",
       "      <td>52.480</td>\n",
       "      <td>409.118331</td>\n",
       "      <td>4</td>\n",
       "      <td>1</td>\n",
       "      <td>4</td>\n",
       "      <td>414</td>\n",
       "      <td>High</td>\n",
       "    </tr>\n",
       "    <tr>\n",
       "      <th>54</th>\n",
       "      <td>06b2pyv78fyqq3d@marketplace.amazon.de</td>\n",
       "      <td>40</td>\n",
       "      <td>2</td>\n",
       "      <td>49.485</td>\n",
       "      <td>385.770210</td>\n",
       "      <td>5</td>\n",
       "      <td>2</td>\n",
       "      <td>3</td>\n",
       "      <td>523</td>\n",
       "      <td>Mid-High</td>\n",
       "    </tr>\n",
       "    <tr>\n",
       "      <th>97</th>\n",
       "      <td>0d79hym02d70vj2@marketplace.amazon.de</td>\n",
       "      <td>196</td>\n",
       "      <td>1</td>\n",
       "      <td>53.470</td>\n",
       "      <td>416.836074</td>\n",
       "      <td>3</td>\n",
       "      <td>1</td>\n",
       "      <td>4</td>\n",
       "      <td>314</td>\n",
       "      <td>High</td>\n",
       "    </tr>\n",
       "    <tr>\n",
       "      <th>...</th>\n",
       "      <td>...</td>\n",
       "      <td>...</td>\n",
       "      <td>...</td>\n",
       "      <td>...</td>\n",
       "      <td>...</td>\n",
       "      <td>...</td>\n",
       "      <td>...</td>\n",
       "      <td>...</td>\n",
       "      <td>...</td>\n",
       "      <td>...</td>\n",
       "    </tr>\n",
       "    <tr>\n",
       "      <th>23468</th>\n",
       "      <td>zt03hsjr6gx8hqv@marketplace.amazon.de</td>\n",
       "      <td>197</td>\n",
       "      <td>1</td>\n",
       "      <td>58.810</td>\n",
       "      <td>458.465111</td>\n",
       "      <td>3</td>\n",
       "      <td>1</td>\n",
       "      <td>4</td>\n",
       "      <td>314</td>\n",
       "      <td>High</td>\n",
       "    </tr>\n",
       "    <tr>\n",
       "      <th>23471</th>\n",
       "      <td>ztbr3mwpwl6zfr2@marketplace.amazon.de</td>\n",
       "      <td>266</td>\n",
       "      <td>1</td>\n",
       "      <td>46.050</td>\n",
       "      <td>358.991980</td>\n",
       "      <td>3</td>\n",
       "      <td>1</td>\n",
       "      <td>3</td>\n",
       "      <td>313</td>\n",
       "      <td>Mid-High</td>\n",
       "    </tr>\n",
       "    <tr>\n",
       "      <th>23481</th>\n",
       "      <td>zuechter1@gmx.de</td>\n",
       "      <td>10</td>\n",
       "      <td>1</td>\n",
       "      <td>102.800</td>\n",
       "      <td>801.397950</td>\n",
       "      <td>5</td>\n",
       "      <td>1</td>\n",
       "      <td>5</td>\n",
       "      <td>515</td>\n",
       "      <td>High</td>\n",
       "    </tr>\n",
       "    <tr>\n",
       "      <th>23506</th>\n",
       "      <td>zwinger_von_itzenplitz@gmx.de</td>\n",
       "      <td>256</td>\n",
       "      <td>1</td>\n",
       "      <td>108.810</td>\n",
       "      <td>848.250106</td>\n",
       "      <td>3</td>\n",
       "      <td>1</td>\n",
       "      <td>5</td>\n",
       "      <td>315</td>\n",
       "      <td>High</td>\n",
       "    </tr>\n",
       "    <tr>\n",
       "      <th>23518</th>\n",
       "      <td>zyc7k56ktbhyfxb@marketplace.amazon.de</td>\n",
       "      <td>331</td>\n",
       "      <td>1</td>\n",
       "      <td>69.860</td>\n",
       "      <td>544.607595</td>\n",
       "      <td>3</td>\n",
       "      <td>1</td>\n",
       "      <td>5</td>\n",
       "      <td>315</td>\n",
       "      <td>High</td>\n",
       "    </tr>\n",
       "  </tbody>\n",
       "</table>\n",
       "<p>1531 rows × 10 columns</p>\n",
       "</div>"
      ]
     },
     "metadata": {},
     "execution_count": 66
    }
   ],
   "metadata": {}
  },
  {
   "cell_type": "code",
   "execution_count": 63,
   "source": [
    "promising.shape"
   ],
   "outputs": [
    {
     "output_type": "execute_result",
     "data": {
      "text/plain": [
       "(1531, 1)"
      ]
     },
     "metadata": {},
     "execution_count": 63
    }
   ],
   "metadata": {}
  },
  {
   "cell_type": "code",
   "execution_count": 70,
   "source": [
    "clv_relevant = rfm[rfm['clv_score'].isin([\"Mid-High\", \"High\"])].loc[:,['email']]\r\n",
    "clv_relevant.shape"
   ],
   "outputs": [
    {
     "output_type": "execute_result",
     "data": {
      "text/plain": [
       "(8964, 1)"
      ]
     },
     "metadata": {},
     "execution_count": 70
    }
   ],
   "metadata": {}
  },
  {
   "cell_type": "code",
   "execution_count": 68,
   "source": [
    "rfm.shape # but in powr bi there are only 15,466 customers"
   ],
   "outputs": [
    {
     "output_type": "execute_result",
     "data": {
      "text/plain": [
       "(23530, 10)"
      ]
     },
     "metadata": {},
     "execution_count": 68
    }
   ],
   "metadata": {}
  },
  {
   "cell_type": "code",
   "execution_count": 71,
   "source": [
    "promising.to_csv('./Outputs/Promising_Cust_09062021.csv', index=False)\r\n",
    "\r\n",
    "clv_relevant.to_csv('./Outputs/High_MidHigh_CLV_Cust_09062021.csv', index=False)"
   ],
   "outputs": [],
   "metadata": {}
  },
  {
   "cell_type": "markdown",
   "source": [
    "## Experiments"
   ],
   "metadata": {}
  },
  {
   "cell_type": "code",
   "execution_count": null,
   "source": [],
   "outputs": [],
   "metadata": {}
  }
 ],
 "metadata": {
  "kernelspec": {
   "name": "python3",
   "display_name": "Python 3.8.5 64-bit ('base': conda)"
  },
  "language_info": {
   "codemirror_mode": {
    "name": "ipython",
    "version": 3
   },
   "file_extension": ".py",
   "mimetype": "text/x-python",
   "name": "python",
   "nbconvert_exporter": "python",
   "pygments_lexer": "ipython3",
   "version": "3.8.5"
  },
  "interpreter": {
   "hash": "03daa801a6ac9ad48cff95a62c7eae7868ae8adc816431dbf898cb359b759f5b"
  }
 },
 "nbformat": 4,
 "nbformat_minor": 4
}
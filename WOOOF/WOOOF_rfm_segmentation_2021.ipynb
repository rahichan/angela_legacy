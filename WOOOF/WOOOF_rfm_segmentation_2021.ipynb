{
 "cells": [
  {
   "cell_type": "code",
   "execution_count": 1,
   "metadata": {},
   "outputs": [],
   "source": [
    "import pandas as pd\n",
    "import numpy as np\n",
    "import matplotlib.pyplot as plt\n",
    "import seaborn as sns\n",
    "import chart_studio.plotly as py\n",
    "import plotly.offline as pyoff\n",
    "import plotly.graph_objs as go\n",
    "from plotly.subplots import make_subplots"
   ]
  },
  {
   "cell_type": "markdown",
   "metadata": {},
   "source": [
    "### 2018 - 2019 - 2020"
   ]
  },
  {
   "cell_type": "code",
   "execution_count": 2,
   "metadata": {},
   "outputs": [
    {
     "output_type": "stream",
     "name": "stderr",
     "text": [
      "C:\\Users\\Angela\\anaconda3\\lib\\site-packages\\IPython\\core\\interactiveshell.py:3146: DtypeWarning:\n\nColumns (26,34) have mixed types.Specify dtype option on import or set low_memory=False.\n\n"
     ]
    }
   ],
   "source": [
    "#df_og = pd.read_csv('./Data/Export Febrero + Marzo (12.3).csv', sep=';', decimal=',')\n",
    "#df_og = pd.read_csv('./Data/orders-export-2021-04-16-09-51-35.csv', sep=';', decimal=',')\n",
    "df_og = pd.read_csv('./Data/orders-export-2021-06-08-17-58-08.csv', sep=';', decimal=',')\n"
   ]
  },
  {
   "cell_type": "code",
   "execution_count": 3,
   "metadata": {},
   "outputs": [
    {
     "output_type": "execute_result",
     "data": {
      "text/plain": [
       "(89889, 61)"
      ]
     },
     "metadata": {},
     "execution_count": 3
    }
   ],
   "source": [
    "df_og.shape"
   ]
  },
  {
   "cell_type": "code",
   "execution_count": 4,
   "metadata": {},
   "outputs": [
    {
     "output_type": "execute_result",
     "data": {
      "text/plain": [
       "array(['Cancelled', 'Paid, shipped', 'Not paid, not shipped',\n",
       "       'Paid, not shipped', 'Not paid, shipped'], dtype=object)"
      ]
     },
     "metadata": {},
     "execution_count": 4
    }
   ],
   "source": [
    "df_og.Status.unique()"
   ]
  },
  {
   "cell_type": "code",
   "execution_count": 5,
   "metadata": {},
   "outputs": [],
   "source": [
    "%run ./cohorts_pipeline_woof_v3.py"
   ]
  },
  {
   "cell_type": "code",
   "execution_count": 6,
   "metadata": {},
   "outputs": [
    {
     "output_type": "stream",
     "name": "stderr",
     "text": [
      "c:\\Users\\Angela\\Documents\\Python Scripts\\WOOOF\\cohorts_pipeline_woof_v3.py:30: FutureWarning:\n\nSeries.dt.weekofyear and Series.dt.week have been deprecated.  Please use Series.dt.isocalendar().week instead.\n\n"
     ]
    }
   ],
   "source": [
    "df = df_cleaning(df_og)"
   ]
  },
  {
   "cell_type": "code",
   "execution_count": 7,
   "metadata": {},
   "outputs": [
    {
     "output_type": "execute_result",
     "data": {
      "text/plain": [
       "Customer_ID             0\n",
       "Order                   0\n",
       "Order_ID                0\n",
       "Status                  0\n",
       "Payment                 0\n",
       "ValueNOVAT          11772\n",
       "E-mail                  0\n",
       "Firstname               0\n",
       "Lastname                0\n",
       "Product_title           0\n",
       "Creation_Date           0\n",
       "First_Order             0\n",
       "First_Order_YM          0\n",
       "Creation_Date_YM        0\n",
       "Customer_Type           0\n",
       "Payment_Type            0\n",
       "Year                    0\n",
       "Week                    0\n",
       "Year_Week               0\n",
       "dtype: int64"
      ]
     },
     "metadata": {},
     "execution_count": 7
    }
   ],
   "source": [
    "df.isna().sum()"
   ]
  },
  {
   "cell_type": "code",
   "execution_count": 8,
   "metadata": {},
   "outputs": [],
   "source": [
    "df = df.fillna(0)"
   ]
  },
  {
   "cell_type": "code",
   "execution_count": 9,
   "metadata": {},
   "outputs": [],
   "source": [
    "df['Creation_Date_YM'] = df['Creation_Date'].apply(lambda x: x.strftime('%Y-%m'))"
   ]
  },
  {
   "cell_type": "code",
   "execution_count": 10,
   "metadata": {},
   "outputs": [],
   "source": [
    "df['DaysDiff'] = df.groupby('E-mail')['Creation_Date'].diff().apply(lambda x: x.days).fillna(0)"
   ]
  },
  {
   "cell_type": "code",
   "execution_count": 11,
   "metadata": {},
   "outputs": [
    {
     "output_type": "execute_result",
     "data": {
      "text/plain": [
       "   Customer_ID        Order  Order_ID         Status  \\\n",
       "0     46400897  DE_ORD00031  58005182  Paid, shipped   \n",
       "1     46544999  DE_ORD00032  58314515  Paid, shipped   \n",
       "2     47823566  DE_ORD00034  58356140  Paid, shipped   \n",
       "3     47821025  DE_ORD00035  58357271  Paid, shipped   \n",
       "4     47820044  DE_ORD00039  58428260  Paid, shipped   \n",
       "\n",
       "                        Payment  ValueNOVAT                           E-mail  \\\n",
       "0      Pay.nl - Banküberweisung       23.78                   sjaak@blids.nl   \n",
       "1  Klarna DE - Klarna Rechnung.       24.71                   yzermin@gmx.de   \n",
       "2        Pay.nl - Sofortbanking       37.33               Patrickwerb@gmx.de   \n",
       "3        Pay.nl - Sofortbanking       23.78  marona1985malibu@googlemail.com   \n",
       "4               Pay.nl - PayPal       76.16       bernd-jendreck@t-online.de   \n",
       "\n",
       "  Firstname    Lastname  Product_title Creation_Date First_Order  \\\n",
       "0    Yvonne      Zermin  WOOOF Regular    2017-11-17  2017-11-17   \n",
       "1    Yvonne      Zermin  WOOOF Regular    2017-11-21  2017-11-21   \n",
       "2   Patrick        Werb  WOOOF Regular    2017-11-21  2017-11-21   \n",
       "3    Ramona  Tinnemeier  WOOOF Regular    2017-11-21  2017-11-21   \n",
       "4     Bernd    Jendreck  WOOOF Regular    2017-11-22  2017-11-22   \n",
       "\n",
       "  First_Order_YM Creation_Date_YM Customer_Type Payment_Type  Year  Week  \\\n",
       "0        2017-11          2017-11           New      Webshop  2017    46   \n",
       "1        2017-11          2017-11           New      Webshop  2017    47   \n",
       "2        2017-11          2017-11           New      Webshop  2017    47   \n",
       "3        2017-11          2017-11           New      Webshop  2017    47   \n",
       "4        2017-11          2017-11           New      Webshop  2017    47   \n",
       "\n",
       "  Year_Week  DaysDiff  \n",
       "0   2017-46       0.0  \n",
       "1   2017-47       0.0  \n",
       "2   2017-47       0.0  \n",
       "3   2017-47       0.0  \n",
       "4   2017-47       0.0  "
      ],
      "text/html": "<div>\n<style scoped>\n    .dataframe tbody tr th:only-of-type {\n        vertical-align: middle;\n    }\n\n    .dataframe tbody tr th {\n        vertical-align: top;\n    }\n\n    .dataframe thead th {\n        text-align: right;\n    }\n</style>\n<table border=\"1\" class=\"dataframe\">\n  <thead>\n    <tr style=\"text-align: right;\">\n      <th></th>\n      <th>Customer_ID</th>\n      <th>Order</th>\n      <th>Order_ID</th>\n      <th>Status</th>\n      <th>Payment</th>\n      <th>ValueNOVAT</th>\n      <th>E-mail</th>\n      <th>Firstname</th>\n      <th>Lastname</th>\n      <th>Product_title</th>\n      <th>Creation_Date</th>\n      <th>First_Order</th>\n      <th>First_Order_YM</th>\n      <th>Creation_Date_YM</th>\n      <th>Customer_Type</th>\n      <th>Payment_Type</th>\n      <th>Year</th>\n      <th>Week</th>\n      <th>Year_Week</th>\n      <th>DaysDiff</th>\n    </tr>\n  </thead>\n  <tbody>\n    <tr>\n      <th>0</th>\n      <td>46400897</td>\n      <td>DE_ORD00031</td>\n      <td>58005182</td>\n      <td>Paid, shipped</td>\n      <td>Pay.nl - Banküberweisung</td>\n      <td>23.78</td>\n      <td>sjaak@blids.nl</td>\n      <td>Yvonne</td>\n      <td>Zermin</td>\n      <td>WOOOF Regular</td>\n      <td>2017-11-17</td>\n      <td>2017-11-17</td>\n      <td>2017-11</td>\n      <td>2017-11</td>\n      <td>New</td>\n      <td>Webshop</td>\n      <td>2017</td>\n      <td>46</td>\n      <td>2017-46</td>\n      <td>0.0</td>\n    </tr>\n    <tr>\n      <th>1</th>\n      <td>46544999</td>\n      <td>DE_ORD00032</td>\n      <td>58314515</td>\n      <td>Paid, shipped</td>\n      <td>Klarna DE - Klarna Rechnung.</td>\n      <td>24.71</td>\n      <td>yzermin@gmx.de</td>\n      <td>Yvonne</td>\n      <td>Zermin</td>\n      <td>WOOOF Regular</td>\n      <td>2017-11-21</td>\n      <td>2017-11-21</td>\n      <td>2017-11</td>\n      <td>2017-11</td>\n      <td>New</td>\n      <td>Webshop</td>\n      <td>2017</td>\n      <td>47</td>\n      <td>2017-47</td>\n      <td>0.0</td>\n    </tr>\n    <tr>\n      <th>2</th>\n      <td>47823566</td>\n      <td>DE_ORD00034</td>\n      <td>58356140</td>\n      <td>Paid, shipped</td>\n      <td>Pay.nl - Sofortbanking</td>\n      <td>37.33</td>\n      <td>Patrickwerb@gmx.de</td>\n      <td>Patrick</td>\n      <td>Werb</td>\n      <td>WOOOF Regular</td>\n      <td>2017-11-21</td>\n      <td>2017-11-21</td>\n      <td>2017-11</td>\n      <td>2017-11</td>\n      <td>New</td>\n      <td>Webshop</td>\n      <td>2017</td>\n      <td>47</td>\n      <td>2017-47</td>\n      <td>0.0</td>\n    </tr>\n    <tr>\n      <th>3</th>\n      <td>47821025</td>\n      <td>DE_ORD00035</td>\n      <td>58357271</td>\n      <td>Paid, shipped</td>\n      <td>Pay.nl - Sofortbanking</td>\n      <td>23.78</td>\n      <td>marona1985malibu@googlemail.com</td>\n      <td>Ramona</td>\n      <td>Tinnemeier</td>\n      <td>WOOOF Regular</td>\n      <td>2017-11-21</td>\n      <td>2017-11-21</td>\n      <td>2017-11</td>\n      <td>2017-11</td>\n      <td>New</td>\n      <td>Webshop</td>\n      <td>2017</td>\n      <td>47</td>\n      <td>2017-47</td>\n      <td>0.0</td>\n    </tr>\n    <tr>\n      <th>4</th>\n      <td>47820044</td>\n      <td>DE_ORD00039</td>\n      <td>58428260</td>\n      <td>Paid, shipped</td>\n      <td>Pay.nl - PayPal</td>\n      <td>76.16</td>\n      <td>bernd-jendreck@t-online.de</td>\n      <td>Bernd</td>\n      <td>Jendreck</td>\n      <td>WOOOF Regular</td>\n      <td>2017-11-22</td>\n      <td>2017-11-22</td>\n      <td>2017-11</td>\n      <td>2017-11</td>\n      <td>New</td>\n      <td>Webshop</td>\n      <td>2017</td>\n      <td>47</td>\n      <td>2017-47</td>\n      <td>0.0</td>\n    </tr>\n  </tbody>\n</table>\n</div>"
     },
     "metadata": {},
     "execution_count": 11
    }
   ],
   "source": [
    "df.head()"
   ]
  },
  {
   "cell_type": "code",
   "execution_count": 12,
   "metadata": {},
   "outputs": [
    {
     "output_type": "execute_result",
     "data": {
      "text/plain": [
       "array(['Paid, shipped', 'Not paid, not shipped', 'Paid, not shipped',\n",
       "       'Not paid, shipped'], dtype=object)"
      ]
     },
     "metadata": {},
     "execution_count": 12
    }
   ],
   "source": [
    "df.Status.unique()"
   ]
  },
  {
   "cell_type": "code",
   "execution_count": 13,
   "metadata": {},
   "outputs": [
    {
     "output_type": "execute_result",
     "data": {
      "text/plain": [
       "(85932, 20)"
      ]
     },
     "metadata": {},
     "execution_count": 13
    }
   ],
   "source": [
    "df.shape"
   ]
  },
  {
   "cell_type": "markdown",
   "metadata": {},
   "source": [
    "# First Time Buyers"
   ]
  },
  {
   "cell_type": "code",
   "execution_count": 20,
   "metadata": {},
   "outputs": [
    {
     "output_type": "execute_result",
     "data": {
      "text/plain": [
       "   Customer_ID        Order  Order_ID         Status  \\\n",
       "0     46400897  DE_ORD00031  58005182  Paid, shipped   \n",
       "1     46544999  DE_ORD00032  58314515  Paid, shipped   \n",
       "2     47823566  DE_ORD00034  58356140  Paid, shipped   \n",
       "3     47821025  DE_ORD00035  58357271  Paid, shipped   \n",
       "4     47820044  DE_ORD00039  58428260  Paid, shipped   \n",
       "\n",
       "                        Payment  ValueNOVAT                           E-mail  \\\n",
       "0      Pay.nl - Banküberweisung       23.78                   sjaak@blids.nl   \n",
       "1  Klarna DE - Klarna Rechnung.       24.71                   yzermin@gmx.de   \n",
       "2        Pay.nl - Sofortbanking       37.33               Patrickwerb@gmx.de   \n",
       "3        Pay.nl - Sofortbanking       23.78  marona1985malibu@googlemail.com   \n",
       "4               Pay.nl - PayPal       76.16       bernd-jendreck@t-online.de   \n",
       "\n",
       "  Firstname    Lastname  Product_title Creation_Date First_Order  \\\n",
       "0    Yvonne      Zermin  WOOOF Regular    2017-11-17  2017-11-17   \n",
       "1    Yvonne      Zermin  WOOOF Regular    2017-11-21  2017-11-21   \n",
       "2   Patrick        Werb  WOOOF Regular    2017-11-21  2017-11-21   \n",
       "3    Ramona  Tinnemeier  WOOOF Regular    2017-11-21  2017-11-21   \n",
       "4     Bernd    Jendreck  WOOOF Regular    2017-11-22  2017-11-22   \n",
       "\n",
       "  First_Order_YM Creation_Date_YM Customer_Type Payment_Type  Year  Week  \\\n",
       "0        2017-11          2017-11           New      Webshop  2017    46   \n",
       "1        2017-11          2017-11           New      Webshop  2017    47   \n",
       "2        2017-11          2017-11           New      Webshop  2017    47   \n",
       "3        2017-11          2017-11           New      Webshop  2017    47   \n",
       "4        2017-11          2017-11           New      Webshop  2017    47   \n",
       "\n",
       "  Year_Week  \n",
       "0   2017-46  \n",
       "1   2017-47  \n",
       "2   2017-47  \n",
       "3   2017-47  \n",
       "4   2017-47  "
      ],
      "text/html": "<div>\n<style scoped>\n    .dataframe tbody tr th:only-of-type {\n        vertical-align: middle;\n    }\n\n    .dataframe tbody tr th {\n        vertical-align: top;\n    }\n\n    .dataframe thead th {\n        text-align: right;\n    }\n</style>\n<table border=\"1\" class=\"dataframe\">\n  <thead>\n    <tr style=\"text-align: right;\">\n      <th></th>\n      <th>Customer_ID</th>\n      <th>Order</th>\n      <th>Order_ID</th>\n      <th>Status</th>\n      <th>Payment</th>\n      <th>ValueNOVAT</th>\n      <th>E-mail</th>\n      <th>Firstname</th>\n      <th>Lastname</th>\n      <th>Product_title</th>\n      <th>Creation_Date</th>\n      <th>First_Order</th>\n      <th>First_Order_YM</th>\n      <th>Creation_Date_YM</th>\n      <th>Customer_Type</th>\n      <th>Payment_Type</th>\n      <th>Year</th>\n      <th>Week</th>\n      <th>Year_Week</th>\n    </tr>\n  </thead>\n  <tbody>\n    <tr>\n      <th>0</th>\n      <td>46400897</td>\n      <td>DE_ORD00031</td>\n      <td>58005182</td>\n      <td>Paid, shipped</td>\n      <td>Pay.nl - Banküberweisung</td>\n      <td>23.78</td>\n      <td>sjaak@blids.nl</td>\n      <td>Yvonne</td>\n      <td>Zermin</td>\n      <td>WOOOF Regular</td>\n      <td>2017-11-17</td>\n      <td>2017-11-17</td>\n      <td>2017-11</td>\n      <td>2017-11</td>\n      <td>New</td>\n      <td>Webshop</td>\n      <td>2017</td>\n      <td>46</td>\n      <td>2017-46</td>\n    </tr>\n    <tr>\n      <th>1</th>\n      <td>46544999</td>\n      <td>DE_ORD00032</td>\n      <td>58314515</td>\n      <td>Paid, shipped</td>\n      <td>Klarna DE - Klarna Rechnung.</td>\n      <td>24.71</td>\n      <td>yzermin@gmx.de</td>\n      <td>Yvonne</td>\n      <td>Zermin</td>\n      <td>WOOOF Regular</td>\n      <td>2017-11-21</td>\n      <td>2017-11-21</td>\n      <td>2017-11</td>\n      <td>2017-11</td>\n      <td>New</td>\n      <td>Webshop</td>\n      <td>2017</td>\n      <td>47</td>\n      <td>2017-47</td>\n    </tr>\n    <tr>\n      <th>2</th>\n      <td>47823566</td>\n      <td>DE_ORD00034</td>\n      <td>58356140</td>\n      <td>Paid, shipped</td>\n      <td>Pay.nl - Sofortbanking</td>\n      <td>37.33</td>\n      <td>Patrickwerb@gmx.de</td>\n      <td>Patrick</td>\n      <td>Werb</td>\n      <td>WOOOF Regular</td>\n      <td>2017-11-21</td>\n      <td>2017-11-21</td>\n      <td>2017-11</td>\n      <td>2017-11</td>\n      <td>New</td>\n      <td>Webshop</td>\n      <td>2017</td>\n      <td>47</td>\n      <td>2017-47</td>\n    </tr>\n    <tr>\n      <th>3</th>\n      <td>47821025</td>\n      <td>DE_ORD00035</td>\n      <td>58357271</td>\n      <td>Paid, shipped</td>\n      <td>Pay.nl - Sofortbanking</td>\n      <td>23.78</td>\n      <td>marona1985malibu@googlemail.com</td>\n      <td>Ramona</td>\n      <td>Tinnemeier</td>\n      <td>WOOOF Regular</td>\n      <td>2017-11-21</td>\n      <td>2017-11-21</td>\n      <td>2017-11</td>\n      <td>2017-11</td>\n      <td>New</td>\n      <td>Webshop</td>\n      <td>2017</td>\n      <td>47</td>\n      <td>2017-47</td>\n    </tr>\n    <tr>\n      <th>4</th>\n      <td>47820044</td>\n      <td>DE_ORD00039</td>\n      <td>58428260</td>\n      <td>Paid, shipped</td>\n      <td>Pay.nl - PayPal</td>\n      <td>76.16</td>\n      <td>bernd-jendreck@t-online.de</td>\n      <td>Bernd</td>\n      <td>Jendreck</td>\n      <td>WOOOF Regular</td>\n      <td>2017-11-22</td>\n      <td>2017-11-22</td>\n      <td>2017-11</td>\n      <td>2017-11</td>\n      <td>New</td>\n      <td>Webshop</td>\n      <td>2017</td>\n      <td>47</td>\n      <td>2017-47</td>\n    </tr>\n  </tbody>\n</table>\n</div>"
     },
     "metadata": {},
     "execution_count": 20
    }
   ],
   "source": [
    "df.head()"
   ]
  },
  {
   "cell_type": "code",
   "execution_count": 21,
   "metadata": {},
   "outputs": [],
   "source": [
    "import datetime\n",
    "now = datetime.datetime.now()"
   ]
  },
  {
   "cell_type": "code",
   "execution_count": 22,
   "metadata": {},
   "outputs": [
    {
     "output_type": "execute_result",
     "data": {
      "text/plain": [
       "datetime.datetime(2021, 6, 9, 9, 17, 1, 872900)"
      ]
     },
     "metadata": {},
     "execution_count": 22
    }
   ],
   "source": [
    "now"
   ]
  },
  {
   "cell_type": "code",
   "execution_count": 23,
   "metadata": {},
   "outputs": [
    {
     "output_type": "execute_result",
     "data": {
      "text/plain": [
       "0       1300 days 09:17:01.872900\n",
       "1       1296 days 09:17:01.872900\n",
       "2       1296 days 09:17:01.872900\n",
       "3       1296 days 09:17:01.872900\n",
       "4       1295 days 09:17:01.872900\n",
       "                   ...           \n",
       "85927     30 days 09:17:01.872900\n",
       "85928    358 days 09:17:01.872900\n",
       "85929    234 days 09:17:01.872900\n",
       "85930    377 days 09:17:01.872900\n",
       "85931   1292 days 09:17:01.872900\n",
       "Name: First_Order, Length: 85932, dtype: timedelta64[ns]"
      ]
     },
     "metadata": {},
     "execution_count": 23
    }
   ],
   "source": [
    "now - df['First_Order']"
   ]
  },
  {
   "cell_type": "code",
   "execution_count": 24,
   "metadata": {},
   "outputs": [
    {
     "output_type": "execute_result",
     "data": {
      "text/plain": [
       "                                      E-mail   Firstname     Lastname\n",
       "85549                       ronjasuhr@web.de       Ronja         Suhr\n",
       "85551             bettyziskoven674@gmail.com       Karin     Ziskoven\n",
       "85570                       max_hein@live.de  Maximilian         Hein\n",
       "85572                       cat-dany@gmx.de0     Daniela  Schönberger\n",
       "85573                       cat-dany@gmx.de0     Daniela  Schönberger\n",
       "...                                      ...         ...          ...\n",
       "85916  3bgf92rmhmkys7z@marketplace.amazon.de           ﻿        vogel\n",
       "85918                     bergsabine7@web.de      Sabine         Berg\n",
       "85922                     netty@stahmann.one      Anette     Stahmann\n",
       "85923                 orlando2202@hotmail.de     Orlando        Gally\n",
       "85926  82mds53qpd0p7n0@marketplace.amazon.de        Ümit     Gündogdu\n",
       "\n",
       "[88 rows x 3 columns]"
      ],
      "text/html": "<div>\n<style scoped>\n    .dataframe tbody tr th:only-of-type {\n        vertical-align: middle;\n    }\n\n    .dataframe tbody tr th {\n        vertical-align: top;\n    }\n\n    .dataframe thead th {\n        text-align: right;\n    }\n</style>\n<table border=\"1\" class=\"dataframe\">\n  <thead>\n    <tr style=\"text-align: right;\">\n      <th></th>\n      <th>E-mail</th>\n      <th>Firstname</th>\n      <th>Lastname</th>\n    </tr>\n  </thead>\n  <tbody>\n    <tr>\n      <th>85549</th>\n      <td>ronjasuhr@web.de</td>\n      <td>Ronja</td>\n      <td>Suhr</td>\n    </tr>\n    <tr>\n      <th>85551</th>\n      <td>bettyziskoven674@gmail.com</td>\n      <td>Karin</td>\n      <td>Ziskoven</td>\n    </tr>\n    <tr>\n      <th>85570</th>\n      <td>max_hein@live.de</td>\n      <td>Maximilian</td>\n      <td>Hein</td>\n    </tr>\n    <tr>\n      <th>85572</th>\n      <td>cat-dany@gmx.de0</td>\n      <td>Daniela</td>\n      <td>Schönberger</td>\n    </tr>\n    <tr>\n      <th>85573</th>\n      <td>cat-dany@gmx.de0</td>\n      <td>Daniela</td>\n      <td>Schönberger</td>\n    </tr>\n    <tr>\n      <th>...</th>\n      <td>...</td>\n      <td>...</td>\n      <td>...</td>\n    </tr>\n    <tr>\n      <th>85916</th>\n      <td>3bgf92rmhmkys7z@marketplace.amazon.de</td>\n      <td>﻿</td>\n      <td>vogel</td>\n    </tr>\n    <tr>\n      <th>85918</th>\n      <td>bergsabine7@web.de</td>\n      <td>Sabine</td>\n      <td>Berg</td>\n    </tr>\n    <tr>\n      <th>85922</th>\n      <td>netty@stahmann.one</td>\n      <td>Anette</td>\n      <td>Stahmann</td>\n    </tr>\n    <tr>\n      <th>85923</th>\n      <td>orlando2202@hotmail.de</td>\n      <td>Orlando</td>\n      <td>Gally</td>\n    </tr>\n    <tr>\n      <th>85926</th>\n      <td>82mds53qpd0p7n0@marketplace.amazon.de</td>\n      <td>Ümit</td>\n      <td>Gündogdu</td>\n    </tr>\n  </tbody>\n</table>\n<p>88 rows × 3 columns</p>\n</div>"
     },
     "metadata": {},
     "execution_count": 24
    }
   ],
   "source": [
    "df[(now - df['First_Order'])<=pd.Timedelta(7,'D')].loc[:,['E-mail', 'Firstname', 'Lastname']]\n",
    "# it doesn't show new customers because this data is older than 2 weeks..."
   ]
  },
  {
   "cell_type": "code",
   "execution_count": 25,
   "metadata": {},
   "outputs": [],
   "source": [
    "new_customers = df[(now - df['First_Order'])<=pd.Timedelta(7,'D')].loc[:,['E-mail', 'Firstname', 'Lastname']]"
   ]
  },
  {
   "cell_type": "code",
   "execution_count": 26,
   "metadata": {},
   "outputs": [],
   "source": [
    "new_customers = new_customers.drop_duplicates()"
   ]
  },
  {
   "cell_type": "code",
   "execution_count": 27,
   "metadata": {},
   "outputs": [],
   "source": [
    "#new_customers.to_csv('./Outputs/WOOOF_NewCustomers_{}.csv'.format(pd.datetime.today().strftime('%Y%m%d'), index=False))"
   ]
  },
  {
   "cell_type": "code",
   "execution_count": 28,
   "metadata": {},
   "outputs": [
    {
     "output_type": "execute_result",
     "data": {
      "text/plain": [
       "                               E-mail   Firstname            Lastname\n",
       "85549                ronjasuhr@web.de       Ronja                Suhr\n",
       "85551      bettyziskoven674@gmail.com       Karin            Ziskoven\n",
       "85570                max_hein@live.de  Maximilian                Hein\n",
       "85572                cat-dany@gmx.de0     Daniela         Schönberger\n",
       "85583  ccvandersteenhoven@hotmail.com    Coenraad  van der Steenhoven"
      ],
      "text/html": "<div>\n<style scoped>\n    .dataframe tbody tr th:only-of-type {\n        vertical-align: middle;\n    }\n\n    .dataframe tbody tr th {\n        vertical-align: top;\n    }\n\n    .dataframe thead th {\n        text-align: right;\n    }\n</style>\n<table border=\"1\" class=\"dataframe\">\n  <thead>\n    <tr style=\"text-align: right;\">\n      <th></th>\n      <th>E-mail</th>\n      <th>Firstname</th>\n      <th>Lastname</th>\n    </tr>\n  </thead>\n  <tbody>\n    <tr>\n      <th>85549</th>\n      <td>ronjasuhr@web.de</td>\n      <td>Ronja</td>\n      <td>Suhr</td>\n    </tr>\n    <tr>\n      <th>85551</th>\n      <td>bettyziskoven674@gmail.com</td>\n      <td>Karin</td>\n      <td>Ziskoven</td>\n    </tr>\n    <tr>\n      <th>85570</th>\n      <td>max_hein@live.de</td>\n      <td>Maximilian</td>\n      <td>Hein</td>\n    </tr>\n    <tr>\n      <th>85572</th>\n      <td>cat-dany@gmx.de0</td>\n      <td>Daniela</td>\n      <td>Schönberger</td>\n    </tr>\n    <tr>\n      <th>85583</th>\n      <td>ccvandersteenhoven@hotmail.com</td>\n      <td>Coenraad</td>\n      <td>van der Steenhoven</td>\n    </tr>\n  </tbody>\n</table>\n</div>"
     },
     "metadata": {},
     "execution_count": 28
    }
   ],
   "source": [
    "new_customers.head()"
   ]
  },
  {
   "cell_type": "markdown",
   "metadata": {},
   "source": [
    "## RFM"
   ]
  },
  {
   "cell_type": "code",
   "execution_count": 13,
   "metadata": {},
   "outputs": [
    {
     "output_type": "execute_result",
     "data": {
      "text/plain": [
       "Index(['Customer_ID', 'Order', 'Order_ID', 'Status', 'Payment', 'ValueNOVAT',\n",
       "       'E-mail', 'Firstname', 'Lastname', 'Product_title', 'Creation_Date',\n",
       "       'First_Order', 'First_Order_YM', 'Creation_Date_YM', 'Customer_Type',\n",
       "       'Payment_Type', 'Year', 'Week', 'Year_Week', 'DaysDiff'],\n",
       "      dtype='object')"
      ]
     },
     "metadata": {},
     "execution_count": 13
    }
   ],
   "source": [
    "df.columns"
   ]
  },
  {
   "cell_type": "code",
   "execution_count": 30,
   "metadata": {},
   "outputs": [
    {
     "output_type": "execute_result",
     "data": {
      "text/plain": [
       "Index(['Order_ID', 'Order', 'Invoices', 'Credit_notes', 'Added', 'Status',\n",
       "       'Custom_status', 'Payment', 'Shipping', 'Price_total', 'Price_total_ex',\n",
       "       'Price_vat', 'Price_cost', 'Price_shipping', 'Weight', 'Volume',\n",
       "       'Colli', 'Company', 'Vat', 'Firstname', 'Lastname', 'Phone', 'Mobile',\n",
       "       'E-mail', 'Attn', 'Streetname', 'Second_address_line', 'Number',\n",
       "       'Extension', 'Zipcode', 'City', 'Region', 'Country', 'Invoice_street',\n",
       "       'Invoice_street_2', 'Invoice_housenumber', 'Invoice_housenumber_ext',\n",
       "       'Invoice_zipcode', 'Invoice_city', 'Invoice_region', 'Invoice_country',\n",
       "       'Quantity', 'Product_price', 'Product_price_cost', 'Product_weight',\n",
       "       'Product_volume', 'Product_colli', 'Product_supplier', 'Product_brand',\n",
       "       'Product_title', 'Product_variant', 'Product_article_code',\n",
       "       'Product_EAN', 'Product_SKU', 'Discount_code', 'Discount_price',\n",
       "       'Customer', 'Comment', 'Memo', 'Price_payment', 'Shipping_company'],\n",
       "      dtype='object')"
      ]
     },
     "metadata": {},
     "execution_count": 30
    }
   ],
   "source": [
    "df_og.columns"
   ]
  },
  {
   "cell_type": "code",
   "execution_count": 15,
   "metadata": {},
   "outputs": [],
   "source": [
    "# Setup maximum date for Recency calculation on training dataset\n",
    "max_date = df.Creation_Date.max()"
   ]
  },
  {
   "cell_type": "code",
   "execution_count": 16,
   "metadata": {},
   "outputs": [
    {
     "output_type": "execute_result",
     "data": {
      "text/plain": [
       "Timestamp('2021-06-07 00:00:00')"
      ]
     },
     "metadata": {},
     "execution_count": 16
    }
   ],
   "source": [
    "max_date"
   ]
  },
  {
   "cell_type": "code",
   "execution_count": 16,
   "metadata": {},
   "outputs": [
    {
     "output_type": "execute_result",
     "data": {
      "text/plain": [
       "Returning    59276\n",
       "New          26656\n",
       "Name: Customer_Type, dtype: int64"
      ]
     },
     "metadata": {},
     "execution_count": 16
    }
   ],
   "source": [
    "df.Customer_Type.value_counts()"
   ]
  },
  {
   "cell_type": "code",
   "execution_count": 22,
   "metadata": {},
   "outputs": [
    {
     "output_type": "execute_result",
     "data": {
      "text/plain": [
       "Timestamp('2020-01-01 00:00:00')"
      ]
     },
     "metadata": {},
     "execution_count": 22
    }
   ],
   "source": [
    "df_21 = df[df['Creation_Date'] >= '2020-01-01']\n",
    "df_21.Creation_Date.min()"
   ]
  },
  {
   "cell_type": "code",
   "execution_count": 36,
   "metadata": {},
   "outputs": [
    {
     "output_type": "execute_result",
     "data": {
      "text/plain": [
       "(68562, 20)"
      ]
     },
     "metadata": {},
     "execution_count": 36
    }
   ],
   "source": [
    "df_19 = df[df['Creation_Date'] >= '2019-01-01']\n",
    "df_19.shape"
   ]
  },
  {
   "cell_type": "code",
   "execution_count": 38,
   "metadata": {},
   "outputs": [],
   "source": [
    "# Create the RFM table\n",
    "rfm_21 = df_21.groupby('E-mail').agg({'Creation_Date': lambda x: (max_date - x.max()).days,\n",
    "                                                   'Order_ID': lambda num: len(num),\n",
    "                                                   'ValueNOVAT': lambda price: price.mean()})\n",
    "\n",
    "rfm_19 = df_19.groupby('E-mail').agg({'Creation_Date': lambda x: (max_date - x.max()).days,\n",
    "                                                   'Order_ID': lambda num: len(num),\n",
    "                                                   'ValueNOVAT': lambda price: price.mean()})"
   ]
  },
  {
   "cell_type": "code",
   "execution_count": 39,
   "metadata": {},
   "outputs": [],
   "source": [
    "# Reset Index\n",
    "rfm_21.reset_index(inplace=True)\n",
    "\n",
    "# Change the name of the columns\n",
    "rfm_21.columns=['email','recency','frequency','monetary_value']\n",
    "\n",
    "# Reset Index\n",
    "rfm_19.reset_index(inplace=True)\n",
    "\n",
    "# Change the name of the columns\n",
    "rfm_19.columns=['email','recency','frequency','monetary_value']"
   ]
  },
  {
   "cell_type": "code",
   "execution_count": 40,
   "metadata": {},
   "outputs": [
    {
     "output_type": "execute_result",
     "data": {
      "text/plain": [
       "((13439, 4), (44985, 20))"
      ]
     },
     "metadata": {},
     "execution_count": 40
    }
   ],
   "source": [
    "rfm_21.shape, df_21.shape"
   ]
  },
  {
   "cell_type": "code",
   "execution_count": 41,
   "metadata": {},
   "outputs": [
    {
     "output_type": "execute_result",
     "data": {
      "text/plain": [
       "((18660, 4), (68562, 20))"
      ]
     },
     "metadata": {},
     "execution_count": 41
    }
   ],
   "source": [
    "rfm_19.shape, df_19.shape"
   ]
  },
  {
   "cell_type": "code",
   "execution_count": 28,
   "metadata": {},
   "outputs": [],
   "source": [
    "# Purchase Frequency\n",
    "purchase_frequency=sum(rfm_21['frequency'])/rfm_21.shape[0]"
   ]
  },
  {
   "cell_type": "code",
   "execution_count": 29,
   "metadata": {},
   "outputs": [],
   "source": [
    "# Repeat Rate\n",
    "repeat_rate=rfm_21[rfm_21.frequency > 1].shape[0]/rfm_21.shape[0]"
   ]
  },
  {
   "cell_type": "code",
   "execution_count": 30,
   "metadata": {},
   "outputs": [],
   "source": [
    "# Churn Rate\n",
    "churn_rate=1-repeat_rate"
   ]
  },
  {
   "cell_type": "code",
   "execution_count": 31,
   "metadata": {},
   "outputs": [
    {
     "output_type": "execute_result",
     "data": {
      "text/plain": [
       "(3.347347272862564, 0.570652578316839, 0.429347421683161)"
      ]
     },
     "metadata": {},
     "execution_count": 31
    }
   ],
   "source": [
    "purchase_frequency,repeat_rate,churn_rate"
   ]
  },
  {
   "cell_type": "code",
   "execution_count": 32,
   "metadata": {},
   "outputs": [],
   "source": [
    "# Customer Value\n",
    "rfm_21['CLV']=(rfm_21['monetary_value']*purchase_frequency)/churn_rate"
   ]
  },
  {
   "cell_type": "code",
   "execution_count": 42,
   "metadata": {},
   "outputs": [],
   "source": [
    "# Purchase Frequency\n",
    "purchase_frequency=sum(rfm_19['frequency'])/rfm_19.shape[0]\n",
    "\n",
    "# Repeat Rate\n",
    "repeat_rate=rfm_19[rfm_19.frequency > 1].shape[0]/rfm_19.shape[0]\n",
    "\n",
    "# Churn Rate\n",
    "churn_rate=1-repeat_rate\n",
    "\n",
    "# Customer Value\n",
    "rfm_19['CLV']=(rfm_19['monetary_value']*purchase_frequency)/churn_rate"
   ]
  },
  {
   "cell_type": "code",
   "execution_count": 49,
   "metadata": {},
   "outputs": [
    {
     "output_type": "execute_result",
     "data": {
      "text/plain": [
       "                                       email  recency  frequency  \\\n",
       "11307                sophie.wessner94@gmx.de      110          1   \n",
       "9654                      plassenburg@web.de      180          2   \n",
       "5613             isabell.radziejewski@web.de      170          1   \n",
       "12752                    water2o35@gmail.com      515          1   \n",
       "9370   p3g6ncqyg3lhnkx@marketplace.amazon.de       65          1   \n",
       "\n",
       "       monetary_value  \n",
       "11307           52.29  \n",
       "9654            32.26  \n",
       "5613            63.28  \n",
       "12752           26.12  \n",
       "9370            28.64  "
      ],
      "text/html": "<div>\n<style scoped>\n    .dataframe tbody tr th:only-of-type {\n        vertical-align: middle;\n    }\n\n    .dataframe tbody tr th {\n        vertical-align: top;\n    }\n\n    .dataframe thead th {\n        text-align: right;\n    }\n</style>\n<table border=\"1\" class=\"dataframe\">\n  <thead>\n    <tr style=\"text-align: right;\">\n      <th></th>\n      <th>email</th>\n      <th>recency</th>\n      <th>frequency</th>\n      <th>monetary_value</th>\n    </tr>\n  </thead>\n  <tbody>\n    <tr>\n      <th>11307</th>\n      <td>sophie.wessner94@gmx.de</td>\n      <td>110</td>\n      <td>1</td>\n      <td>52.29</td>\n    </tr>\n    <tr>\n      <th>9654</th>\n      <td>plassenburg@web.de</td>\n      <td>180</td>\n      <td>2</td>\n      <td>32.26</td>\n    </tr>\n    <tr>\n      <th>5613</th>\n      <td>isabell.radziejewski@web.de</td>\n      <td>170</td>\n      <td>1</td>\n      <td>63.28</td>\n    </tr>\n    <tr>\n      <th>12752</th>\n      <td>water2o35@gmail.com</td>\n      <td>515</td>\n      <td>1</td>\n      <td>26.12</td>\n    </tr>\n    <tr>\n      <th>9370</th>\n      <td>p3g6ncqyg3lhnkx@marketplace.amazon.de</td>\n      <td>65</td>\n      <td>1</td>\n      <td>28.64</td>\n    </tr>\n  </tbody>\n</table>\n</div>"
     },
     "metadata": {},
     "execution_count": 49
    }
   ],
   "source": [
    "rfm_21.sample(5)"
   ]
  },
  {
   "cell_type": "code",
   "execution_count": 34,
   "metadata": {},
   "outputs": [
    {
     "output_type": "execute_result",
     "data": {
      "text/plain": [
       "count    13439.000000\n",
       "mean       326.330747\n",
       "std        331.725843\n",
       "min          0.000000\n",
       "25%        225.470745\n",
       "50%        287.451811\n",
       "75%        358.445470\n",
       "max      12572.566846\n",
       "Name: CLV, dtype: float64"
      ]
     },
     "metadata": {},
     "execution_count": 34
    }
   ],
   "source": [
    "rfm_21.CLV.describe()"
   ]
  },
  {
   "cell_type": "code",
   "execution_count": 35,
   "metadata": {},
   "outputs": [
    {
     "output_type": "execute_result",
     "data": {
      "text/plain": [
       "     recency  frequency  monetary_value         CLV\n",
       "0.2     41.0        1.0       28.183217  219.726517\n",
       "0.4    105.0        1.0       32.330000  252.056334\n",
       "0.6    219.8        2.0       41.070000  320.196525\n",
       "0.8    379.0        5.0       47.785000  372.549086"
      ],
      "text/html": "<div>\n<style scoped>\n    .dataframe tbody tr th:only-of-type {\n        vertical-align: middle;\n    }\n\n    .dataframe tbody tr th {\n        vertical-align: top;\n    }\n\n    .dataframe thead th {\n        text-align: right;\n    }\n</style>\n<table border=\"1\" class=\"dataframe\">\n  <thead>\n    <tr style=\"text-align: right;\">\n      <th></th>\n      <th>recency</th>\n      <th>frequency</th>\n      <th>monetary_value</th>\n      <th>CLV</th>\n    </tr>\n  </thead>\n  <tbody>\n    <tr>\n      <th>0.2</th>\n      <td>41.0</td>\n      <td>1.0</td>\n      <td>28.183217</td>\n      <td>219.726517</td>\n    </tr>\n    <tr>\n      <th>0.4</th>\n      <td>105.0</td>\n      <td>1.0</td>\n      <td>32.330000</td>\n      <td>252.056334</td>\n    </tr>\n    <tr>\n      <th>0.6</th>\n      <td>219.8</td>\n      <td>2.0</td>\n      <td>41.070000</td>\n      <td>320.196525</td>\n    </tr>\n    <tr>\n      <th>0.8</th>\n      <td>379.0</td>\n      <td>5.0</td>\n      <td>47.785000</td>\n      <td>372.549086</td>\n    </tr>\n  </tbody>\n</table>\n</div>"
     },
     "metadata": {},
     "execution_count": 35
    }
   ],
   "source": [
    " rfm_21.quantile([.2, .4, .6, .8], axis=0)"
   ]
  },
  {
   "cell_type": "code",
   "execution_count": 43,
   "metadata": {},
   "outputs": [
    {
     "output_type": "execute_result",
     "data": {
      "text/plain": [
       "     recency  frequency  monetary_value         CLV\n",
       "0.2     60.0        1.0         27.9900  232.471276\n",
       "0.4    190.0        1.0         32.3596  268.763040\n",
       "0.6    406.0        2.0         41.0700  341.107370\n",
       "0.8    613.0        5.0         46.6800  387.701291"
      ],
      "text/html": "<div>\n<style scoped>\n    .dataframe tbody tr th:only-of-type {\n        vertical-align: middle;\n    }\n\n    .dataframe tbody tr th {\n        vertical-align: top;\n    }\n\n    .dataframe thead th {\n        text-align: right;\n    }\n</style>\n<table border=\"1\" class=\"dataframe\">\n  <thead>\n    <tr style=\"text-align: right;\">\n      <th></th>\n      <th>recency</th>\n      <th>frequency</th>\n      <th>monetary_value</th>\n      <th>CLV</th>\n    </tr>\n  </thead>\n  <tbody>\n    <tr>\n      <th>0.2</th>\n      <td>60.0</td>\n      <td>1.0</td>\n      <td>27.9900</td>\n      <td>232.471276</td>\n    </tr>\n    <tr>\n      <th>0.4</th>\n      <td>190.0</td>\n      <td>1.0</td>\n      <td>32.3596</td>\n      <td>268.763040</td>\n    </tr>\n    <tr>\n      <th>0.6</th>\n      <td>406.0</td>\n      <td>2.0</td>\n      <td>41.0700</td>\n      <td>341.107370</td>\n    </tr>\n    <tr>\n      <th>0.8</th>\n      <td>613.0</td>\n      <td>5.0</td>\n      <td>46.6800</td>\n      <td>387.701291</td>\n    </tr>\n  </tbody>\n</table>\n</div>"
     },
     "metadata": {},
     "execution_count": 43
    }
   ],
   "source": [
    " rfm_19.quantile([.2, .4, .6, .8], axis=0)"
   ]
  },
  {
   "cell_type": "code",
   "execution_count": 47,
   "metadata": {},
   "outputs": [
    {
     "output_type": "execute_result",
     "data": {
      "text/plain": [
       "(289.0, 153.0)"
      ]
     },
     "metadata": {},
     "execution_count": 47
    }
   ],
   "source": [
    "rfm_19.recency.median(), rfm_21.recency.median()"
   ]
  },
  {
   "cell_type": "code",
   "execution_count": 17,
   "metadata": {},
   "outputs": [
    {
     "output_type": "execute_result",
     "data": {
      "text/plain": [
       "Timestamp('2021-06-07 00:00:00')"
      ]
     },
     "metadata": {},
     "execution_count": 17
    }
   ],
   "source": [
    "max_date"
   ]
  },
  {
   "cell_type": "code",
   "execution_count": 18,
   "metadata": {},
   "outputs": [
    {
     "output_type": "execute_result",
     "data": {
      "text/plain": [
       "((23530, 4), (85932, 20))"
      ]
     },
     "metadata": {},
     "execution_count": 18
    }
   ],
   "source": [
    "# Create the RFM table\n",
    "rfm = df.groupby('E-mail').agg({'Creation_Date': lambda x: (max_date - x.max()).days,\n",
    "                                                   'Order_ID': lambda num: len(num),\n",
    "                                                   'ValueNOVAT': lambda price: price.mean()})\n",
    "\n",
    "# Reset Index\n",
    "rfm.reset_index(inplace=True)\n",
    "\n",
    "# Change the name of the columns\n",
    "rfm.columns=['email','recency','frequency','monetary_value']\n",
    "\n",
    "rfm.shape, df.shape"
   ]
  },
  {
   "cell_type": "code",
   "execution_count": 22,
   "metadata": {},
   "outputs": [
    {
     "output_type": "execute_result",
     "data": {
      "text/plain": [
       "<bound method Series.unique of 0        003ppcs4s2vcj0q@marketplace.amazon.de\n",
       "1        009g57nc9rg76dy@marketplace.amazon.de\n",
       "2        00j89nxrhbft07k@marketplace.amazon.de\n",
       "3        00jx5l3sntnj5p1@marketplace.amazon.de\n",
       "4        00sk0ls66hd2c5x@marketplace.amazon.de\n",
       "                         ...                  \n",
       "23525    zzmgl1s1l04mzws@marketplace.amazon.de\n",
       "23526    zzrnnjbmtkz3fzg@marketplace.amazon.de\n",
       "23527    zztrh549mbsn9x9@marketplace.amazon.de\n",
       "23528    zzxb9d6c071ws6z@marketplace.amazon.de\n",
       "23529    zzyv6pm2zm5k798@marketplace.amazon.de\n",
       "Name: email, Length: 23530, dtype: object>"
      ]
     },
     "metadata": {},
     "execution_count": 22
    }
   ],
   "source": [
    "rfm.email.unique"
   ]
  },
  {
   "cell_type": "code",
   "execution_count": 51,
   "metadata": {},
   "outputs": [
    {
     "output_type": "execute_result",
     "data": {
      "text/plain": [
       "                                   email  recency  frequency  monetary_value  \\\n",
       "0  003ppcs4s2vcj0q@marketplace.amazon.de      734          3       40.150000   \n",
       "1  009g57nc9rg76dy@marketplace.amazon.de       32         11       45.452727   \n",
       "2  00j89nxrhbft07k@marketplace.amazon.de     1060          1       44.810000   \n",
       "3  00jx5l3sntnj5p1@marketplace.amazon.de      847          1       23.830000   \n",
       "4  00sk0ls66hd2c5x@marketplace.amazon.de      958          2       27.050000   \n",
       "\n",
       "          CLV  \n",
       "0  312.997351  \n",
       "1  354.335821  \n",
       "2  349.325313  \n",
       "3  185.771529  \n",
       "4  210.873682  "
      ],
      "text/html": "<div>\n<style scoped>\n    .dataframe tbody tr th:only-of-type {\n        vertical-align: middle;\n    }\n\n    .dataframe tbody tr th {\n        vertical-align: top;\n    }\n\n    .dataframe thead th {\n        text-align: right;\n    }\n</style>\n<table border=\"1\" class=\"dataframe\">\n  <thead>\n    <tr style=\"text-align: right;\">\n      <th></th>\n      <th>email</th>\n      <th>recency</th>\n      <th>frequency</th>\n      <th>monetary_value</th>\n      <th>CLV</th>\n    </tr>\n  </thead>\n  <tbody>\n    <tr>\n      <th>0</th>\n      <td>003ppcs4s2vcj0q@marketplace.amazon.de</td>\n      <td>734</td>\n      <td>3</td>\n      <td>40.150000</td>\n      <td>312.997351</td>\n    </tr>\n    <tr>\n      <th>1</th>\n      <td>009g57nc9rg76dy@marketplace.amazon.de</td>\n      <td>32</td>\n      <td>11</td>\n      <td>45.452727</td>\n      <td>354.335821</td>\n    </tr>\n    <tr>\n      <th>2</th>\n      <td>00j89nxrhbft07k@marketplace.amazon.de</td>\n      <td>1060</td>\n      <td>1</td>\n      <td>44.810000</td>\n      <td>349.325313</td>\n    </tr>\n    <tr>\n      <th>3</th>\n      <td>00jx5l3sntnj5p1@marketplace.amazon.de</td>\n      <td>847</td>\n      <td>1</td>\n      <td>23.830000</td>\n      <td>185.771529</td>\n    </tr>\n    <tr>\n      <th>4</th>\n      <td>00sk0ls66hd2c5x@marketplace.amazon.de</td>\n      <td>958</td>\n      <td>2</td>\n      <td>27.050000</td>\n      <td>210.873682</td>\n    </tr>\n  </tbody>\n</table>\n</div>"
     },
     "metadata": {},
     "execution_count": 51
    }
   ],
   "source": [
    "# Purchase Frequency\n",
    "purchase_frequency=sum(rfm['frequency'])/rfm.shape[0]\n",
    "# Repeat Rate\n",
    "repeat_rate=rfm[rfm.frequency > 1].shape[0]/rfm.shape[0]\n",
    "# Churn Rate\n",
    "churn_rate=1-repeat_rate\n",
    "# Customer Value\n",
    "rfm['CLV']=(rfm['monetary_value']*purchase_frequency)/churn_rate\n",
    "\n",
    "rfm.head()"
   ]
  },
  {
   "cell_type": "code",
   "execution_count": 54,
   "metadata": {},
   "outputs": [],
   "source": [
    "rfm['r_score'] = 0\n",
    "for d in range(len(rfm)):\n",
    "    if rfm.recency[d] < 60:\n",
    "        rfm['r_score'][d] = 5\n",
    "    elif rfm.recency[d] < 190:\n",
    "        rfm['r_score'][d] = 4\n",
    "    elif rfm.recency[d] < 400:\n",
    "        rfm['r_score'][d] = 3\n",
    "    elif rfm.recency[d] < 610:\n",
    "        rfm['r_score'][d] = 2\n",
    "    else:\n",
    "        rfm['r_score'][d] = 1\n"
   ]
  },
  {
   "cell_type": "code",
   "execution_count": 55,
   "metadata": {},
   "outputs": [],
   "source": [
    "rfm['f_score'] = 0\n",
    "for o in range(len(rfm)):\n",
    "    if rfm.frequency[o] == 1:\n",
    "        rfm['f_score'][o] = 1\n",
    "    elif rfm.frequency[o] == 2:\n",
    "        rfm['f_score'][o] = 2\n",
    "    elif rfm.frequency[o] == 3:\n",
    "        rfm['f_score'][o] = 3\n",
    "    elif rfm.frequency[o] == 4:\n",
    "        rfm['f_score'][o] = 4\n",
    "    else:\n",
    "        rfm['f_score'][o] = 5\n",
    "    "
   ]
  },
  {
   "cell_type": "code",
   "execution_count": 56,
   "metadata": {},
   "outputs": [],
   "source": [
    "rfm['m_score'] = 0\n",
    "for o in range(len(rfm)):\n",
    "    if rfm.monetary_value[o] < 33:\n",
    "        rfm['m_score'][o] = 1\n",
    "    elif rfm.monetary_value[o] < 43:\n",
    "        rfm['m_score'][o] = 2\n",
    "    elif rfm.monetary_value[o] < 50:\n",
    "        rfm['m_score'][o] = 3\n",
    "    elif rfm.monetary_value[o] < 61:\n",
    "        rfm['m_score'][o] = 4\n",
    "    else:\n",
    "        rfm['m_score'][o] = 5"
   ]
  },
  {
   "cell_type": "code",
   "execution_count": 58,
   "metadata": {},
   "outputs": [],
   "source": [
    "rfm['score_conc'] = ''\n",
    "for s in range(len(rfm)):\n",
    "    rfm['score_conc'][s] = str(rfm['r_score'][s])+str(rfm['f_score'][s])+str(rfm['m_score'][s])"
   ]
  },
  {
   "cell_type": "code",
   "execution_count": 59,
   "metadata": {},
   "outputs": [
    {
     "output_type": "execute_result",
     "data": {
      "text/plain": [
       "                                   email  recency  frequency  monetary_value  \\\n",
       "0  003ppcs4s2vcj0q@marketplace.amazon.de      734          3       40.150000   \n",
       "1  009g57nc9rg76dy@marketplace.amazon.de       32         11       45.452727   \n",
       "2  00j89nxrhbft07k@marketplace.amazon.de     1060          1       44.810000   \n",
       "3  00jx5l3sntnj5p1@marketplace.amazon.de      847          1       23.830000   \n",
       "4  00sk0ls66hd2c5x@marketplace.amazon.de      958          2       27.050000   \n",
       "\n",
       "          CLV  r_score  f_score  m_score score_conc  \n",
       "0  312.997351        1        3        2        132  \n",
       "1  354.335821        5        5        3        553  \n",
       "2  349.325313        1        1        3        113  \n",
       "3  185.771529        1        1        1        111  \n",
       "4  210.873682        1        2        1        121  "
      ],
      "text/html": "<div>\n<style scoped>\n    .dataframe tbody tr th:only-of-type {\n        vertical-align: middle;\n    }\n\n    .dataframe tbody tr th {\n        vertical-align: top;\n    }\n\n    .dataframe thead th {\n        text-align: right;\n    }\n</style>\n<table border=\"1\" class=\"dataframe\">\n  <thead>\n    <tr style=\"text-align: right;\">\n      <th></th>\n      <th>email</th>\n      <th>recency</th>\n      <th>frequency</th>\n      <th>monetary_value</th>\n      <th>CLV</th>\n      <th>r_score</th>\n      <th>f_score</th>\n      <th>m_score</th>\n      <th>score_conc</th>\n    </tr>\n  </thead>\n  <tbody>\n    <tr>\n      <th>0</th>\n      <td>003ppcs4s2vcj0q@marketplace.amazon.de</td>\n      <td>734</td>\n      <td>3</td>\n      <td>40.150000</td>\n      <td>312.997351</td>\n      <td>1</td>\n      <td>3</td>\n      <td>2</td>\n      <td>132</td>\n    </tr>\n    <tr>\n      <th>1</th>\n      <td>009g57nc9rg76dy@marketplace.amazon.de</td>\n      <td>32</td>\n      <td>11</td>\n      <td>45.452727</td>\n      <td>354.335821</td>\n      <td>5</td>\n      <td>5</td>\n      <td>3</td>\n      <td>553</td>\n    </tr>\n    <tr>\n      <th>2</th>\n      <td>00j89nxrhbft07k@marketplace.amazon.de</td>\n      <td>1060</td>\n      <td>1</td>\n      <td>44.810000</td>\n      <td>349.325313</td>\n      <td>1</td>\n      <td>1</td>\n      <td>3</td>\n      <td>113</td>\n    </tr>\n    <tr>\n      <th>3</th>\n      <td>00jx5l3sntnj5p1@marketplace.amazon.de</td>\n      <td>847</td>\n      <td>1</td>\n      <td>23.830000</td>\n      <td>185.771529</td>\n      <td>1</td>\n      <td>1</td>\n      <td>1</td>\n      <td>111</td>\n    </tr>\n    <tr>\n      <th>4</th>\n      <td>00sk0ls66hd2c5x@marketplace.amazon.de</td>\n      <td>958</td>\n      <td>2</td>\n      <td>27.050000</td>\n      <td>210.873682</td>\n      <td>1</td>\n      <td>2</td>\n      <td>1</td>\n      <td>121</td>\n    </tr>\n  </tbody>\n</table>\n</div>"
     },
     "metadata": {},
     "execution_count": 59
    }
   ],
   "source": [
    "rfm.head()"
   ]
  },
  {
   "cell_type": "code",
   "execution_count": 69,
   "metadata": {},
   "outputs": [],
   "source": [
    "rfm['clv_score'] = ''\n",
    "for d in range(len(rfm)):\n",
    "    if rfm.CLV[d] < 215:\n",
    "        rfm['clv_score'][d] = \"Low\"\n",
    "    elif rfm.CLV[d] < 277:\n",
    "        rfm['clv_score'][d] = \"Mid-Low\"\n",
    "    elif rfm.CLV[d] < 320:\n",
    "        rfm['clv_score'][d] = \"Mid\"\n",
    "    elif rfm.CLV[d] < 386:\n",
    "        rfm['clv_score'][d] = \"Mid-High\"\n",
    "    elif rfm.CLV[d] >= 386:\n",
    "         rfm['clv_score'][d] = \"High\"\n"
   ]
  },
  {
   "cell_type": "code",
   "execution_count": 62,
   "metadata": {},
   "outputs": [],
   "source": [
    "promising = rfm[rfm['score_conc'].isin([\"525\", \"524\", \"523\", \"522\", \"521\", \"515\", \"514\", \"513\", \"425\", \"424\", \"413\", \"414\", \"415\", \"315\", \"314\", \"313\"])].loc[:,['email']]"
   ]
  },
  {
   "cell_type": "code",
   "execution_count": 66,
   "metadata": {},
   "outputs": [
    {
     "output_type": "execute_result",
     "data": {
      "text/plain": [
       "                                       email  recency  frequency  \\\n",
       "6      00w4f6c1l0dr8wr@marketplace.amazon.de       39          2   \n",
       "7      00y6n4lv9yxzn94@marketplace.amazon.de      343          1   \n",
       "51     05xzx8jgpk2xdy5@marketplace.amazon.de      115          1   \n",
       "54     06b2pyv78fyqq3d@marketplace.amazon.de       40          2   \n",
       "97     0d79hym02d70vj2@marketplace.amazon.de      196          1   \n",
       "...                                      ...      ...        ...   \n",
       "23468  zt03hsjr6gx8hqv@marketplace.amazon.de      197          1   \n",
       "23471  ztbr3mwpwl6zfr2@marketplace.amazon.de      266          1   \n",
       "23481                       zuechter1@gmx.de       10          1   \n",
       "23506          zwinger_von_itzenplitz@gmx.de      256          1   \n",
       "23518  zyc7k56ktbhyfxb@marketplace.amazon.de      331          1   \n",
       "\n",
       "       monetary_value         CLV  r_score  f_score  m_score score_conc  \\\n",
       "6              36.400  283.763476        5        2        2        522   \n",
       "7              57.710  449.889841        3        1        4        314   \n",
       "51             52.480  409.118331        4        1        4        414   \n",
       "54             49.485  385.770210        5        2        3        523   \n",
       "97             53.470  416.836074        3        1        4        314   \n",
       "...               ...         ...      ...      ...      ...        ...   \n",
       "23468          58.810  458.465111        3        1        4        314   \n",
       "23471          46.050  358.991980        3        1        3        313   \n",
       "23481         102.800  801.397950        5        1        5        515   \n",
       "23506         108.810  848.250106        3        1        5        315   \n",
       "23518          69.860  544.607595        3        1        5        315   \n",
       "\n",
       "      clv_score  \n",
       "6           Mid  \n",
       "7          High  \n",
       "51         High  \n",
       "54     Mid-High  \n",
       "97         High  \n",
       "...         ...  \n",
       "23468      High  \n",
       "23471  Mid-High  \n",
       "23481      High  \n",
       "23506      High  \n",
       "23518      High  \n",
       "\n",
       "[1531 rows x 10 columns]"
      ],
      "text/html": "<div>\n<style scoped>\n    .dataframe tbody tr th:only-of-type {\n        vertical-align: middle;\n    }\n\n    .dataframe tbody tr th {\n        vertical-align: top;\n    }\n\n    .dataframe thead th {\n        text-align: right;\n    }\n</style>\n<table border=\"1\" class=\"dataframe\">\n  <thead>\n    <tr style=\"text-align: right;\">\n      <th></th>\n      <th>email</th>\n      <th>recency</th>\n      <th>frequency</th>\n      <th>monetary_value</th>\n      <th>CLV</th>\n      <th>r_score</th>\n      <th>f_score</th>\n      <th>m_score</th>\n      <th>score_conc</th>\n      <th>clv_score</th>\n    </tr>\n  </thead>\n  <tbody>\n    <tr>\n      <th>6</th>\n      <td>00w4f6c1l0dr8wr@marketplace.amazon.de</td>\n      <td>39</td>\n      <td>2</td>\n      <td>36.400</td>\n      <td>283.763476</td>\n      <td>5</td>\n      <td>2</td>\n      <td>2</td>\n      <td>522</td>\n      <td>Mid</td>\n    </tr>\n    <tr>\n      <th>7</th>\n      <td>00y6n4lv9yxzn94@marketplace.amazon.de</td>\n      <td>343</td>\n      <td>1</td>\n      <td>57.710</td>\n      <td>449.889841</td>\n      <td>3</td>\n      <td>1</td>\n      <td>4</td>\n      <td>314</td>\n      <td>High</td>\n    </tr>\n    <tr>\n      <th>51</th>\n      <td>05xzx8jgpk2xdy5@marketplace.amazon.de</td>\n      <td>115</td>\n      <td>1</td>\n      <td>52.480</td>\n      <td>409.118331</td>\n      <td>4</td>\n      <td>1</td>\n      <td>4</td>\n      <td>414</td>\n      <td>High</td>\n    </tr>\n    <tr>\n      <th>54</th>\n      <td>06b2pyv78fyqq3d@marketplace.amazon.de</td>\n      <td>40</td>\n      <td>2</td>\n      <td>49.485</td>\n      <td>385.770210</td>\n      <td>5</td>\n      <td>2</td>\n      <td>3</td>\n      <td>523</td>\n      <td>Mid-High</td>\n    </tr>\n    <tr>\n      <th>97</th>\n      <td>0d79hym02d70vj2@marketplace.amazon.de</td>\n      <td>196</td>\n      <td>1</td>\n      <td>53.470</td>\n      <td>416.836074</td>\n      <td>3</td>\n      <td>1</td>\n      <td>4</td>\n      <td>314</td>\n      <td>High</td>\n    </tr>\n    <tr>\n      <th>...</th>\n      <td>...</td>\n      <td>...</td>\n      <td>...</td>\n      <td>...</td>\n      <td>...</td>\n      <td>...</td>\n      <td>...</td>\n      <td>...</td>\n      <td>...</td>\n      <td>...</td>\n    </tr>\n    <tr>\n      <th>23468</th>\n      <td>zt03hsjr6gx8hqv@marketplace.amazon.de</td>\n      <td>197</td>\n      <td>1</td>\n      <td>58.810</td>\n      <td>458.465111</td>\n      <td>3</td>\n      <td>1</td>\n      <td>4</td>\n      <td>314</td>\n      <td>High</td>\n    </tr>\n    <tr>\n      <th>23471</th>\n      <td>ztbr3mwpwl6zfr2@marketplace.amazon.de</td>\n      <td>266</td>\n      <td>1</td>\n      <td>46.050</td>\n      <td>358.991980</td>\n      <td>3</td>\n      <td>1</td>\n      <td>3</td>\n      <td>313</td>\n      <td>Mid-High</td>\n    </tr>\n    <tr>\n      <th>23481</th>\n      <td>zuechter1@gmx.de</td>\n      <td>10</td>\n      <td>1</td>\n      <td>102.800</td>\n      <td>801.397950</td>\n      <td>5</td>\n      <td>1</td>\n      <td>5</td>\n      <td>515</td>\n      <td>High</td>\n    </tr>\n    <tr>\n      <th>23506</th>\n      <td>zwinger_von_itzenplitz@gmx.de</td>\n      <td>256</td>\n      <td>1</td>\n      <td>108.810</td>\n      <td>848.250106</td>\n      <td>3</td>\n      <td>1</td>\n      <td>5</td>\n      <td>315</td>\n      <td>High</td>\n    </tr>\n    <tr>\n      <th>23518</th>\n      <td>zyc7k56ktbhyfxb@marketplace.amazon.de</td>\n      <td>331</td>\n      <td>1</td>\n      <td>69.860</td>\n      <td>544.607595</td>\n      <td>3</td>\n      <td>1</td>\n      <td>5</td>\n      <td>315</td>\n      <td>High</td>\n    </tr>\n  </tbody>\n</table>\n<p>1531 rows × 10 columns</p>\n</div>"
     },
     "metadata": {},
     "execution_count": 66
    }
   ],
   "source": [
    "rfm[rfm['score_conc'].isin([\"525\", \"524\", \"523\", \"522\", \"521\", \"515\", \"514\", \"513\", \"425\", \"424\", \"413\", \"414\", \"415\", \"315\", \"314\", \"313\"])]"
   ]
  },
  {
   "cell_type": "code",
   "execution_count": 63,
   "metadata": {},
   "outputs": [
    {
     "output_type": "execute_result",
     "data": {
      "text/plain": [
       "(1531, 1)"
      ]
     },
     "metadata": {},
     "execution_count": 63
    }
   ],
   "source": [
    "promising.shape"
   ]
  },
  {
   "cell_type": "code",
   "execution_count": 70,
   "metadata": {},
   "outputs": [
    {
     "output_type": "execute_result",
     "data": {
      "text/plain": [
       "(8964, 1)"
      ]
     },
     "metadata": {},
     "execution_count": 70
    }
   ],
   "source": [
    "clv_relevant = rfm[rfm['clv_score'].isin([\"Mid-High\", \"High\"])].loc[:,['email']]\n",
    "clv_relevant.shape"
   ]
  },
  {
   "cell_type": "code",
   "execution_count": 68,
   "metadata": {},
   "outputs": [
    {
     "output_type": "execute_result",
     "data": {
      "text/plain": [
       "(23530, 10)"
      ]
     },
     "metadata": {},
     "execution_count": 68
    }
   ],
   "source": [
    "rfm.shape # but in powr bi there are only 15,466 customers"
   ]
  },
  {
   "cell_type": "code",
   "execution_count": 71,
   "metadata": {},
   "outputs": [],
   "source": [
    "promising.to_csv('./Outputs/Promising_Cust_09062021.csv', index=False)\n",
    "\n",
    "clv_relevant.to_csv('./Outputs/High_MidHigh_CLV_Cust_09062021.csv', index=False)"
   ]
  },
  {
   "source": [
    "## Experiments"
   ],
   "cell_type": "markdown",
   "metadata": {}
  },
  {
   "cell_type": "code",
   "execution_count": null,
   "metadata": {},
   "outputs": [],
   "source": []
  }
 ],
 "metadata": {
  "kernelspec": {
   "name": "python385jvsc74a57bd003daa801a6ac9ad48cff95a62c7eae7868ae8adc816431dbf898cb359b759f5b",
   "display_name": "Python 3.8.5 64-bit ('base': conda)"
  },
  "language_info": {
   "codemirror_mode": {
    "name": "ipython",
    "version": 3
   },
   "file_extension": ".py",
   "mimetype": "text/x-python",
   "name": "python",
   "nbconvert_exporter": "python",
   "pygments_lexer": "ipython3",
   "version": "3.8.5"
  }
 },
 "nbformat": 4,
 "nbformat_minor": 4
}
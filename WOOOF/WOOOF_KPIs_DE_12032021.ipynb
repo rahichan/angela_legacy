{
 "cells": [
  {
   "cell_type": "code",
   "execution_count": 6,
   "metadata": {},
   "outputs": [],
   "source": [
    "import pandas as pd\n",
    "import numpy as np\n",
    "import datetime as dt\n",
    "import glob\n",
    "import json"
   ]
  },
  {
   "cell_type": "code",
   "execution_count": 2,
   "metadata": {},
   "outputs": [],
   "source": [
    "# Tables"
   ]
  },
  {
   "cell_type": "code",
   "execution_count": 7,
   "metadata": {},
   "outputs": [],
   "source": [
    "query_return_rate = \"\"\"\n",
    "SELECT\n",
    "DATE_FORMAT(t.Conv_Date, \"%Y-%m\") AS \"YearMonth\",\n",
    "COUNT(Conv_ID) AS \"Total_Orders\",\n",
    "COUNT(CASE WHEN t.Customer_Type = \"Returning\" THEN Conv_ID END) AS \"Returning_Orders\",\n",
    "COUNT(CASE WHEN t.Customer_Type = \"Returning\" THEN Conv_ID END)/COUNT(Conv_ID)*100 AS \"Repurchase Rate\"\n",
    "FROM\n",
    "(\n",
    "SELECT\n",
    "alo.Hashed_Email,\n",
    "alo.Conv_Date,\n",
    "alo.Conv_ID,\n",
    "CASE\n",
    "WHEN alo.Conv_Date = first_orders.first_date THEN \"New\"\n",
    "ELSE \"Returning\"\n",
    "END AS \"Customer_Type\"\n",
    "FROM\n",
    "api_lightspeed.api_lightspeed_orders alo\n",
    "JOIN (\n",
    "SELECT\n",
    "Hashed_Email,\n",
    "MIN(Conv_Date) AS \"first_date\"\n",
    "FROM\n",
    "api_lightspeed.api_lightspeed_orders alo\n",
    "WHERE\n",
    "Account = \"WOOOF\"\n",
    "AND Status != \"cancelled\"\n",
    "GROUP BY\n",
    "1) AS first_orders ON\n",
    "first_orders.Hashed_Email = alo.Hashed_Email\n",
    "WHERE\n",
    "Account = \"WOOOF\"\n",
    "AND Status != \"cancelled\") AS t\n",
    "GROUP BY\n",
    "1;\n",
    "\"\"\""
   ]
  },
  {
   "cell_type": "code",
   "execution_count": 8,
   "metadata": {},
   "outputs": [],
   "source": [
    "query_lightspeed = 'SELECT * FROM api_lightspeed.api_lightspeed_orders alo WHERE Account = \"WOOOF\" AND Status != \"cancelled\"'"
   ]
  },
  {
   "cell_type": "code",
   "execution_count": 9,
   "metadata": {},
   "outputs": [
    {
     "name": "stdout",
     "output_type": "stream",
     "text": [
      "Connected to MySQL Server version  8.0.16\n",
      "Your connected to database:  ('api_lightspeed',)\n",
      "MySQL connection is closed\n"
     ]
    }
   ],
   "source": [
    "import mysql.connector\n",
    "from mysql.connector import Error\n",
    "\n",
    "try:\n",
    "    connection = mysql.connector.connect(host='attribution-system-fsg-new.cob86lv75rzo.eu-west-1.rds.amazonaws.com',\n",
    "                                         database='api_lightspeed',\n",
    "                                         user='fsg',\n",
    "                                         password='Attribution3.0')\n",
    "\n",
    "    if connection.is_connected():\n",
    "        db_Info = connection.get_server_info()\n",
    "        print(\"Connected to MySQL Server version \", db_Info)\n",
    "        cursor = connection.cursor()\n",
    "        cursor.execute(\"select database();\")\n",
    "        record = cursor.fetchone()\n",
    "        print(\"Your connected to database: \", record)\n",
    "        #df_ls = pd.read_sql(query_lightspeed,con=connection)\n",
    "        df_r = pd.read_sql(query_return_rate, con=connection)\n",
    "\n",
    "except Error as e:\n",
    "    print(\"Error while connecting to MySQL\", e)\n",
    "finally:\n",
    "    if (connection.is_connected()):\n",
    "        cursor.close()\n",
    "        connection.close()\n",
    "        print(\"MySQL connection is closed\")"
   ]
  },
  {
   "cell_type": "code",
   "execution_count": 4,
   "metadata": {},
   "outputs": [],
   "source": [
    "#df = df_ls.copy()"
   ]
  },
  {
   "cell_type": "code",
   "execution_count": null,
   "metadata": {},
   "outputs": [],
   "source": [
    "df.head()"
   ]
  },
  {
   "cell_type": "code",
   "execution_count": 7,
   "metadata": {},
   "outputs": [
    {
     "data": {
      "text/plain": [
       "Index(['Account', 'Market', 'Conv_Date', 'Conv_ID', 'Conv_Number', 'Revenue',\n",
       "       'Revenue_excl_VAT', 'Customer_ID', 'Hashed_Email', 'Shipping_Country',\n",
       "       'Shipping_Amount', 'Shipping_Amount_excl_VAT', 'Payment_Type',\n",
       "       'Status'],\n",
       "      dtype='object')"
      ]
     },
     "execution_count": 7,
     "metadata": {},
     "output_type": "execute_result"
    }
   ],
   "source": [
    "df.columns"
   ]
  },
  {
   "cell_type": "code",
   "execution_count": 20,
   "metadata": {},
   "outputs": [
    {
     "data": {
      "text/plain": [
       "array(['DE'], dtype=object)"
      ]
     },
     "execution_count": 20,
     "metadata": {},
     "output_type": "execute_result"
    }
   ],
   "source": [
    "df.Market.unique()"
   ]
  },
  {
   "cell_type": "code",
   "execution_count": 19,
   "metadata": {},
   "outputs": [
    {
     "data": {
      "text/plain": [
       "Pay.nl - PayPal                     15406\n",
       "Payment Amazon                       7931\n",
       "Klarna DE - In 14 Tagen bezahlen     4712\n",
       "Pay.nl - Banküberweisung             1949\n",
       "Pay.nl - Sofortbanking               1646\n",
       "Pay.nl - Visa Mastercard              724\n",
       "Klarna DE - Klarna Rechnung.          622\n",
       "Pay.nl - Giropay                      239\n",
       "Customer choice                        70\n",
       "Name: Payment_Type, dtype: int64"
      ]
     },
     "execution_count": 19,
     "metadata": {},
     "output_type": "execute_result"
    }
   ],
   "source": [
    "df.Payment_Type.value_counts()"
   ]
  },
  {
   "cell_type": "code",
   "execution_count": 17,
   "metadata": {},
   "outputs": [
    {
     "data": {
      "text/plain": [
       "completed_shipped               29239\n",
       "processing_awaiting_shipment     2337\n",
       "processing_awaiting_payment      1723\n",
       "Name: Status, dtype: int64"
      ]
     },
     "execution_count": 17,
     "metadata": {},
     "output_type": "execute_result"
    }
   ],
   "source": [
    "df.Status.value_counts()"
   ]
  },
  {
   "cell_type": "markdown",
   "metadata": {},
   "source": [
    "## Returning Rate"
   ]
  },
  {
   "cell_type": "code",
   "execution_count": 11,
   "metadata": {},
   "outputs": [],
   "source": [
    "df1 = df_r.copy()"
   ]
  },
  {
   "cell_type": "code",
   "execution_count": 12,
   "metadata": {},
   "outputs": [
    {
     "data": {
      "text/html": [
       "<div>\n",
       "<style scoped>\n",
       "    .dataframe tbody tr th:only-of-type {\n",
       "        vertical-align: middle;\n",
       "    }\n",
       "\n",
       "    .dataframe tbody tr th {\n",
       "        vertical-align: top;\n",
       "    }\n",
       "\n",
       "    .dataframe thead th {\n",
       "        text-align: right;\n",
       "    }\n",
       "</style>\n",
       "<table border=\"1\" class=\"dataframe\">\n",
       "  <thead>\n",
       "    <tr style=\"text-align: right;\">\n",
       "      <th></th>\n",
       "      <th>YearMonth</th>\n",
       "      <th>Total_Orders</th>\n",
       "      <th>Returning_Orders</th>\n",
       "      <th>Repurchase Rate</th>\n",
       "    </tr>\n",
       "  </thead>\n",
       "  <tbody>\n",
       "    <tr>\n",
       "      <th>0</th>\n",
       "      <td>2017-11</td>\n",
       "      <td>501</td>\n",
       "      <td>17</td>\n",
       "      <td>3.3932</td>\n",
       "    </tr>\n",
       "    <tr>\n",
       "      <th>1</th>\n",
       "      <td>2017-12</td>\n",
       "      <td>802</td>\n",
       "      <td>109</td>\n",
       "      <td>13.5910</td>\n",
       "    </tr>\n",
       "    <tr>\n",
       "      <th>2</th>\n",
       "      <td>2018-01</td>\n",
       "      <td>1000</td>\n",
       "      <td>367</td>\n",
       "      <td>36.7000</td>\n",
       "    </tr>\n",
       "    <tr>\n",
       "      <th>3</th>\n",
       "      <td>2018-02</td>\n",
       "      <td>886</td>\n",
       "      <td>450</td>\n",
       "      <td>50.7901</td>\n",
       "    </tr>\n",
       "    <tr>\n",
       "      <th>4</th>\n",
       "      <td>2018-03</td>\n",
       "      <td>963</td>\n",
       "      <td>556</td>\n",
       "      <td>57.7362</td>\n",
       "    </tr>\n",
       "  </tbody>\n",
       "</table>\n",
       "</div>"
      ],
      "text/plain": [
       "  YearMonth  Total_Orders  Returning_Orders  Repurchase Rate\n",
       "0   2017-11           501                17           3.3932\n",
       "1   2017-12           802               109          13.5910\n",
       "2   2018-01          1000               367          36.7000\n",
       "3   2018-02           886               450          50.7901\n",
       "4   2018-03           963               556          57.7362"
      ]
     },
     "execution_count": 12,
     "metadata": {},
     "output_type": "execute_result"
    }
   ],
   "source": [
    "df1.head()"
   ]
  },
  {
   "cell_type": "code",
   "execution_count": 13,
   "metadata": {},
   "outputs": [
    {
     "data": {
      "text/plain": [
       "(21, 4)"
      ]
     },
     "execution_count": 13,
     "metadata": {},
     "output_type": "execute_result"
    }
   ],
   "source": [
    "df1.shape"
   ]
  },
  {
   "cell_type": "code",
   "execution_count": 14,
   "metadata": {},
   "outputs": [
    {
     "name": "stderr",
     "output_type": "stream",
     "text": [
      "C:\\Users\\Angela\\anaconda3\\lib\\site-packages\\IPython\\core\\interactiveshell.py:3146: DtypeWarning: Columns (26,34) have mixed types.Specify dtype option on import or set low_memory=False.\n",
      "  has_raised = await self.run_ast_nodes(code_ast.body, cell_name,\n"
     ]
    }
   ],
   "source": [
    "df_ls = pd.read_csv('./Data/orders-export-2021-03-16-16-13-22.csv', sep=';', decimal=',')"
   ]
  },
  {
   "cell_type": "code",
   "execution_count": 15,
   "metadata": {},
   "outputs": [
    {
     "data": {
      "text/plain": [
       "(81438, 61)"
      ]
     },
     "execution_count": 15,
     "metadata": {},
     "output_type": "execute_result"
    }
   ],
   "source": [
    "df_ls.shape"
   ]
  },
  {
   "cell_type": "code",
   "execution_count": 16,
   "metadata": {},
   "outputs": [
    {
     "data": {
      "text/plain": [
       "Index(['Order_ID', 'Order', 'Invoices', 'Credit_notes', 'Added', 'Status',\n",
       "       'Custom_status', 'Payment', 'Shipping', 'Price_total', 'Price_total_ex',\n",
       "       'Price_vat', 'Price_cost', 'Price_shipping', 'Weight', 'Volume',\n",
       "       'Colli', 'Company', 'Vat', 'Firstname', 'Lastname', 'Phone', 'Mobile',\n",
       "       'E-mail', 'Attn', 'Streetname', 'Second_address_line', 'Number',\n",
       "       'Extension', 'Zipcode', 'City', 'Region', 'Country', 'Invoice_street',\n",
       "       'Invoice_street_2', 'Invoice_housenumber', 'Invoice_housenumber_ext',\n",
       "       'Invoice_zipcode', 'Invoice_city', 'Invoice_region', 'Invoice_country',\n",
       "       'Quantity', 'Product_price', 'Product_price_cost', 'Product_weight',\n",
       "       'Product_volume', 'Product_colli', 'Product_supplier', 'Product_brand',\n",
       "       'Product_title', 'Product_variant', 'Product_article_code',\n",
       "       'Product_EAN', 'Product_SKU', 'Discount_code', 'Discount_price',\n",
       "       'Customer', 'Comment', 'Memo', 'Price_payment', 'Shipping_company'],\n",
       "      dtype='object')"
      ]
     },
     "execution_count": 16,
     "metadata": {},
     "output_type": "execute_result"
    }
   ],
   "source": [
    "df_ls.columns"
   ]
  },
  {
   "cell_type": "code",
   "execution_count": 17,
   "metadata": {},
   "outputs": [],
   "source": [
    "%run ./cohorts_pipeline_woof_v3.py"
   ]
  },
  {
   "cell_type": "code",
   "execution_count": 18,
   "metadata": {},
   "outputs": [
    {
     "name": "stderr",
     "output_type": "stream",
     "text": [
      "C:\\Users\\Angela\\Documents\\Python Scripts\\WOOOF\\cohorts_pipeline_woof_v3.py:30: FutureWarning: Series.dt.weekofyear and Series.dt.week have been deprecated.  Please use Series.dt.isocalendar().week instead.\n",
      "  df['Week'] = df['Creation_Date'].dt.week\n"
     ]
    }
   ],
   "source": [
    "df_ls = df_cleaning(df_ls)"
   ]
  },
  {
   "cell_type": "code",
   "execution_count": 19,
   "metadata": {},
   "outputs": [
    {
     "data": {
      "text/html": [
       "<div>\n",
       "<style scoped>\n",
       "    .dataframe tbody tr th:only-of-type {\n",
       "        vertical-align: middle;\n",
       "    }\n",
       "\n",
       "    .dataframe tbody tr th {\n",
       "        vertical-align: top;\n",
       "    }\n",
       "\n",
       "    .dataframe thead th {\n",
       "        text-align: right;\n",
       "    }\n",
       "</style>\n",
       "<table border=\"1\" class=\"dataframe\">\n",
       "  <thead>\n",
       "    <tr style=\"text-align: right;\">\n",
       "      <th></th>\n",
       "      <th>Customer_ID</th>\n",
       "      <th>Order</th>\n",
       "      <th>Order_ID</th>\n",
       "      <th>Status</th>\n",
       "      <th>Payment</th>\n",
       "      <th>ValueNOVAT</th>\n",
       "      <th>E-mail</th>\n",
       "      <th>Firstname</th>\n",
       "      <th>Lastname</th>\n",
       "      <th>Product_title</th>\n",
       "      <th>Creation_Date</th>\n",
       "      <th>First_Order</th>\n",
       "      <th>First_Order_YM</th>\n",
       "      <th>Creation_Date_YM</th>\n",
       "      <th>Customer_Type</th>\n",
       "      <th>Payment_Type</th>\n",
       "      <th>Year</th>\n",
       "      <th>Week</th>\n",
       "      <th>Year_Week</th>\n",
       "    </tr>\n",
       "  </thead>\n",
       "  <tbody>\n",
       "    <tr>\n",
       "      <th>0</th>\n",
       "      <td>46400897</td>\n",
       "      <td>DE_ORD00031</td>\n",
       "      <td>58005182</td>\n",
       "      <td>Paid, shipped</td>\n",
       "      <td>Pay.nl - Banküberweisung</td>\n",
       "      <td>23.78</td>\n",
       "      <td>sjaak@blids.nl</td>\n",
       "      <td>Yvonne</td>\n",
       "      <td>Zermin</td>\n",
       "      <td>WOOOF Regular</td>\n",
       "      <td>2017-11-17</td>\n",
       "      <td>2017-11-17</td>\n",
       "      <td>2017-11</td>\n",
       "      <td>2017-11</td>\n",
       "      <td>New</td>\n",
       "      <td>Webshop</td>\n",
       "      <td>2017</td>\n",
       "      <td>46</td>\n",
       "      <td>2017-46</td>\n",
       "    </tr>\n",
       "    <tr>\n",
       "      <th>1</th>\n",
       "      <td>46544999</td>\n",
       "      <td>DE_ORD00032</td>\n",
       "      <td>58314515</td>\n",
       "      <td>Paid, shipped</td>\n",
       "      <td>Klarna DE - Klarna Rechnung.</td>\n",
       "      <td>24.71</td>\n",
       "      <td>yzermin@gmx.de</td>\n",
       "      <td>Yvonne</td>\n",
       "      <td>Zermin</td>\n",
       "      <td>WOOOF Regular</td>\n",
       "      <td>2017-11-21</td>\n",
       "      <td>2017-11-21</td>\n",
       "      <td>2017-11</td>\n",
       "      <td>2017-11</td>\n",
       "      <td>New</td>\n",
       "      <td>Webshop</td>\n",
       "      <td>2017</td>\n",
       "      <td>47</td>\n",
       "      <td>2017-47</td>\n",
       "    </tr>\n",
       "    <tr>\n",
       "      <th>2</th>\n",
       "      <td>47823566</td>\n",
       "      <td>DE_ORD00034</td>\n",
       "      <td>58356140</td>\n",
       "      <td>Paid, shipped</td>\n",
       "      <td>Pay.nl - Sofortbanking</td>\n",
       "      <td>37.33</td>\n",
       "      <td>Patrickwerb@gmx.de</td>\n",
       "      <td>Patrick</td>\n",
       "      <td>Werb</td>\n",
       "      <td>WOOOF Regular</td>\n",
       "      <td>2017-11-21</td>\n",
       "      <td>2017-11-21</td>\n",
       "      <td>2017-11</td>\n",
       "      <td>2017-11</td>\n",
       "      <td>New</td>\n",
       "      <td>Webshop</td>\n",
       "      <td>2017</td>\n",
       "      <td>47</td>\n",
       "      <td>2017-47</td>\n",
       "    </tr>\n",
       "    <tr>\n",
       "      <th>3</th>\n",
       "      <td>47821025</td>\n",
       "      <td>DE_ORD00035</td>\n",
       "      <td>58357271</td>\n",
       "      <td>Paid, shipped</td>\n",
       "      <td>Pay.nl - Sofortbanking</td>\n",
       "      <td>23.78</td>\n",
       "      <td>marona1985malibu@googlemail.com</td>\n",
       "      <td>Ramona</td>\n",
       "      <td>Tinnemeier</td>\n",
       "      <td>WOOOF Regular</td>\n",
       "      <td>2017-11-21</td>\n",
       "      <td>2017-11-21</td>\n",
       "      <td>2017-11</td>\n",
       "      <td>2017-11</td>\n",
       "      <td>New</td>\n",
       "      <td>Webshop</td>\n",
       "      <td>2017</td>\n",
       "      <td>47</td>\n",
       "      <td>2017-47</td>\n",
       "    </tr>\n",
       "    <tr>\n",
       "      <th>4</th>\n",
       "      <td>47820044</td>\n",
       "      <td>DE_ORD00039</td>\n",
       "      <td>58428260</td>\n",
       "      <td>Paid, shipped</td>\n",
       "      <td>Pay.nl - PayPal</td>\n",
       "      <td>76.16</td>\n",
       "      <td>bernd-jendreck@t-online.de</td>\n",
       "      <td>Bernd</td>\n",
       "      <td>Jendreck</td>\n",
       "      <td>WOOOF Regular</td>\n",
       "      <td>2017-11-22</td>\n",
       "      <td>2017-11-22</td>\n",
       "      <td>2017-11</td>\n",
       "      <td>2017-11</td>\n",
       "      <td>New</td>\n",
       "      <td>Webshop</td>\n",
       "      <td>2017</td>\n",
       "      <td>47</td>\n",
       "      <td>2017-47</td>\n",
       "    </tr>\n",
       "  </tbody>\n",
       "</table>\n",
       "</div>"
      ],
      "text/plain": [
       "   Customer_ID        Order  Order_ID         Status  \\\n",
       "0     46400897  DE_ORD00031  58005182  Paid, shipped   \n",
       "1     46544999  DE_ORD00032  58314515  Paid, shipped   \n",
       "2     47823566  DE_ORD00034  58356140  Paid, shipped   \n",
       "3     47821025  DE_ORD00035  58357271  Paid, shipped   \n",
       "4     47820044  DE_ORD00039  58428260  Paid, shipped   \n",
       "\n",
       "                        Payment  ValueNOVAT                           E-mail  \\\n",
       "0      Pay.nl - Banküberweisung       23.78                   sjaak@blids.nl   \n",
       "1  Klarna DE - Klarna Rechnung.       24.71                   yzermin@gmx.de   \n",
       "2        Pay.nl - Sofortbanking       37.33               Patrickwerb@gmx.de   \n",
       "3        Pay.nl - Sofortbanking       23.78  marona1985malibu@googlemail.com   \n",
       "4               Pay.nl - PayPal       76.16       bernd-jendreck@t-online.de   \n",
       "\n",
       "  Firstname    Lastname  Product_title Creation_Date First_Order  \\\n",
       "0    Yvonne      Zermin  WOOOF Regular    2017-11-17  2017-11-17   \n",
       "1    Yvonne      Zermin  WOOOF Regular    2017-11-21  2017-11-21   \n",
       "2   Patrick        Werb  WOOOF Regular    2017-11-21  2017-11-21   \n",
       "3    Ramona  Tinnemeier  WOOOF Regular    2017-11-21  2017-11-21   \n",
       "4     Bernd    Jendreck  WOOOF Regular    2017-11-22  2017-11-22   \n",
       "\n",
       "  First_Order_YM Creation_Date_YM Customer_Type Payment_Type  Year  Week  \\\n",
       "0        2017-11          2017-11           New      Webshop  2017    46   \n",
       "1        2017-11          2017-11           New      Webshop  2017    47   \n",
       "2        2017-11          2017-11           New      Webshop  2017    47   \n",
       "3        2017-11          2017-11           New      Webshop  2017    47   \n",
       "4        2017-11          2017-11           New      Webshop  2017    47   \n",
       "\n",
       "  Year_Week  \n",
       "0   2017-46  \n",
       "1   2017-47  \n",
       "2   2017-47  \n",
       "3   2017-47  \n",
       "4   2017-47  "
      ]
     },
     "execution_count": 19,
     "metadata": {},
     "output_type": "execute_result"
    }
   ],
   "source": [
    "df_ls.head()"
   ]
  },
  {
   "cell_type": "code",
   "execution_count": 20,
   "metadata": {},
   "outputs": [],
   "source": [
    "df_ls['Creation_Date_YM'] = df_ls['Creation_Date'].apply(lambda x: x.strftime('%Y-%m'))"
   ]
  },
  {
   "cell_type": "markdown",
   "metadata": {},
   "source": [
    "# Purchase Table"
   ]
  },
  {
   "cell_type": "code",
   "execution_count": 21,
   "metadata": {},
   "outputs": [],
   "source": [
    "temp0 = df_ls.groupby(['E-mail','Creation_Date']).agg({'Order_ID':pd.Series.count})"
   ]
  },
  {
   "cell_type": "code",
   "execution_count": 22,
   "metadata": {},
   "outputs": [
    {
     "data": {
      "text/html": [
       "<div>\n",
       "<style scoped>\n",
       "    .dataframe tbody tr th:only-of-type {\n",
       "        vertical-align: middle;\n",
       "    }\n",
       "\n",
       "    .dataframe tbody tr th {\n",
       "        vertical-align: top;\n",
       "    }\n",
       "\n",
       "    .dataframe thead th {\n",
       "        text-align: right;\n",
       "    }\n",
       "</style>\n",
       "<table border=\"1\" class=\"dataframe\">\n",
       "  <thead>\n",
       "    <tr style=\"text-align: right;\">\n",
       "      <th></th>\n",
       "      <th></th>\n",
       "      <th>Order_ID</th>\n",
       "    </tr>\n",
       "    <tr>\n",
       "      <th>E-mail</th>\n",
       "      <th>Creation_Date</th>\n",
       "      <th></th>\n",
       "    </tr>\n",
       "  </thead>\n",
       "  <tbody>\n",
       "    <tr>\n",
       "      <th rowspan=\"3\" valign=\"top\">003ppcs4s2vcj0q@marketplace.amazon.de</th>\n",
       "      <th>2019-02-19</th>\n",
       "      <td>1</td>\n",
       "    </tr>\n",
       "    <tr>\n",
       "      <th>2019-04-10</th>\n",
       "      <td>1</td>\n",
       "    </tr>\n",
       "    <tr>\n",
       "      <th>2019-06-04</th>\n",
       "      <td>1</td>\n",
       "    </tr>\n",
       "    <tr>\n",
       "      <th rowspan=\"2\" valign=\"top\">009g57nc9rg76dy@marketplace.amazon.de</th>\n",
       "      <th>2019-06-30</th>\n",
       "      <td>1</td>\n",
       "    </tr>\n",
       "    <tr>\n",
       "      <th>2019-10-21</th>\n",
       "      <td>1</td>\n",
       "    </tr>\n",
       "    <tr>\n",
       "      <th>...</th>\n",
       "      <th>...</th>\n",
       "      <td>...</td>\n",
       "    </tr>\n",
       "    <tr>\n",
       "      <th>zzrnnjbmtkz3fzg@marketplace.amazon.de</th>\n",
       "      <th>2020-04-01</th>\n",
       "      <td>1</td>\n",
       "    </tr>\n",
       "    <tr>\n",
       "      <th>zztrh549mbsn9x9@marketplace.amazon.de</th>\n",
       "      <th>2019-10-21</th>\n",
       "      <td>1</td>\n",
       "    </tr>\n",
       "    <tr>\n",
       "      <th>zzxb9d6c071ws6z@marketplace.amazon.de</th>\n",
       "      <th>2020-04-17</th>\n",
       "      <td>1</td>\n",
       "    </tr>\n",
       "    <tr>\n",
       "      <th rowspan=\"2\" valign=\"top\">zzyv6pm2zm5k798@marketplace.amazon.de</th>\n",
       "      <th>2018-02-13</th>\n",
       "      <td>1</td>\n",
       "    </tr>\n",
       "    <tr>\n",
       "      <th>2018-04-21</th>\n",
       "      <td>1</td>\n",
       "    </tr>\n",
       "  </tbody>\n",
       "</table>\n",
       "<p>66754 rows × 1 columns</p>\n",
       "</div>"
      ],
      "text/plain": [
       "                                                     Order_ID\n",
       "E-mail                                Creation_Date          \n",
       "003ppcs4s2vcj0q@marketplace.amazon.de 2019-02-19            1\n",
       "                                      2019-04-10            1\n",
       "                                      2019-06-04            1\n",
       "009g57nc9rg76dy@marketplace.amazon.de 2019-06-30            1\n",
       "                                      2019-10-21            1\n",
       "...                                                       ...\n",
       "zzrnnjbmtkz3fzg@marketplace.amazon.de 2020-04-01            1\n",
       "zztrh549mbsn9x9@marketplace.amazon.de 2019-10-21            1\n",
       "zzxb9d6c071ws6z@marketplace.amazon.de 2020-04-17            1\n",
       "zzyv6pm2zm5k798@marketplace.amazon.de 2018-02-13            1\n",
       "                                      2018-04-21            1\n",
       "\n",
       "[66754 rows x 1 columns]"
      ]
     },
     "execution_count": 22,
     "metadata": {},
     "output_type": "execute_result"
    }
   ],
   "source": [
    "temp0"
   ]
  },
  {
   "cell_type": "code",
   "execution_count": 28,
   "metadata": {},
   "outputs": [],
   "source": [
    "temp0 = temp0.groupby(level=0).apply(purchase_number)"
   ]
  },
  {
   "cell_type": "code",
   "execution_count": 29,
   "metadata": {},
   "outputs": [],
   "source": [
    "temp0.reset_index(inplace=True)"
   ]
  },
  {
   "cell_type": "code",
   "execution_count": 30,
   "metadata": {},
   "outputs": [],
   "source": [
    "temp0.drop('order_item_id',axis=1,inplace=True)"
   ]
  },
  {
   "cell_type": "code",
   "execution_count": 42,
   "metadata": {},
   "outputs": [
    {
     "data": {
      "text/html": [
       "<div>\n",
       "<style scoped>\n",
       "    .dataframe tbody tr th:only-of-type {\n",
       "        vertical-align: middle;\n",
       "    }\n",
       "\n",
       "    .dataframe tbody tr th {\n",
       "        vertical-align: top;\n",
       "    }\n",
       "\n",
       "    .dataframe thead th {\n",
       "        text-align: right;\n",
       "    }\n",
       "</style>\n",
       "<table border=\"1\" class=\"dataframe\">\n",
       "  <thead>\n",
       "    <tr style=\"text-align: right;\">\n",
       "      <th></th>\n",
       "      <th>Order_ID</th>\n",
       "    </tr>\n",
       "    <tr>\n",
       "      <th>E-mail</th>\n",
       "      <th></th>\n",
       "    </tr>\n",
       "  </thead>\n",
       "  <tbody>\n",
       "    <tr>\n",
       "      <th>003ppcs4s2vcj0q@marketplace.amazon.de</th>\n",
       "      <td>3</td>\n",
       "    </tr>\n",
       "    <tr>\n",
       "      <th>009g57nc9rg76dy@marketplace.amazon.de</th>\n",
       "      <td>10</td>\n",
       "    </tr>\n",
       "    <tr>\n",
       "      <th>00j89nxrhbft07k@marketplace.amazon.de</th>\n",
       "      <td>1</td>\n",
       "    </tr>\n",
       "    <tr>\n",
       "      <th>00jx5l3sntnj5p1@marketplace.amazon.de</th>\n",
       "      <td>1</td>\n",
       "    </tr>\n",
       "    <tr>\n",
       "      <th>00sk0ls66hd2c5x@marketplace.amazon.de</th>\n",
       "      <td>2</td>\n",
       "    </tr>\n",
       "    <tr>\n",
       "      <th>...</th>\n",
       "      <td>...</td>\n",
       "    </tr>\n",
       "    <tr>\n",
       "      <th>zzmgl1s1l04mzws@marketplace.amazon.de</th>\n",
       "      <td>3</td>\n",
       "    </tr>\n",
       "    <tr>\n",
       "      <th>zzrnnjbmtkz3fzg@marketplace.amazon.de</th>\n",
       "      <td>1</td>\n",
       "    </tr>\n",
       "    <tr>\n",
       "      <th>zztrh549mbsn9x9@marketplace.amazon.de</th>\n",
       "      <td>1</td>\n",
       "    </tr>\n",
       "    <tr>\n",
       "      <th>zzxb9d6c071ws6z@marketplace.amazon.de</th>\n",
       "      <td>1</td>\n",
       "    </tr>\n",
       "    <tr>\n",
       "      <th>zzyv6pm2zm5k798@marketplace.amazon.de</th>\n",
       "      <td>2</td>\n",
       "    </tr>\n",
       "  </tbody>\n",
       "</table>\n",
       "<p>22022 rows × 1 columns</p>\n",
       "</div>"
      ],
      "text/plain": [
       "                                       Order_ID\n",
       "E-mail                                         \n",
       "003ppcs4s2vcj0q@marketplace.amazon.de         3\n",
       "009g57nc9rg76dy@marketplace.amazon.de        10\n",
       "00j89nxrhbft07k@marketplace.amazon.de         1\n",
       "00jx5l3sntnj5p1@marketplace.amazon.de         1\n",
       "00sk0ls66hd2c5x@marketplace.amazon.de         2\n",
       "...                                         ...\n",
       "zzmgl1s1l04mzws@marketplace.amazon.de         3\n",
       "zzrnnjbmtkz3fzg@marketplace.amazon.de         1\n",
       "zztrh549mbsn9x9@marketplace.amazon.de         1\n",
       "zzxb9d6c071ws6z@marketplace.amazon.de         1\n",
       "zzyv6pm2zm5k798@marketplace.amazon.de         2\n",
       "\n",
       "[22022 rows x 1 columns]"
      ]
     },
     "execution_count": 42,
     "metadata": {},
     "output_type": "execute_result"
    }
   ],
   "source": [
    "temp1 = df_ls.groupby('E-mail').agg({'Order_ID':pd.Series.count})\n",
    "temp1"
   ]
  },
  {
   "cell_type": "code",
   "execution_count": 32,
   "metadata": {},
   "outputs": [],
   "source": [
    "temp1.rename(columns={'order_item_id':'total_purchases'},inplace=True)"
   ]
  },
  {
   "cell_type": "code",
   "execution_count": 33,
   "metadata": {},
   "outputs": [],
   "source": [
    "temp1.reset_index(inplace=True)"
   ]
  },
  {
   "cell_type": "code",
   "execution_count": 34,
   "metadata": {},
   "outputs": [],
   "source": [
    "temp2 = temp0.merge(temp1, on='email',how='left')"
   ]
  },
  {
   "cell_type": "code",
   "execution_count": 35,
   "metadata": {},
   "outputs": [],
   "source": [
    "temp3 = df.groupby(['email','date','category','product_type','animal_type']).agg({'order_item_id':pd.Series.count})"
   ]
  },
  {
   "cell_type": "code",
   "execution_count": 36,
   "metadata": {},
   "outputs": [],
   "source": [
    "temp3.reset_index(inplace=True)"
   ]
  },
  {
   "cell_type": "code",
   "execution_count": 37,
   "metadata": {},
   "outputs": [],
   "source": [
    "purchase_table = temp2.merge(temp3, on=['email','date'], how='left')"
   ]
  },
  {
   "cell_type": "code",
   "execution_count": 38,
   "metadata": {},
   "outputs": [],
   "source": [
    "purchase_table.drop('order_item_id',axis=1,inplace=True)"
   ]
  },
  {
   "cell_type": "code",
   "execution_count": 39,
   "metadata": {},
   "outputs": [],
   "source": [
    "purchase_table['days_between'] = purchase_table.groupby('email')['date'].diff().apply(lambda x: x.days)"
   ]
  },
  {
   "cell_type": "code",
   "execution_count": 40,
   "metadata": {},
   "outputs": [],
   "source": [
    "purchase_table['days_between'].fillna(0,inplace=True)"
   ]
  },
  {
   "cell_type": "code",
   "execution_count": 41,
   "metadata": {},
   "outputs": [],
   "source": [
    "purchase_table['category_type'] = purchase_table['product_type'] + \"_\" + purchase_table['animal_type'] "
   ]
  },
  {
   "cell_type": "code",
   "execution_count": 42,
   "metadata": {},
   "outputs": [],
   "source": [
    "purchase_table = purchase_table[~purchase_table.category.str.contains('Coupon')]"
   ]
  },
  {
   "cell_type": "code",
   "execution_count": 43,
   "metadata": {},
   "outputs": [],
   "source": [
    "unstack_table = purchase_table.groupby(['email','category_type']).agg({'category':pd.Series.nunique}).unstack(1).fillna(0)"
   ]
  },
  {
   "cell_type": "code",
   "execution_count": 44,
   "metadata": {},
   "outputs": [],
   "source": [
    "unstack_table.columns = unstack_table.columns.droplevel()"
   ]
  },
  {
   "cell_type": "code",
   "execution_count": 45,
   "metadata": {},
   "outputs": [],
   "source": [
    "unstack_table.reset_index(inplace=True)"
   ]
  },
  {
   "cell_type": "code",
   "execution_count": 46,
   "metadata": {},
   "outputs": [
    {
     "data": {
      "text/plain": [
       "(116129, 18)"
      ]
     },
     "execution_count": 46,
     "metadata": {},
     "output_type": "execute_result"
    }
   ],
   "source": [
    "unstack_table.shape"
   ]
  },
  {
   "cell_type": "markdown",
   "metadata": {},
   "source": [
    "## Time decay"
   ]
  },
  {
   "cell_type": "code",
   "execution_count": 25,
   "metadata": {},
   "outputs": [
    {
     "data": {
      "text/plain": [
       "Index(['Customer_ID', 'Order', 'Order_ID', 'Status', 'Payment', 'ValueNOVAT',\n",
       "       'E-mail', 'Firstname', 'Lastname', 'Product_title', 'Creation_Date',\n",
       "       'First_Order', 'First_Order_YM', 'Creation_Date_YM', 'Customer_Type',\n",
       "       'Payment_Type', 'Year', 'Week', 'Year_Week'],\n",
       "      dtype='object')"
      ]
     },
     "execution_count": 25,
     "metadata": {},
     "output_type": "execute_result"
    }
   ],
   "source": [
    "df_ls.columns"
   ]
  },
  {
   "cell_type": "code",
   "execution_count": 26,
   "metadata": {},
   "outputs": [
    {
     "data": {
      "text/plain": [
       "0   2017-11-17\n",
       "1   2017-11-21\n",
       "2   2017-11-21\n",
       "3   2017-11-21\n",
       "4   2017-11-22\n",
       "Name: First_Order, dtype: datetime64[ns]"
      ]
     },
     "execution_count": 26,
     "metadata": {},
     "output_type": "execute_result"
    }
   ],
   "source": [
    "df_ls['First_Order'][:5]"
   ]
  },
  {
   "cell_type": "code",
   "execution_count": 27,
   "metadata": {},
   "outputs": [
    {
     "ename": "NameError",
     "evalue": "name 'df3' is not defined",
     "output_type": "error",
     "traceback": [
      "\u001b[1;31m---------------------------------------------------------------------------\u001b[0m",
      "\u001b[1;31mNameError\u001b[0m                                 Traceback (most recent call last)",
      "\u001b[1;32m<ipython-input-27-da9ee734c597>\u001b[0m in \u001b[0;36m<module>\u001b[1;34m\u001b[0m\n\u001b[1;32m----> 1\u001b[1;33m \u001b[0mtd2\u001b[0m \u001b[1;33m=\u001b[0m \u001b[0mdf3\u001b[0m\u001b[1;33m.\u001b[0m\u001b[0mgroupby\u001b[0m\u001b[1;33m(\u001b[0m\u001b[1;33m[\u001b[0m\u001b[1;34m'E-mail'\u001b[0m\u001b[1;33m,\u001b[0m\u001b[1;34m'First_Order'\u001b[0m\u001b[1;33m]\u001b[0m\u001b[1;33m)\u001b[0m\u001b[1;33m.\u001b[0m\u001b[0magg\u001b[0m\u001b[1;33m(\u001b[0m\u001b[1;33m{\u001b[0m\u001b[1;34m'Creation_Date'\u001b[0m\u001b[1;33m:\u001b[0m\u001b[0mpd\u001b[0m\u001b[1;33m.\u001b[0m\u001b[0mSeries\u001b[0m\u001b[1;33m.\u001b[0m\u001b[0mcount\u001b[0m\u001b[1;33m}\u001b[0m\u001b[1;33m)\u001b[0m\u001b[1;33m\u001b[0m\u001b[1;33m\u001b[0m\u001b[0m\n\u001b[0m\u001b[0;32m      2\u001b[0m \u001b[0mtd2\u001b[0m\u001b[1;33m\u001b[0m\u001b[1;33m\u001b[0m\u001b[0m\n",
      "\u001b[1;31mNameError\u001b[0m: name 'df3' is not defined"
     ]
    }
   ],
   "source": [
    "td2 = df3.groupby(['E-mail','First_Order']).agg({'Creation_Date':pd.Series.count})\n",
    "td2"
   ]
  },
  {
   "cell_type": "code",
   "execution_count": 28,
   "metadata": {},
   "outputs": [],
   "source": [
    "df3 = df_ls.sort_values(by='Creation_Date')"
   ]
  },
  {
   "cell_type": "code",
   "execution_count": 29,
   "metadata": {},
   "outputs": [],
   "source": [
    "df3['DaysDiff'] = df3.groupby('E-mail')['Creation_Date'].diff().apply(lambda x: x.days).fillna(0)"
   ]
  },
  {
   "cell_type": "code",
   "execution_count": 30,
   "metadata": {},
   "outputs": [
    {
     "data": {
      "text/html": [
       "<div>\n",
       "<style scoped>\n",
       "    .dataframe tbody tr th:only-of-type {\n",
       "        vertical-align: middle;\n",
       "    }\n",
       "\n",
       "    .dataframe tbody tr th {\n",
       "        vertical-align: top;\n",
       "    }\n",
       "\n",
       "    .dataframe thead th {\n",
       "        text-align: right;\n",
       "    }\n",
       "</style>\n",
       "<table border=\"1\" class=\"dataframe\">\n",
       "  <thead>\n",
       "    <tr style=\"text-align: right;\">\n",
       "      <th></th>\n",
       "      <th>Customer_ID</th>\n",
       "      <th>Order</th>\n",
       "      <th>Order_ID</th>\n",
       "      <th>Status</th>\n",
       "      <th>Payment</th>\n",
       "      <th>ValueNOVAT</th>\n",
       "      <th>E-mail</th>\n",
       "      <th>Firstname</th>\n",
       "      <th>Lastname</th>\n",
       "      <th>Product_title</th>\n",
       "      <th>Creation_Date</th>\n",
       "      <th>First_Order</th>\n",
       "      <th>First_Order_YM</th>\n",
       "      <th>Creation_Date_YM</th>\n",
       "      <th>Customer_Type</th>\n",
       "      <th>Payment_Type</th>\n",
       "      <th>Year</th>\n",
       "      <th>Week</th>\n",
       "      <th>Year_Week</th>\n",
       "      <th>DaysDiff</th>\n",
       "    </tr>\n",
       "  </thead>\n",
       "  <tbody>\n",
       "    <tr>\n",
       "      <th>0</th>\n",
       "      <td>46400897</td>\n",
       "      <td>DE_ORD00031</td>\n",
       "      <td>58005182</td>\n",
       "      <td>Paid, shipped</td>\n",
       "      <td>Pay.nl - Banküberweisung</td>\n",
       "      <td>23.78</td>\n",
       "      <td>sjaak@blids.nl</td>\n",
       "      <td>Yvonne</td>\n",
       "      <td>Zermin</td>\n",
       "      <td>WOOOF Regular</td>\n",
       "      <td>2017-11-17</td>\n",
       "      <td>2017-11-17</td>\n",
       "      <td>2017-11</td>\n",
       "      <td>2017-11</td>\n",
       "      <td>New</td>\n",
       "      <td>Webshop</td>\n",
       "      <td>2017</td>\n",
       "      <td>46</td>\n",
       "      <td>2017-46</td>\n",
       "      <td>0.0</td>\n",
       "    </tr>\n",
       "    <tr>\n",
       "      <th>1</th>\n",
       "      <td>46544999</td>\n",
       "      <td>DE_ORD00032</td>\n",
       "      <td>58314515</td>\n",
       "      <td>Paid, shipped</td>\n",
       "      <td>Klarna DE - Klarna Rechnung.</td>\n",
       "      <td>24.71</td>\n",
       "      <td>yzermin@gmx.de</td>\n",
       "      <td>Yvonne</td>\n",
       "      <td>Zermin</td>\n",
       "      <td>WOOOF Regular</td>\n",
       "      <td>2017-11-21</td>\n",
       "      <td>2017-11-21</td>\n",
       "      <td>2017-11</td>\n",
       "      <td>2017-11</td>\n",
       "      <td>New</td>\n",
       "      <td>Webshop</td>\n",
       "      <td>2017</td>\n",
       "      <td>47</td>\n",
       "      <td>2017-47</td>\n",
       "      <td>0.0</td>\n",
       "    </tr>\n",
       "    <tr>\n",
       "      <th>2</th>\n",
       "      <td>47823566</td>\n",
       "      <td>DE_ORD00034</td>\n",
       "      <td>58356140</td>\n",
       "      <td>Paid, shipped</td>\n",
       "      <td>Pay.nl - Sofortbanking</td>\n",
       "      <td>37.33</td>\n",
       "      <td>Patrickwerb@gmx.de</td>\n",
       "      <td>Patrick</td>\n",
       "      <td>Werb</td>\n",
       "      <td>WOOOF Regular</td>\n",
       "      <td>2017-11-21</td>\n",
       "      <td>2017-11-21</td>\n",
       "      <td>2017-11</td>\n",
       "      <td>2017-11</td>\n",
       "      <td>New</td>\n",
       "      <td>Webshop</td>\n",
       "      <td>2017</td>\n",
       "      <td>47</td>\n",
       "      <td>2017-47</td>\n",
       "      <td>0.0</td>\n",
       "    </tr>\n",
       "    <tr>\n",
       "      <th>3</th>\n",
       "      <td>47821025</td>\n",
       "      <td>DE_ORD00035</td>\n",
       "      <td>58357271</td>\n",
       "      <td>Paid, shipped</td>\n",
       "      <td>Pay.nl - Sofortbanking</td>\n",
       "      <td>23.78</td>\n",
       "      <td>marona1985malibu@googlemail.com</td>\n",
       "      <td>Ramona</td>\n",
       "      <td>Tinnemeier</td>\n",
       "      <td>WOOOF Regular</td>\n",
       "      <td>2017-11-21</td>\n",
       "      <td>2017-11-21</td>\n",
       "      <td>2017-11</td>\n",
       "      <td>2017-11</td>\n",
       "      <td>New</td>\n",
       "      <td>Webshop</td>\n",
       "      <td>2017</td>\n",
       "      <td>47</td>\n",
       "      <td>2017-47</td>\n",
       "      <td>0.0</td>\n",
       "    </tr>\n",
       "    <tr>\n",
       "      <th>22</th>\n",
       "      <td>47935061</td>\n",
       "      <td>DE_ORD00059</td>\n",
       "      <td>58480067</td>\n",
       "      <td>Paid, shipped</td>\n",
       "      <td>Payment Amazon</td>\n",
       "      <td>23.81</td>\n",
       "      <td>3m6zffthzjfq5qh@marketplace.amazon.de</td>\n",
       "      <td>Martina</td>\n",
       "      <td>Schulte</td>\n",
       "      <td>WOOOF Regular</td>\n",
       "      <td>2017-11-22</td>\n",
       "      <td>2017-11-22</td>\n",
       "      <td>2017-11</td>\n",
       "      <td>2017-11</td>\n",
       "      <td>New</td>\n",
       "      <td>Amazon</td>\n",
       "      <td>2017</td>\n",
       "      <td>47</td>\n",
       "      <td>2017-47</td>\n",
       "      <td>0.0</td>\n",
       "    </tr>\n",
       "  </tbody>\n",
       "</table>\n",
       "</div>"
      ],
      "text/plain": [
       "    Customer_ID        Order  Order_ID         Status  \\\n",
       "0      46400897  DE_ORD00031  58005182  Paid, shipped   \n",
       "1      46544999  DE_ORD00032  58314515  Paid, shipped   \n",
       "2      47823566  DE_ORD00034  58356140  Paid, shipped   \n",
       "3      47821025  DE_ORD00035  58357271  Paid, shipped   \n",
       "22     47935061  DE_ORD00059  58480067  Paid, shipped   \n",
       "\n",
       "                         Payment  ValueNOVAT  \\\n",
       "0       Pay.nl - Banküberweisung       23.78   \n",
       "1   Klarna DE - Klarna Rechnung.       24.71   \n",
       "2         Pay.nl - Sofortbanking       37.33   \n",
       "3         Pay.nl - Sofortbanking       23.78   \n",
       "22                Payment Amazon       23.81   \n",
       "\n",
       "                                   E-mail Firstname    Lastname  \\\n",
       "0                          sjaak@blids.nl    Yvonne      Zermin   \n",
       "1                          yzermin@gmx.de    Yvonne      Zermin   \n",
       "2                      Patrickwerb@gmx.de   Patrick        Werb   \n",
       "3         marona1985malibu@googlemail.com    Ramona  Tinnemeier   \n",
       "22  3m6zffthzjfq5qh@marketplace.amazon.de   Martina     Schulte   \n",
       "\n",
       "    Product_title Creation_Date First_Order First_Order_YM Creation_Date_YM  \\\n",
       "0   WOOOF Regular    2017-11-17  2017-11-17        2017-11          2017-11   \n",
       "1   WOOOF Regular    2017-11-21  2017-11-21        2017-11          2017-11   \n",
       "2   WOOOF Regular    2017-11-21  2017-11-21        2017-11          2017-11   \n",
       "3   WOOOF Regular    2017-11-21  2017-11-21        2017-11          2017-11   \n",
       "22  WOOOF Regular    2017-11-22  2017-11-22        2017-11          2017-11   \n",
       "\n",
       "   Customer_Type Payment_Type  Year  Week Year_Week  DaysDiff  \n",
       "0            New      Webshop  2017    46   2017-46       0.0  \n",
       "1            New      Webshop  2017    47   2017-47       0.0  \n",
       "2            New      Webshop  2017    47   2017-47       0.0  \n",
       "3            New      Webshop  2017    47   2017-47       0.0  \n",
       "22           New       Amazon  2017    47   2017-47       0.0  "
      ]
     },
     "execution_count": 30,
     "metadata": {},
     "output_type": "execute_result"
    }
   ],
   "source": [
    "df3.head()"
   ]
  },
  {
   "cell_type": "code",
   "execution_count": 31,
   "metadata": {},
   "outputs": [
    {
     "data": {
      "text/html": [
       "<div>\n",
       "<style scoped>\n",
       "    .dataframe tbody tr th:only-of-type {\n",
       "        vertical-align: middle;\n",
       "    }\n",
       "\n",
       "    .dataframe tbody tr th {\n",
       "        vertical-align: top;\n",
       "    }\n",
       "\n",
       "    .dataframe thead th {\n",
       "        text-align: right;\n",
       "    }\n",
       "</style>\n",
       "<table border=\"1\" class=\"dataframe\">\n",
       "  <thead>\n",
       "    <tr style=\"text-align: right;\">\n",
       "      <th></th>\n",
       "      <th>Customer_ID</th>\n",
       "      <th>Order</th>\n",
       "      <th>Order_ID</th>\n",
       "      <th>Status</th>\n",
       "      <th>Payment</th>\n",
       "      <th>ValueNOVAT</th>\n",
       "      <th>E-mail</th>\n",
       "      <th>Firstname</th>\n",
       "      <th>Lastname</th>\n",
       "      <th>Product_title</th>\n",
       "      <th>Creation_Date</th>\n",
       "      <th>First_Order</th>\n",
       "      <th>First_Order_YM</th>\n",
       "      <th>Creation_Date_YM</th>\n",
       "      <th>Customer_Type</th>\n",
       "      <th>Payment_Type</th>\n",
       "      <th>Year</th>\n",
       "      <th>Week</th>\n",
       "      <th>Year_Week</th>\n",
       "      <th>DaysDiff</th>\n",
       "    </tr>\n",
       "  </thead>\n",
       "  <tbody>\n",
       "    <tr>\n",
       "      <th>0</th>\n",
       "      <td>46400897</td>\n",
       "      <td>DE_ORD00031</td>\n",
       "      <td>58005182</td>\n",
       "      <td>Paid, shipped</td>\n",
       "      <td>Pay.nl - Banküberweisung</td>\n",
       "      <td>23.78</td>\n",
       "      <td>sjaak@blids.nl</td>\n",
       "      <td>Yvonne</td>\n",
       "      <td>Zermin</td>\n",
       "      <td>WOOOF Regular</td>\n",
       "      <td>2017-11-17</td>\n",
       "      <td>2017-11-17</td>\n",
       "      <td>2017-11</td>\n",
       "      <td>2017-11</td>\n",
       "      <td>New</td>\n",
       "      <td>Webshop</td>\n",
       "      <td>2017</td>\n",
       "      <td>46</td>\n",
       "      <td>2017-46</td>\n",
       "      <td>0 days</td>\n",
       "    </tr>\n",
       "    <tr>\n",
       "      <th>1</th>\n",
       "      <td>46544999</td>\n",
       "      <td>DE_ORD00032</td>\n",
       "      <td>58314515</td>\n",
       "      <td>Paid, shipped</td>\n",
       "      <td>Klarna DE - Klarna Rechnung.</td>\n",
       "      <td>24.71</td>\n",
       "      <td>yzermin@gmx.de</td>\n",
       "      <td>Yvonne</td>\n",
       "      <td>Zermin</td>\n",
       "      <td>WOOOF Regular</td>\n",
       "      <td>2017-11-21</td>\n",
       "      <td>2017-11-21</td>\n",
       "      <td>2017-11</td>\n",
       "      <td>2017-11</td>\n",
       "      <td>New</td>\n",
       "      <td>Webshop</td>\n",
       "      <td>2017</td>\n",
       "      <td>47</td>\n",
       "      <td>2017-47</td>\n",
       "      <td>0 days</td>\n",
       "    </tr>\n",
       "    <tr>\n",
       "      <th>2</th>\n",
       "      <td>47823566</td>\n",
       "      <td>DE_ORD00034</td>\n",
       "      <td>58356140</td>\n",
       "      <td>Paid, shipped</td>\n",
       "      <td>Pay.nl - Sofortbanking</td>\n",
       "      <td>37.33</td>\n",
       "      <td>Patrickwerb@gmx.de</td>\n",
       "      <td>Patrick</td>\n",
       "      <td>Werb</td>\n",
       "      <td>WOOOF Regular</td>\n",
       "      <td>2017-11-21</td>\n",
       "      <td>2017-11-21</td>\n",
       "      <td>2017-11</td>\n",
       "      <td>2017-11</td>\n",
       "      <td>New</td>\n",
       "      <td>Webshop</td>\n",
       "      <td>2017</td>\n",
       "      <td>47</td>\n",
       "      <td>2017-47</td>\n",
       "      <td>0 days</td>\n",
       "    </tr>\n",
       "    <tr>\n",
       "      <th>3</th>\n",
       "      <td>47821025</td>\n",
       "      <td>DE_ORD00035</td>\n",
       "      <td>58357271</td>\n",
       "      <td>Paid, shipped</td>\n",
       "      <td>Pay.nl - Sofortbanking</td>\n",
       "      <td>23.78</td>\n",
       "      <td>marona1985malibu@googlemail.com</td>\n",
       "      <td>Ramona</td>\n",
       "      <td>Tinnemeier</td>\n",
       "      <td>WOOOF Regular</td>\n",
       "      <td>2017-11-21</td>\n",
       "      <td>2017-11-21</td>\n",
       "      <td>2017-11</td>\n",
       "      <td>2017-11</td>\n",
       "      <td>New</td>\n",
       "      <td>Webshop</td>\n",
       "      <td>2017</td>\n",
       "      <td>47</td>\n",
       "      <td>2017-47</td>\n",
       "      <td>0 days</td>\n",
       "    </tr>\n",
       "    <tr>\n",
       "      <th>22</th>\n",
       "      <td>47935061</td>\n",
       "      <td>DE_ORD00059</td>\n",
       "      <td>58480067</td>\n",
       "      <td>Paid, shipped</td>\n",
       "      <td>Payment Amazon</td>\n",
       "      <td>23.81</td>\n",
       "      <td>3m6zffthzjfq5qh@marketplace.amazon.de</td>\n",
       "      <td>Martina</td>\n",
       "      <td>Schulte</td>\n",
       "      <td>WOOOF Regular</td>\n",
       "      <td>2017-11-22</td>\n",
       "      <td>2017-11-22</td>\n",
       "      <td>2017-11</td>\n",
       "      <td>2017-11</td>\n",
       "      <td>New</td>\n",
       "      <td>Amazon</td>\n",
       "      <td>2017</td>\n",
       "      <td>47</td>\n",
       "      <td>2017-47</td>\n",
       "      <td>0 days</td>\n",
       "    </tr>\n",
       "  </tbody>\n",
       "</table>\n",
       "</div>"
      ],
      "text/plain": [
       "    Customer_ID        Order  Order_ID         Status  \\\n",
       "0      46400897  DE_ORD00031  58005182  Paid, shipped   \n",
       "1      46544999  DE_ORD00032  58314515  Paid, shipped   \n",
       "2      47823566  DE_ORD00034  58356140  Paid, shipped   \n",
       "3      47821025  DE_ORD00035  58357271  Paid, shipped   \n",
       "22     47935061  DE_ORD00059  58480067  Paid, shipped   \n",
       "\n",
       "                         Payment  ValueNOVAT  \\\n",
       "0       Pay.nl - Banküberweisung       23.78   \n",
       "1   Klarna DE - Klarna Rechnung.       24.71   \n",
       "2         Pay.nl - Sofortbanking       37.33   \n",
       "3         Pay.nl - Sofortbanking       23.78   \n",
       "22                Payment Amazon       23.81   \n",
       "\n",
       "                                   E-mail Firstname    Lastname  \\\n",
       "0                          sjaak@blids.nl    Yvonne      Zermin   \n",
       "1                          yzermin@gmx.de    Yvonne      Zermin   \n",
       "2                      Patrickwerb@gmx.de   Patrick        Werb   \n",
       "3         marona1985malibu@googlemail.com    Ramona  Tinnemeier   \n",
       "22  3m6zffthzjfq5qh@marketplace.amazon.de   Martina     Schulte   \n",
       "\n",
       "    Product_title Creation_Date First_Order First_Order_YM Creation_Date_YM  \\\n",
       "0   WOOOF Regular    2017-11-17  2017-11-17        2017-11          2017-11   \n",
       "1   WOOOF Regular    2017-11-21  2017-11-21        2017-11          2017-11   \n",
       "2   WOOOF Regular    2017-11-21  2017-11-21        2017-11          2017-11   \n",
       "3   WOOOF Regular    2017-11-21  2017-11-21        2017-11          2017-11   \n",
       "22  WOOOF Regular    2017-11-22  2017-11-22        2017-11          2017-11   \n",
       "\n",
       "   Customer_Type Payment_Type  Year  Week Year_Week DaysDiff  \n",
       "0            New      Webshop  2017    46   2017-46   0 days  \n",
       "1            New      Webshop  2017    47   2017-47   0 days  \n",
       "2            New      Webshop  2017    47   2017-47   0 days  \n",
       "3            New      Webshop  2017    47   2017-47   0 days  \n",
       "22           New       Amazon  2017    47   2017-47   0 days  "
      ]
     },
     "execution_count": 31,
     "metadata": {},
     "output_type": "execute_result"
    }
   ],
   "source": [
    "df3['DaysDiff'] = df3['Creation_Date'] - df3['First_Order']\n",
    "df3.head()"
   ]
  },
  {
   "cell_type": "code",
   "execution_count": 32,
   "metadata": {},
   "outputs": [
    {
     "data": {
      "text/html": [
       "<div>\n",
       "<style scoped>\n",
       "    .dataframe tbody tr th:only-of-type {\n",
       "        vertical-align: middle;\n",
       "    }\n",
       "\n",
       "    .dataframe tbody tr th {\n",
       "        vertical-align: top;\n",
       "    }\n",
       "\n",
       "    .dataframe thead th {\n",
       "        text-align: right;\n",
       "    }\n",
       "</style>\n",
       "<table border=\"1\" class=\"dataframe\">\n",
       "  <thead>\n",
       "    <tr style=\"text-align: right;\">\n",
       "      <th></th>\n",
       "      <th>Customer_ID</th>\n",
       "      <th>Order</th>\n",
       "      <th>Order_ID</th>\n",
       "      <th>Status</th>\n",
       "      <th>Payment</th>\n",
       "      <th>ValueNOVAT</th>\n",
       "      <th>E-mail</th>\n",
       "      <th>Firstname</th>\n",
       "      <th>Lastname</th>\n",
       "      <th>Product_title</th>\n",
       "      <th>Creation_Date</th>\n",
       "      <th>First_Order</th>\n",
       "      <th>First_Order_YM</th>\n",
       "      <th>Creation_Date_YM</th>\n",
       "      <th>Customer_Type</th>\n",
       "      <th>Payment_Type</th>\n",
       "      <th>Year</th>\n",
       "      <th>Week</th>\n",
       "      <th>Year_Week</th>\n",
       "      <th>DaysDiff</th>\n",
       "    </tr>\n",
       "  </thead>\n",
       "  <tbody>\n",
       "    <tr>\n",
       "      <th>77653</th>\n",
       "      <td>50335508</td>\n",
       "      <td>DE_ORD70646</td>\n",
       "      <td>179779698</td>\n",
       "      <td>Paid, shipped</td>\n",
       "      <td>Pay.nl - PayPal</td>\n",
       "      <td>62.10</td>\n",
       "      <td>engelienchen@web.de</td>\n",
       "      <td>Corinna</td>\n",
       "      <td>Engel-Hieke</td>\n",
       "      <td>WOOOF Lamm &amp; Kartoffel</td>\n",
       "      <td>2021-03-16</td>\n",
       "      <td>2017-12-20</td>\n",
       "      <td>2017-12</td>\n",
       "      <td>2021-03</td>\n",
       "      <td>Returning</td>\n",
       "      <td>Webshop</td>\n",
       "      <td>2021</td>\n",
       "      <td>11</td>\n",
       "      <td>2021-11</td>\n",
       "      <td>1182 days</td>\n",
       "    </tr>\n",
       "    <tr>\n",
       "      <th>77652</th>\n",
       "      <td>129977135</td>\n",
       "      <td>DE_ORD70645</td>\n",
       "      <td>179778892</td>\n",
       "      <td>Paid, shipped</td>\n",
       "      <td>Klarna DE - In 14 Tagen bezahlen</td>\n",
       "      <td>47.62</td>\n",
       "      <td>claudia.lefarth@googlemail.com</td>\n",
       "      <td>Ruth-Claudia</td>\n",
       "      <td>Lefarth</td>\n",
       "      <td>WOOOF Welpen</td>\n",
       "      <td>2021-03-16</td>\n",
       "      <td>2021-01-08</td>\n",
       "      <td>2021-01</td>\n",
       "      <td>2021-03</td>\n",
       "      <td>Returning</td>\n",
       "      <td>Webshop</td>\n",
       "      <td>2021</td>\n",
       "      <td>11</td>\n",
       "      <td>2021-11</td>\n",
       "      <td>67 days</td>\n",
       "    </tr>\n",
       "    <tr>\n",
       "      <th>77651</th>\n",
       "      <td>134969741</td>\n",
       "      <td>DE_ORD70643</td>\n",
       "      <td>179778776</td>\n",
       "      <td>Paid, shipped</td>\n",
       "      <td>Pay.nl - PayPal</td>\n",
       "      <td>NaN</td>\n",
       "      <td>info@style2trail.de</td>\n",
       "      <td>Christiane</td>\n",
       "      <td>Wildhirt</td>\n",
       "      <td>Schafsfett</td>\n",
       "      <td>2021-03-16</td>\n",
       "      <td>2021-03-16</td>\n",
       "      <td>2021-03</td>\n",
       "      <td>2021-03</td>\n",
       "      <td>New</td>\n",
       "      <td>Webshop</td>\n",
       "      <td>2021</td>\n",
       "      <td>11</td>\n",
       "      <td>2021-11</td>\n",
       "      <td>0 days</td>\n",
       "    </tr>\n",
       "    <tr>\n",
       "      <th>77649</th>\n",
       "      <td>134969741</td>\n",
       "      <td>DE_ORD70643</td>\n",
       "      <td>179778776</td>\n",
       "      <td>Paid, shipped</td>\n",
       "      <td>Pay.nl - PayPal</td>\n",
       "      <td>NaN</td>\n",
       "      <td>info@style2trail.de</td>\n",
       "      <td>Christiane</td>\n",
       "      <td>Wildhirt</td>\n",
       "      <td>Schafsfett &amp; Kurkuma Bites</td>\n",
       "      <td>2021-03-16</td>\n",
       "      <td>2021-03-16</td>\n",
       "      <td>2021-03</td>\n",
       "      <td>2021-03</td>\n",
       "      <td>New</td>\n",
       "      <td>Webshop</td>\n",
       "      <td>2021</td>\n",
       "      <td>11</td>\n",
       "      <td>2021-11</td>\n",
       "      <td>0 days</td>\n",
       "    </tr>\n",
       "    <tr>\n",
       "      <th>77711</th>\n",
       "      <td>109278419</td>\n",
       "      <td>DE_ORD70689</td>\n",
       "      <td>179823902</td>\n",
       "      <td>Paid, not shipped</td>\n",
       "      <td>Pay.nl - PayPal</td>\n",
       "      <td>41.07</td>\n",
       "      <td>a-rotter@web.de</td>\n",
       "      <td>Andreas</td>\n",
       "      <td>Rotter</td>\n",
       "      <td>WOOOF Regular</td>\n",
       "      <td>2021-03-16</td>\n",
       "      <td>2019-12-14</td>\n",
       "      <td>2019-12</td>\n",
       "      <td>2021-03</td>\n",
       "      <td>Returning</td>\n",
       "      <td>Webshop</td>\n",
       "      <td>2021</td>\n",
       "      <td>11</td>\n",
       "      <td>2021-11</td>\n",
       "      <td>458 days</td>\n",
       "    </tr>\n",
       "  </tbody>\n",
       "</table>\n",
       "</div>"
      ],
      "text/plain": [
       "       Customer_ID        Order   Order_ID             Status  \\\n",
       "77653     50335508  DE_ORD70646  179779698      Paid, shipped   \n",
       "77652    129977135  DE_ORD70645  179778892      Paid, shipped   \n",
       "77651    134969741  DE_ORD70643  179778776      Paid, shipped   \n",
       "77649    134969741  DE_ORD70643  179778776      Paid, shipped   \n",
       "77711    109278419  DE_ORD70689  179823902  Paid, not shipped   \n",
       "\n",
       "                                Payment  ValueNOVAT  \\\n",
       "77653                   Pay.nl - PayPal       62.10   \n",
       "77652  Klarna DE - In 14 Tagen bezahlen       47.62   \n",
       "77651                   Pay.nl - PayPal         NaN   \n",
       "77649                   Pay.nl - PayPal         NaN   \n",
       "77711                   Pay.nl - PayPal       41.07   \n",
       "\n",
       "                               E-mail     Firstname     Lastname  \\\n",
       "77653             engelienchen@web.de       Corinna  Engel-Hieke   \n",
       "77652  claudia.lefarth@googlemail.com  Ruth-Claudia      Lefarth   \n",
       "77651             info@style2trail.de    Christiane     Wildhirt   \n",
       "77649             info@style2trail.de    Christiane     Wildhirt   \n",
       "77711                 a-rotter@web.de       Andreas       Rotter   \n",
       "\n",
       "                     Product_title Creation_Date First_Order First_Order_YM  \\\n",
       "77653       WOOOF Lamm & Kartoffel    2021-03-16  2017-12-20        2017-12   \n",
       "77652                 WOOOF Welpen    2021-03-16  2021-01-08        2021-01   \n",
       "77651                   Schafsfett    2021-03-16  2021-03-16        2021-03   \n",
       "77649  Schafsfett & Kurkuma Bites     2021-03-16  2021-03-16        2021-03   \n",
       "77711                WOOOF Regular    2021-03-16  2019-12-14        2019-12   \n",
       "\n",
       "      Creation_Date_YM Customer_Type Payment_Type  Year  Week Year_Week  \\\n",
       "77653          2021-03     Returning      Webshop  2021    11   2021-11   \n",
       "77652          2021-03     Returning      Webshop  2021    11   2021-11   \n",
       "77651          2021-03           New      Webshop  2021    11   2021-11   \n",
       "77649          2021-03           New      Webshop  2021    11   2021-11   \n",
       "77711          2021-03     Returning      Webshop  2021    11   2021-11   \n",
       "\n",
       "       DaysDiff  \n",
       "77653 1182 days  \n",
       "77652   67 days  \n",
       "77651    0 days  \n",
       "77649    0 days  \n",
       "77711  458 days  "
      ]
     },
     "execution_count": 32,
     "metadata": {},
     "output_type": "execute_result"
    }
   ],
   "source": [
    "df3.tail()"
   ]
  },
  {
   "cell_type": "code",
   "execution_count": 33,
   "metadata": {},
   "outputs": [],
   "source": [
    "import matplotlib.pyplot as plt\n",
    "import seaborn as sns\n",
    "import chart_studio.plotly as py\n",
    "import plotly.offline as pyoff\n",
    "import plotly.graph_objs as go\n",
    "from plotly.subplots import make_subplots"
   ]
  },
  {
   "cell_type": "code",
   "execution_count": 34,
   "metadata": {},
   "outputs": [
    {
     "data": {
      "text/plain": [
       "37084   127 days\n",
       "58845   889 days\n",
       "70420    21 days\n",
       "66663     0 days\n",
       "66322   175 days\n",
       "Name: DaysDiff, dtype: timedelta64[ns]"
      ]
     },
     "execution_count": 34,
     "metadata": {},
     "output_type": "execute_result"
    }
   ],
   "source": [
    "td_df = df3.sample(n=1000, random_state=42)\n",
    "td_df['DaysDiff'][:5]"
   ]
  },
  {
   "cell_type": "code",
   "execution_count": 35,
   "metadata": {},
   "outputs": [],
   "source": [
    "td_df.reset_index(inplace=True)"
   ]
  },
  {
   "cell_type": "code",
   "execution_count": 36,
   "metadata": {},
   "outputs": [
    {
     "data": {
      "text/plain": [
       "1095"
      ]
     },
     "execution_count": 36,
     "metadata": {},
     "output_type": "execute_result"
    }
   ],
   "source": [
    "3*365"
   ]
  },
  {
   "cell_type": "code",
   "execution_count": 37,
   "metadata": {},
   "outputs": [
    {
     "data": {
      "image/png": "[encoded data removed]"
     },
     "metadata": {},
     "output_type": "display_data"
    }
   ],
   "source": [
    "#plot LTV histogram\n",
    "import plotly.io as pio\n",
    "png_renderer = pio.renderers[\"png\"]\n",
    "png_renderer.width = 500\n",
    "png_renderer.height = 500\n",
    "\n",
    "pio.renderers.default = \"png\"\n",
    "\n",
    "###\n",
    "plot_data = [\n",
    "    go.Scatter(\n",
    "        y= td_df['DaysDiff'], mode='lines'\n",
    "    )\n",
    "]\n",
    "\n",
    "plot_layout = go.Layout(\n",
    "        title='Time decay'\n",
    "    )\n",
    "fig = go.Figure(data=plot_data, layout=plot_layout)\n",
    "pyoff.iplot(fig)"
   ]
  },
  {
   "cell_type": "code",
   "execution_count": 38,
   "metadata": {},
   "outputs": [
    {
     "data": {
      "image/png": "[encoded data removed]"
     },
     "metadata": {},
     "output_type": "display_data"
    }
   ],
   "source": [
    "import plotly.io as pio\n",
    "png_renderer = pio.renderers[\"png\"]\n",
    "png_renderer.width = 500\n",
    "png_renderer.height = 500\n",
    "pio.renderers.default = \"png\"\n",
    "\"\"\"\n",
    "import plotly.express as px\n",
    "\n",
    "fig = px.line(test, x=\"Creation_Date\", y=\"Revenue_EXVAT\", color='Customer_Type')\n",
    "fig.update_layout({'title_text':'Revenue per Customer Type',\n",
    "'plot_bgcolor': 'rgb(256, 256, 256)',\n",
    "'paper_bgcolor': 'rgb(256, 256, 256)',\n",
    "'height':600,\n",
    "'showlegend':True\n",
    "})\n",
    "fig.show()\n",
    "\"\"\"\n",
    "\n",
    "import plotly.express as px\n",
    "\n",
    "fig = px.line(x=td_df[\"DaysDiff\"], y=np.arange(1000), title='Time decay')\n",
    "fig.show()"
   ]
  },
  {
   "cell_type": "code",
   "execution_count": null,
   "metadata": {},
   "outputs": [],
   "source": []
  }
 ],
 "metadata": {
  "kernelspec": {
   "display_name": "Python 3",
   "language": "python",
   "name": "python3"
  },
  "language_info": {
   "codemirror_mode": {
    "name": "ipython",
    "version": 3
   },
   "file_extension": ".py",
   "mimetype": "text/x-python",
   "name": "python",
   "nbconvert_exporter": "python",
   "pygments_lexer": "ipython3",
   "version": "3.8.5"
  }
 },
 "nbformat": 4,
 "nbformat_minor": 4
}

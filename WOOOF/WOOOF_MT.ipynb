{
 "cells": [
  {
   "cell_type": "code",
   "execution_count": 1,
   "metadata": {},
   "outputs": [],
   "source": [
    "import pandas as pd\n",
    "import numpy as np\n",
    "import matplotlib.pyplot as plt\n",
    "import seaborn as sns\n",
    "import chart_studio.plotly as py\n",
    "import plotly.offline as pyoff\n",
    "import plotly.graph_objs as go\n",
    "from plotly.subplots import make_subplots"
   ]
  },
  {
   "cell_type": "markdown",
   "metadata": {},
   "source": [
    "### 2018 - 2019 - 2020"
   ]
  },
  {
   "cell_type": "code",
   "execution_count": 51,
   "metadata": {},
   "outputs": [
    {
     "name": "stderr",
     "output_type": "stream",
     "text": [
      "C:\\Users\\Angela\\anaconda3\\lib\\site-packages\\IPython\\core\\interactiveshell.py:3146: DtypeWarning:\n",
      "\n",
      "Columns (26,34) have mixed types.Specify dtype option on import or set low_memory=False.\n",
      "\n"
     ]
    }
   ],
   "source": [
    "df_og2 = pd.read_csv('./Data/orders-export-2021-03-16-16-13-22.csv', sep=';', decimal=',')\n",
    "df_og = pd.read_csv('./Data/Export Febrero + Marzo (12.3).csv', sep=';', decimal=',')"
   ]
  },
  {
   "cell_type": "code",
   "execution_count": 3,
   "metadata": {},
   "outputs": [
    {
     "data": {
      "text/plain": [
       "Index(['Order_ID', 'Order', 'Invoices', 'Credit_notes', 'Added', 'Status',\n",
       "       'Custom_status', 'Payment', 'Shipping', 'Price_total', 'Price_total_ex',\n",
       "       'Price_vat', 'Price_cost', 'Price_shipping', 'Weight', 'Volume',\n",
       "       'Colli', 'Company', 'Vat', 'Firstname', 'Lastname', 'Phone', 'Mobile',\n",
       "       'E-mail', 'Attn', 'Streetname', 'Second_address_line', 'Number',\n",
       "       'Extension', 'Zipcode', 'City', 'Region', 'Country', 'Invoice_street',\n",
       "       'Invoice_street_2', 'Invoice_housenumber', 'Invoice_housenumber_ext',\n",
       "       'Invoice_zipcode', 'Invoice_city', 'Invoice_region', 'Invoice_country',\n",
       "       'Quantity', 'Product_price', 'Product_price_cost', 'Product_weight',\n",
       "       'Product_volume', 'Product_colli', 'Product_supplier', 'Product_brand',\n",
       "       'Product_title', 'Product_variant', 'Product_article_code',\n",
       "       'Product_EAN', 'Product_SKU', 'Discount_code', 'Discount_price',\n",
       "       'Customer', 'Comment', 'Memo', 'Price_payment', 'Shipping_company'],\n",
       "      dtype='object')"
      ]
     },
     "execution_count": 3,
     "metadata": {},
     "output_type": "execute_result"
    }
   ],
   "source": [
    "df_og.columns"
   ]
  },
  {
   "cell_type": "code",
   "execution_count": 4,
   "metadata": {},
   "outputs": [
    {
     "data": {
      "text/plain": [
       "(4332, 61)"
      ]
     },
     "execution_count": 4,
     "metadata": {},
     "output_type": "execute_result"
    }
   ],
   "source": [
    "df_og.shape"
   ]
  },
  {
   "cell_type": "code",
   "execution_count": 5,
   "metadata": {},
   "outputs": [
    {
     "data": {
      "text/plain": [
       "array(['Paid, shipped', 'Not paid, not shipped', 'Cancelled',\n",
       "       'Paid, not shipped'], dtype=object)"
      ]
     },
     "execution_count": 5,
     "metadata": {},
     "output_type": "execute_result"
    }
   ],
   "source": [
    "df_og.Status.unique()"
   ]
  },
  {
   "cell_type": "code",
   "execution_count": 6,
   "metadata": {},
   "outputs": [],
   "source": [
    "%run ./cohorts_pipeline_woof_v3.py"
   ]
  },
  {
   "cell_type": "code",
   "execution_count": 69,
   "metadata": {},
   "outputs": [
    {
     "name": "stderr",
     "output_type": "stream",
     "text": [
      "C:\\Users\\Angela\\Documents\\Python Scripts\\WOOOF\\cohorts_pipeline_woof_v3.py:30: FutureWarning:\n",
      "\n",
      "Series.dt.weekofyear and Series.dt.week have been deprecated.  Please use Series.dt.isocalendar().week instead.\n",
      "\n"
     ]
    }
   ],
   "source": [
    "df = df_cleaning(df_og)"
   ]
  },
  {
   "cell_type": "code",
   "execution_count": 52,
   "metadata": {},
   "outputs": [
    {
     "name": "stderr",
     "output_type": "stream",
     "text": [
      "C:\\Users\\Angela\\Documents\\Python Scripts\\WOOOF\\cohorts_pipeline_woof_v3.py:30: FutureWarning:\n",
      "\n",
      "Series.dt.weekofyear and Series.dt.week have been deprecated.  Please use Series.dt.isocalendar().week instead.\n",
      "\n"
     ]
    }
   ],
   "source": [
    "df2 = df_cleaning(df_og2)"
   ]
  },
  {
   "cell_type": "code",
   "execution_count": 70,
   "metadata": {},
   "outputs": [],
   "source": [
    "df['Creation_Date_YM'] = df['Creation_Date'].apply(lambda x: x.strftime('%Y-%m'))"
   ]
  },
  {
   "cell_type": "code",
   "execution_count": 71,
   "metadata": {},
   "outputs": [
    {
     "data": {
      "text/plain": [
       "Customer_ID           0\n",
       "Order                 0\n",
       "Order_ID              0\n",
       "Status                0\n",
       "Payment               0\n",
       "ValueNOVAT          905\n",
       "E-mail                0\n",
       "Firstname             0\n",
       "Lastname              0\n",
       "Product_title         0\n",
       "Creation_Date         0\n",
       "First_Order           0\n",
       "First_Order_YM        0\n",
       "Creation_Date_YM      0\n",
       "Customer_Type         0\n",
       "Payment_Type          0\n",
       "Year                  0\n",
       "Week                  0\n",
       "Year_Week             0\n",
       "dtype: int64"
      ]
     },
     "execution_count": 71,
     "metadata": {},
     "output_type": "execute_result"
    }
   ],
   "source": [
    "df.isnull().sum()"
   ]
  },
  {
   "cell_type": "code",
   "execution_count": 54,
   "metadata": {},
   "outputs": [
    {
     "data": {
      "text/plain": [
       "Customer_ID             0\n",
       "Order                   0\n",
       "Order_ID                0\n",
       "Status                  0\n",
       "Payment                 0\n",
       "ValueNOVAT          10103\n",
       "E-mail                  0\n",
       "Firstname               0\n",
       "Lastname                0\n",
       "Product_title           0\n",
       "Creation_Date           0\n",
       "First_Order             0\n",
       "First_Order_YM          0\n",
       "Creation_Date_YM        0\n",
       "Customer_Type           0\n",
       "Payment_Type            0\n",
       "Year                    0\n",
       "Week                    0\n",
       "Year_Week               0\n",
       "dtype: int64"
      ]
     },
     "execution_count": 54,
     "metadata": {},
     "output_type": "execute_result"
    }
   ],
   "source": [
    "df2.isnull().sum()"
   ]
  },
  {
   "cell_type": "markdown",
   "metadata": {},
   "source": [
    "# First Time Buyers"
   ]
  },
  {
   "cell_type": "code",
   "execution_count": 72,
   "metadata": {},
   "outputs": [
    {
     "data": {
      "text/html": [
       "<div>\n",
       "<style scoped>\n",
       "    .dataframe tbody tr th:only-of-type {\n",
       "        vertical-align: middle;\n",
       "    }\n",
       "\n",
       "    .dataframe tbody tr th {\n",
       "        vertical-align: top;\n",
       "    }\n",
       "\n",
       "    .dataframe thead th {\n",
       "        text-align: right;\n",
       "    }\n",
       "</style>\n",
       "<table border=\"1\" class=\"dataframe\">\n",
       "  <thead>\n",
       "    <tr style=\"text-align: right;\">\n",
       "      <th></th>\n",
       "      <th>Customer_ID</th>\n",
       "      <th>Order</th>\n",
       "      <th>Order_ID</th>\n",
       "      <th>Status</th>\n",
       "      <th>Payment</th>\n",
       "      <th>ValueNOVAT</th>\n",
       "      <th>E-mail</th>\n",
       "      <th>Firstname</th>\n",
       "      <th>Lastname</th>\n",
       "      <th>Product_title</th>\n",
       "      <th>Creation_Date</th>\n",
       "      <th>First_Order</th>\n",
       "      <th>First_Order_YM</th>\n",
       "      <th>Creation_Date_YM</th>\n",
       "      <th>Customer_Type</th>\n",
       "      <th>Payment_Type</th>\n",
       "      <th>Year</th>\n",
       "      <th>Week</th>\n",
       "      <th>Year_Week</th>\n",
       "    </tr>\n",
       "  </thead>\n",
       "  <tbody>\n",
       "    <tr>\n",
       "      <th>0</th>\n",
       "      <td>113463987</td>\n",
       "      <td>DE_ORD66941</td>\n",
       "      <td>174997431</td>\n",
       "      <td>Paid, shipped</td>\n",
       "      <td>Pay.nl - Sofortbanking</td>\n",
       "      <td>151.26</td>\n",
       "      <td>kerstintaeuber@arcor.de</td>\n",
       "      <td>Kerstin</td>\n",
       "      <td>Täuber</td>\n",
       "      <td>WOOOF High Energy</td>\n",
       "      <td>2021-02-01</td>\n",
       "      <td>2021-02-01</td>\n",
       "      <td>2021-02</td>\n",
       "      <td>2021-02</td>\n",
       "      <td>New</td>\n",
       "      <td>Webshop</td>\n",
       "      <td>2021</td>\n",
       "      <td>5</td>\n",
       "      <td>2021-05</td>\n",
       "    </tr>\n",
       "    <tr>\n",
       "      <th>1</th>\n",
       "      <td>113463987</td>\n",
       "      <td>DE_ORD66941</td>\n",
       "      <td>174997431</td>\n",
       "      <td>Paid, shipped</td>\n",
       "      <td>Pay.nl - Sofortbanking</td>\n",
       "      <td>NaN</td>\n",
       "      <td>kerstintaeuber@arcor.de</td>\n",
       "      <td>Kerstin</td>\n",
       "      <td>Täuber</td>\n",
       "      <td>WOOOF Lachs</td>\n",
       "      <td>2021-02-01</td>\n",
       "      <td>2021-02-01</td>\n",
       "      <td>2021-02</td>\n",
       "      <td>2021-02</td>\n",
       "      <td>New</td>\n",
       "      <td>Webshop</td>\n",
       "      <td>2021</td>\n",
       "      <td>5</td>\n",
       "      <td>2021-05</td>\n",
       "    </tr>\n",
       "    <tr>\n",
       "      <th>2</th>\n",
       "      <td>113463987</td>\n",
       "      <td>DE_ORD66941</td>\n",
       "      <td>174997431</td>\n",
       "      <td>Paid, shipped</td>\n",
       "      <td>Pay.nl - Sofortbanking</td>\n",
       "      <td>NaN</td>\n",
       "      <td>kerstintaeuber@arcor.de</td>\n",
       "      <td>Kerstin</td>\n",
       "      <td>Täuber</td>\n",
       "      <td>WOOOF Ente</td>\n",
       "      <td>2021-02-01</td>\n",
       "      <td>2021-02-01</td>\n",
       "      <td>2021-02</td>\n",
       "      <td>2021-02</td>\n",
       "      <td>New</td>\n",
       "      <td>Webshop</td>\n",
       "      <td>2021</td>\n",
       "      <td>5</td>\n",
       "      <td>2021-05</td>\n",
       "    </tr>\n",
       "    <tr>\n",
       "      <th>3</th>\n",
       "      <td>123643553</td>\n",
       "      <td>DE_ORD66942</td>\n",
       "      <td>174998024</td>\n",
       "      <td>Not paid, not shipped</td>\n",
       "      <td>Pay.nl - Banküberweisung</td>\n",
       "      <td>47.62</td>\n",
       "      <td>jasminnoureddine@gmail.com</td>\n",
       "      <td>Jasmin</td>\n",
       "      <td>Noureddine</td>\n",
       "      <td>WOOOF Welpen</td>\n",
       "      <td>2021-02-01</td>\n",
       "      <td>2021-02-01</td>\n",
       "      <td>2021-02</td>\n",
       "      <td>2021-02</td>\n",
       "      <td>New</td>\n",
       "      <td>Webshop</td>\n",
       "      <td>2021</td>\n",
       "      <td>5</td>\n",
       "      <td>2021-05</td>\n",
       "    </tr>\n",
       "    <tr>\n",
       "      <th>4</th>\n",
       "      <td>51148235</td>\n",
       "      <td>DE_ORD66943</td>\n",
       "      <td>174999487</td>\n",
       "      <td>Paid, shipped</td>\n",
       "      <td>Pay.nl - PayPal</td>\n",
       "      <td>36.87</td>\n",
       "      <td>Celyce@gmx.net</td>\n",
       "      <td>Elina</td>\n",
       "      <td>Warkentin</td>\n",
       "      <td>WOOOF Lamm &amp; Kartoffel</td>\n",
       "      <td>2021-02-01</td>\n",
       "      <td>2021-02-01</td>\n",
       "      <td>2021-02</td>\n",
       "      <td>2021-02</td>\n",
       "      <td>New</td>\n",
       "      <td>Webshop</td>\n",
       "      <td>2021</td>\n",
       "      <td>5</td>\n",
       "      <td>2021-05</td>\n",
       "    </tr>\n",
       "  </tbody>\n",
       "</table>\n",
       "</div>"
      ],
      "text/plain": [
       "   Customer_ID        Order   Order_ID                 Status  \\\n",
       "0    113463987  DE_ORD66941  174997431          Paid, shipped   \n",
       "1    113463987  DE_ORD66941  174997431          Paid, shipped   \n",
       "2    113463987  DE_ORD66941  174997431          Paid, shipped   \n",
       "3    123643553  DE_ORD66942  174998024  Not paid, not shipped   \n",
       "4     51148235  DE_ORD66943  174999487          Paid, shipped   \n",
       "\n",
       "                    Payment  ValueNOVAT                      E-mail Firstname  \\\n",
       "0    Pay.nl - Sofortbanking      151.26     kerstintaeuber@arcor.de   Kerstin   \n",
       "1    Pay.nl - Sofortbanking         NaN     kerstintaeuber@arcor.de   Kerstin   \n",
       "2    Pay.nl - Sofortbanking         NaN     kerstintaeuber@arcor.de   Kerstin   \n",
       "3  Pay.nl - Banküberweisung       47.62  jasminnoureddine@gmail.com    Jasmin   \n",
       "4           Pay.nl - PayPal       36.87              Celyce@gmx.net     Elina   \n",
       "\n",
       "     Lastname           Product_title Creation_Date First_Order  \\\n",
       "0      Täuber       WOOOF High Energy    2021-02-01  2021-02-01   \n",
       "1      Täuber             WOOOF Lachs    2021-02-01  2021-02-01   \n",
       "2      Täuber              WOOOF Ente    2021-02-01  2021-02-01   \n",
       "3  Noureddine            WOOOF Welpen    2021-02-01  2021-02-01   \n",
       "4   Warkentin  WOOOF Lamm & Kartoffel    2021-02-01  2021-02-01   \n",
       "\n",
       "  First_Order_YM Creation_Date_YM Customer_Type Payment_Type  Year  Week  \\\n",
       "0        2021-02          2021-02           New      Webshop  2021     5   \n",
       "1        2021-02          2021-02           New      Webshop  2021     5   \n",
       "2        2021-02          2021-02           New      Webshop  2021     5   \n",
       "3        2021-02          2021-02           New      Webshop  2021     5   \n",
       "4        2021-02          2021-02           New      Webshop  2021     5   \n",
       "\n",
       "  Year_Week  \n",
       "0   2021-05  \n",
       "1   2021-05  \n",
       "2   2021-05  \n",
       "3   2021-05  \n",
       "4   2021-05  "
      ]
     },
     "execution_count": 72,
     "metadata": {},
     "output_type": "execute_result"
    }
   ],
   "source": [
    "df.head()"
   ]
  },
  {
   "cell_type": "code",
   "execution_count": 56,
   "metadata": {},
   "outputs": [
    {
     "data": {
      "text/html": [
       "<div>\n",
       "<style scoped>\n",
       "    .dataframe tbody tr th:only-of-type {\n",
       "        vertical-align: middle;\n",
       "    }\n",
       "\n",
       "    .dataframe tbody tr th {\n",
       "        vertical-align: top;\n",
       "    }\n",
       "\n",
       "    .dataframe thead th {\n",
       "        text-align: right;\n",
       "    }\n",
       "</style>\n",
       "<table border=\"1\" class=\"dataframe\">\n",
       "  <thead>\n",
       "    <tr style=\"text-align: right;\">\n",
       "      <th></th>\n",
       "      <th>Customer_ID</th>\n",
       "      <th>Order</th>\n",
       "      <th>Order_ID</th>\n",
       "      <th>Status</th>\n",
       "      <th>Payment</th>\n",
       "      <th>ValueNOVAT</th>\n",
       "      <th>E-mail</th>\n",
       "      <th>Firstname</th>\n",
       "      <th>Lastname</th>\n",
       "      <th>Product_title</th>\n",
       "      <th>Creation_Date</th>\n",
       "      <th>First_Order</th>\n",
       "      <th>First_Order_YM</th>\n",
       "      <th>Creation_Date_YM</th>\n",
       "      <th>Customer_Type</th>\n",
       "      <th>Payment_Type</th>\n",
       "      <th>Year</th>\n",
       "      <th>Week</th>\n",
       "      <th>Year_Week</th>\n",
       "    </tr>\n",
       "  </thead>\n",
       "  <tbody>\n",
       "    <tr>\n",
       "      <th>0</th>\n",
       "      <td>46400897</td>\n",
       "      <td>DE_ORD00031</td>\n",
       "      <td>58005182</td>\n",
       "      <td>Paid, shipped</td>\n",
       "      <td>Pay.nl - Banküberweisung</td>\n",
       "      <td>23.78</td>\n",
       "      <td>sjaak@blids.nl</td>\n",
       "      <td>Yvonne</td>\n",
       "      <td>Zermin</td>\n",
       "      <td>WOOOF Regular</td>\n",
       "      <td>2017-11-17</td>\n",
       "      <td>2017-11-17</td>\n",
       "      <td>2017-11</td>\n",
       "      <td>2017-11</td>\n",
       "      <td>New</td>\n",
       "      <td>Webshop</td>\n",
       "      <td>2017</td>\n",
       "      <td>46</td>\n",
       "      <td>2017-46</td>\n",
       "    </tr>\n",
       "    <tr>\n",
       "      <th>1</th>\n",
       "      <td>46544999</td>\n",
       "      <td>DE_ORD00032</td>\n",
       "      <td>58314515</td>\n",
       "      <td>Paid, shipped</td>\n",
       "      <td>Klarna DE - Klarna Rechnung.</td>\n",
       "      <td>24.71</td>\n",
       "      <td>yzermin@gmx.de</td>\n",
       "      <td>Yvonne</td>\n",
       "      <td>Zermin</td>\n",
       "      <td>WOOOF Regular</td>\n",
       "      <td>2017-11-21</td>\n",
       "      <td>2017-11-21</td>\n",
       "      <td>2017-11</td>\n",
       "      <td>2017-11</td>\n",
       "      <td>New</td>\n",
       "      <td>Webshop</td>\n",
       "      <td>2017</td>\n",
       "      <td>47</td>\n",
       "      <td>2017-47</td>\n",
       "    </tr>\n",
       "    <tr>\n",
       "      <th>2</th>\n",
       "      <td>47823566</td>\n",
       "      <td>DE_ORD00034</td>\n",
       "      <td>58356140</td>\n",
       "      <td>Paid, shipped</td>\n",
       "      <td>Pay.nl - Sofortbanking</td>\n",
       "      <td>37.33</td>\n",
       "      <td>Patrickwerb@gmx.de</td>\n",
       "      <td>Patrick</td>\n",
       "      <td>Werb</td>\n",
       "      <td>WOOOF Regular</td>\n",
       "      <td>2017-11-21</td>\n",
       "      <td>2017-11-21</td>\n",
       "      <td>2017-11</td>\n",
       "      <td>2017-11</td>\n",
       "      <td>New</td>\n",
       "      <td>Webshop</td>\n",
       "      <td>2017</td>\n",
       "      <td>47</td>\n",
       "      <td>2017-47</td>\n",
       "    </tr>\n",
       "    <tr>\n",
       "      <th>3</th>\n",
       "      <td>47821025</td>\n",
       "      <td>DE_ORD00035</td>\n",
       "      <td>58357271</td>\n",
       "      <td>Paid, shipped</td>\n",
       "      <td>Pay.nl - Sofortbanking</td>\n",
       "      <td>23.78</td>\n",
       "      <td>marona1985malibu@googlemail.com</td>\n",
       "      <td>Ramona</td>\n",
       "      <td>Tinnemeier</td>\n",
       "      <td>WOOOF Regular</td>\n",
       "      <td>2017-11-21</td>\n",
       "      <td>2017-11-21</td>\n",
       "      <td>2017-11</td>\n",
       "      <td>2017-11</td>\n",
       "      <td>New</td>\n",
       "      <td>Webshop</td>\n",
       "      <td>2017</td>\n",
       "      <td>47</td>\n",
       "      <td>2017-47</td>\n",
       "    </tr>\n",
       "    <tr>\n",
       "      <th>4</th>\n",
       "      <td>47820044</td>\n",
       "      <td>DE_ORD00039</td>\n",
       "      <td>58428260</td>\n",
       "      <td>Paid, shipped</td>\n",
       "      <td>Pay.nl - PayPal</td>\n",
       "      <td>76.16</td>\n",
       "      <td>bernd-jendreck@t-online.de</td>\n",
       "      <td>Bernd</td>\n",
       "      <td>Jendreck</td>\n",
       "      <td>WOOOF Regular</td>\n",
       "      <td>2017-11-22</td>\n",
       "      <td>2017-11-22</td>\n",
       "      <td>2017-11</td>\n",
       "      <td>2017-11</td>\n",
       "      <td>New</td>\n",
       "      <td>Webshop</td>\n",
       "      <td>2017</td>\n",
       "      <td>47</td>\n",
       "      <td>2017-47</td>\n",
       "    </tr>\n",
       "  </tbody>\n",
       "</table>\n",
       "</div>"
      ],
      "text/plain": [
       "   Customer_ID        Order  Order_ID         Status  \\\n",
       "0     46400897  DE_ORD00031  58005182  Paid, shipped   \n",
       "1     46544999  DE_ORD00032  58314515  Paid, shipped   \n",
       "2     47823566  DE_ORD00034  58356140  Paid, shipped   \n",
       "3     47821025  DE_ORD00035  58357271  Paid, shipped   \n",
       "4     47820044  DE_ORD00039  58428260  Paid, shipped   \n",
       "\n",
       "                        Payment  ValueNOVAT                           E-mail  \\\n",
       "0      Pay.nl - Banküberweisung       23.78                   sjaak@blids.nl   \n",
       "1  Klarna DE - Klarna Rechnung.       24.71                   yzermin@gmx.de   \n",
       "2        Pay.nl - Sofortbanking       37.33               Patrickwerb@gmx.de   \n",
       "3        Pay.nl - Sofortbanking       23.78  marona1985malibu@googlemail.com   \n",
       "4               Pay.nl - PayPal       76.16       bernd-jendreck@t-online.de   \n",
       "\n",
       "  Firstname    Lastname  Product_title Creation_Date First_Order  \\\n",
       "0    Yvonne      Zermin  WOOOF Regular    2017-11-17  2017-11-17   \n",
       "1    Yvonne      Zermin  WOOOF Regular    2017-11-21  2017-11-21   \n",
       "2   Patrick        Werb  WOOOF Regular    2017-11-21  2017-11-21   \n",
       "3    Ramona  Tinnemeier  WOOOF Regular    2017-11-21  2017-11-21   \n",
       "4     Bernd    Jendreck  WOOOF Regular    2017-11-22  2017-11-22   \n",
       "\n",
       "  First_Order_YM Creation_Date_YM Customer_Type Payment_Type  Year  Week  \\\n",
       "0        2017-11          2017-11           New      Webshop  2017    46   \n",
       "1        2017-11          2017-11           New      Webshop  2017    47   \n",
       "2        2017-11          2017-11           New      Webshop  2017    47   \n",
       "3        2017-11          2017-11           New      Webshop  2017    47   \n",
       "4        2017-11          2017-11           New      Webshop  2017    47   \n",
       "\n",
       "  Year_Week  \n",
       "0   2017-46  \n",
       "1   2017-47  \n",
       "2   2017-47  \n",
       "3   2017-47  \n",
       "4   2017-47  "
      ]
     },
     "execution_count": 56,
     "metadata": {},
     "output_type": "execute_result"
    }
   ],
   "source": [
    "df2.head()"
   ]
  },
  {
   "cell_type": "code",
   "execution_count": 73,
   "metadata": {},
   "outputs": [
    {
     "data": {
      "text/plain": [
       "(4156, 19)"
      ]
     },
     "execution_count": 73,
     "metadata": {},
     "output_type": "execute_result"
    }
   ],
   "source": [
    "df.shape"
   ]
  },
  {
   "cell_type": "code",
   "execution_count": 74,
   "metadata": {},
   "outputs": [
    {
     "data": {
      "text/html": [
       "<div>\n",
       "<style scoped>\n",
       "    .dataframe tbody tr th:only-of-type {\n",
       "        vertical-align: middle;\n",
       "    }\n",
       "\n",
       "    .dataframe tbody tr th {\n",
       "        vertical-align: top;\n",
       "    }\n",
       "\n",
       "    .dataframe thead th {\n",
       "        text-align: right;\n",
       "    }\n",
       "</style>\n",
       "<table border=\"1\" class=\"dataframe\">\n",
       "  <thead>\n",
       "    <tr style=\"text-align: right;\">\n",
       "      <th></th>\n",
       "      <th>Customer_ID</th>\n",
       "      <th>Order</th>\n",
       "      <th>Order_ID</th>\n",
       "      <th>Status</th>\n",
       "      <th>Payment</th>\n",
       "      <th>ValueNOVAT</th>\n",
       "      <th>E-mail</th>\n",
       "      <th>Firstname</th>\n",
       "      <th>Lastname</th>\n",
       "      <th>Product_title</th>\n",
       "      <th>Creation_Date</th>\n",
       "      <th>First_Order</th>\n",
       "      <th>First_Order_YM</th>\n",
       "      <th>Creation_Date_YM</th>\n",
       "      <th>Customer_Type</th>\n",
       "      <th>Payment_Type</th>\n",
       "      <th>Year</th>\n",
       "      <th>Week</th>\n",
       "      <th>Year_Week</th>\n",
       "    </tr>\n",
       "  </thead>\n",
       "  <tbody>\n",
       "    <tr>\n",
       "      <th>151</th>\n",
       "      <td>64432421</td>\n",
       "      <td>DE_ORD67074</td>\n",
       "      <td>175138759</td>\n",
       "      <td>Not paid, not shipped</td>\n",
       "      <td>Pay.nl - PayPal</td>\n",
       "      <td>36.87</td>\n",
       "      <td>nico-weiss86@gmx.de</td>\n",
       "      <td>Nico</td>\n",
       "      <td>Weiß</td>\n",
       "      <td>WOOOF Lamm &amp; Kartoffel</td>\n",
       "      <td>2021-02-02</td>\n",
       "      <td>2021-02-01</td>\n",
       "      <td>2021-02</td>\n",
       "      <td>2021-02</td>\n",
       "      <td>Returning</td>\n",
       "      <td>Webshop</td>\n",
       "      <td>2021</td>\n",
       "      <td>5</td>\n",
       "      <td>2021-05</td>\n",
       "    </tr>\n",
       "    <tr>\n",
       "      <th>435</th>\n",
       "      <td>131919580</td>\n",
       "      <td>DE_ORD67321</td>\n",
       "      <td>175471713</td>\n",
       "      <td>Paid, shipped</td>\n",
       "      <td>Klarna DE - In 14 Tagen bezahlen</td>\n",
       "      <td>36.87</td>\n",
       "      <td>j.stoecki@web.de</td>\n",
       "      <td>Julia</td>\n",
       "      <td>Stöckmann</td>\n",
       "      <td>WOOOF Lamm &amp; Kartoffel</td>\n",
       "      <td>2021-02-05</td>\n",
       "      <td>2021-02-03</td>\n",
       "      <td>2021-02</td>\n",
       "      <td>2021-02</td>\n",
       "      <td>Returning</td>\n",
       "      <td>Webshop</td>\n",
       "      <td>2021</td>\n",
       "      <td>5</td>\n",
       "      <td>2021-05</td>\n",
       "    </tr>\n",
       "  </tbody>\n",
       "</table>\n",
       "</div>"
      ],
      "text/plain": [
       "     Customer_ID        Order   Order_ID                 Status  \\\n",
       "151     64432421  DE_ORD67074  175138759  Not paid, not shipped   \n",
       "435    131919580  DE_ORD67321  175471713          Paid, shipped   \n",
       "\n",
       "                              Payment  ValueNOVAT               E-mail  \\\n",
       "151                   Pay.nl - PayPal       36.87  nico-weiss86@gmx.de   \n",
       "435  Klarna DE - In 14 Tagen bezahlen       36.87     j.stoecki@web.de   \n",
       "\n",
       "    Firstname   Lastname           Product_title Creation_Date First_Order  \\\n",
       "151      Nico       Weiß  WOOOF Lamm & Kartoffel    2021-02-02  2021-02-01   \n",
       "435     Julia  Stöckmann  WOOOF Lamm & Kartoffel    2021-02-05  2021-02-03   \n",
       "\n",
       "    First_Order_YM Creation_Date_YM Customer_Type Payment_Type  Year  Week  \\\n",
       "151        2021-02          2021-02     Returning      Webshop  2021     5   \n",
       "435        2021-02          2021-02     Returning      Webshop  2021     5   \n",
       "\n",
       "    Year_Week  \n",
       "151   2021-05  \n",
       "435   2021-05  "
      ]
     },
     "execution_count": 74,
     "metadata": {},
     "output_type": "execute_result"
    }
   ],
   "source": [
    "df[df['Creation_Date'] != df['First_Order']][:2]"
   ]
  },
  {
   "cell_type": "code",
   "execution_count": 58,
   "metadata": {},
   "outputs": [
    {
     "data": {
      "text/plain": [
       "(77712, 19)"
      ]
     },
     "execution_count": 58,
     "metadata": {},
     "output_type": "execute_result"
    }
   ],
   "source": [
    "df2.shape"
   ]
  },
  {
   "cell_type": "code",
   "execution_count": 59,
   "metadata": {},
   "outputs": [
    {
     "data": {
      "text/html": [
       "<div>\n",
       "<style scoped>\n",
       "    .dataframe tbody tr th:only-of-type {\n",
       "        vertical-align: middle;\n",
       "    }\n",
       "\n",
       "    .dataframe tbody tr th {\n",
       "        vertical-align: top;\n",
       "    }\n",
       "\n",
       "    .dataframe thead th {\n",
       "        text-align: right;\n",
       "    }\n",
       "</style>\n",
       "<table border=\"1\" class=\"dataframe\">\n",
       "  <thead>\n",
       "    <tr style=\"text-align: right;\">\n",
       "      <th></th>\n",
       "      <th>Customer_ID</th>\n",
       "      <th>Order</th>\n",
       "      <th>Order_ID</th>\n",
       "      <th>Status</th>\n",
       "      <th>Payment</th>\n",
       "      <th>ValueNOVAT</th>\n",
       "      <th>E-mail</th>\n",
       "      <th>Firstname</th>\n",
       "      <th>Lastname</th>\n",
       "      <th>Product_title</th>\n",
       "      <th>Creation_Date</th>\n",
       "      <th>First_Order</th>\n",
       "      <th>First_Order_YM</th>\n",
       "      <th>Creation_Date_YM</th>\n",
       "      <th>Customer_Type</th>\n",
       "      <th>Payment_Type</th>\n",
       "      <th>Year</th>\n",
       "      <th>Week</th>\n",
       "      <th>Year_Week</th>\n",
       "    </tr>\n",
       "  </thead>\n",
       "  <tbody>\n",
       "    <tr>\n",
       "      <th>72</th>\n",
       "      <td>47825285</td>\n",
       "      <td>DE_ORD00110</td>\n",
       "      <td>58598756</td>\n",
       "      <td>Paid, shipped</td>\n",
       "      <td>Pay.nl - Banküberweisung</td>\n",
       "      <td>144.62</td>\n",
       "      <td>appaloosa@live.de</td>\n",
       "      <td>Carola</td>\n",
       "      <td>Hill</td>\n",
       "      <td>WOOOF Regular</td>\n",
       "      <td>2017-11-23</td>\n",
       "      <td>2017-11-22</td>\n",
       "      <td>2017-11</td>\n",
       "      <td>2017-11</td>\n",
       "      <td>Returning</td>\n",
       "      <td>Webshop</td>\n",
       "      <td>2017</td>\n",
       "      <td>47</td>\n",
       "      <td>2017-47</td>\n",
       "    </tr>\n",
       "    <tr>\n",
       "      <th>199</th>\n",
       "      <td>47820044</td>\n",
       "      <td>DE_ORD00222</td>\n",
       "      <td>58756148</td>\n",
       "      <td>Paid, shipped</td>\n",
       "      <td>Pay.nl - PayPal</td>\n",
       "      <td>118.02</td>\n",
       "      <td>bernd-jendreck@t-online.de</td>\n",
       "      <td>Bernd</td>\n",
       "      <td>Jendreck</td>\n",
       "      <td>WOOOF Regular</td>\n",
       "      <td>2017-11-24</td>\n",
       "      <td>2017-11-22</td>\n",
       "      <td>2017-11</td>\n",
       "      <td>2017-11</td>\n",
       "      <td>Returning</td>\n",
       "      <td>Webshop</td>\n",
       "      <td>2017</td>\n",
       "      <td>47</td>\n",
       "      <td>2017-47</td>\n",
       "    </tr>\n",
       "  </tbody>\n",
       "</table>\n",
       "</div>"
      ],
      "text/plain": [
       "     Customer_ID        Order  Order_ID         Status  \\\n",
       "72      47825285  DE_ORD00110  58598756  Paid, shipped   \n",
       "199     47820044  DE_ORD00222  58756148  Paid, shipped   \n",
       "\n",
       "                      Payment  ValueNOVAT                      E-mail  \\\n",
       "72   Pay.nl - Banküberweisung      144.62           appaloosa@live.de   \n",
       "199           Pay.nl - PayPal      118.02  bernd-jendreck@t-online.de   \n",
       "\n",
       "    Firstname  Lastname  Product_title Creation_Date First_Order  \\\n",
       "72     Carola      Hill  WOOOF Regular    2017-11-23  2017-11-22   \n",
       "199     Bernd  Jendreck  WOOOF Regular    2017-11-24  2017-11-22   \n",
       "\n",
       "    First_Order_YM Creation_Date_YM Customer_Type Payment_Type  Year  Week  \\\n",
       "72         2017-11          2017-11     Returning      Webshop  2017    47   \n",
       "199        2017-11          2017-11     Returning      Webshop  2017    47   \n",
       "\n",
       "    Year_Week  \n",
       "72    2017-47  \n",
       "199   2017-47  "
      ]
     },
     "execution_count": 59,
     "metadata": {},
     "output_type": "execute_result"
    }
   ],
   "source": [
    "df2[df2['Creation_Date'] != df2['First_Order']][:2]"
   ]
  },
  {
   "cell_type": "code",
   "execution_count": 35,
   "metadata": {},
   "outputs": [],
   "source": [
    "import datetime\n",
    "now = datetime.datetime.now()"
   ]
  },
  {
   "cell_type": "code",
   "execution_count": 75,
   "metadata": {},
   "outputs": [],
   "source": [
    "#new_customers = df[(now - df['First_Order'])<=pd.Timedelta(7,'D')].loc[:,['E-mail', 'Firstname', 'Lastname']]\n",
    "new_customers = df[df['First_Order']>='2021-03-01'].loc[:,['E-mail', 'Firstname', 'Lastname']]"
   ]
  },
  {
   "cell_type": "code",
   "execution_count": 76,
   "metadata": {},
   "outputs": [
    {
     "data": {
      "text/html": [
       "<div>\n",
       "<style scoped>\n",
       "    .dataframe tbody tr th:only-of-type {\n",
       "        vertical-align: middle;\n",
       "    }\n",
       "\n",
       "    .dataframe tbody tr th {\n",
       "        vertical-align: top;\n",
       "    }\n",
       "\n",
       "    .dataframe thead th {\n",
       "        text-align: right;\n",
       "    }\n",
       "</style>\n",
       "<table border=\"1\" class=\"dataframe\">\n",
       "  <thead>\n",
       "    <tr style=\"text-align: right;\">\n",
       "      <th></th>\n",
       "      <th>E-mail</th>\n",
       "      <th>Firstname</th>\n",
       "      <th>Lastname</th>\n",
       "    </tr>\n",
       "  </thead>\n",
       "  <tbody>\n",
       "    <tr>\n",
       "      <th>3088</th>\n",
       "      <td>0z0jrnxmz8spf1t@marketplace.amazon.de</td>\n",
       "      <td>Frank</td>\n",
       "      <td>Raith</td>\n",
       "    </tr>\n",
       "    <tr>\n",
       "      <th>3090</th>\n",
       "      <td>shahinaria223@gmail.com</td>\n",
       "      <td>Shahin</td>\n",
       "      <td>Aria</td>\n",
       "    </tr>\n",
       "    <tr>\n",
       "      <th>3092</th>\n",
       "      <td>mueller-kiki@web.de</td>\n",
       "      <td>Kirsten</td>\n",
       "      <td>Müller</td>\n",
       "    </tr>\n",
       "    <tr>\n",
       "      <th>3096</th>\n",
       "      <td>hx3nt6lg967k9q2@marketplace.amazon.de</td>\n",
       "      <td>karina</td>\n",
       "      <td>Janz</td>\n",
       "    </tr>\n",
       "    <tr>\n",
       "      <th>3100</th>\n",
       "      <td>tochtenhagenjulie@gmail.com</td>\n",
       "      <td>Julie</td>\n",
       "      <td>Tochtenhagen</td>\n",
       "    </tr>\n",
       "    <tr>\n",
       "      <th>...</th>\n",
       "      <td>...</td>\n",
       "      <td>...</td>\n",
       "      <td>...</td>\n",
       "    </tr>\n",
       "    <tr>\n",
       "      <th>4151</th>\n",
       "      <td>cindy_rosenberg@gmx.de</td>\n",
       "      <td>Cindy</td>\n",
       "      <td>Rosenberg</td>\n",
       "    </tr>\n",
       "    <tr>\n",
       "      <th>4152</th>\n",
       "      <td>mariaschindler50@yahoo.de</td>\n",
       "      <td>Maria</td>\n",
       "      <td>Kruse</td>\n",
       "    </tr>\n",
       "    <tr>\n",
       "      <th>4153</th>\n",
       "      <td>mariaschindler50@yahoo.de</td>\n",
       "      <td>Maria</td>\n",
       "      <td>Kruse</td>\n",
       "    </tr>\n",
       "    <tr>\n",
       "      <th>4154</th>\n",
       "      <td>melaniemd53@gmail.com</td>\n",
       "      <td>Melanie</td>\n",
       "      <td>Dudeck</td>\n",
       "    </tr>\n",
       "    <tr>\n",
       "      <th>4155</th>\n",
       "      <td>h.essert@web.de</td>\n",
       "      <td>Helena</td>\n",
       "      <td>Essert</td>\n",
       "    </tr>\n",
       "  </tbody>\n",
       "</table>\n",
       "<p>827 rows × 3 columns</p>\n",
       "</div>"
      ],
      "text/plain": [
       "                                     E-mail Firstname      Lastname\n",
       "3088  0z0jrnxmz8spf1t@marketplace.amazon.de     Frank         Raith\n",
       "3090                shahinaria223@gmail.com    Shahin          Aria\n",
       "3092                    mueller-kiki@web.de   Kirsten        Müller\n",
       "3096  hx3nt6lg967k9q2@marketplace.amazon.de    karina          Janz\n",
       "3100            tochtenhagenjulie@gmail.com     Julie  Tochtenhagen\n",
       "...                                     ...       ...           ...\n",
       "4151                 cindy_rosenberg@gmx.de     Cindy     Rosenberg\n",
       "4152              mariaschindler50@yahoo.de     Maria         Kruse\n",
       "4153              mariaschindler50@yahoo.de     Maria         Kruse\n",
       "4154                  melaniemd53@gmail.com   Melanie        Dudeck\n",
       "4155                        h.essert@web.de    Helena        Essert\n",
       "\n",
       "[827 rows x 3 columns]"
      ]
     },
     "execution_count": 76,
     "metadata": {},
     "output_type": "execute_result"
    }
   ],
   "source": [
    "new_customers"
   ]
  },
  {
   "cell_type": "code",
   "execution_count": 77,
   "metadata": {},
   "outputs": [
    {
     "data": {
      "text/plain": [
       "(827, 3)"
      ]
     },
     "execution_count": 77,
     "metadata": {},
     "output_type": "execute_result"
    }
   ],
   "source": [
    "new_customers.shape"
   ]
  },
  {
   "cell_type": "code",
   "execution_count": 78,
   "metadata": {},
   "outputs": [
    {
     "data": {
      "text/plain": [
       "(663, 3)"
      ]
     },
     "execution_count": 78,
     "metadata": {},
     "output_type": "execute_result"
    }
   ],
   "source": [
    "new_customers = new_customers.drop_duplicates()\n",
    "new_customers.shape"
   ]
  },
  {
   "cell_type": "code",
   "execution_count": 79,
   "metadata": {},
   "outputs": [
    {
     "name": "stderr",
     "output_type": "stream",
     "text": [
      "<ipython-input-79-5065904b4143>:1: FutureWarning:\n",
      "\n",
      "The pandas.datetime class is deprecated and will be removed from pandas in a future version. Import from datetime module instead.\n",
      "\n"
     ]
    }
   ],
   "source": [
    "new_customers.to_csv('./Outputs/WOOOF_NewCustomers_{}.csv'.format(pd.datetime.today().strftime('%Y%m%d'), index=False))"
   ]
  },
  {
   "cell_type": "code",
   "execution_count": null,
   "metadata": {},
   "outputs": [],
   "source": [
    "# with a bigger file"
   ]
  },
  {
   "cell_type": "code",
   "execution_count": 60,
   "metadata": {},
   "outputs": [],
   "source": [
    "new_customers2 = df2[df2['First_Order']>='2021-03-01'].loc[:,['E-mail', 'Firstname', 'Lastname']]"
   ]
  },
  {
   "cell_type": "code",
   "execution_count": 61,
   "metadata": {},
   "outputs": [
    {
     "data": {
      "text/html": [
       "<div>\n",
       "<style scoped>\n",
       "    .dataframe tbody tr th:only-of-type {\n",
       "        vertical-align: middle;\n",
       "    }\n",
       "\n",
       "    .dataframe tbody tr th {\n",
       "        vertical-align: top;\n",
       "    }\n",
       "\n",
       "    .dataframe thead th {\n",
       "        text-align: right;\n",
       "    }\n",
       "</style>\n",
       "<table border=\"1\" class=\"dataframe\">\n",
       "  <thead>\n",
       "    <tr style=\"text-align: right;\">\n",
       "      <th></th>\n",
       "      <th>E-mail</th>\n",
       "      <th>Firstname</th>\n",
       "      <th>Lastname</th>\n",
       "    </tr>\n",
       "  </thead>\n",
       "  <tbody>\n",
       "    <tr>\n",
       "      <th>76180</th>\n",
       "      <td>0z0jrnxmz8spf1t@marketplace.amazon.de</td>\n",
       "      <td>Frank</td>\n",
       "      <td>Raith</td>\n",
       "    </tr>\n",
       "    <tr>\n",
       "      <th>76182</th>\n",
       "      <td>shahinaria223@gmail.com</td>\n",
       "      <td>Shahin</td>\n",
       "      <td>Aria</td>\n",
       "    </tr>\n",
       "    <tr>\n",
       "      <th>76188</th>\n",
       "      <td>hx3nt6lg967k9q2@marketplace.amazon.de</td>\n",
       "      <td>karina</td>\n",
       "      <td>Janz</td>\n",
       "    </tr>\n",
       "    <tr>\n",
       "      <th>76193</th>\n",
       "      <td>novymc@yahoo.de</td>\n",
       "      <td>Daniel</td>\n",
       "      <td>Novy</td>\n",
       "    </tr>\n",
       "    <tr>\n",
       "      <th>76194</th>\n",
       "      <td>sandra.solorz@gmx.de</td>\n",
       "      <td>Sandra</td>\n",
       "      <td>Solorz</td>\n",
       "    </tr>\n",
       "    <tr>\n",
       "      <th>...</th>\n",
       "      <td>...</td>\n",
       "      <td>...</td>\n",
       "      <td>...</td>\n",
       "    </tr>\n",
       "    <tr>\n",
       "      <th>77687</th>\n",
       "      <td>n61c89qms17hv4v@marketplace.amazon.de</td>\n",
       "      <td>Saskia</td>\n",
       "      <td>Harjes</td>\n",
       "    </tr>\n",
       "    <tr>\n",
       "      <th>77693</th>\n",
       "      <td>manfredhanner@web.de</td>\n",
       "      <td>Manfred</td>\n",
       "      <td>Hanner</td>\n",
       "    </tr>\n",
       "    <tr>\n",
       "      <th>77698</th>\n",
       "      <td>farbeundraum15890@web.de</td>\n",
       "      <td>Marlies</td>\n",
       "      <td>Wallow</td>\n",
       "    </tr>\n",
       "    <tr>\n",
       "      <th>77699</th>\n",
       "      <td>schreibanklaus@web.de</td>\n",
       "      <td>Thomas</td>\n",
       "      <td>Klaus</td>\n",
       "    </tr>\n",
       "    <tr>\n",
       "      <th>77706</th>\n",
       "      <td>ines.herbold@web.de</td>\n",
       "      <td>Ines</td>\n",
       "      <td>Herbold</td>\n",
       "    </tr>\n",
       "  </tbody>\n",
       "</table>\n",
       "<p>393 rows × 3 columns</p>\n",
       "</div>"
      ],
      "text/plain": [
       "                                      E-mail Firstname Lastname\n",
       "76180  0z0jrnxmz8spf1t@marketplace.amazon.de     Frank    Raith\n",
       "76182                shahinaria223@gmail.com    Shahin     Aria\n",
       "76188  hx3nt6lg967k9q2@marketplace.amazon.de    karina     Janz\n",
       "76193                        novymc@yahoo.de    Daniel     Novy\n",
       "76194                   sandra.solorz@gmx.de    Sandra   Solorz\n",
       "...                                      ...       ...      ...\n",
       "77687  n61c89qms17hv4v@marketplace.amazon.de    Saskia   Harjes\n",
       "77693                   manfredhanner@web.de   Manfred   Hanner\n",
       "77698               farbeundraum15890@web.de   Marlies   Wallow\n",
       "77699                  schreibanklaus@web.de    Thomas    Klaus\n",
       "77706                    ines.herbold@web.de      Ines  Herbold\n",
       "\n",
       "[393 rows x 3 columns]"
      ]
     },
     "execution_count": 61,
     "metadata": {},
     "output_type": "execute_result"
    }
   ],
   "source": [
    "new_customers2"
   ]
  },
  {
   "cell_type": "code",
   "execution_count": 62,
   "metadata": {},
   "outputs": [
    {
     "data": {
      "text/plain": [
       "Timestamp('2021-03-11 00:00:00')"
      ]
     },
     "execution_count": 62,
     "metadata": {},
     "output_type": "execute_result"
    }
   ],
   "source": [
    "df['First_Order'].max()"
   ]
  },
  {
   "cell_type": "code",
   "execution_count": 63,
   "metadata": {},
   "outputs": [
    {
     "data": {
      "text/plain": [
       "Timestamp('2021-03-16 00:00:00')"
      ]
     },
     "execution_count": 63,
     "metadata": {},
     "output_type": "execute_result"
    }
   ],
   "source": [
    "df2['First_Order'].max()"
   ]
  },
  {
   "cell_type": "code",
   "execution_count": 67,
   "metadata": {},
   "outputs": [
    {
     "data": {
      "text/plain": [
       "(393, 3)"
      ]
     },
     "execution_count": 67,
     "metadata": {},
     "output_type": "execute_result"
    }
   ],
   "source": [
    "new_customers2.shape"
   ]
  },
  {
   "cell_type": "code",
   "execution_count": 68,
   "metadata": {},
   "outputs": [
    {
     "data": {
      "text/plain": [
       "(318, 3)"
      ]
     },
     "execution_count": 68,
     "metadata": {},
     "output_type": "execute_result"
    }
   ],
   "source": [
    "new_customers2 = new_customers2.drop_duplicates()\n",
    "new_customers2.shape"
   ]
  },
  {
   "cell_type": "code",
   "execution_count": 80,
   "metadata": {},
   "outputs": [
    {
     "data": {
      "text/plain": [
       "Timestamp('2017-11-17 00:00:00')"
      ]
     },
     "execution_count": 80,
     "metadata": {},
     "output_type": "execute_result"
    }
   ],
   "source": [
    "df2['First_Order'].min()"
   ]
  },
  {
   "cell_type": "code",
   "execution_count": null,
   "metadata": {},
   "outputs": [],
   "source": []
  }
 ],
 "metadata": {
  "kernelspec": {
   "display_name": "Python 3",
   "language": "python",
   "name": "python3"
  },
  "language_info": {
   "codemirror_mode": {
    "name": "ipython",
    "version": 3
   },
   "file_extension": ".py",
   "mimetype": "text/x-python",
   "name": "python",
   "nbconvert_exporter": "python",
   "pygments_lexer": "ipython3",
   "version": "3.8.5"
  }
 },
 "nbformat": 4,
 "nbformat_minor": 4
}

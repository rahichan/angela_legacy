{
 "cells": [
  {
   "cell_type": "code",
   "execution_count": 1,
   "metadata": {},
   "outputs": [],
   "source": [
    "import pandas as pd\n",
    "import numpy as np\n",
    "import datetime as dt\n",
    "import glob\n",
    "import json"
   ]
  },
  {
   "cell_type": "code",
   "execution_count": 2,
   "metadata": {},
   "outputs": [
    {
     "output_type": "stream",
     "name": "stderr",
     "text": [
      "C:\\Users\\Angela\\anaconda3\\lib\\site-packages\\IPython\\core\\interactiveshell.py:3146: DtypeWarning: Columns (2) have mixed types.Specify dtype option on import or set low_memory=False.\n  has_raised = await self.run_ast_nodes(code_ast.body, cell_name,\n"
     ]
    },
    {
     "output_type": "execute_result",
     "data": {
      "text/plain": [
       "((90518, 7), (902356, 3))"
      ]
     },
     "metadata": {},
     "execution_count": 2
    }
   ],
   "source": [
    "# CSV returning info and categories\n",
    "df_rt = pd.read_csv('./Data/OSD-7242.csv')\n",
    "df_cat = pd.read_csv('.\\Data\\overview_fvb_product_cat.csv')\n",
    "df_rt.shape, df_cat.shape"
   ]
  },
  {
   "cell_type": "code",
   "execution_count": 3,
   "metadata": {},
   "outputs": [
    {
     "output_type": "execute_result",
     "data": {
      "text/plain": [
       "                OrderDatum  Ordernummer  OrderregelNummer            SKU  \\\n",
       "0  2021-04-20 14:16:15.785   BE01335367                 1  8720244051171   \n",
       "1  2021-04-20 13:49:16.000   NL01437940                 1  8720244025301   \n",
       "2  2021-04-20 13:45:07.000  INT01177946                 1  8720244000391   \n",
       "3  2021-04-20 13:24:35.921   BE01335362                 1  8720244047686   \n",
       "4  2021-04-20 13:12:24.616   NL01437932                 1  8720244004351   \n",
       "\n",
       "               RetourDatum  RetourNummer         RetourReden  \n",
       "0  2021-04-20 15:10:56.960        100771  11. B2B klantorder  \n",
       "1  2021-04-20 14:39:29.104        100765  11. B2B klantorder  \n",
       "2  2021-04-20 14:40:25.317        100766  11. B2B klantorder  \n",
       "3  2021-04-20 14:41:12.558        100768  11. B2B klantorder  \n",
       "4  2021-04-20 14:42:05.539        100769  11. B2B klantorder  "
      ],
      "text/html": "<div>\n<style scoped>\n    .dataframe tbody tr th:only-of-type {\n        vertical-align: middle;\n    }\n\n    .dataframe tbody tr th {\n        vertical-align: top;\n    }\n\n    .dataframe thead th {\n        text-align: right;\n    }\n</style>\n<table border=\"1\" class=\"dataframe\">\n  <thead>\n    <tr style=\"text-align: right;\">\n      <th></th>\n      <th>OrderDatum</th>\n      <th>Ordernummer</th>\n      <th>OrderregelNummer</th>\n      <th>SKU</th>\n      <th>RetourDatum</th>\n      <th>RetourNummer</th>\n      <th>RetourReden</th>\n    </tr>\n  </thead>\n  <tbody>\n    <tr>\n      <th>0</th>\n      <td>2021-04-20 14:16:15.785</td>\n      <td>BE01335367</td>\n      <td>1</td>\n      <td>8720244051171</td>\n      <td>2021-04-20 15:10:56.960</td>\n      <td>100771</td>\n      <td>11. B2B klantorder</td>\n    </tr>\n    <tr>\n      <th>1</th>\n      <td>2021-04-20 13:49:16.000</td>\n      <td>NL01437940</td>\n      <td>1</td>\n      <td>8720244025301</td>\n      <td>2021-04-20 14:39:29.104</td>\n      <td>100765</td>\n      <td>11. B2B klantorder</td>\n    </tr>\n    <tr>\n      <th>2</th>\n      <td>2021-04-20 13:45:07.000</td>\n      <td>INT01177946</td>\n      <td>1</td>\n      <td>8720244000391</td>\n      <td>2021-04-20 14:40:25.317</td>\n      <td>100766</td>\n      <td>11. B2B klantorder</td>\n    </tr>\n    <tr>\n      <th>3</th>\n      <td>2021-04-20 13:24:35.921</td>\n      <td>BE01335362</td>\n      <td>1</td>\n      <td>8720244047686</td>\n      <td>2021-04-20 14:41:12.558</td>\n      <td>100768</td>\n      <td>11. B2B klantorder</td>\n    </tr>\n    <tr>\n      <th>4</th>\n      <td>2021-04-20 13:12:24.616</td>\n      <td>NL01437932</td>\n      <td>1</td>\n      <td>8720244004351</td>\n      <td>2021-04-20 14:42:05.539</td>\n      <td>100769</td>\n      <td>11. B2B klantorder</td>\n    </tr>\n  </tbody>\n</table>\n</div>"
     },
     "metadata": {},
     "execution_count": 3
    }
   ],
   "source": [
    "df_rt.head()"
   ]
  },
  {
   "cell_type": "code",
   "execution_count": 4,
   "metadata": {},
   "outputs": [
    {
     "output_type": "execute_result",
     "data": {
      "text/plain": [
       "array([8720244051171, 8720244025301, 8720244000391, ..., 8719092085131,\n",
       "       8718392898823, 8719092034320], dtype=int64)"
      ]
     },
     "metadata": {},
     "execution_count": 4
    }
   ],
   "source": [
    "df_rt.SKU.unique()"
   ]
  },
  {
   "cell_type": "code",
   "execution_count": 5,
   "metadata": {},
   "outputs": [
    {
     "output_type": "execute_result",
     "data": {
      "text/plain": [
       "(19787, 3)"
      ]
     },
     "metadata": {},
     "execution_count": 5
    }
   ],
   "source": [
    "categories = df_cat.copy()\n",
    "categories.dropna(inplace=True)\n",
    "categories.shape"
   ]
  },
  {
   "cell_type": "code",
   "execution_count": 6,
   "metadata": {},
   "outputs": [
    {
     "output_type": "execute_result",
     "data": {
      "text/plain": [
       "                      SKU Articlenumber              Category\n",
       "882569  85287 W0803/COMBI       8528704  women-shoes-sneakers\n",
       "882570      8719092789497       8528704  women-shoes-sneakers\n",
       "882571      8719092789503       8528704  women-shoes-sneakers\n",
       "882572      8719092789510       8528704  women-shoes-sneakers\n",
       "882573      8719092789527       8528704  women-shoes-sneakers"
      ],
      "text/html": "<div>\n<style scoped>\n    .dataframe tbody tr th:only-of-type {\n        vertical-align: middle;\n    }\n\n    .dataframe tbody tr th {\n        vertical-align: top;\n    }\n\n    .dataframe thead th {\n        text-align: right;\n    }\n</style>\n<table border=\"1\" class=\"dataframe\">\n  <thead>\n    <tr style=\"text-align: right;\">\n      <th></th>\n      <th>SKU</th>\n      <th>Articlenumber</th>\n      <th>Category</th>\n    </tr>\n  </thead>\n  <tbody>\n    <tr>\n      <th>882569</th>\n      <td>85287 W0803/COMBI</td>\n      <td>8528704</td>\n      <td>women-shoes-sneakers</td>\n    </tr>\n    <tr>\n      <th>882570</th>\n      <td>8719092789497</td>\n      <td>8528704</td>\n      <td>women-shoes-sneakers</td>\n    </tr>\n    <tr>\n      <th>882571</th>\n      <td>8719092789503</td>\n      <td>8528704</td>\n      <td>women-shoes-sneakers</td>\n    </tr>\n    <tr>\n      <th>882572</th>\n      <td>8719092789510</td>\n      <td>8528704</td>\n      <td>women-shoes-sneakers</td>\n    </tr>\n    <tr>\n      <th>882573</th>\n      <td>8719092789527</td>\n      <td>8528704</td>\n      <td>women-shoes-sneakers</td>\n    </tr>\n  </tbody>\n</table>\n</div>"
     },
     "metadata": {},
     "execution_count": 6
    }
   ],
   "source": [
    "categories.head()"
   ]
  },
  {
   "cell_type": "code",
   "execution_count": 7,
   "metadata": {},
   "outputs": [
    {
     "output_type": "execute_result",
     "data": {
      "text/plain": [
       "8279"
      ]
     },
     "metadata": {},
     "execution_count": 7
    }
   ],
   "source": [
    "#len(categories.Category.unique())\n",
    "#len(categories.Articlenumber.unique())\n",
    "len(categories.SKU.unique())"
   ]
  },
  {
   "cell_type": "code",
   "execution_count": 8,
   "metadata": {},
   "outputs": [
    {
     "output_type": "execute_result",
     "data": {
      "text/plain": [
       "                   SKU\n",
       "8719092808396        4\n",
       "8719092808495        4\n",
       "8719092808464        4\n",
       "8719092808365        4\n",
       "8719092808402        4\n",
       "...                ...\n",
       "20440 P3804/COMBI    1\n",
       "10599 P3381          1\n",
       "8720244075115        1\n",
       "75214 11885          1\n",
       "12099 P3381          1\n",
       "\n",
       "[8279 rows x 1 columns]"
      ],
      "text/html": "<div>\n<style scoped>\n    .dataframe tbody tr th:only-of-type {\n        vertical-align: middle;\n    }\n\n    .dataframe tbody tr th {\n        vertical-align: top;\n    }\n\n    .dataframe thead th {\n        text-align: right;\n    }\n</style>\n<table border=\"1\" class=\"dataframe\">\n  <thead>\n    <tr style=\"text-align: right;\">\n      <th></th>\n      <th>SKU</th>\n    </tr>\n  </thead>\n  <tbody>\n    <tr>\n      <th>8719092808396</th>\n      <td>4</td>\n    </tr>\n    <tr>\n      <th>8719092808495</th>\n      <td>4</td>\n    </tr>\n    <tr>\n      <th>8719092808464</th>\n      <td>4</td>\n    </tr>\n    <tr>\n      <th>8719092808365</th>\n      <td>4</td>\n    </tr>\n    <tr>\n      <th>8719092808402</th>\n      <td>4</td>\n    </tr>\n    <tr>\n      <th>...</th>\n      <td>...</td>\n    </tr>\n    <tr>\n      <th>20440 P3804/COMBI</th>\n      <td>1</td>\n    </tr>\n    <tr>\n      <th>10599 P3381</th>\n      <td>1</td>\n    </tr>\n    <tr>\n      <th>8720244075115</th>\n      <td>1</td>\n    </tr>\n    <tr>\n      <th>75214 11885</th>\n      <td>1</td>\n    </tr>\n    <tr>\n      <th>12099 P3381</th>\n      <td>1</td>\n    </tr>\n  </tbody>\n</table>\n<p>8279 rows × 1 columns</p>\n</div>"
     },
     "metadata": {},
     "execution_count": 8
    }
   ],
   "source": [
    "categories.SKU.value_counts().to_frame()"
   ]
  },
  {
   "cell_type": "code",
   "execution_count": 9,
   "metadata": {},
   "outputs": [],
   "source": [
    "categories.drop_duplicates(inplace=True)"
   ]
  },
  {
   "cell_type": "code",
   "execution_count": 10,
   "metadata": {},
   "outputs": [
    {
     "output_type": "execute_result",
     "data": {
      "text/plain": [
       "(8279, 3)"
      ]
     },
     "metadata": {},
     "execution_count": 10
    }
   ],
   "source": [
    "categories.shape"
   ]
  },
  {
   "cell_type": "code",
   "execution_count": 11,
   "metadata": {},
   "outputs": [
    {
     "output_type": "execute_result",
     "data": {
      "text/plain": [
       "                    OrderDatum  Ordernummer  OrderregelNummer            SKU  \\\n",
       "0      2021-04-20 14:16:15.785   BE01335367                 1  8720244051171   \n",
       "1      2021-04-20 13:49:16.000   NL01437940                 1  8720244025301   \n",
       "2      2021-04-20 13:45:07.000  INT01177946                 1  8720244000391   \n",
       "3      2021-04-20 13:24:35.921   BE01335362                 1  8720244047686   \n",
       "4      2021-04-20 13:12:24.616   NL01437932                 1  8720244004351   \n",
       "...                        ...          ...               ...            ...   \n",
       "90513  2016-01-20 15:42:36.000   BE01000002                 2  8718392763435   \n",
       "90514  2016-01-20 15:30:07.000   DE01000000                 1  8717745670109   \n",
       "90515  2016-01-20 15:28:05.000   NL01000006                 2  8717745670086   \n",
       "90516  2016-01-20 15:28:05.000   NL01000006                 1  8717745670062   \n",
       "90517  2016-01-20 15:28:05.000   NL01000006                 3  8718392763473   \n",
       "\n",
       "                   RetourDatum  RetourNummer  \\\n",
       "0      2021-04-20 15:10:56.960        100771   \n",
       "1      2021-04-20 14:39:29.104        100765   \n",
       "2      2021-04-20 14:40:25.317        100766   \n",
       "3      2021-04-20 14:41:12.558        100768   \n",
       "4      2021-04-20 14:42:05.539        100769   \n",
       "...                        ...           ...   \n",
       "90513  2016-01-21 14:05:10.387             2   \n",
       "90514  2016-01-22 08:56:22.031             3   \n",
       "90515  2016-01-25 09:17:07.887             7   \n",
       "90516  2016-01-22 13:27:14.566             5   \n",
       "90517  2016-01-25 09:17:08.092             8   \n",
       "\n",
       "                             RetourReden  \n",
       "0                     11. B2B klantorder  \n",
       "1                     11. B2B klantorder  \n",
       "2                     11. B2B klantorder  \n",
       "3                     11. B2B klantorder  \n",
       "4                     11. B2B klantorder  \n",
       "...                                  ...  \n",
       "90513  Voldoet niet aan de verwachtingen  \n",
       "90514  Voldoet niet aan de verwachtingen  \n",
       "90515             Meerdere maten besteld  \n",
       "90516                    Maat niet juist  \n",
       "90517  Voldoet niet aan de verwachtingen  \n",
       "\n",
       "[90518 rows x 7 columns]"
      ],
      "text/html": "<div>\n<style scoped>\n    .dataframe tbody tr th:only-of-type {\n        vertical-align: middle;\n    }\n\n    .dataframe tbody tr th {\n        vertical-align: top;\n    }\n\n    .dataframe thead th {\n        text-align: right;\n    }\n</style>\n<table border=\"1\" class=\"dataframe\">\n  <thead>\n    <tr style=\"text-align: right;\">\n      <th></th>\n      <th>OrderDatum</th>\n      <th>Ordernummer</th>\n      <th>OrderregelNummer</th>\n      <th>SKU</th>\n      <th>RetourDatum</th>\n      <th>RetourNummer</th>\n      <th>RetourReden</th>\n    </tr>\n  </thead>\n  <tbody>\n    <tr>\n      <th>0</th>\n      <td>2021-04-20 14:16:15.785</td>\n      <td>BE01335367</td>\n      <td>1</td>\n      <td>8720244051171</td>\n      <td>2021-04-20 15:10:56.960</td>\n      <td>100771</td>\n      <td>11. B2B klantorder</td>\n    </tr>\n    <tr>\n      <th>1</th>\n      <td>2021-04-20 13:49:16.000</td>\n      <td>NL01437940</td>\n      <td>1</td>\n      <td>8720244025301</td>\n      <td>2021-04-20 14:39:29.104</td>\n      <td>100765</td>\n      <td>11. B2B klantorder</td>\n    </tr>\n    <tr>\n      <th>2</th>\n      <td>2021-04-20 13:45:07.000</td>\n      <td>INT01177946</td>\n      <td>1</td>\n      <td>8720244000391</td>\n      <td>2021-04-20 14:40:25.317</td>\n      <td>100766</td>\n      <td>11. B2B klantorder</td>\n    </tr>\n    <tr>\n      <th>3</th>\n      <td>2021-04-20 13:24:35.921</td>\n      <td>BE01335362</td>\n      <td>1</td>\n      <td>8720244047686</td>\n      <td>2021-04-20 14:41:12.558</td>\n      <td>100768</td>\n      <td>11. B2B klantorder</td>\n    </tr>\n    <tr>\n      <th>4</th>\n      <td>2021-04-20 13:12:24.616</td>\n      <td>NL01437932</td>\n      <td>1</td>\n      <td>8720244004351</td>\n      <td>2021-04-20 14:42:05.539</td>\n      <td>100769</td>\n      <td>11. B2B klantorder</td>\n    </tr>\n    <tr>\n      <th>...</th>\n      <td>...</td>\n      <td>...</td>\n      <td>...</td>\n      <td>...</td>\n      <td>...</td>\n      <td>...</td>\n      <td>...</td>\n    </tr>\n    <tr>\n      <th>90513</th>\n      <td>2016-01-20 15:42:36.000</td>\n      <td>BE01000002</td>\n      <td>2</td>\n      <td>8718392763435</td>\n      <td>2016-01-21 14:05:10.387</td>\n      <td>2</td>\n      <td>Voldoet niet aan de verwachtingen</td>\n    </tr>\n    <tr>\n      <th>90514</th>\n      <td>2016-01-20 15:30:07.000</td>\n      <td>DE01000000</td>\n      <td>1</td>\n      <td>8717745670109</td>\n      <td>2016-01-22 08:56:22.031</td>\n      <td>3</td>\n      <td>Voldoet niet aan de verwachtingen</td>\n    </tr>\n    <tr>\n      <th>90515</th>\n      <td>2016-01-20 15:28:05.000</td>\n      <td>NL01000006</td>\n      <td>2</td>\n      <td>8717745670086</td>\n      <td>2016-01-25 09:17:07.887</td>\n      <td>7</td>\n      <td>Meerdere maten besteld</td>\n    </tr>\n    <tr>\n      <th>90516</th>\n      <td>2016-01-20 15:28:05.000</td>\n      <td>NL01000006</td>\n      <td>1</td>\n      <td>8717745670062</td>\n      <td>2016-01-22 13:27:14.566</td>\n      <td>5</td>\n      <td>Maat niet juist</td>\n    </tr>\n    <tr>\n      <th>90517</th>\n      <td>2016-01-20 15:28:05.000</td>\n      <td>NL01000006</td>\n      <td>3</td>\n      <td>8718392763473</td>\n      <td>2016-01-25 09:17:08.092</td>\n      <td>8</td>\n      <td>Voldoet niet aan de verwachtingen</td>\n    </tr>\n  </tbody>\n</table>\n<p>90518 rows × 7 columns</p>\n</div>"
     },
     "metadata": {},
     "execution_count": 11
    }
   ],
   "source": [
    "return_r = df_rt.copy()\n",
    "return_r"
   ]
  },
  {
   "cell_type": "code",
   "execution_count": 12,
   "metadata": {},
   "outputs": [
    {
     "output_type": "execute_result",
     "data": {
      "text/plain": [
       "'2021-01-04 11:11:11.933'"
      ]
     },
     "metadata": {},
     "execution_count": 12
    }
   ],
   "source": [
    "ret_2021 = df_rt[(df_rt['RetourDatum'] > '2021-01-01 00:00:00') & (df_rt['OrderDatum'] > '2021-01-01 00:00:00')]\n",
    "ret_2021.RetourDatum.min()"
   ]
  },
  {
   "cell_type": "code",
   "execution_count": 13,
   "metadata": {},
   "outputs": [
    {
     "output_type": "stream",
     "name": "stderr",
     "text": [
      "<ipython-input-13-48c780ee44d3>:1: UserWarning: Boolean Series key will be reindexed to match DataFrame index.\n  feb_mar = ret_2021[(ret_2021['RetourDatum'] > '2021-02-01 00:00:00') & (ret_2021['RetourDatum'] <= '2021-03-31 23:59:59')][ret_2021.Ordernummer.str.startswith('D')]\n"
     ]
    },
    {
     "output_type": "execute_result",
     "data": {
      "text/plain": [
       "                   OrderDatum Ordernummer  OrderregelNummer            SKU  \\\n",
       "2193  2021-03-23 16:26:36.000  DE01378347                 1  8720244034334   \n",
       "2211  2021-03-23 13:35:04.000  DE01378338                 1  8719092847487   \n",
       "2266  2021-03-22 17:44:43.000  DE01378245                 1  8720244009523   \n",
       "2273  2021-03-22 16:57:56.546  DE01378240                 1  8720244042780   \n",
       "2274  2021-03-22 16:57:56.546  DE01378240                 3  8719092949631   \n",
       "\n",
       "                  RetourDatum  RetourNummer               RetourReden  \n",
       "2193  2021-03-24 14:17:48.065         97565            B2B klantorder  \n",
       "2211  2021-03-31 09:37:25.917         98111               3. Te smal   \n",
       "2266  2021-03-31 09:53:56.308         98130               2. Te klein  \n",
       "2273  2021-03-31 10:55:28.442         98175  4. Anders dan op de foto  \n",
       "2274  2021-03-31 10:55:28.442         98176              1. Te groot   "
      ],
      "text/html": "<div>\n<style scoped>\n    .dataframe tbody tr th:only-of-type {\n        vertical-align: middle;\n    }\n\n    .dataframe tbody tr th {\n        vertical-align: top;\n    }\n\n    .dataframe thead th {\n        text-align: right;\n    }\n</style>\n<table border=\"1\" class=\"dataframe\">\n  <thead>\n    <tr style=\"text-align: right;\">\n      <th></th>\n      <th>OrderDatum</th>\n      <th>Ordernummer</th>\n      <th>OrderregelNummer</th>\n      <th>SKU</th>\n      <th>RetourDatum</th>\n      <th>RetourNummer</th>\n      <th>RetourReden</th>\n    </tr>\n  </thead>\n  <tbody>\n    <tr>\n      <th>2193</th>\n      <td>2021-03-23 16:26:36.000</td>\n      <td>DE01378347</td>\n      <td>1</td>\n      <td>8720244034334</td>\n      <td>2021-03-24 14:17:48.065</td>\n      <td>97565</td>\n      <td>B2B klantorder</td>\n    </tr>\n    <tr>\n      <th>2211</th>\n      <td>2021-03-23 13:35:04.000</td>\n      <td>DE01378338</td>\n      <td>1</td>\n      <td>8719092847487</td>\n      <td>2021-03-31 09:37:25.917</td>\n      <td>98111</td>\n      <td>3. Te smal</td>\n    </tr>\n    <tr>\n      <th>2266</th>\n      <td>2021-03-22 17:44:43.000</td>\n      <td>DE01378245</td>\n      <td>1</td>\n      <td>8720244009523</td>\n      <td>2021-03-31 09:53:56.308</td>\n      <td>98130</td>\n      <td>2. Te klein</td>\n    </tr>\n    <tr>\n      <th>2273</th>\n      <td>2021-03-22 16:57:56.546</td>\n      <td>DE01378240</td>\n      <td>1</td>\n      <td>8720244042780</td>\n      <td>2021-03-31 10:55:28.442</td>\n      <td>98175</td>\n      <td>4. Anders dan op de foto</td>\n    </tr>\n    <tr>\n      <th>2274</th>\n      <td>2021-03-22 16:57:56.546</td>\n      <td>DE01378240</td>\n      <td>3</td>\n      <td>8719092949631</td>\n      <td>2021-03-31 10:55:28.442</td>\n      <td>98176</td>\n      <td>1. Te groot</td>\n    </tr>\n  </tbody>\n</table>\n</div>"
     },
     "metadata": {},
     "execution_count": 13
    }
   ],
   "source": [
    "feb_mar = ret_2021[(ret_2021['RetourDatum'] > '2021-02-01 00:00:00') & (ret_2021['RetourDatum'] <= '2021-03-31 23:59:59')][ret_2021.Ordernummer.str.startswith('D')]\n",
    "feb_mar.head()\n",
    "#take out other that are not DE!"
   ]
  },
  {
   "cell_type": "code",
   "execution_count": 14,
   "metadata": {},
   "outputs": [
    {
     "output_type": "execute_result",
     "data": {
      "text/plain": [
       "array([8720244034334, 8719092847487, 8720244009523, ..., 8719092842864,\n",
       "       8719092894849, 8719092894368], dtype=int64)"
      ]
     },
     "metadata": {},
     "execution_count": 14
    }
   ],
   "source": [
    "feb_mar.SKU.unique()"
   ]
  },
  {
   "cell_type": "code",
   "execution_count": 15,
   "metadata": {},
   "outputs": [
    {
     "output_type": "execute_result",
     "data": {
      "text/plain": [
       "(0, 7)"
      ]
     },
     "metadata": {},
     "execution_count": 15
    }
   ],
   "source": [
    "check = feb_mar[~feb_mar.SKU.apply(lambda x: str(x).startswith('87'))]\n",
    "check.shape"
   ]
  },
  {
   "cell_type": "code",
   "execution_count": 16,
   "metadata": {},
   "outputs": [
    {
     "output_type": "execute_result",
     "data": {
      "text/plain": [
       "(2637, 7)"
      ]
     },
     "metadata": {},
     "execution_count": 16
    }
   ],
   "source": [
    "feb_mar.shape"
   ]
  },
  {
   "cell_type": "code",
   "execution_count": 17,
   "metadata": {},
   "outputs": [
    {
     "output_type": "execute_result",
     "data": {
      "text/plain": [
       "                                         Ordernummer\n",
       "SKU           RetourReden                           \n",
       "8720244071575 Past niet bij mij                    1\n",
       "8720244071568 Te groot                             1\n",
       "              Past niet bij mij                    1\n",
       "8720244071544 Niets ingevuld door klant            1\n",
       "              Anders                               1\n",
       "...                                              ...\n",
       "8717745669639 1. Te groot                          1\n",
       "8717745669615 2. Te klein                          1\n",
       "8717745669592 Te groot                             1\n",
       "8717745669578 Te klein                             1\n",
       "8717745314621 Te groot                             1\n",
       "\n",
       "[2388 rows x 1 columns]"
      ],
      "text/html": "<div>\n<style scoped>\n    .dataframe tbody tr th:only-of-type {\n        vertical-align: middle;\n    }\n\n    .dataframe tbody tr th {\n        vertical-align: top;\n    }\n\n    .dataframe thead th {\n        text-align: right;\n    }\n</style>\n<table border=\"1\" class=\"dataframe\">\n  <thead>\n    <tr style=\"text-align: right;\">\n      <th></th>\n      <th></th>\n      <th>Ordernummer</th>\n    </tr>\n    <tr>\n      <th>SKU</th>\n      <th>RetourReden</th>\n      <th></th>\n    </tr>\n  </thead>\n  <tbody>\n    <tr>\n      <th>8720244071575</th>\n      <th>Past niet bij mij</th>\n      <td>1</td>\n    </tr>\n    <tr>\n      <th rowspan=\"2\" valign=\"top\">8720244071568</th>\n      <th>Te groot</th>\n      <td>1</td>\n    </tr>\n    <tr>\n      <th>Past niet bij mij</th>\n      <td>1</td>\n    </tr>\n    <tr>\n      <th rowspan=\"2\" valign=\"top\">8720244071544</th>\n      <th>Niets ingevuld door klant</th>\n      <td>1</td>\n    </tr>\n    <tr>\n      <th>Anders</th>\n      <td>1</td>\n    </tr>\n    <tr>\n      <th>...</th>\n      <th>...</th>\n      <td>...</td>\n    </tr>\n    <tr>\n      <th>8717745669639</th>\n      <th>1. Te groot</th>\n      <td>1</td>\n    </tr>\n    <tr>\n      <th>8717745669615</th>\n      <th>2. Te klein</th>\n      <td>1</td>\n    </tr>\n    <tr>\n      <th>8717745669592</th>\n      <th>Te groot</th>\n      <td>1</td>\n    </tr>\n    <tr>\n      <th>8717745669578</th>\n      <th>Te klein</th>\n      <td>1</td>\n    </tr>\n    <tr>\n      <th>8717745314621</th>\n      <th>Te groot</th>\n      <td>1</td>\n    </tr>\n  </tbody>\n</table>\n<p>2388 rows × 1 columns</p>\n</div>"
     },
     "metadata": {},
     "execution_count": 17
    }
   ],
   "source": [
    "temp1 = feb_mar[['SKU', 'RetourReden', 'Ordernummer']].groupby(['SKU', 'RetourReden']).agg({'Ordernummer':pd.Series.count}).sort_values(by=['SKU', 'RetourReden'], ascending=False)\n",
    "temp1"
   ]
  },
  {
   "cell_type": "code",
   "execution_count": 18,
   "metadata": {},
   "outputs": [
    {
     "output_type": "execute_result",
     "data": {
      "text/plain": [
       "OrderDatum          object\n",
       "Ordernummer         object\n",
       "OrderregelNummer     int64\n",
       "SKU                  int64\n",
       "RetourDatum         object\n",
       "RetourNummer         int64\n",
       "RetourReden         object\n",
       "dtype: object"
      ]
     },
     "metadata": {},
     "execution_count": 18
    }
   ],
   "source": [
    "df_rt.dtypes"
   ]
  },
  {
   "cell_type": "code",
   "execution_count": 19,
   "metadata": {},
   "outputs": [
    {
     "output_type": "execute_result",
     "data": {
      "text/plain": [
       "(8129, 3)"
      ]
     },
     "metadata": {},
     "execution_count": 19
    }
   ],
   "source": [
    "cat = categories[categories.SKU.str.startswith('87')]\n",
    "cat.shape"
   ]
  },
  {
   "cell_type": "code",
   "execution_count": 20,
   "metadata": {},
   "outputs": [],
   "source": [
    "cat = cat.astype({'SKU':'int64'}, errors='ignore')"
   ]
  },
  {
   "cell_type": "code",
   "execution_count": 21,
   "metadata": {},
   "outputs": [
    {
     "output_type": "execute_result",
     "data": {
      "text/plain": [
       "SKU               int64\n",
       "Articlenumber    object\n",
       "Category         object\n",
       "dtype: object"
      ]
     },
     "metadata": {},
     "execution_count": 21
    }
   ],
   "source": [
    "cat.dtypes"
   ]
  },
  {
   "cell_type": "code",
   "execution_count": 53,
   "metadata": {},
   "outputs": [
    {
     "output_type": "execute_result",
     "data": {
      "text/plain": [
       "(1031, 5)"
      ]
     },
     "metadata": {},
     "execution_count": 53
    }
   ],
   "source": [
    "temp2 = feb_mar[['SKU', 'RetourReden', 'Ordernummer']]\n",
    "temp3 = pd.merge(temp2, cat,  on='SKU')\n",
    "temp3.shape"
   ]
  },
  {
   "cell_type": "code",
   "execution_count": 54,
   "metadata": {},
   "outputs": [
    {
     "output_type": "execute_result",
     "data": {
      "text/plain": [
       "(2637, 7)"
      ]
     },
     "metadata": {},
     "execution_count": 54
    }
   ],
   "source": [
    "feb_mar.shape"
   ]
  },
  {
   "cell_type": "code",
   "execution_count": 55,
   "metadata": {},
   "outputs": [
    {
     "output_type": "execute_result",
     "data": {
      "text/plain": [
       "             SKU     RetourReden Ordernummer Articlenumber  \\\n",
       "0  8720244034334  B2B klantorder  DE01378347       1835902   \n",
       "1  8719092847487     3. Te smal   DE01378338       1335007   \n",
       "2  8719092847487       Te groot   DE01374134       1335007   \n",
       "3  8719092847487       Te groot   DE01373929       1335007   \n",
       "4  8719092847487        Te klein  DE01372061       1335007   \n",
       "\n",
       "              Category  \n",
       "0  men-shoes-laceshoes  \n",
       "1  men-shoes-sneakers   \n",
       "2  men-shoes-sneakers   \n",
       "3  men-shoes-sneakers   \n",
       "4  men-shoes-sneakers   "
      ],
      "text/html": "<div>\n<style scoped>\n    .dataframe tbody tr th:only-of-type {\n        vertical-align: middle;\n    }\n\n    .dataframe tbody tr th {\n        vertical-align: top;\n    }\n\n    .dataframe thead th {\n        text-align: right;\n    }\n</style>\n<table border=\"1\" class=\"dataframe\">\n  <thead>\n    <tr style=\"text-align: right;\">\n      <th></th>\n      <th>SKU</th>\n      <th>RetourReden</th>\n      <th>Ordernummer</th>\n      <th>Articlenumber</th>\n      <th>Category</th>\n    </tr>\n  </thead>\n  <tbody>\n    <tr>\n      <th>0</th>\n      <td>8720244034334</td>\n      <td>B2B klantorder</td>\n      <td>DE01378347</td>\n      <td>1835902</td>\n      <td>men-shoes-laceshoes</td>\n    </tr>\n    <tr>\n      <th>1</th>\n      <td>8719092847487</td>\n      <td>3. Te smal</td>\n      <td>DE01378338</td>\n      <td>1335007</td>\n      <td>men-shoes-sneakers</td>\n    </tr>\n    <tr>\n      <th>2</th>\n      <td>8719092847487</td>\n      <td>Te groot</td>\n      <td>DE01374134</td>\n      <td>1335007</td>\n      <td>men-shoes-sneakers</td>\n    </tr>\n    <tr>\n      <th>3</th>\n      <td>8719092847487</td>\n      <td>Te groot</td>\n      <td>DE01373929</td>\n      <td>1335007</td>\n      <td>men-shoes-sneakers</td>\n    </tr>\n    <tr>\n      <th>4</th>\n      <td>8719092847487</td>\n      <td>Te klein</td>\n      <td>DE01372061</td>\n      <td>1335007</td>\n      <td>men-shoes-sneakers</td>\n    </tr>\n  </tbody>\n</table>\n</div>"
     },
     "metadata": {},
     "execution_count": 55
    }
   ],
   "source": [
    "temp3.head()"
   ]
  },
  {
   "cell_type": "code",
   "execution_count": 123,
   "metadata": {},
   "outputs": [
    {
     "output_type": "execute_result",
     "data": {
      "text/plain": [
       "{'spreadsheetId': '1Z2jRxk46VNvPr2eJ1Jcx4W4VGcLRGYVCkj6RvhxxP5I',\n",
       " 'updatedRange': 'FVB_ret!A1:E1032',\n",
       " 'updatedRows': 1032,\n",
       " 'updatedColumns': 5,\n",
       " 'updatedCells': 5160}"
      ]
     },
     "metadata": {},
     "execution_count": 123
    }
   ],
   "source": [
    "#temp3.to_csv('./ret_analysis.csv', index=False)\n",
    "\n",
    "\n",
    "\n",
    "\n",
    "\n",
    "import gspread\n",
    "import gspread_pandas\n",
    "\n",
    "#koi_sheet = Spread('1C4Q_8tXrSfyOcf_dX-Pt_pH6O740gTGRcMpbVTFMFEg')\n",
    "#koi_sheet.df_to_sheet(combined_summary, index=False, sheet='ACTUALS_DUMP', start='A1', replace=True)\n",
    "\n",
    "gc = gspread.service_account()\n",
    "sht1 = gc.open_by_key('1Z2jRxk46VNvPr2eJ1Jcx4W4VGcLRGYVCkj6RvhxxP5I')\n",
    "worksheet = sht1.worksheet(\"FVB_ret\")\n",
    "#worksheet.update('B1', 'Bingo!')\n",
    "# %%\n",
    "worksheet.update([temp3.columns.values.tolist()] + temp3.values.tolist())"
   ]
  },
  {
   "cell_type": "code",
   "execution_count": 56,
   "metadata": {},
   "outputs": [
    {
     "output_type": "execute_result",
     "data": {
      "text/plain": [
       "array(['men-shoes-laceshoes', 'men-shoes-sneakers\\xa0',\n",
       "       'men-shoes-sneakers', 'men-vanbommel', 'men-shoes-boots\\xa0',\n",
       "       'women-shoes-sneakers', 'men-shoes-chelseashoes',\n",
       "       'men-shoes-laceshoes\\xa0', 'women-shoes-sandals',\n",
       "       'men-shoes-boots', 'women-shoes-pumps',\n",
       "       'men-accessories-belts\\xa0', 'women-shoes-espadrilles',\n",
       "       'women-shoes-loafers', 'women-accessories-belts',\n",
       "       'men-accessories-belts', 'men-shoes-boatshoes',\n",
       "       'women-shoes-ankleboots', 'men-shoes-buckleshoes\\xa0'],\n",
       "      dtype=object)"
      ]
     },
     "metadata": {},
     "execution_count": 56
    }
   ],
   "source": [
    "temp3.Category.unique()"
   ]
  },
  {
   "cell_type": "code",
   "execution_count": 62,
   "metadata": {},
   "outputs": [
    {
     "output_type": "execute_result",
     "data": {
      "text/plain": [
       "array(['men-shoes-laceshoes', 'men-accessories-belts', 'men-vanbommel',\n",
       "       'men-shoes-boots\\xa0', 'men-shoes-chelseashoes',\n",
       "       'men-shoes-laceshoes\\xa0', 'women-shoes-sandals',\n",
       "       'men-shoes-boots', 'women-shoes-pumps',\n",
       "       'men-accessories-belts\\xa0', 'women-shoes-espadrilles',\n",
       "       'women-shoes-loafers', 'women-accessories-belts',\n",
       "       'men-shoes-boatshoes', 'women-shoes-ankleboots',\n",
       "       'men-shoes-buckleshoes\\xa0'], dtype=object)"
      ]
     },
     "metadata": {},
     "execution_count": 62
    }
   ],
   "source": [
    "temp3.Category.unique()"
   ]
  },
  {
   "cell_type": "code",
   "execution_count": 57,
   "metadata": {},
   "outputs": [
    {
     "output_type": "execute_result",
     "data": {
      "text/plain": [
       "19"
      ]
     },
     "metadata": {},
     "execution_count": 57
    }
   ],
   "source": [
    "len(temp3.Category.unique())"
   ]
  },
  {
   "cell_type": "code",
   "execution_count": 43,
   "metadata": {},
   "outputs": [
    {
     "output_type": "execute_result",
     "data": {
      "text/plain": [
       "1       men-shoes-sneakers\n",
       "2       men-shoes-sneakers\n",
       "3       men-shoes-sneakers\n",
       "4       men-shoes-sneakers\n",
       "5       men-shoes-sneakers\n",
       "               ...        \n",
       "923     men-shoes-sneakers\n",
       "945     men-shoes-sneakers\n",
       "978     men-shoes-sneakers\n",
       "984     men-shoes-sneakers\n",
       "1012    men-shoes-sneakers\n",
       "Name: Category, Length: 128, dtype: object"
      ]
     },
     "metadata": {},
     "execution_count": 43
    }
   ],
   "source": [
    "temp3['Category'][temp3.Category =='men-shoes-sneakers\\xa0'].apply(lambda x: 'men-shoes-sneakers')"
   ]
  },
  {
   "cell_type": "code",
   "execution_count": 58,
   "metadata": {},
   "outputs": [],
   "source": [
    "# changing categories\n",
    "men_sneakers = (temp3['Category'].str.contains('men-shoes-sneakers\\xa0') | temp3['Category'].str.contains('men-shoes-sneakers'))\n",
    "men_laceshoes = (temp3['Category'].str.contains('men-shoes-laceshoes\\xa0') | temp3['Category'].str.contains('men-shoes-laceshoes'))\n",
    "men_boots = (temp3['Category'].str.contains('men-shoes-boots\\xa0') | temp3['Category'].str.contains('men-shoes-boots'))\n",
    "men_belts = (temp3['Category'].str.contains('men-accessories-belts\\xa0') | temp3['Category'].str.contains('men-accessories-belts'))\n",
    "\n"
   ]
  },
  {
   "cell_type": "code",
   "execution_count": 59,
   "metadata": {},
   "outputs": [],
   "source": [
    "temp3.loc[men_sneakers,['Category']] = \"men-shoes-sneakers\"\n",
    "temp3.loc[men_sneakers,['Category']] = \"men-shoes-laceshoes\"\n",
    "temp3.loc[men_sneakers,['Category']] = \"men-shoes-boots\"\n",
    "temp3.loc[men_sneakers,['Category']] = \"men-accessories-belts\"\n"
   ]
  },
  {
   "cell_type": "code",
   "execution_count": 61,
   "metadata": {},
   "outputs": [
    {
     "output_type": "execute_result",
     "data": {
      "text/plain": [
       "16"
      ]
     },
     "metadata": {},
     "execution_count": 61
    }
   ],
   "source": [
    "len(temp3.Category.unique())"
   ]
  },
  {
   "cell_type": "code",
   "execution_count": 110,
   "metadata": {},
   "outputs": [
    {
     "output_type": "execute_result",
     "data": {
      "text/plain": [
       "array(['B2B klantorder', '3. Te smal ', 'Te groot ', 'Te klein',\n",
       "       'Te smal ', '2. Te klein', 'Past niet bij mij',\n",
       "       '4. Anders dan op de foto', 'Anders', '1. Te groot ',\n",
       "       '6. Meerdere maten besteld', 'Niets ingevuld door klant',\n",
       "       '9. Anders', '5. Past niet bij mij',\n",
       "       '10. Niets ingevuld door klant', 'Anders dan op de foto',\n",
       "       'Meerdere maten besteld', 'Verkeerd artikel ontvangen',\n",
       "       'Beschadigd/ defect', '7. Beschadigd/ defect'], dtype=object)"
      ]
     },
     "metadata": {},
     "execution_count": 110
    }
   ],
   "source": [
    "temp3.RetourReden.unique()"
   ]
  },
  {
   "cell_type": "code",
   "execution_count": 122,
   "metadata": {},
   "outputs": [
    {
     "output_type": "execute_result",
     "data": {
      "text/plain": [
       "                                     RetourReden\n",
       "Category              SKU                       \n",
       "men-accessories-belts 8719092847470           13\n",
       "                      8719092847456           12\n",
       "                      8719092847494            8\n",
       "                      8719092847500            7\n",
       "                      8719092847463            7\n",
       "...                                          ...\n",
       "                      8720244051508            1\n",
       "                      8720244051546            1\n",
       "                      8720244051683            1\n",
       "                      8720244051706            1\n",
       "women-shoes-sandals   8720244066236            1\n",
       "\n",
       "[755 rows x 1 columns]"
      ],
      "text/html": "<div>\n<style scoped>\n    .dataframe tbody tr th:only-of-type {\n        vertical-align: middle;\n    }\n\n    .dataframe tbody tr th {\n        vertical-align: top;\n    }\n\n    .dataframe thead th {\n        text-align: right;\n    }\n</style>\n<table border=\"1\" class=\"dataframe\">\n  <thead>\n    <tr style=\"text-align: right;\">\n      <th></th>\n      <th></th>\n      <th>RetourReden</th>\n    </tr>\n    <tr>\n      <th>Category</th>\n      <th>SKU</th>\n      <th></th>\n    </tr>\n  </thead>\n  <tbody>\n    <tr>\n      <th rowspan=\"10\" valign=\"top\">men-accessories-belts</th>\n      <th>8719092847470</th>\n      <td>13</td>\n    </tr>\n    <tr>\n      <th>8719092847456</th>\n      <td>12</td>\n    </tr>\n    <tr>\n      <th>8719092847494</th>\n      <td>8</td>\n    </tr>\n    <tr>\n      <th>8719092847500</th>\n      <td>7</td>\n    </tr>\n    <tr>\n      <th>8719092847463</th>\n      <td>7</td>\n    </tr>\n    <tr>\n      <th>...</th>\n      <td>...</td>\n    </tr>\n    <tr>\n      <th>8720244051508</th>\n      <td>1</td>\n    </tr>\n    <tr>\n      <th>8720244051546</th>\n      <td>1</td>\n    </tr>\n    <tr>\n      <th>8720244051683</th>\n      <td>1</td>\n    </tr>\n    <tr>\n      <th>8720244051706</th>\n      <td>1</td>\n    </tr>\n    <tr>\n      <th>women-shoes-sandals</th>\n      <th>8720244066236</th>\n      <td>1</td>\n    </tr>\n  </tbody>\n</table>\n<p>755 rows × 1 columns</p>\n</div>"
     },
     "metadata": {},
     "execution_count": 122
    }
   ],
   "source": [
    "temp3[['Category', 'SKU','RetourReden']].groupby(['Category', 'SKU']).agg({'RetourReden':pd.Series.count}).sort_values(by=['RetourReden'], ascending=False)"
   ]
  },
  {
   "cell_type": "code",
   "execution_count": 119,
   "metadata": {},
   "outputs": [
    {
     "output_type": "execute_result",
     "data": {
      "text/plain": [
       "                                                   RetourReden\n",
       "Category              SKU                                     \n",
       "men-accessories-belts 8718392902056                     Anders\n",
       "                      8719092203702                         []\n",
       "                      8719092203719                  Te groot \n",
       "                      8719092203726                     Anders\n",
       "                      8719092306557                         []\n",
       "...                                                        ...\n",
       "women-shoes-sandals   8720244066069          Past niet bij mij\n",
       "                      8720244066113                  Te groot \n",
       "                      8720244066168  Niets ingevuld door klant\n",
       "                      8720244066182                     Anders\n",
       "                      8720244066236                  Te groot \n",
       "\n",
       "[755 rows x 1 columns]"
      ],
      "text/html": "<div>\n<style scoped>\n    .dataframe tbody tr th:only-of-type {\n        vertical-align: middle;\n    }\n\n    .dataframe tbody tr th {\n        vertical-align: top;\n    }\n\n    .dataframe thead th {\n        text-align: right;\n    }\n</style>\n<table border=\"1\" class=\"dataframe\">\n  <thead>\n    <tr style=\"text-align: right;\">\n      <th></th>\n      <th></th>\n      <th>RetourReden</th>\n    </tr>\n    <tr>\n      <th>Category</th>\n      <th>SKU</th>\n      <th></th>\n    </tr>\n  </thead>\n  <tbody>\n    <tr>\n      <th rowspan=\"5\" valign=\"top\">men-accessories-belts</th>\n      <th>8718392902056</th>\n      <td>Anders</td>\n    </tr>\n    <tr>\n      <th>8719092203702</th>\n      <td>[]</td>\n    </tr>\n    <tr>\n      <th>8719092203719</th>\n      <td>Te groot</td>\n    </tr>\n    <tr>\n      <th>8719092203726</th>\n      <td>Anders</td>\n    </tr>\n    <tr>\n      <th>8719092306557</th>\n      <td>[]</td>\n    </tr>\n    <tr>\n      <th>...</th>\n      <th>...</th>\n      <td>...</td>\n    </tr>\n    <tr>\n      <th rowspan=\"5\" valign=\"top\">women-shoes-sandals</th>\n      <th>8720244066069</th>\n      <td>Past niet bij mij</td>\n    </tr>\n    <tr>\n      <th>8720244066113</th>\n      <td>Te groot</td>\n    </tr>\n    <tr>\n      <th>8720244066168</th>\n      <td>Niets ingevuld door klant</td>\n    </tr>\n    <tr>\n      <th>8720244066182</th>\n      <td>Anders</td>\n    </tr>\n    <tr>\n      <th>8720244066236</th>\n      <td>Te groot</td>\n    </tr>\n  </tbody>\n</table>\n<p>755 rows × 1 columns</p>\n</div>"
     },
     "metadata": {},
     "execution_count": 119
    }
   ],
   "source": [
    "temp3[['Category', 'SKU','RetourReden']].groupby(['Category', 'SKU']).agg({'RetourReden':lambda x: x}).sort_values(by=['Category', 'SKU'], )"
   ]
  },
  {
   "cell_type": "code",
   "execution_count": 107,
   "metadata": {},
   "outputs": [
    {
     "output_type": "execute_result",
     "data": {
      "text/plain": [
       "               RetourReden\n",
       "SKU                       \n",
       "8719092847470           13\n",
       "8719092847456           12\n",
       "8719092847494            8\n",
       "8719092847500            7\n",
       "8719092847463            7\n",
       "...                    ...\n",
       "8719092927172            1\n",
       "8719092927233            1\n",
       "8719092927356            1\n",
       "8719092930066            1\n",
       "8720244066236            1\n",
       "\n",
       "[755 rows x 1 columns]"
      ],
      "text/html": "<div>\n<style scoped>\n    .dataframe tbody tr th:only-of-type {\n        vertical-align: middle;\n    }\n\n    .dataframe tbody tr th {\n        vertical-align: top;\n    }\n\n    .dataframe thead th {\n        text-align: right;\n    }\n</style>\n<table border=\"1\" class=\"dataframe\">\n  <thead>\n    <tr style=\"text-align: right;\">\n      <th></th>\n      <th>RetourReden</th>\n    </tr>\n    <tr>\n      <th>SKU</th>\n      <th></th>\n    </tr>\n  </thead>\n  <tbody>\n    <tr>\n      <th>8719092847470</th>\n      <td>13</td>\n    </tr>\n    <tr>\n      <th>8719092847456</th>\n      <td>12</td>\n    </tr>\n    <tr>\n      <th>8719092847494</th>\n      <td>8</td>\n    </tr>\n    <tr>\n      <th>8719092847500</th>\n      <td>7</td>\n    </tr>\n    <tr>\n      <th>8719092847463</th>\n      <td>7</td>\n    </tr>\n    <tr>\n      <th>...</th>\n      <td>...</td>\n    </tr>\n    <tr>\n      <th>8719092927172</th>\n      <td>1</td>\n    </tr>\n    <tr>\n      <th>8719092927233</th>\n      <td>1</td>\n    </tr>\n    <tr>\n      <th>8719092927356</th>\n      <td>1</td>\n    </tr>\n    <tr>\n      <th>8719092930066</th>\n      <td>1</td>\n    </tr>\n    <tr>\n      <th>8720244066236</th>\n      <td>1</td>\n    </tr>\n  </tbody>\n</table>\n<p>755 rows × 1 columns</p>\n</div>"
     },
     "metadata": {},
     "execution_count": 107
    }
   ],
   "source": [
    "temp3[['SKU', 'RetourReden']].groupby(['SKU']).agg({'RetourReden':pd.Series.count}).sort_values(by=['RetourReden'], ascending=False)"
   ]
  },
  {
   "cell_type": "code",
   "execution_count": 96,
   "metadata": {
    "tags": []
   },
   "outputs": [
    {
     "output_type": "stream",
     "name": "stdout",
     "text": [
      "('men-accessories-belts', 8718392902056, 'Anders')\n                   Category            SKU RetourReden\n1020  men-accessories-belts  8718392902056      Anders \n\n('men-accessories-belts', 8719092203702, 'Anders')\n                  Category            SKU RetourReden\n165  men-accessories-belts  8719092203702      Anders \n\n"
     ]
    }
   ],
   "source": [
    "temp4 = temp3[['Category', 'SKU','RetourReden']].groupby(['Category', 'SKU', 'RetourReden'])\n",
    "count = 0\n",
    "for key, item in temp4:\n",
    "    if count < 2:\n",
    "        a_group = temp4.get_group(key)\n",
    "        count += 1\n",
    "        print(key)\n",
    "        print(a_group, \"\\n\")\n",
    "    else:\n",
    "        break"
   ]
  },
  {
   "cell_type": "code",
   "execution_count": 91,
   "metadata": {},
   "outputs": [
    {
     "output_type": "error",
     "ename": "ValueError",
     "evalue": "must supply a tuple to get_group with multiple grouping keys",
     "traceback": [
      "\u001b[1;31m---------------------------------------------------------------------------\u001b[0m",
      "\u001b[1;31mValueError\u001b[0m                                Traceback (most recent call last)",
      "\u001b[1;32m<ipython-input-91-47e92299625b>\u001b[0m in \u001b[0;36m<module>\u001b[1;34m\u001b[0m\n\u001b[0;32m      1\u001b[0m \u001b[1;31m#temp4.get_group(('women-shoes-sandals', '8720244066236'))\u001b[0m\u001b[1;33m\u001b[0m\u001b[1;33m\u001b[0m\u001b[1;33m\u001b[0m\u001b[0m\n\u001b[1;32m----> 2\u001b[1;33m \u001b[0mtemp4\u001b[0m\u001b[1;33m.\u001b[0m\u001b[0mget_group\u001b[0m\u001b[1;33m(\u001b[0m\u001b[1;34m'women-shoes-sandals'\u001b[0m\u001b[1;33m)\u001b[0m\u001b[1;33m\u001b[0m\u001b[1;33m\u001b[0m\u001b[0m\n\u001b[0m",
      "\u001b[1;32m~\\anaconda3\\lib\\site-packages\\pandas\\core\\groupby\\groupby.py\u001b[0m in \u001b[0;36mget_group\u001b[1;34m(self, name, obj)\u001b[0m\n\u001b[0;32m    806\u001b[0m             \u001b[0mobj\u001b[0m \u001b[1;33m=\u001b[0m \u001b[0mself\u001b[0m\u001b[1;33m.\u001b[0m\u001b[0m_selected_obj\u001b[0m\u001b[1;33m\u001b[0m\u001b[1;33m\u001b[0m\u001b[0m\n\u001b[0;32m    807\u001b[0m \u001b[1;33m\u001b[0m\u001b[0m\n\u001b[1;32m--> 808\u001b[1;33m         \u001b[0minds\u001b[0m \u001b[1;33m=\u001b[0m \u001b[0mself\u001b[0m\u001b[1;33m.\u001b[0m\u001b[0m_get_index\u001b[0m\u001b[1;33m(\u001b[0m\u001b[0mname\u001b[0m\u001b[1;33m)\u001b[0m\u001b[1;33m\u001b[0m\u001b[1;33m\u001b[0m\u001b[0m\n\u001b[0m\u001b[0;32m    809\u001b[0m         \u001b[1;32mif\u001b[0m \u001b[1;32mnot\u001b[0m \u001b[0mlen\u001b[0m\u001b[1;33m(\u001b[0m\u001b[0minds\u001b[0m\u001b[1;33m)\u001b[0m\u001b[1;33m:\u001b[0m\u001b[1;33m\u001b[0m\u001b[1;33m\u001b[0m\u001b[0m\n\u001b[0;32m    810\u001b[0m             \u001b[1;32mraise\u001b[0m \u001b[0mKeyError\u001b[0m\u001b[1;33m(\u001b[0m\u001b[0mname\u001b[0m\u001b[1;33m)\u001b[0m\u001b[1;33m\u001b[0m\u001b[1;33m\u001b[0m\u001b[0m\n",
      "\u001b[1;32m~\\anaconda3\\lib\\site-packages\\pandas\\core\\groupby\\groupby.py\u001b[0m in \u001b[0;36m_get_index\u001b[1;34m(self, name)\u001b[0m\n\u001b[0;32m    628\u001b[0m         \u001b[0mSafe\u001b[0m \u001b[0mget\u001b[0m \u001b[0mindex\u001b[0m\u001b[1;33m,\u001b[0m \u001b[0mtranslate\u001b[0m \u001b[0mkeys\u001b[0m \u001b[1;32mfor\u001b[0m \u001b[0mdatelike\u001b[0m \u001b[0mto\u001b[0m \u001b[0munderlying\u001b[0m \u001b[0mrepr\u001b[0m\u001b[1;33m.\u001b[0m\u001b[1;33m\u001b[0m\u001b[1;33m\u001b[0m\u001b[0m\n\u001b[0;32m    629\u001b[0m         \"\"\"\n\u001b[1;32m--> 630\u001b[1;33m         \u001b[1;32mreturn\u001b[0m \u001b[0mself\u001b[0m\u001b[1;33m.\u001b[0m\u001b[0m_get_indices\u001b[0m\u001b[1;33m(\u001b[0m\u001b[1;33m[\u001b[0m\u001b[0mname\u001b[0m\u001b[1;33m]\u001b[0m\u001b[1;33m)\u001b[0m\u001b[1;33m[\u001b[0m\u001b[1;36m0\u001b[0m\u001b[1;33m]\u001b[0m\u001b[1;33m\u001b[0m\u001b[1;33m\u001b[0m\u001b[0m\n\u001b[0m\u001b[0;32m    631\u001b[0m \u001b[1;33m\u001b[0m\u001b[0m\n\u001b[0;32m    632\u001b[0m     \u001b[1;33m@\u001b[0m\u001b[0mcache_readonly\u001b[0m\u001b[1;33m\u001b[0m\u001b[1;33m\u001b[0m\u001b[0m\n",
      "\u001b[1;32m~\\anaconda3\\lib\\site-packages\\pandas\\core\\groupby\\groupby.py\u001b[0m in \u001b[0;36m_get_indices\u001b[1;34m(self, names)\u001b[0m\n\u001b[0;32m    602\u001b[0m             \u001b[1;32mif\u001b[0m \u001b[1;32mnot\u001b[0m \u001b[0misinstance\u001b[0m\u001b[1;33m(\u001b[0m\u001b[0mname_sample\u001b[0m\u001b[1;33m,\u001b[0m \u001b[0mtuple\u001b[0m\u001b[1;33m)\u001b[0m\u001b[1;33m:\u001b[0m\u001b[1;33m\u001b[0m\u001b[1;33m\u001b[0m\u001b[0m\n\u001b[0;32m    603\u001b[0m                 \u001b[0mmsg\u001b[0m \u001b[1;33m=\u001b[0m \u001b[1;34m\"must supply a tuple to get_group with multiple grouping keys\"\u001b[0m\u001b[1;33m\u001b[0m\u001b[1;33m\u001b[0m\u001b[0m\n\u001b[1;32m--> 604\u001b[1;33m                 \u001b[1;32mraise\u001b[0m \u001b[0mValueError\u001b[0m\u001b[1;33m(\u001b[0m\u001b[0mmsg\u001b[0m\u001b[1;33m)\u001b[0m\u001b[1;33m\u001b[0m\u001b[1;33m\u001b[0m\u001b[0m\n\u001b[0m\u001b[0;32m    605\u001b[0m             \u001b[1;32mif\u001b[0m \u001b[1;32mnot\u001b[0m \u001b[0mlen\u001b[0m\u001b[1;33m(\u001b[0m\u001b[0mname_sample\u001b[0m\u001b[1;33m)\u001b[0m \u001b[1;33m==\u001b[0m \u001b[0mlen\u001b[0m\u001b[1;33m(\u001b[0m\u001b[0mindex_sample\u001b[0m\u001b[1;33m)\u001b[0m\u001b[1;33m:\u001b[0m\u001b[1;33m\u001b[0m\u001b[1;33m\u001b[0m\u001b[0m\n\u001b[0;32m    606\u001b[0m                 \u001b[1;32mtry\u001b[0m\u001b[1;33m:\u001b[0m\u001b[1;33m\u001b[0m\u001b[1;33m\u001b[0m\u001b[0m\n",
      "\u001b[1;31mValueError\u001b[0m: must supply a tuple to get_group with multiple grouping keys"
     ]
    }
   ],
   "source": [
    "#temp4.get_group(('women-shoes-sandals', '8720244066236'))\n",
    "temp4.get_group('women-shoes-sandals')"
   ]
  },
  {
   "cell_type": "code",
   "execution_count": 68,
   "metadata": {},
   "outputs": [
    {
     "output_type": "execute_result",
     "data": {
      "text/plain": [
       "Index(['OrderDatum', 'Ordernummer', 'OrderregelNummer', 'SKU', 'RetourDatum',\n",
       "       'RetourNummer', 'RetourReden'],\n",
       "      dtype='object')"
      ]
     },
     "metadata": {},
     "execution_count": 68
    }
   ],
   "source": [
    "ret_2021.columns"
   ]
  },
  {
   "cell_type": "code",
   "execution_count": null,
   "metadata": {},
   "outputs": [],
   "source": []
  },
  {
   "source": [
    "## Other stuff"
   ],
   "cell_type": "markdown",
   "metadata": {}
  },
  {
   "cell_type": "code",
   "execution_count": 7,
   "metadata": {},
   "outputs": [],
   "source": [
    "df = first_order(df)"
   ]
  },
  {
   "cell_type": "code",
   "execution_count": 8,
   "metadata": {},
   "outputs": [
    {
     "output_type": "execute_result",
     "data": {
      "text/plain": [
       "((268273, 43), (268273, 34))"
      ]
     },
     "metadata": {},
     "execution_count": 8
    }
   ],
   "source": [
    "df.shape, df_og.shape"
   ]
  },
  {
   "cell_type": "code",
   "execution_count": 9,
   "metadata": {},
   "outputs": [],
   "source": [
    "df = df[df.category!='Coupon']"
   ]
  },
  {
   "cell_type": "code",
   "execution_count": 10,
   "metadata": {},
   "outputs": [
    {
     "output_type": "execute_result",
     "data": {
      "text/plain": [
       "array(['Bio Schwein', 'Special Lamm', 'Standard Kuh Maxi',\n",
       "       'Standard Kuh Mini', 'Bio Kuh Mini', 'Bio Kuh Maxi',\n",
       "       'Bio Schwein Mini', 'Bio Schwein Maxi', 'Special Kuh (Standalone)',\n",
       "       'Standard Schwein Mini', 'Standard Schwein Maxi', 'Gans 5kg',\n",
       "       'Gans 4.5kg', 'Special Schwein Maxi', 'Special Schwein Mini',\n",
       "       'Bio Huhn', 'Special Huhn', 'Wasserbuffel', 'Special Kuh Mini',\n",
       "       'Special Kuh Maxi', 'Gefüllte Hühner', 'Standard Schwein',\n",
       "       'Bio Kuh', 'Classic Kuh', 'Special Schwein', 'Special Kuh (New)',\n",
       "       'Luxe Schwein', 'Premium Huhn', 'Bio Gourmet Kuh', 'Classic Huhn',\n",
       "       'Bio Ente', 'Bio Gans 4KG', 'Bio Gans 5KG', 'Special Huhn 2',\n",
       "       'Wildlachs', 'Combi (Kuh + Huhn)', 'Standard Reh', 'Classic Ente',\n",
       "       'Special Kuh 3', 'Special Wildschwein', 'Bio Ente 2', 'Pute 5kg',\n",
       "       'Pute 4kg', 'Special Schwein 2', 'Standard Hirsch', 'Bio Gans 3KG',\n",
       "       'Special Huhn 3', 'Wildlachs 2', 'Gourmet Kuh'], dtype=object)"
      ]
     },
     "metadata": {},
     "execution_count": 10
    }
   ],
   "source": [
    "df.category.unique()"
   ]
  },
  {
   "cell_type": "code",
   "execution_count": 11,
   "metadata": {},
   "outputs": [],
   "source": [
    "df['animal_type'] = ''"
   ]
  },
  {
   "cell_type": "code",
   "execution_count": 12,
   "metadata": {},
   "outputs": [],
   "source": [
    "kuh = (df['category'].str.contains('Kuh'))\n",
    "schwein = (df['category'].str.contains('Schwein') | df['category'].str.contains('schwein'))\n",
    "huhn = (df['category'].str.contains('Huhn') | df['category'].str.contains('Hühner'))\n",
    "lamm = (df['category'].str.contains('Lamm'))\n",
    "reh = (df['category'].str.contains('Reh'))\n",
    "ente = (df['category'].str.contains('Ente'))\n",
    "gans = (df['category'].str.contains('Gans'))\n",
    "wasserbuffel = (df['category'].str.contains('Wasserbuffel'))\n",
    "pute = (df['category'].str.contains('Pute'))\n",
    "hirsch = (df['category'].str.contains('Hirsch'))\n",
    "fish = (df['category'].str.contains('Wildlachs'))"
   ]
  },
  {
   "cell_type": "code",
   "execution_count": 13,
   "metadata": {},
   "outputs": [],
   "source": [
    "df.loc[kuh,['animal_type']] = \"Kuh\"\n",
    "df.loc[schwein,['animal_type']] = \"Schwein\"\n",
    "df.loc[huhn,['animal_type']] = \"Huhn\"\n",
    "df.loc[lamm,['animal_type']] = \"Lamm\"\n",
    "df.loc[reh,['animal_type']] = \"Reh\"\n",
    "df.loc[ente,['animal_type']] = \"Ente\"\n",
    "df.loc[gans,['animal_type']] = \"Gans\"\n",
    "df.loc[wasserbuffel,['animal_type']] = \"Wasserbuffel\"\n",
    "df.loc[pute,['animal_type']] = \"Pute\"\n",
    "df.loc[hirsch,['animal_type']] = \"Hirsch\"\n",
    "df.loc[fish,['animal_type']] = \"Fish\" #is this smart to do?"
   ]
  },
  {
   "cell_type": "code",
   "execution_count": 14,
   "metadata": {},
   "outputs": [],
   "source": [
    "df['product_type'] = ''"
   ]
  },
  {
   "cell_type": "code",
   "execution_count": 15,
   "metadata": {},
   "outputs": [],
   "source": [
    "classic = (df['category'].str.contains('Classic') | df['category'].str.contains('Standard'))\n",
    "bio = ((df['category'].str.contains('Bio')) & (~df['category'].str.contains('Ente')) & (~df['category'].str.contains('Gans')) & (~df['category'].str.contains('Pute')))\n",
    "special = (df['category'].str.contains('Special') | df['category'].str.contains('Gans') | df['category'].str.contains('Ente') | df['category'].str.contains('Wasser') | df['category'].str.contains('Luxe') | df['category'].str.contains('Premium') | df['category'].str.contains('Gefüllte') | df['category'].str.contains('Combi') | df['category'].str.contains('Pute'))"
   ]
  },
  {
   "cell_type": "code",
   "execution_count": 16,
   "metadata": {},
   "outputs": [],
   "source": [
    "df.loc[classic,['product_type']] = \"Classic\"\n",
    "df.loc[bio,['product_type']] = \"Bio\"\n",
    "df.loc[special,['product_type']] = \"Special\""
   ]
  },
  {
   "cell_type": "code",
   "execution_count": 17,
   "metadata": {},
   "outputs": [],
   "source": [
    "df['order_value_ex_vat'] = df['order_value_ex_vat'].astype(float)\n",
    "df['order_total_incl_vat'] = df['order_total_incl_vat'].astype(float)"
   ]
  },
  {
   "cell_type": "code",
   "execution_count": 18,
   "metadata": {},
   "outputs": [
    {
     "output_type": "execute_result",
     "data": {
      "text/plain": [
       "(253310, 45)"
      ]
     },
     "metadata": {},
     "execution_count": 18
    }
   ],
   "source": [
    "df.shape"
   ]
  },
  {
   "cell_type": "markdown",
   "metadata": {},
   "source": [
    "Tuesday, 27.04., pig BBQ angle\n",
    "\n",
    "+ everyone\n",
    "- except people that bought a pig package during the last 4 weeks\n",
    "+ zombies, that bought a pig package before"
   ]
  },
  {
   "cell_type": "code",
   "execution_count": 19,
   "metadata": {},
   "outputs": [
    {
     "output_type": "stream",
     "name": "stderr",
     "text": [
      "<ipython-input-19-f06bdef11386>:1: UserWarning: Boolean Series key will be reindexed to match DataFrame index.\n  pig = df[df.date >= '2021-03-30'][(df['animal_type'].str.contains('Schwein'))].loc[:,['email']]\n"
     ]
    },
    {
     "output_type": "execute_result",
     "data": {
      "text/plain": [
       "((1274, 1), (34132, 1))"
      ]
     },
     "metadata": {},
     "execution_count": 19
    }
   ],
   "source": [
    "pig = df[df.date >= '2021-03-30'][(df['animal_type'].str.contains('Schwein'))].loc[:,['email']]\n",
    "pigz = df[(df['animal_type'].str.contains('Schwein'))].loc[:,['email']]\n",
    "pig.shape, pigz.shape\n"
   ]
  },
  {
   "cell_type": "markdown",
   "metadata": {},
   "source": [
    "## RFM"
   ]
  },
  {
   "cell_type": "code",
   "execution_count": 20,
   "metadata": {},
   "outputs": [],
   "source": [
    "# Setup maximum date for Recency calculation on training dataset\n",
    "max_date = df.order_date.max()"
   ]
  },
  {
   "cell_type": "code",
   "execution_count": 21,
   "metadata": {},
   "outputs": [],
   "source": [
    "# Create the RFM table\n",
    "rfm = df.groupby('email').agg({'order_date': lambda x: (max_date - x.max()).days,\n",
    "                                                   'order_number': lambda num: len(num),\n",
    "                                                   'order_value_ex_vat': lambda price: price.mean()})"
   ]
  },
  {
   "cell_type": "code",
   "execution_count": 22,
   "metadata": {},
   "outputs": [],
   "source": [
    "# Reset Index\n",
    "rfm.reset_index(inplace=True)\n",
    "\n",
    "# Change the name of the columns\n",
    "rfm.columns=['email','recency','frequency','monetary_value']"
   ]
  },
  {
   "cell_type": "code",
   "execution_count": 23,
   "metadata": {},
   "outputs": [
    {
     "output_type": "execute_result",
     "data": {
      "text/plain": [
       "(121133, 4)"
      ]
     },
     "metadata": {},
     "execution_count": 23
    }
   ],
   "source": [
    "rfm.shape"
   ]
  },
  {
   "cell_type": "code",
   "execution_count": 24,
   "metadata": {},
   "outputs": [],
   "source": [
    "# Purchase Frequency\n",
    "purchase_frequency=sum(rfm['frequency'])/rfm.shape[0]"
   ]
  },
  {
   "cell_type": "code",
   "execution_count": 25,
   "metadata": {},
   "outputs": [],
   "source": [
    "# Repeat Rate\n",
    "repeat_rate=rfm[rfm.frequency > 1].shape[0]/rfm.shape[0]"
   ]
  },
  {
   "cell_type": "code",
   "execution_count": 26,
   "metadata": {},
   "outputs": [],
   "source": [
    "# Churn Rate\n",
    "churn_rate=1-repeat_rate"
   ]
  },
  {
   "cell_type": "code",
   "execution_count": 27,
   "metadata": {},
   "outputs": [
    {
     "output_type": "execute_result",
     "data": {
      "text/plain": [
       "(2.091172512857768, 0.399271874716221, 0.6007281252837791)"
      ]
     },
     "metadata": {},
     "execution_count": 27
    }
   ],
   "source": [
    "purchase_frequency,repeat_rate,churn_rate"
   ]
  },
  {
   "cell_type": "code",
   "execution_count": 28,
   "metadata": {},
   "outputs": [],
   "source": [
    "# Customer Value\n",
    "rfm['CLV']=(rfm['monetary_value']*purchase_frequency)/churn_rate"
   ]
  },
  {
   "cell_type": "markdown",
   "metadata": {},
   "source": [
    "# Purchase Table"
   ]
  },
  {
   "cell_type": "code",
   "execution_count": 29,
   "metadata": {},
   "outputs": [],
   "source": [
    "temp0 = df.groupby(['email','date']).agg({'order_item_id':pd.Series.count})"
   ]
  },
  {
   "cell_type": "code",
   "execution_count": 30,
   "metadata": {},
   "outputs": [],
   "source": [
    "temp0 = temp0.groupby(level=0).apply(purchase_number)"
   ]
  },
  {
   "cell_type": "code",
   "execution_count": 31,
   "metadata": {},
   "outputs": [],
   "source": [
    "temp0.reset_index(inplace=True)"
   ]
  },
  {
   "cell_type": "code",
   "execution_count": 32,
   "metadata": {},
   "outputs": [],
   "source": [
    "temp0.drop('order_item_id',axis=1,inplace=True)"
   ]
  },
  {
   "cell_type": "code",
   "execution_count": 33,
   "metadata": {},
   "outputs": [],
   "source": [
    "temp1 = df.groupby('email').agg({'order_item_id':pd.Series.nunique})"
   ]
  },
  {
   "cell_type": "code",
   "execution_count": 34,
   "metadata": {},
   "outputs": [],
   "source": [
    "temp1.rename(columns={'order_item_id':'total_purchases'},inplace=True)"
   ]
  },
  {
   "cell_type": "code",
   "execution_count": 35,
   "metadata": {},
   "outputs": [],
   "source": [
    "temp1.reset_index(inplace=True)"
   ]
  },
  {
   "cell_type": "code",
   "execution_count": 36,
   "metadata": {},
   "outputs": [],
   "source": [
    "temp2 = temp0.merge(temp1, on='email',how='left')"
   ]
  },
  {
   "cell_type": "code",
   "execution_count": 37,
   "metadata": {},
   "outputs": [],
   "source": [
    "temp3 = df.groupby(['email','date','category','product_type','animal_type']).agg({'order_item_id':pd.Series.count})"
   ]
  },
  {
   "cell_type": "code",
   "execution_count": 38,
   "metadata": {},
   "outputs": [],
   "source": [
    "temp3.reset_index(inplace=True)"
   ]
  },
  {
   "cell_type": "code",
   "execution_count": 39,
   "metadata": {},
   "outputs": [],
   "source": [
    "purchase_table = temp2.merge(temp3, on=['email','date'], how='left')"
   ]
  },
  {
   "cell_type": "code",
   "execution_count": 40,
   "metadata": {},
   "outputs": [],
   "source": [
    "purchase_table.drop('order_item_id',axis=1,inplace=True)"
   ]
  },
  {
   "cell_type": "code",
   "execution_count": 41,
   "metadata": {},
   "outputs": [],
   "source": [
    "purchase_table['days_between'] = purchase_table.groupby('email')['date'].diff().apply(lambda x: x.days)"
   ]
  },
  {
   "cell_type": "code",
   "execution_count": 42,
   "metadata": {},
   "outputs": [],
   "source": [
    "purchase_table['days_between'].fillna(0,inplace=True)"
   ]
  },
  {
   "cell_type": "code",
   "execution_count": 43,
   "metadata": {},
   "outputs": [],
   "source": [
    "purchase_table['category_type'] = purchase_table['product_type'] + \"_\" + purchase_table['animal_type'] "
   ]
  },
  {
   "cell_type": "code",
   "execution_count": 44,
   "metadata": {},
   "outputs": [],
   "source": [
    "purchase_table = purchase_table[~purchase_table.category.str.contains('Coupon')]"
   ]
  },
  {
   "cell_type": "code",
   "execution_count": 45,
   "metadata": {},
   "outputs": [],
   "source": [
    "unstack_table = purchase_table.groupby(['email','category_type']).agg({'category':pd.Series.nunique}).unstack(1).fillna(0)"
   ]
  },
  {
   "cell_type": "code",
   "execution_count": 46,
   "metadata": {},
   "outputs": [],
   "source": [
    "unstack_table.columns = unstack_table.columns.droplevel()"
   ]
  },
  {
   "cell_type": "code",
   "execution_count": 47,
   "metadata": {},
   "outputs": [],
   "source": [
    "unstack_table.reset_index(inplace=True)"
   ]
  },
  {
   "cell_type": "code",
   "execution_count": 48,
   "metadata": {},
   "outputs": [
    {
     "output_type": "execute_result",
     "data": {
      "text/plain": [
       "(121133, 19)"
      ]
     },
     "metadata": {},
     "execution_count": 48
    }
   ],
   "source": [
    "unstack_table.shape"
   ]
  },
  {
   "cell_type": "markdown",
   "metadata": {},
   "source": [
    "##  Newsletter Audience"
   ]
  },
  {
   "cell_type": "markdown",
   "metadata": {},
   "source": [
    "## Audience"
   ]
  },
  {
   "cell_type": "code",
   "execution_count": 64,
   "metadata": {},
   "outputs": [],
   "source": [
    "# for highlands cows\n",
    "final_audience.to_csv('./Outputs/KnK_Audience_PigBBQ_27042021.csv', index=False)"
   ]
  },
  {
   "cell_type": "code",
   "execution_count": null,
   "metadata": {},
   "outputs": [],
   "source": []
  }
 ],
 "metadata": {
  "kernelspec": {
   "name": "python385jvsc74a57bd003daa801a6ac9ad48cff95a62c7eae7868ae8adc816431dbf898cb359b759f5b",
   "display_name": "Python 3.8.5 64-bit (conda)"
  },
  "language_info": {
   "codemirror_mode": {
    "name": "ipython",
    "version": 3
   },
   "file_extension": ".py",
   "mimetype": "text/x-python",
   "name": "python",
   "nbconvert_exporter": "python",
   "pygments_lexer": "ipython3",
   "version": "3.8.5"
  }
 },
 "nbformat": 4,
 "nbformat_minor": 4
}
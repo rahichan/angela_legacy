{
 "cells": [
  {
   "cell_type": "code",
   "execution_count": 1,
   "metadata": {},
   "outputs": [],
   "source": [
    "import pandas as pd\n",
    "import numpy as np\n",
    "import datetime as dt\n",
    "import glob\n",
    "import mysql.connector\n",
    "from mysql.connector import Error"
   ]
  },
  {
   "cell_type": "markdown",
   "metadata": {},
   "source": [
    "## FvB"
   ]
  },
  {
   "cell_type": "code",
   "execution_count": 3,
   "metadata": {},
   "outputs": [],
   "source": [
    "%run ./cohorts_pipeline_fvb_v3.py"
   ]
  },
  {
   "cell_type": "code",
   "execution_count": 5,
   "metadata": {},
   "outputs": [],
   "source": [
    "df_backend = pd.read_csv('./Data/Orders_Backend.csv', delimiter=';', decimal='.')"
   ]
  },
  {
   "cell_type": "code",
   "execution_count": 6,
   "metadata": {},
   "outputs": [
    {
     "data": {
      "text/html": [
       "<div>\n",
       "<style scoped>\n",
       "    .dataframe tbody tr th:only-of-type {\n",
       "        vertical-align: middle;\n",
       "    }\n",
       "\n",
       "    .dataframe tbody tr th {\n",
       "        vertical-align: top;\n",
       "    }\n",
       "\n",
       "    .dataframe thead th {\n",
       "        text-align: right;\n",
       "    }\n",
       "</style>\n",
       "<table border=\"1\" class=\"dataframe\">\n",
       "  <thead>\n",
       "    <tr style=\"text-align: right;\">\n",
       "      <th></th>\n",
       "      <th>Ordernummer</th>\n",
       "      <th>Orderdatum</th>\n",
       "      <th>Klant voornaam</th>\n",
       "      <th>Klant achternaam</th>\n",
       "      <th>E-mail</th>\n",
       "      <th>Aflevermethode</th>\n",
       "      <th>Totaalprijs</th>\n",
       "      <th>Kanaal</th>\n",
       "      <th>Locale</th>\n",
       "      <th>Unnamed: 9</th>\n",
       "      <th>Status</th>\n",
       "    </tr>\n",
       "  </thead>\n",
       "  <tbody>\n",
       "    <tr>\n",
       "      <th>0</th>\n",
       "      <td>DE01367852</td>\n",
       "      <td>2021-01-11 08:44:54</td>\n",
       "      <td>Alexander</td>\n",
       "      <td>Meiners</td>\n",
       "      <td>alexander_meiners@web.de</td>\n",
       "      <td>Thuisbezorgd</td>\n",
       "      <td>313.92</td>\n",
       "      <td>Floris van Bommel webshop Duitsland</td>\n",
       "      <td>de_DE</td>\n",
       "      <td>Nog te alloceren</td>\n",
       "      <td>Nog te alloceren</td>\n",
       "    </tr>\n",
       "    <tr>\n",
       "      <th>1</th>\n",
       "      <td>DE01367851</td>\n",
       "      <td>2021-01-11 08:29:07</td>\n",
       "      <td>Olaf</td>\n",
       "      <td>Pfeifer</td>\n",
       "      <td>pfeifer@gigaron.de</td>\n",
       "      <td>Thuisbezorgd</td>\n",
       "      <td>269.85</td>\n",
       "      <td>Floris van Bommel webshop Duitsland</td>\n",
       "      <td>de_DE</td>\n",
       "      <td>Levering bezig</td>\n",
       "      <td>Levering bezig</td>\n",
       "    </tr>\n",
       "    <tr>\n",
       "      <th>2</th>\n",
       "      <td>DE01367850</td>\n",
       "      <td>2021-01-11 07:51:48</td>\n",
       "      <td>Mark</td>\n",
       "      <td>van Ommeren</td>\n",
       "      <td>markvanommeren@icloud.com</td>\n",
       "      <td>Thuisbezorgd</td>\n",
       "      <td>269.95</td>\n",
       "      <td>Floris van Bommel webshop Duitsland</td>\n",
       "      <td>de_DE</td>\n",
       "      <td>Levering bezig</td>\n",
       "      <td>Levering bezig</td>\n",
       "    </tr>\n",
       "    <tr>\n",
       "      <th>3</th>\n",
       "      <td>DE01367748</td>\n",
       "      <td>2021-01-11 04:50:29</td>\n",
       "      <td>Hubert</td>\n",
       "      <td>Kinzler</td>\n",
       "      <td>hkinzler@web.de</td>\n",
       "      <td>Thuisbezorgd</td>\n",
       "      <td>167.96</td>\n",
       "      <td>Floris van Bommel webshop Duitsland</td>\n",
       "      <td>de_DE</td>\n",
       "      <td>Levering bezig</td>\n",
       "      <td>Levering bezig</td>\n",
       "    </tr>\n",
       "    <tr>\n",
       "      <th>4</th>\n",
       "      <td>DE01367659</td>\n",
       "      <td>2021-01-11 00:46:23</td>\n",
       "      <td>Borche</td>\n",
       "      <td>Siljanoski</td>\n",
       "      <td>Borce.siljanoski@gmail.com</td>\n",
       "      <td>Thuisbezorgd</td>\n",
       "      <td>139.96</td>\n",
       "      <td>Floris van Bommel webshop Duitsland</td>\n",
       "      <td>de_DE</td>\n",
       "      <td>Levering bezig</td>\n",
       "      <td>Levering bezig</td>\n",
       "    </tr>\n",
       "  </tbody>\n",
       "</table>\n",
       "</div>"
      ],
      "text/plain": [
       "  Ordernummer           Orderdatum Klant voornaam Klant achternaam  \\\n",
       "0  DE01367852  2021-01-11 08:44:54      Alexander          Meiners   \n",
       "1  DE01367851  2021-01-11 08:29:07           Olaf          Pfeifer   \n",
       "2  DE01367850  2021-01-11 07:51:48           Mark      van Ommeren   \n",
       "3  DE01367748  2021-01-11 04:50:29         Hubert          Kinzler   \n",
       "4  DE01367659  2021-01-11 00:46:23         Borche       Siljanoski   \n",
       "\n",
       "                       E-mail Aflevermethode Totaalprijs  \\\n",
       "0    alexander_meiners@web.de   Thuisbezorgd      313.92   \n",
       "1          pfeifer@gigaron.de   Thuisbezorgd      269.85   \n",
       "2   markvanommeren@icloud.com   Thuisbezorgd      269.95   \n",
       "3             hkinzler@web.de   Thuisbezorgd      167.96   \n",
       "4  Borce.siljanoski@gmail.com   Thuisbezorgd      139.96   \n",
       "\n",
       "                                Kanaal Locale        Unnamed: 9  \\\n",
       "0  Floris van Bommel webshop Duitsland  de_DE  Nog te alloceren   \n",
       "1  Floris van Bommel webshop Duitsland  de_DE    Levering bezig   \n",
       "2  Floris van Bommel webshop Duitsland  de_DE    Levering bezig   \n",
       "3  Floris van Bommel webshop Duitsland  de_DE    Levering bezig   \n",
       "4  Floris van Bommel webshop Duitsland  de_DE    Levering bezig   \n",
       "\n",
       "             Status  \n",
       "0  Nog te alloceren  \n",
       "1    Levering bezig  \n",
       "2    Levering bezig  \n",
       "3    Levering bezig  \n",
       "4    Levering bezig  "
      ]
     },
     "execution_count": 6,
     "metadata": {},
     "output_type": "execute_result"
    }
   ],
   "source": [
    "df_backend.head()"
   ]
  },
  {
   "cell_type": "code",
   "execution_count": 7,
   "metadata": {},
   "outputs": [],
   "source": [
    "df_backend = df_cleaning_source(df_backend)"
   ]
  },
  {
   "cell_type": "code",
   "execution_count": 8,
   "metadata": {},
   "outputs": [
    {
     "data": {
      "text/html": [
       "<div>\n",
       "<style scoped>\n",
       "    .dataframe tbody tr th:only-of-type {\n",
       "        vertical-align: middle;\n",
       "    }\n",
       "\n",
       "    .dataframe tbody tr th {\n",
       "        vertical-align: top;\n",
       "    }\n",
       "\n",
       "    .dataframe thead th {\n",
       "        text-align: right;\n",
       "    }\n",
       "</style>\n",
       "<table border=\"1\" class=\"dataframe\">\n",
       "  <thead>\n",
       "    <tr style=\"text-align: right;\">\n",
       "      <th></th>\n",
       "      <th>Merchant_Reference</th>\n",
       "      <th>Creation_Date</th>\n",
       "      <th>First_Name</th>\n",
       "      <th>Last_Name</th>\n",
       "      <th>Email</th>\n",
       "      <th>Revenue</th>\n",
       "      <th>Market</th>\n",
       "    </tr>\n",
       "  </thead>\n",
       "  <tbody>\n",
       "    <tr>\n",
       "      <th>0</th>\n",
       "      <td>DE01367852</td>\n",
       "      <td>2021-01-11 08:44:54</td>\n",
       "      <td>Alexander</td>\n",
       "      <td>Meiners</td>\n",
       "      <td>alexander_meiners@web.de</td>\n",
       "      <td>313.92</td>\n",
       "      <td>de_DE</td>\n",
       "    </tr>\n",
       "    <tr>\n",
       "      <th>1</th>\n",
       "      <td>DE01367851</td>\n",
       "      <td>2021-01-11 08:29:07</td>\n",
       "      <td>Olaf</td>\n",
       "      <td>Pfeifer</td>\n",
       "      <td>pfeifer@gigaron.de</td>\n",
       "      <td>269.85</td>\n",
       "      <td>de_DE</td>\n",
       "    </tr>\n",
       "    <tr>\n",
       "      <th>2</th>\n",
       "      <td>DE01367850</td>\n",
       "      <td>2021-01-11 07:51:48</td>\n",
       "      <td>Mark</td>\n",
       "      <td>van Ommeren</td>\n",
       "      <td>markvanommeren@icloud.com</td>\n",
       "      <td>269.95</td>\n",
       "      <td>de_DE</td>\n",
       "    </tr>\n",
       "    <tr>\n",
       "      <th>3</th>\n",
       "      <td>DE01367748</td>\n",
       "      <td>2021-01-11 04:50:29</td>\n",
       "      <td>Hubert</td>\n",
       "      <td>Kinzler</td>\n",
       "      <td>hkinzler@web.de</td>\n",
       "      <td>167.96</td>\n",
       "      <td>de_DE</td>\n",
       "    </tr>\n",
       "    <tr>\n",
       "      <th>4</th>\n",
       "      <td>DE01367659</td>\n",
       "      <td>2021-01-11 00:46:23</td>\n",
       "      <td>Borche</td>\n",
       "      <td>Siljanoski</td>\n",
       "      <td>Borce.siljanoski@gmail.com</td>\n",
       "      <td>139.96</td>\n",
       "      <td>de_DE</td>\n",
       "    </tr>\n",
       "  </tbody>\n",
       "</table>\n",
       "</div>"
      ],
      "text/plain": [
       "  Merchant_Reference       Creation_Date First_Name    Last_Name  \\\n",
       "0         DE01367852 2021-01-11 08:44:54  Alexander      Meiners   \n",
       "1         DE01367851 2021-01-11 08:29:07       Olaf      Pfeifer   \n",
       "2         DE01367850 2021-01-11 07:51:48       Mark  van Ommeren   \n",
       "3         DE01367748 2021-01-11 04:50:29     Hubert      Kinzler   \n",
       "4         DE01367659 2021-01-11 00:46:23     Borche   Siljanoski   \n",
       "\n",
       "                        Email  Revenue Market  \n",
       "0    alexander_meiners@web.de   313.92  de_DE  \n",
       "1          pfeifer@gigaron.de   269.85  de_DE  \n",
       "2   markvanommeren@icloud.com   269.95  de_DE  \n",
       "3             hkinzler@web.de   167.96  de_DE  \n",
       "4  Borce.siljanoski@gmail.com   139.96  de_DE  "
      ]
     },
     "execution_count": 8,
     "metadata": {},
     "output_type": "execute_result"
    }
   ],
   "source": [
    "df_backend.head()"
   ]
  },
  {
   "cell_type": "code",
   "execution_count": 9,
   "metadata": {},
   "outputs": [],
   "source": [
    "df_backend = first_order(df_backend)"
   ]
  },
  {
   "cell_type": "code",
   "execution_count": 10,
   "metadata": {},
   "outputs": [
    {
     "data": {
      "text/html": [
       "<div>\n",
       "<style scoped>\n",
       "    .dataframe tbody tr th:only-of-type {\n",
       "        vertical-align: middle;\n",
       "    }\n",
       "\n",
       "    .dataframe tbody tr th {\n",
       "        vertical-align: top;\n",
       "    }\n",
       "\n",
       "    .dataframe thead th {\n",
       "        text-align: right;\n",
       "    }\n",
       "</style>\n",
       "<table border=\"1\" class=\"dataframe\">\n",
       "  <thead>\n",
       "    <tr style=\"text-align: right;\">\n",
       "      <th></th>\n",
       "      <th>Email</th>\n",
       "      <th>Merchant_Reference</th>\n",
       "      <th>Creation_Date</th>\n",
       "      <th>First_Name</th>\n",
       "      <th>Last_Name</th>\n",
       "      <th>Revenue</th>\n",
       "      <th>Market</th>\n",
       "      <th>Creation_Date_YM</th>\n",
       "      <th>First_Order</th>\n",
       "      <th>First_Order_YM</th>\n",
       "      <th>Customer_Type</th>\n",
       "    </tr>\n",
       "  </thead>\n",
       "  <tbody>\n",
       "    <tr>\n",
       "      <th>0</th>\n",
       "      <td>alexander_meiners@web.de</td>\n",
       "      <td>DE01367852</td>\n",
       "      <td>2021-01-11 08:44:54</td>\n",
       "      <td>Alexander</td>\n",
       "      <td>Meiners</td>\n",
       "      <td>313.92</td>\n",
       "      <td>de_DE</td>\n",
       "      <td>2021-01</td>\n",
       "      <td>2017-01-10 15:46:44</td>\n",
       "      <td>2017-01</td>\n",
       "      <td>Returning</td>\n",
       "    </tr>\n",
       "    <tr>\n",
       "      <th>1</th>\n",
       "      <td>pfeifer@gigaron.de</td>\n",
       "      <td>DE01367851</td>\n",
       "      <td>2021-01-11 08:29:07</td>\n",
       "      <td>Olaf</td>\n",
       "      <td>Pfeifer</td>\n",
       "      <td>269.85</td>\n",
       "      <td>de_DE</td>\n",
       "      <td>2021-01</td>\n",
       "      <td>2016-05-30 17:01:13</td>\n",
       "      <td>2016-05</td>\n",
       "      <td>Returning</td>\n",
       "    </tr>\n",
       "    <tr>\n",
       "      <th>2</th>\n",
       "      <td>markvanommeren@icloud.com</td>\n",
       "      <td>DE01367850</td>\n",
       "      <td>2021-01-11 07:51:48</td>\n",
       "      <td>Mark</td>\n",
       "      <td>van Ommeren</td>\n",
       "      <td>269.95</td>\n",
       "      <td>de_DE</td>\n",
       "      <td>2021-01</td>\n",
       "      <td>2021-01-11 07:51:48</td>\n",
       "      <td>2021-01</td>\n",
       "      <td>New</td>\n",
       "    </tr>\n",
       "    <tr>\n",
       "      <th>3</th>\n",
       "      <td>hkinzler@web.de</td>\n",
       "      <td>DE01367748</td>\n",
       "      <td>2021-01-11 04:50:29</td>\n",
       "      <td>Hubert</td>\n",
       "      <td>Kinzler</td>\n",
       "      <td>167.96</td>\n",
       "      <td>de_DE</td>\n",
       "      <td>2021-01</td>\n",
       "      <td>2021-01-03 12:14:08</td>\n",
       "      <td>2021-01</td>\n",
       "      <td>Returning</td>\n",
       "    </tr>\n",
       "    <tr>\n",
       "      <th>4</th>\n",
       "      <td>borce.siljanoski@gmail.com</td>\n",
       "      <td>DE01367659</td>\n",
       "      <td>2021-01-11 00:46:23</td>\n",
       "      <td>Borche</td>\n",
       "      <td>Siljanoski</td>\n",
       "      <td>139.96</td>\n",
       "      <td>de_DE</td>\n",
       "      <td>2021-01</td>\n",
       "      <td>2020-08-26 11:37:59</td>\n",
       "      <td>2020-08</td>\n",
       "      <td>Returning</td>\n",
       "    </tr>\n",
       "  </tbody>\n",
       "</table>\n",
       "</div>"
      ],
      "text/plain": [
       "                        Email Merchant_Reference       Creation_Date  \\\n",
       "0    alexander_meiners@web.de         DE01367852 2021-01-11 08:44:54   \n",
       "1          pfeifer@gigaron.de         DE01367851 2021-01-11 08:29:07   \n",
       "2   markvanommeren@icloud.com         DE01367850 2021-01-11 07:51:48   \n",
       "3             hkinzler@web.de         DE01367748 2021-01-11 04:50:29   \n",
       "4  borce.siljanoski@gmail.com         DE01367659 2021-01-11 00:46:23   \n",
       "\n",
       "  First_Name    Last_Name  Revenue Market Creation_Date_YM  \\\n",
       "0  Alexander      Meiners   313.92  de_DE          2021-01   \n",
       "1       Olaf      Pfeifer   269.85  de_DE          2021-01   \n",
       "2       Mark  van Ommeren   269.95  de_DE          2021-01   \n",
       "3     Hubert      Kinzler   167.96  de_DE          2021-01   \n",
       "4     Borche   Siljanoski   139.96  de_DE          2021-01   \n",
       "\n",
       "          First_Order First_Order_YM Customer_Type  \n",
       "0 2017-01-10 15:46:44        2017-01     Returning  \n",
       "1 2016-05-30 17:01:13        2016-05     Returning  \n",
       "2 2021-01-11 07:51:48        2021-01           New  \n",
       "3 2021-01-03 12:14:08        2021-01     Returning  \n",
       "4 2020-08-26 11:37:59        2020-08     Returning  "
      ]
     },
     "execution_count": 10,
     "metadata": {},
     "output_type": "execute_result"
    }
   ],
   "source": [
    "df_backend.head()"
   ]
  },
  {
   "cell_type": "code",
   "execution_count": 11,
   "metadata": {},
   "outputs": [],
   "source": [
    "# Setup maximum date for Recency calculation on training dataset\n",
    "max_date = df_backend.Creation_Date.max()\n"
   ]
  },
  {
   "cell_type": "code",
   "execution_count": 12,
   "metadata": {},
   "outputs": [],
   "source": [
    "# Create the RFM table\n",
    "rfm = df_backend.groupby('Email').agg({'Creation_Date': lambda x: (max_date - x.max()).days,\n",
    "                                                   'Merchant_Reference': lambda num: len(num),\n",
    "                                                   'Revenue': lambda price: price.mean()})"
   ]
  },
  {
   "cell_type": "code",
   "execution_count": 13,
   "metadata": {},
   "outputs": [],
   "source": [
    "# Reset Index\n",
    "rfm.reset_index(inplace=True)\n",
    "\n",
    "# Change the name of the columns\n",
    "rfm.columns=['email','recency','frequency','monetary_value']"
   ]
  },
  {
   "cell_type": "code",
   "execution_count": 14,
   "metadata": {},
   "outputs": [],
   "source": [
    "# Purchase Frequency\n",
    "purchase_frequency=sum(rfm['frequency'])/rfm.shape[0]"
   ]
  },
  {
   "cell_type": "code",
   "execution_count": 15,
   "metadata": {},
   "outputs": [],
   "source": [
    "# Repeat Rate\n",
    "repeat_rate=rfm[rfm.frequency > 1].shape[0]/rfm.shape[0]"
   ]
  },
  {
   "cell_type": "code",
   "execution_count": 16,
   "metadata": {},
   "outputs": [],
   "source": [
    "# Churn Rate\n",
    "churn_rate=1-repeat_rate"
   ]
  },
  {
   "cell_type": "code",
   "execution_count": 17,
   "metadata": {},
   "outputs": [
    {
     "data": {
      "text/plain": [
       "(1.9131350246681667, 0.368639431909667, 0.6313605680903329)"
      ]
     },
     "execution_count": 17,
     "metadata": {},
     "output_type": "execute_result"
    }
   ],
   "source": [
    "purchase_frequency,repeat_rate,churn_rate"
   ]
  },
  {
   "cell_type": "code",
   "execution_count": 18,
   "metadata": {},
   "outputs": [],
   "source": [
    "# Customer Value\n",
    "rfm['CLV']=(rfm['monetary_value']*purchase_frequency)/churn_rate"
   ]
  },
  {
   "cell_type": "code",
   "execution_count": 19,
   "metadata": {},
   "outputs": [],
   "source": [
    "active = rfm[rfm.recency<=180].email.unique()\n",
    "inactive = rfm[rfm.recency>180].email.unique()"
   ]
  },
  {
   "cell_type": "code",
   "execution_count": 20,
   "metadata": {},
   "outputs": [],
   "source": [
    "active_list = df_backend[df_backend.Email.isin(active)]\n",
    "inactive_list = df_backend[df_backend.Email.isin(inactive)]"
   ]
  },
  {
   "cell_type": "code",
   "execution_count": 21,
   "metadata": {},
   "outputs": [
    {
     "data": {
      "text/plain": [
       "((25491, 11), (67187, 11))"
      ]
     },
     "execution_count": 21,
     "metadata": {},
     "output_type": "execute_result"
    }
   ],
   "source": [
    "active_list.shape, inactive_list.shape"
   ]
  },
  {
   "cell_type": "code",
   "execution_count": 22,
   "metadata": {},
   "outputs": [],
   "source": [
    "active_list.to_csv('./Outputs/FvB_Active_13012021.csv', index=False)\n",
    "inactive_list.to_csv('./Outputs/FvB_Inactive_13012021.csv', index=False)"
   ]
  },
  {
   "cell_type": "code",
   "execution_count": 23,
   "metadata": {},
   "outputs": [],
   "source": [
    "df_backend['Year'] = df_backend.Creation_Date.dt.year.astype(int)"
   ]
  },
  {
   "cell_type": "code",
   "execution_count": 24,
   "metadata": {},
   "outputs": [],
   "source": [
    "df_backend['Quarter'] = df_backend.Creation_Date.dt.quarter.astype(int)"
   ]
  },
  {
   "cell_type": "code",
   "execution_count": 25,
   "metadata": {},
   "outputs": [],
   "source": [
    "trans_summary_de =  pd.DataFrame()\n",
    "trans_summary_at =  pd.DataFrame()\n",
    "\n",
    "trans_month_de = df_backend[df_backend['Market']=='de_DE'].groupby(['Creation_Date_YM','Customer_Type']).agg({'Merchant_Reference':pd.Series.nunique, 'Revenue':pd.Series.sum}).unstack(1).fillna(0).reset_index()\n",
    "trans_month_de.rename(columns={'Merchant_Reference':'All_Orders','Value':'All_Revenue'},inplace=True)\n",
    "\n",
    "trans_month_at = df_backend[df_backend['Market']=='de_AT'].groupby(['Creation_Date_YM','Customer_Type']).agg({'Merchant_Reference':pd.Series.nunique, 'Revenue':pd.Series.sum}).unstack(1).fillna(0).reset_index()\n",
    "trans_month_at.rename(columns={'Merchant_Reference':'All_Orders','Value':'All_Revenue'},inplace=True)"
   ]
  },
  {
   "cell_type": "code",
   "execution_count": 26,
   "metadata": {},
   "outputs": [],
   "source": [
    "trans_month_de = trans_month_de.set_index('Creation_Date_YM')"
   ]
  },
  {
   "cell_type": "code",
   "execution_count": 27,
   "metadata": {},
   "outputs": [],
   "source": [
    "trans_month_de.columns = trans_month_de.columns.droplevel()"
   ]
  },
  {
   "cell_type": "code",
   "execution_count": 28,
   "metadata": {},
   "outputs": [],
   "source": [
    "trans_month_de.columns = ['New_Orders','Ret_Orders','New_Rev','Ret_Rev']"
   ]
  },
  {
   "cell_type": "code",
   "execution_count": 29,
   "metadata": {},
   "outputs": [],
   "source": [
    "trans_month_de['AOV_New'] = trans_month_de['New_Rev']/trans_month_de['New_Orders']\n",
    "trans_month_de['AOV_Ret'] = trans_month_de['Ret_Rev']/trans_month_de['Ret_Orders']"
   ]
  },
  {
   "cell_type": "code",
   "execution_count": 30,
   "metadata": {},
   "outputs": [],
   "source": [
    "trans_month_de = trans_month_de.astype(int)"
   ]
  },
  {
   "cell_type": "code",
   "execution_count": 31,
   "metadata": {},
   "outputs": [],
   "source": [
    "trans_month_de.to_clipboard()"
   ]
  },
  {
   "cell_type": "code",
   "execution_count": 32,
   "metadata": {},
   "outputs": [
    {
     "data": {
      "text/html": [
       "<div>\n",
       "<style scoped>\n",
       "    .dataframe tbody tr th:only-of-type {\n",
       "        vertical-align: middle;\n",
       "    }\n",
       "\n",
       "    .dataframe tbody tr th {\n",
       "        vertical-align: top;\n",
       "    }\n",
       "\n",
       "    .dataframe thead th {\n",
       "        text-align: right;\n",
       "    }\n",
       "</style>\n",
       "<table border=\"1\" class=\"dataframe\">\n",
       "  <thead>\n",
       "    <tr style=\"text-align: right;\">\n",
       "      <th></th>\n",
       "      <th>New_Orders</th>\n",
       "      <th>Ret_Orders</th>\n",
       "      <th>New_Rev</th>\n",
       "      <th>Ret_Rev</th>\n",
       "      <th>AOV_New</th>\n",
       "      <th>AOV_Ret</th>\n",
       "    </tr>\n",
       "    <tr>\n",
       "      <th>Creation_Date_YM</th>\n",
       "      <th></th>\n",
       "      <th></th>\n",
       "      <th></th>\n",
       "      <th></th>\n",
       "      <th></th>\n",
       "      <th></th>\n",
       "    </tr>\n",
       "  </thead>\n",
       "  <tbody>\n",
       "    <tr>\n",
       "      <th>2016-01</th>\n",
       "      <td>48</td>\n",
       "      <td>4</td>\n",
       "      <td>20231</td>\n",
       "      <td>1579</td>\n",
       "      <td>421</td>\n",
       "      <td>394</td>\n",
       "    </tr>\n",
       "    <tr>\n",
       "      <th>2016-02</th>\n",
       "      <td>254</td>\n",
       "      <td>41</td>\n",
       "      <td>89204</td>\n",
       "      <td>12404</td>\n",
       "      <td>351</td>\n",
       "      <td>302</td>\n",
       "    </tr>\n",
       "    <tr>\n",
       "      <th>2016-03</th>\n",
       "      <td>367</td>\n",
       "      <td>78</td>\n",
       "      <td>120661</td>\n",
       "      <td>22638</td>\n",
       "      <td>328</td>\n",
       "      <td>290</td>\n",
       "    </tr>\n",
       "    <tr>\n",
       "      <th>2016-04</th>\n",
       "      <td>387</td>\n",
       "      <td>114</td>\n",
       "      <td>121669</td>\n",
       "      <td>30574</td>\n",
       "      <td>314</td>\n",
       "      <td>268</td>\n",
       "    </tr>\n",
       "    <tr>\n",
       "      <th>2016-05</th>\n",
       "      <td>352</td>\n",
       "      <td>96</td>\n",
       "      <td>114144</td>\n",
       "      <td>28325</td>\n",
       "      <td>324</td>\n",
       "      <td>295</td>\n",
       "    </tr>\n",
       "    <tr>\n",
       "      <th>...</th>\n",
       "      <td>...</td>\n",
       "      <td>...</td>\n",
       "      <td>...</td>\n",
       "      <td>...</td>\n",
       "      <td>...</td>\n",
       "      <td>...</td>\n",
       "    </tr>\n",
       "    <tr>\n",
       "      <th>2020-09</th>\n",
       "      <td>656</td>\n",
       "      <td>847</td>\n",
       "      <td>207007</td>\n",
       "      <td>272540</td>\n",
       "      <td>315</td>\n",
       "      <td>321</td>\n",
       "    </tr>\n",
       "    <tr>\n",
       "      <th>2020-10</th>\n",
       "      <td>943</td>\n",
       "      <td>998</td>\n",
       "      <td>308536</td>\n",
       "      <td>348214</td>\n",
       "      <td>327</td>\n",
       "      <td>348</td>\n",
       "    </tr>\n",
       "    <tr>\n",
       "      <th>2020-11</th>\n",
       "      <td>1095</td>\n",
       "      <td>1202</td>\n",
       "      <td>325332</td>\n",
       "      <td>359377</td>\n",
       "      <td>297</td>\n",
       "      <td>298</td>\n",
       "    </tr>\n",
       "    <tr>\n",
       "      <th>2020-12</th>\n",
       "      <td>1204</td>\n",
       "      <td>1292</td>\n",
       "      <td>287158</td>\n",
       "      <td>315556</td>\n",
       "      <td>238</td>\n",
       "      <td>244</td>\n",
       "    </tr>\n",
       "    <tr>\n",
       "      <th>2021-01</th>\n",
       "      <td>399</td>\n",
       "      <td>455</td>\n",
       "      <td>99026</td>\n",
       "      <td>111018</td>\n",
       "      <td>248</td>\n",
       "      <td>243</td>\n",
       "    </tr>\n",
       "  </tbody>\n",
       "</table>\n",
       "<p>61 rows × 6 columns</p>\n",
       "</div>"
      ],
      "text/plain": [
       "                  New_Orders  Ret_Orders  New_Rev  Ret_Rev  AOV_New  AOV_Ret\n",
       "Creation_Date_YM                                                            \n",
       "2016-01                   48           4    20231     1579      421      394\n",
       "2016-02                  254          41    89204    12404      351      302\n",
       "2016-03                  367          78   120661    22638      328      290\n",
       "2016-04                  387         114   121669    30574      314      268\n",
       "2016-05                  352          96   114144    28325      324      295\n",
       "...                      ...         ...      ...      ...      ...      ...\n",
       "2020-09                  656         847   207007   272540      315      321\n",
       "2020-10                  943         998   308536   348214      327      348\n",
       "2020-11                 1095        1202   325332   359377      297      298\n",
       "2020-12                 1204        1292   287158   315556      238      244\n",
       "2021-01                  399         455    99026   111018      248      243\n",
       "\n",
       "[61 rows x 6 columns]"
      ]
     },
     "execution_count": 32,
     "metadata": {},
     "output_type": "execute_result"
    }
   ],
   "source": [
    "trans_month_de"
   ]
  },
  {
   "cell_type": "markdown",
   "metadata": {},
   "source": [
    "## Dumping Data"
   ]
  },
  {
   "cell_type": "code",
   "execution_count": 31,
   "metadata": {},
   "outputs": [],
   "source": [
    "from gspread_pandas import Spread, Client"
   ]
  },
  {
   "cell_type": "code",
   "execution_count": 32,
   "metadata": {},
   "outputs": [],
   "source": [
    "fvb_mt_sheet = Spread('Data Dump - PC + FvB MT')"
   ]
  },
  {
   "cell_type": "code",
   "execution_count": 33,
   "metadata": {},
   "outputs": [],
   "source": [
    "# Push Transactions\n",
    "fvb_mt_sheet.df_to_sheet(trans_month_de, index=True, sheet='FvB', start='A1', replace=True)"
   ]
  }
 ],
 "metadata": {
  "kernelspec": {
   "display_name": "Python 3",
   "language": "python",
   "name": "python3"
  },
  "language_info": {
   "codemirror_mode": {
    "name": "ipython",
    "version": 3
   },
   "file_extension": ".py",
   "mimetype": "text/x-python",
   "name": "python",
   "nbconvert_exporter": "python",
   "pygments_lexer": "ipython3",
   "version": "3.8.5"
  }
 },
 "nbformat": 4,
 "nbformat_minor": 4
}

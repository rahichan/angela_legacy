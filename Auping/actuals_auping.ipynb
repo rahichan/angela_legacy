{
 "cells": [
  {
   "cell_type": "code",
   "execution_count": 1,
   "metadata": {},
   "outputs": [],
   "source": [
    "import pandas as pd\n",
    "import numpy as np\n",
    "import datetime as dt\n",
    "import glob\n",
    "import mysql.connector\n",
    "from mysql.connector import Error"
   ]
  },
  {
   "cell_type": "markdown",
   "metadata": {},
   "source": [
    "### Data Load"
   ]
  },
  {
   "cell_type": "code",
   "execution_count": 30,
   "metadata": {},
   "outputs": [],
   "source": [
    "query_analytics = 'SELECT * FROM analytics_perf ap WHERE Account = \"AUPING\"'\n",
    "query_adwords = 'SELECT aaas.Observation, aac.Name as \"campaign_name\", SUM(aaas.Impr) AS \"impressions\", SUM(aaas.Clicks) AS \"clicks\", SUM(aaas.Cost) AS \"cost\" FROM api_adwords.api_adwords_ag_stats aaas JOIN api_adwords.api_adwords_adgroups aaa on aaa.ID = aaas.Adgroup_ID JOIN api_adwords.api_adwords_campaigns aac on aac.ID = aaa.Campaign_ID JOIN api_adwords.api_adwords_accounts aaa2 on aaa2.ID = aaa.Account_ID WHERE aaa2.ID = \"1721160889\" GROUP BY 1,2;'\n",
    "query_facebook = 'SELECT * FROM api_facebook.campaign_report WHERE Account_ID = \"349341975655507\"'"
   ]
  },
  {
   "cell_type": "code",
   "execution_count": 52,
   "metadata": {},
   "outputs": [
    {
     "name": "stdout",
     "output_type": "stream",
     "text": [
      "Connected to MySQL Server version  8.0.16\n",
      "Your connected to database:  ('api_analytics',)\n",
      "MySQL connection is closed\n"
     ]
    }
   ],
   "source": [
    "try:\n",
    "    connection = mysql.connector.connect(host='attribution-system-fsg-new.cob86lv75rzo.eu-west-1.rds.amazonaws.com',\n",
    "                                         database='api_analytics',\n",
    "                                         user='fsg',\n",
    "                                         password='Attribution3.0')\n",
    "\n",
    "    if connection.is_connected():\n",
    "        db_Info = connection.get_server_info()\n",
    "        print(\"Connected to MySQL Server version \", db_Info)\n",
    "        cursor = connection.cursor()\n",
    "        cursor.execute(\"select database();\")\n",
    "        record = cursor.fetchone()\n",
    "        print(\"Your connected to database: \", record)\n",
    "        df_ga = pd.read_sql(query_analytics,con=connection)\n",
    "        df_aw = pd.read_sql(query_adwords,con=connection)\n",
    "        df_fb = pd.read_sql(query_facebook,con=connection)\n",
    "\n",
    "except Error as e:\n",
    "    print(\"Error while connecting to MySQL\", e)\n",
    "finally:\n",
    "    if (connection.is_connected()):\n",
    "        cursor.close()\n",
    "        connection.close()\n",
    "        print(\"MySQL connection is closed\")"
   ]
  },
  {
   "cell_type": "markdown",
   "metadata": {},
   "source": [
    "### Transformations"
   ]
  },
  {
   "cell_type": "code",
   "execution_count": 53,
   "metadata": {},
   "outputs": [],
   "source": [
    "def channel_fb(col):\n",
    "    if ('| 01 |' not in col) & ('Post:' not in col) & ('Beitrag:' not in col):\n",
    "        return \"Social Paid\"\n",
    "    elif '| 01 |' in col:\n",
    "        return \"Social Remarketing\"\n",
    "    elif ('Post:' in col) | ('Beitrag:' in col):\n",
    "        return \"Social Organic\"\n",
    "    else:\n",
    "        return \"Unknown\"\n",
    "    \n",
    "def channel_aw(col):\n",
    "    if ('Brand' in col) | ('Generic Produkte' in col) & ('NB' not in col) & ('GSC' not in col):\n",
    "        return \"SEA - Brand\"\n",
    "    elif ('Brand' not in col) & ('NB' in col) & ('GSC' not in col):\n",
    "        return \"SEA - Non Brand\"    \n",
    "    elif ('Brand' in col) & ('NB' not in col) & ('GSC' in col):\n",
    "        return \"Shopping - Brand\"   \n",
    "    elif ('Brand' not in col) & ('NB' in col) & ('GSC' in col):\n",
    "        return \"Shopping - Non Brand\"  \n",
    "    elif 'Display' in col:\n",
    "        return \"Display\"\n",
    "    elif 'Remarketing' in col:\n",
    "        return \"Google Remarketing\"\n",
    "    elif 'YT' in col:\n",
    "        return \"Video Marketing\"\n",
    "    else:\n",
    "        return \"Unknown\"\n",
    "        "
   ]
  },
  {
   "cell_type": "code",
   "execution_count": 54,
   "metadata": {},
   "outputs": [
    {
     "name": "stderr",
     "output_type": "stream",
     "text": [
      "C:\\Users\\Adrian\\Anaconda3\\lib\\site-packages\\ipykernel_launcher.py:6: FutureWarning: The default value of regex will change from True to False in a future version. In addition, single character regular expressions will*not* be treated as literal strings when regex=True.\n",
      "  \n"
     ]
    }
   ],
   "source": [
    "df_ga.columns = df_ga.columns.str.lower()\n",
    "df_ga['observation'] = pd.to_datetime(df_ga['observation'])\n",
    "df_ga.channelgrouping = df_ga.channelgrouping.str.replace('SEA - Non-Brand\\t','SEA - Non Brand')\n",
    "df_ga.channelgrouping = df_ga.channelgrouping.str.replace('SEA - Non-Brand','SEA - Non Brand')\n",
    "df_ga.channelgrouping = df_ga.channelgrouping.str.replace('Shopping - Non-Brand','Shopping - Non Brand')\n",
    "df_ga.channelgrouping = df_ga.channelgrouping.str.replace('(','').str.replace(')','').str.replace('Other','Unknown')\n",
    "df_ga.channelgrouping = df_ga.channelgrouping.str.replace('Video Paid','Video Marketing')\n",
    "df_ga['year_month'] = df_ga.observation.dt.strftime(\"%Y-%m\")\n",
    "df_ga = df_ga.rename(columns={'channelgrouping':'channel'})"
   ]
  },
  {
   "cell_type": "code",
   "execution_count": 55,
   "metadata": {
    "scrolled": true
   },
   "outputs": [
    {
     "data": {
      "text/plain": [
       "Index(['Observation', 'Campaign_ID', 'Campaign_Name', 'Account_ID',\n",
       "       'Account_Name', 'Market', 'Device', 'Impr', 'Reach', 'Frequency',\n",
       "       'Page_Likes', 'Clicks', 'Website_Clicks', 'Cost', 'FB_Conv',\n",
       "       'Total_Revenue', 'Website_Revenue', 'Unique_Clicks', 'Add_to_Cart',\n",
       "       'Post_Engagement', 'Landing_Page_Views'],\n",
       "      dtype='object')"
      ]
     },
     "execution_count": 55,
     "metadata": {},
     "output_type": "execute_result"
    }
   ],
   "source": [
    "df_fb.columns"
   ]
  },
  {
   "cell_type": "code",
   "execution_count": 56,
   "metadata": {},
   "outputs": [],
   "source": [
    "# Adwords Transformation\n",
    "df_aw.columns = df_aw.columns.str.lower()\n",
    "df_aw['observation'] = pd.to_datetime(df_aw['observation'])\n",
    "df_aw['channel'] = df_aw['campaign_name'].apply(channel_aw)\n",
    "df_aw['year_month'] = df_aw.observation.dt.strftime(\"%Y-%m\")"
   ]
  },
  {
   "cell_type": "code",
   "execution_count": 57,
   "metadata": {},
   "outputs": [],
   "source": [
    "# Facebook Transformation\n",
    "df_fb.columns = df_fb.columns.str.lower()\n",
    "df_fb['observation'] = pd.to_datetime(df_fb['observation'])\n",
    "df_fb['channel'] = df_fb['campaign_name'].apply(channel_fb)\n",
    "df_fb['year_month'] = df_fb.observation.dt.strftime(\"%Y-%m\")\n",
    "df_fb = df_fb.rename(columns={'impr':'impressions'})"
   ]
  },
  {
   "cell_type": "markdown",
   "metadata": {},
   "source": [
    "### Aggregations"
   ]
  },
  {
   "cell_type": "code",
   "execution_count": 58,
   "metadata": {},
   "outputs": [],
   "source": [
    "ga_summary = df_ga.groupby(['year_month','channel']).agg({\n",
    "    \n",
    "    'transactionrevenue':pd.Series.sum,\n",
    "    'sessions':pd.Series.sum,\n",
    "    'sessionduration':pd.Series.mean,\n",
    "    'transactions':pd.Series.sum,\n",
    "    'productaddstocart':pd.Series.sum,\n",
    "    'bounces':pd.Series.sum, \n",
    "    'pageviews':pd.Series.sum,\n",
    "    'newusers':pd.Series.sum,\n",
    "    'goal1completions':pd.Series.sum,\n",
    "    'goal2completions':pd.Series.sum, \n",
    "    'goal3completions':pd.Series.sum,\n",
    "    'goal4completions':pd.Series.sum, \n",
    "    'goal5completions':pd.Series.sum,\n",
    "    'goal6completions':pd.Series.sum,\n",
    "    'goal7completions':pd.Series.sum,\n",
    "    'goal8completions':pd.Series.sum,\n",
    "    'goal9completions':pd.Series.sum,\n",
    "    'goal10completions':pd.Series.sum, \n",
    "    'goal11completions':pd.Series.sum,\n",
    "    'goal12completions':pd.Series.sum, \n",
    "    'goal13completions':pd.Series.sum,\n",
    "    'goal14completions':pd.Series.sum,\n",
    "    'goal15completions':pd.Series.sum,\n",
    "    'goal16completions':pd.Series.sum,\n",
    "    'goal17completions':pd.Series.sum, \n",
    "    'goal19completions':pd.Series.sum,\n",
    "    'goal20completions':pd.Series.sum\n",
    "    \n",
    "}).add_suffix('_ga').reset_index()"
   ]
  },
  {
   "cell_type": "code",
   "execution_count": 59,
   "metadata": {},
   "outputs": [],
   "source": [
    "aw_summary = df_aw.groupby(['year_month','channel']).agg({\n",
    "    \n",
    "    'impressions':pd.Series.sum,\n",
    "    'clicks':pd.Series.sum,\n",
    "    'cost':pd.Series.sum\n",
    "    \n",
    "}).add_suffix('_aw')"
   ]
  },
  {
   "cell_type": "code",
   "execution_count": 60,
   "metadata": {},
   "outputs": [],
   "source": [
    "fb_summary = df_fb.groupby(['year_month','channel']).agg({\n",
    "    \n",
    "    'impressions':pd.Series.sum,\n",
    "    'reach':pd.Series.sum,\n",
    "    'frequency':pd.Series.mean,\n",
    "    'page_likes':pd.Series.sum,\n",
    "    'clicks':pd.Series.sum,\n",
    "    'website_clicks':pd.Series.sum, \n",
    "    'cost':pd.Series.sum,\n",
    "    'fb_conv':pd.Series.sum,\n",
    "    'total_revenue':pd.Series.sum,\n",
    "    'website_revenue':pd.Series.sum, \n",
    "    'unique_clicks':pd.Series.sum,\n",
    "    'add_to_cart':pd.Series.sum, \n",
    "    'post_engagement':pd.Series.sum,\n",
    "    'landing_page_views':pd.Series.sum\n",
    "    \n",
    "}).add_suffix('_fb')"
   ]
  },
  {
   "cell_type": "markdown",
   "metadata": {},
   "source": [
    "### Reindexing"
   ]
  },
  {
   "cell_type": "code",
   "execution_count": 61,
   "metadata": {},
   "outputs": [],
   "source": [
    "ym_idx = ga_summary.year_month.unique()\n",
    "channel_idx = ga_summary.channel.unique()"
   ]
  },
  {
   "cell_type": "code",
   "execution_count": 62,
   "metadata": {},
   "outputs": [],
   "source": [
    "join_idx = pd.MultiIndex.from_product([ym_idx,channel_idx], names = ['year_month','channel'])"
   ]
  },
  {
   "cell_type": "code",
   "execution_count": 63,
   "metadata": {},
   "outputs": [],
   "source": [
    "ga_summary = ga_summary.set_index(['year_month','channel'])\n",
    "aw_summary = aw_summary.reindex(join_idx,fill_value=0)\n",
    "fb_summary = fb_summary.reindex(join_idx,fill_value=0)"
   ]
  },
  {
   "cell_type": "code",
   "execution_count": 64,
   "metadata": {},
   "outputs": [],
   "source": [
    "dataframes = [ga_summary, aw_summary, fb_summary]"
   ]
  },
  {
   "cell_type": "code",
   "execution_count": 65,
   "metadata": {},
   "outputs": [],
   "source": [
    "from functools import reduce\n",
    "combined_summary = reduce(lambda left,right: pd.merge(left, right, on = ['year_month','channel'], how='outer'), dataframes).fillna(0)"
   ]
  },
  {
   "cell_type": "code",
   "execution_count": 66,
   "metadata": {},
   "outputs": [],
   "source": [
    "combined_summary['total_impression'] = combined_summary['impressions_aw'] + combined_summary['impressions_fb']\n",
    "combined_summary['total_clicks'] = combined_summary['clicks_aw'] + combined_summary['clicks_fb']\n",
    "combined_summary['total_costs'] = combined_summary['cost_aw'] + combined_summary['cost_fb']\n",
    "combined_summary['bounce_rate'] = np.divide(combined_summary['bounces_ga'],combined_summary['sessions_ga']).replace(np.inf, 0)*100"
   ]
  },
  {
   "cell_type": "code",
   "execution_count": 67,
   "metadata": {
    "scrolled": true
   },
   "outputs": [],
   "source": [
    "combined_summary = combined_summary.astype(str)"
   ]
  },
  {
   "cell_type": "code",
   "execution_count": 68,
   "metadata": {},
   "outputs": [],
   "source": [
    "combined_summary = combined_summary.applymap(lambda x: str(x.replace('.',',')))"
   ]
  },
  {
   "cell_type": "code",
   "execution_count": 69,
   "metadata": {},
   "outputs": [],
   "source": [
    "combined_summary = combined_summary.reset_index()"
   ]
  },
  {
   "cell_type": "markdown",
   "metadata": {},
   "source": [
    "### Data Export"
   ]
  },
  {
   "cell_type": "code",
   "execution_count": 70,
   "metadata": {},
   "outputs": [],
   "source": [
    "from gspread_pandas import Spread, Client"
   ]
  },
  {
   "cell_type": "code",
   "execution_count": 71,
   "metadata": {},
   "outputs": [],
   "source": [
    "auping_sheet = Spread('1oKpB_2rGbKvjmLyuZGbXz9WdRw8llNEdzzOpVEgV6vw')"
   ]
  },
  {
   "cell_type": "code",
   "execution_count": 72,
   "metadata": {},
   "outputs": [],
   "source": [
    "auping_sheet.df_to_sheet(combined_summary, index=False, sheet='ACTUALS_DUMP', start='A1', replace=True)"
   ]
  }
 ],
 "metadata": {
  "kernelspec": {
   "display_name": "Python 3",
   "language": "python",
   "name": "python3"
  },
  "language_info": {
   "codemirror_mode": {
    "name": "ipython",
    "version": 3
   },
   "file_extension": ".py",
   "mimetype": "text/x-python",
   "name": "python",
   "nbconvert_exporter": "python",
   "pygments_lexer": "ipython3",
   "version": "3.8.5"
  }
 },
 "nbformat": 4,
 "nbformat_minor": 4
}

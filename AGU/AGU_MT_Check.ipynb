{
 "cells": [
  {
   "cell_type": "code",
   "execution_count": 1,
   "metadata": {},
   "outputs": [],
   "source": [
    "import pandas as pd\n",
    "import numpy as np\n",
    "import datetime as dt"
   ]
  },
  {
   "cell_type": "code",
   "execution_count": 66,
   "metadata": {},
   "outputs": [],
   "source": [
    "df_backend = pd.read_csv('./Data/AGU_Orders_Backend.csv')\n",
    "df_returns = pd.read_csv('./Data/AGU_Returns_Backend.csv')"
   ]
  },
  {
   "cell_type": "code",
   "execution_count": 67,
   "metadata": {},
   "outputs": [
    {
     "data": {
      "text/plain": [
       "Index(['ID', 'Purchase Point', 'Purchase Date', 'Bill-to Name', 'Ship-to Name',\n",
       "       'Grand Total (Base)', 'Grand Total (Purchased)', 'Status',\n",
       "       'Billing Address', 'Shipping Address', 'Shipping Information',\n",
       "       'Customer Email', 'Customer Group', 'Subtotal', 'Shipping and Handling',\n",
       "       'Customer Name', 'Payment Method', 'Total Refunded', 'Company Name',\n",
       "       'Signifyd Guarantee Decision', 'Allocated sources', 'CE Channel',\n",
       "       'CE Channel Order No', 'Channable ID', 'Marketplace ID',\n",
       "       'Marketplace Name', 'Marketplace Label'],\n",
       "      dtype='object')"
      ]
     },
     "execution_count": 67,
     "metadata": {},
     "output_type": "execute_result"
    }
   ],
   "source": [
    "df_backend.columns"
   ]
  },
  {
   "cell_type": "code",
   "execution_count": 68,
   "metadata": {},
   "outputs": [
    {
     "data": {
      "text/plain": [
       "Index(['Credit Memo', 'Created', 'Order #', 'Order Date', 'Bill-to Name',\n",
       "       'Status', 'Refunded', 'Order Status', 'Purchased From',\n",
       "       'Billing Address', 'Shipping Address', 'Customer Name', 'Email',\n",
       "       'Customer Group', 'Payment Method', 'Shipping Information', 'Subtotal',\n",
       "       'Shipping & Handling', 'Adjustment Refund', 'Adjustment Fee',\n",
       "       'Grand Total'],\n",
       "      dtype='object')"
      ]
     },
     "execution_count": 68,
     "metadata": {},
     "output_type": "execute_result"
    }
   ],
   "source": [
    "df_returns.columns"
   ]
  },
  {
   "cell_type": "code",
   "execution_count": 69,
   "metadata": {},
   "outputs": [],
   "source": [
    "df = df_backend.loc[:,['ID','Purchase Date','Grand Total (Purchased)','Total Refunded','Subtotal','Status','Customer Email']]"
   ]
  },
  {
   "cell_type": "code",
   "execution_count": 70,
   "metadata": {},
   "outputs": [],
   "source": [
    "df = df[df.Status.isin(['processing','closed','complete'])]"
   ]
  },
  {
   "cell_type": "code",
   "execution_count": 71,
   "metadata": {},
   "outputs": [],
   "source": [
    "returns = df_returns.loc[:,['Credit Memo','Created','Order #','Order Date', 'Refunded','Email']]"
   ]
  },
  {
   "cell_type": "code",
   "execution_count": 72,
   "metadata": {},
   "outputs": [
    {
     "data": {
      "text/plain": [
       "array(['complete', 'closed', 'processing'], dtype=object)"
      ]
     },
     "execution_count": 72,
     "metadata": {},
     "output_type": "execute_result"
    }
   ],
   "source": [
    "df.Status.unique()"
   ]
  },
  {
   "cell_type": "code",
   "execution_count": 73,
   "metadata": {},
   "outputs": [
    {
     "name": "stdout",
     "output_type": "stream",
     "text": [
      "<class 'pandas.core.frame.DataFrame'>\n",
      "Int64Index: 4590 entries, 1 to 5479\n",
      "Data columns (total 7 columns):\n",
      "ID                         4590 non-null int64\n",
      "Purchase Date              4590 non-null object\n",
      "Grand Total (Purchased)    4590 non-null float64\n",
      "Total Refunded             1364 non-null float64\n",
      "Subtotal                   4590 non-null float64\n",
      "Status                     4590 non-null object\n",
      "Customer Email             4590 non-null object\n",
      "dtypes: float64(3), int64(1), object(3)\n",
      "memory usage: 286.9+ KB\n"
     ]
    }
   ],
   "source": [
    "df.info()"
   ]
  },
  {
   "cell_type": "code",
   "execution_count": 74,
   "metadata": {},
   "outputs": [],
   "source": [
    "df.rename(columns={'Grand Total (Purchased)':'Revenue', 'Total Refunded':'Returns'},inplace=True)"
   ]
  },
  {
   "cell_type": "code",
   "execution_count": 75,
   "metadata": {},
   "outputs": [],
   "source": [
    "df['Date'] = pd.to_datetime(pd.to_datetime(df['Purchase Date']).dt.date)\n",
    "returns['Date'] = pd.to_datetime(pd.to_datetime(returns['Created']).dt.date)"
   ]
  },
  {
   "cell_type": "code",
   "execution_count": 76,
   "metadata": {},
   "outputs": [],
   "source": [
    "df['Date_YM'] = df['Date'].apply(lambda x: x.strftime('%Y-%m'))"
   ]
  },
  {
   "cell_type": "code",
   "execution_count": 77,
   "metadata": {},
   "outputs": [],
   "source": [
    "df.groupby(['Date_YM']).agg({'ID':pd.Series.nunique}).to_clipboard()"
   ]
  },
  {
   "cell_type": "code",
   "execution_count": 78,
   "metadata": {},
   "outputs": [],
   "source": [
    "df['Year'] = df['Date'].dt.year\n",
    "returns['Year'] = returns['Date'].dt.year\n",
    "\n",
    "df['Week'] = df['Date'].dt.week\n",
    "returns['Week'] = returns['Date'].dt.week"
   ]
  },
  {
   "cell_type": "code",
   "execution_count": 79,
   "metadata": {},
   "outputs": [],
   "source": [
    "weekly_summary_to = df.sort_values(by=['Year','Week'],ascending=False).groupby(['Year','Week']).agg({'Revenue':pd.Series.sum, 'ID':pd.Series.nunique})\n",
    "weekly_summary_returns = returns.sort_values(by=['Year','Week'],ascending=False).groupby(['Year','Week']).agg({'Refunded':pd.Series.sum, 'Order #':pd.Series.nunique})"
   ]
  },
  {
   "cell_type": "code",
   "execution_count": 80,
   "metadata": {},
   "outputs": [],
   "source": [
    "weekly_summary_to.columns = ['Revenue','Transactions']"
   ]
  },
  {
   "cell_type": "code",
   "execution_count": 81,
   "metadata": {},
   "outputs": [],
   "source": [
    "weekly_summary_returns.columns = ['Refunded','Refunded_Transactions']"
   ]
  },
  {
   "cell_type": "code",
   "execution_count": 82,
   "metadata": {},
   "outputs": [],
   "source": [
    "weekly_summary = pd.merge(weekly_summary_to,weekly_summary_returns, on=['Year','Week'],how='left').fillna(0)"
   ]
  },
  {
   "cell_type": "code",
   "execution_count": 92,
   "metadata": {},
   "outputs": [],
   "source": [
    "weekly_summary['Rev_EXVAT'] = weekly_summary['Revenue']*0.84\n",
    "weekly_summary['Returns_EXVAT'] = weekly_summary['Refunded']*0.84"
   ]
  },
  {
   "cell_type": "code",
   "execution_count": 93,
   "metadata": {},
   "outputs": [],
   "source": [
    "weekly_summary = weekly_summary.astype(int)"
   ]
  },
  {
   "cell_type": "code",
   "execution_count": 94,
   "metadata": {},
   "outputs": [
    {
     "data": {
      "text/html": [
       "<div>\n",
       "<style scoped>\n",
       "    .dataframe tbody tr th:only-of-type {\n",
       "        vertical-align: middle;\n",
       "    }\n",
       "\n",
       "    .dataframe tbody tr th {\n",
       "        vertical-align: top;\n",
       "    }\n",
       "\n",
       "    .dataframe thead th {\n",
       "        text-align: right;\n",
       "    }\n",
       "</style>\n",
       "<table border=\"1\" class=\"dataframe\">\n",
       "  <thead>\n",
       "    <tr style=\"text-align: right;\">\n",
       "      <th></th>\n",
       "      <th></th>\n",
       "      <th>Revenue</th>\n",
       "      <th>Transactions</th>\n",
       "      <th>Refunded</th>\n",
       "      <th>Refunded_Transactions</th>\n",
       "      <th>Rev_EXVAT</th>\n",
       "      <th>Returns_EXVAT</th>\n",
       "    </tr>\n",
       "    <tr>\n",
       "      <th>Year</th>\n",
       "      <th>Week</th>\n",
       "      <th></th>\n",
       "      <th></th>\n",
       "      <th></th>\n",
       "      <th></th>\n",
       "      <th></th>\n",
       "      <th></th>\n",
       "    </tr>\n",
       "  </thead>\n",
       "  <tbody>\n",
       "    <tr>\n",
       "      <th rowspan=\"2\" valign=\"top\">2020</th>\n",
       "      <th>40</th>\n",
       "      <td>90398</td>\n",
       "      <td>484</td>\n",
       "      <td>12233</td>\n",
       "      <td>70</td>\n",
       "      <td>75934</td>\n",
       "      <td>10275</td>\n",
       "    </tr>\n",
       "    <tr>\n",
       "      <th>41</th>\n",
       "      <td>1077</td>\n",
       "      <td>7</td>\n",
       "      <td>0</td>\n",
       "      <td>0</td>\n",
       "      <td>904</td>\n",
       "      <td>0</td>\n",
       "    </tr>\n",
       "  </tbody>\n",
       "</table>\n",
       "</div>"
      ],
      "text/plain": [
       "           Revenue  Transactions  Refunded  Refunded_Transactions  Rev_EXVAT  \\\n",
       "Year Week                                                                      \n",
       "2020 40      90398           484     12233                     70      75934   \n",
       "     41       1077             7         0                      0        904   \n",
       "\n",
       "           Returns_EXVAT  \n",
       "Year Week                 \n",
       "2020 40            10275  \n",
       "     41                0  "
      ]
     },
     "execution_count": 94,
     "metadata": {},
     "output_type": "execute_result"
    }
   ],
   "source": [
    "weekly_summary.tail(2)"
   ]
  },
  {
   "cell_type": "code",
   "execution_count": 95,
   "metadata": {},
   "outputs": [
    {
     "data": {
      "text/html": [
       "<div>\n",
       "<style scoped>\n",
       "    .dataframe tbody tr th:only-of-type {\n",
       "        vertical-align: middle;\n",
       "    }\n",
       "\n",
       "    .dataframe tbody tr th {\n",
       "        vertical-align: top;\n",
       "    }\n",
       "\n",
       "    .dataframe thead th {\n",
       "        text-align: right;\n",
       "    }\n",
       "</style>\n",
       "<table border=\"1\" class=\"dataframe\">\n",
       "  <thead>\n",
       "    <tr style=\"text-align: right;\">\n",
       "      <th></th>\n",
       "      <th>Revenue</th>\n",
       "      <th>Subtotal</th>\n",
       "      <th>ID</th>\n",
       "    </tr>\n",
       "    <tr>\n",
       "      <th>Date_YM</th>\n",
       "      <th></th>\n",
       "      <th></th>\n",
       "      <th></th>\n",
       "    </tr>\n",
       "  </thead>\n",
       "  <tbody>\n",
       "    <tr>\n",
       "      <th>2019-08</th>\n",
       "      <td>1072.72</td>\n",
       "      <td>859.29</td>\n",
       "      <td>11</td>\n",
       "    </tr>\n",
       "    <tr>\n",
       "      <th>2019-09</th>\n",
       "      <td>15930.15</td>\n",
       "      <td>13279.25</td>\n",
       "      <td>128</td>\n",
       "    </tr>\n",
       "    <tr>\n",
       "      <th>2019-10</th>\n",
       "      <td>36924.78</td>\n",
       "      <td>30572.48</td>\n",
       "      <td>229</td>\n",
       "    </tr>\n",
       "    <tr>\n",
       "      <th>2019-11</th>\n",
       "      <td>35390.62</td>\n",
       "      <td>30309.73</td>\n",
       "      <td>216</td>\n",
       "    </tr>\n",
       "    <tr>\n",
       "      <th>2019-12</th>\n",
       "      <td>28917.00</td>\n",
       "      <td>24159.17</td>\n",
       "      <td>178</td>\n",
       "    </tr>\n",
       "    <tr>\n",
       "      <th>2020-01</th>\n",
       "      <td>24540.22</td>\n",
       "      <td>20536.32</td>\n",
       "      <td>134</td>\n",
       "    </tr>\n",
       "    <tr>\n",
       "      <th>2020-02</th>\n",
       "      <td>27676.50</td>\n",
       "      <td>23020.82</td>\n",
       "      <td>175</td>\n",
       "    </tr>\n",
       "    <tr>\n",
       "      <th>2020-03</th>\n",
       "      <td>21225.81</td>\n",
       "      <td>17626.34</td>\n",
       "      <td>125</td>\n",
       "    </tr>\n",
       "    <tr>\n",
       "      <th>2020-04</th>\n",
       "      <td>30873.71</td>\n",
       "      <td>26210.44</td>\n",
       "      <td>183</td>\n",
       "    </tr>\n",
       "    <tr>\n",
       "      <th>2020-05</th>\n",
       "      <td>60430.30</td>\n",
       "      <td>50057.23</td>\n",
       "      <td>353</td>\n",
       "    </tr>\n",
       "    <tr>\n",
       "      <th>2020-06</th>\n",
       "      <td>78403.08</td>\n",
       "      <td>64853.37</td>\n",
       "      <td>533</td>\n",
       "    </tr>\n",
       "    <tr>\n",
       "      <th>2020-07</th>\n",
       "      <td>67782.16</td>\n",
       "      <td>57083.28</td>\n",
       "      <td>570</td>\n",
       "    </tr>\n",
       "    <tr>\n",
       "      <th>2020-08</th>\n",
       "      <td>70732.42</td>\n",
       "      <td>60371.00</td>\n",
       "      <td>491</td>\n",
       "    </tr>\n",
       "    <tr>\n",
       "      <th>2020-09</th>\n",
       "      <td>160223.58</td>\n",
       "      <td>141251.24</td>\n",
       "      <td>896</td>\n",
       "    </tr>\n",
       "    <tr>\n",
       "      <th>2020-10</th>\n",
       "      <td>68791.43</td>\n",
       "      <td>69141.95</td>\n",
       "      <td>368</td>\n",
       "    </tr>\n",
       "  </tbody>\n",
       "</table>\n",
       "</div>"
      ],
      "text/plain": [
       "           Revenue   Subtotal   ID\n",
       "Date_YM                           \n",
       "2019-08    1072.72     859.29   11\n",
       "2019-09   15930.15   13279.25  128\n",
       "2019-10   36924.78   30572.48  229\n",
       "2019-11   35390.62   30309.73  216\n",
       "2019-12   28917.00   24159.17  178\n",
       "2020-01   24540.22   20536.32  134\n",
       "2020-02   27676.50   23020.82  175\n",
       "2020-03   21225.81   17626.34  125\n",
       "2020-04   30873.71   26210.44  183\n",
       "2020-05   60430.30   50057.23  353\n",
       "2020-06   78403.08   64853.37  533\n",
       "2020-07   67782.16   57083.28  570\n",
       "2020-08   70732.42   60371.00  491\n",
       "2020-09  160223.58  141251.24  896\n",
       "2020-10   68791.43   69141.95  368"
      ]
     },
     "execution_count": 95,
     "metadata": {},
     "output_type": "execute_result"
    }
   ],
   "source": [
    "df.sort_values(by=['Date_YM'],ascending=False).groupby(['Date_YM']).agg({'Revenue':pd.Series.sum, 'Subtotal':pd.Series.sum, 'ID':pd.Series.nunique})"
   ]
  },
  {
   "cell_type": "code",
   "execution_count": 3,
   "metadata": {},
   "outputs": [],
   "source": [
    "from gspread_pandas import Spread, Client"
   ]
  },
  {
   "cell_type": "code",
   "execution_count": 6,
   "metadata": {},
   "outputs": [],
   "source": [
    "agu_mt_sheet = Spread('AGU MT Weekly')"
   ]
  },
  {
   "cell_type": "code",
   "execution_count": 98,
   "metadata": {},
   "outputs": [],
   "source": [
    "# Push Transactions\n",
    "agu_mt_sheet.df_to_sheet(weekly_summary, index=True, sheet='DataDump_BE', start='A1', replace=True)"
   ]
  }
 ],
 "metadata": {
  "kernelspec": {
   "display_name": "Python 3",
   "language": "python",
   "name": "python3"
  },
  "language_info": {
   "codemirror_mode": {
    "name": "ipython",
    "version": 3
   },
   "file_extension": ".py",
   "mimetype": "text/x-python",
   "name": "python",
   "nbconvert_exporter": "python",
   "pygments_lexer": "ipython3",
   "version": "3.8.3"
  }
 },
 "nbformat": 4,
 "nbformat_minor": 4
}
